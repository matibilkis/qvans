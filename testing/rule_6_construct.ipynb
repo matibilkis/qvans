{
 "cells": [
  {
   "cell_type": "markdown",
   "id": "israeli-cathedral",
   "metadata": {},
   "source": [
    "In this notebook we give a proof of concept of unitary compiling using TFQ. "
   ]
  },
  {
   "cell_type": "code",
   "execution_count": 1,
   "id": "cleared-explorer",
   "metadata": {},
   "outputs": [],
   "source": [
    "%load_ext autoreload\n",
    "%autoreload 2\n",
    "\n",
    "import sympy \n",
    "import numpy as np \n",
    "import pandas as pd \n",
    "import tensorflow as tf\n",
    "from utilities.circuit_database import CirqTranslater\n",
    "from utilities.templates import *\n",
    "from utilities.variational import Minimizer\n",
    "from utilities.misc import get_qubits_involved, reindex_symbol, shift_symbols_down\n",
    "import matplotlib.pyplot as plt \n",
    "import tensorflow_quantum as tfq\n",
    "import cirq\n",
    "from utilities.compiling import *"
   ]
  },
  {
   "cell_type": "code",
   "execution_count": 2,
   "id": "liable-gibson",
   "metadata": {},
   "outputs": [],
   "source": [
    "def get_positional_dbs(circuit, circuit_db):\n",
    "\n",
    "    qubits_involved = get_qubits_involved(circuit, circuit_db)\n",
    "    \n",
    "    gates_on_qubit = {q:[] for q in qubits_involved}\n",
    "    on_qubit_order = {q:[] for q in qubits_involved}\n",
    "\n",
    "    for order_gate, ind_gate in enumerate( circuit_db[\"ind\"]):\n",
    "        if ind_gate < translator.number_of_cnots:\n",
    "            control, target = translator.indexed_cnots[str(ind_gate)]\n",
    "            gates_on_qubit[control].append(ind_gate)\n",
    "            gates_on_qubit[target].append(ind_gate)\n",
    "            on_qubit_order[control].append(order_gate)                \n",
    "            on_qubit_order[target].append(order_gate)  \n",
    "        else:\n",
    "            gates_on_qubit[(ind_gate-translator.n_qubits)%translator.n_qubits].append(ind_gate)\n",
    "            on_qubit_order[(ind_gate-translator.n_qubits)%translator.n_qubits].append(order_gate)        \n",
    "    return gates_on_qubit, on_qubit_order"
   ]
  },
  {
   "cell_type": "code",
   "execution_count": 10,
   "id": "aggressive-dream",
   "metadata": {},
   "outputs": [],
   "source": [
    "translator = CirqTranslater(2)\n",
    "db1 = u1_layer(translator)\n",
    "circuit_db = concatenate_dbs([db1]*2)\n",
    "circuit, circuit_db  = translator.give_circuit(circuit_db)\n",
    "gates_on_qubit, on_qubit_order = get_positional_dbs(circuit, circuit_db)\n",
    "simplified_db = circuit_db.copy()"
   ]
  },
  {
   "cell_type": "code",
   "execution_count": 31,
   "id": "broad-filing",
   "metadata": {},
   "outputs": [],
   "source": [
    "type_get = lambda x: (x-translator.number_of_cnots)//translator.n_qubits\n"
   ]
  },
  {
   "cell_type": "code",
   "execution_count": 38,
   "id": "built-evidence",
   "metadata": {},
   "outputs": [
    {
     "data": {
      "text/plain": [
       "((0, 3): ───Rx(th_0)───,\n",
       "    ind symbol param_value  trainable  block_id\n",
       " 0   39   th_0        None       True         0)"
      ]
     },
     "execution_count": 38,
     "metadata": {},
     "output_type": "execute_result"
    }
   ],
   "source": [
    "translator = CirqTranslater(6)\n",
    "indi = translator.number_of_cnots + 9\n",
    "translator.give_circuit(pd.DataFrame([gate_template(indi)]))"
   ]
  },
  {
   "cell_type": "code",
   "execution_count": 39,
   "id": "violent-agenda",
   "metadata": {},
   "outputs": [
    {
     "data": {
      "text/plain": [
       "1"
      ]
     },
     "execution_count": 39,
     "metadata": {},
     "output_type": "execute_result"
    }
   ],
   "source": [
    "type_get(indi)"
   ]
  },
  {
   "cell_type": "code",
   "execution_count": 254,
   "id": "thick-mount",
   "metadata": {},
   "outputs": [
    {
     "data": {
      "text/html": [
       "<pre style=\"overflow: auto; white-space: pre;\">(0, 0): ───Rx(th_0)───Rx(th_4)───X───X───Rx(th_6)───X───X───Rx(th_8)───X───X───\n",
       "                                 │   │              │   │              │   │\n",
       "(0, 1): ───Rx(th_1)───Rz(th_3)───@───@───Rz(th_5)───@───@───Rz(th_7)───@───@───\n",
       "\n",
       "(0, 2): ───Rx(th_2)────────────────────────────────────────────────────────────</pre>"
      ],
      "text/plain": [
       "(0, 0): ───Rx(th_0)───Rx(th_4)───X───X───Rx(th_6)───X───X───Rx(th_8)───X───X───\n",
       "                                 │   │              │   │              │   │\n",
       "(0, 1): ───Rx(th_1)───Rz(th_3)───@───@───Rz(th_5)───@───@───Rz(th_7)───@───@───\n",
       "\n",
       "(0, 2): ───Rx(th_2)────────────────────────────────────────────────────────────"
      ]
     },
     "execution_count": 254,
     "metadata": {},
     "output_type": "execute_result"
    }
   ],
   "source": [
    "translator = CirqTranslater(3)\n",
    "\n",
    "u1db = u1_layer(translator)\n",
    "uflip = pd.DataFrame([gate_template(k) for k in [translator.number_of_cnots, 0,0]])\n",
    "x_layer_db = pd.DataFrame([gate_template(k, param_value=0.) for k in [translator.number_of_cnots + translator.n_qubits+j for j in range(translator.n_qubits)]])\n",
    "uflip_x = pd.DataFrame([gate_template(k) for k in [translator.number_of_cnots + 1, translator.number_of_cnots+3, 2, 2]])\n",
    "\n",
    "circuit_db = concatenate_dbs([x_on_all,uflip_x, uflip_x, uflip_x])\n",
    "circuit, circuit_db  = translator.give_circuit(circuit_db)\n",
    "gates_on_qubit, on_qubit_order = get_positional_dbs(circuit, circuit_db)\n",
    "simplified_db = circuit_db.copy()\n",
    "circuit"
   ]
  },
  {
   "cell_type": "code",
   "execution_count": 263,
   "id": "educated-massachusetts",
   "metadata": {},
   "outputs": [
    {
     "name": "stdout",
     "output_type": "stream",
     "text": [
      "0\n",
      "here\n",
      "0 9 1\n",
      "okkk\n"
     ]
    }
   ],
   "source": [
    "type_get = lambda x: (x-translator.number_of_cnots)//translator.n_qubits\n",
    "check_rot = lambda ind_gate: translator.number_of_cnots<= ind_gate <(3*translator.n_qubits + translator.number_of_cnots)\n",
    "\n",
    "simplification = False\n",
    "for q, qubit_gates_path in gates_on_qubit.items():\n",
    "    if simplification is True:\n",
    "        break\n",
    "    for order_gate_on_qubit, ind_gate in enumerate(qubit_gates_path[:-1]):\n",
    "        if simplification is True:\n",
    "            break\n",
    "        ind_gate_p1 = qubit_gates_path[order_gate_on_qubit+1]\n",
    "\n",
    "        if (check_rot(ind_gate) == True) and (check_rot(ind_gate_p1) == False):\n",
    "            type_0 = type_get(ind_gate)\n",
    "\n",
    "            control, target = translator.indexed_cnots[str(ind_gate_p1)]\n",
    "            \n",
    "            this_qubit = q\n",
    "            other_qubits = [control, target]\n",
    "            other_qubits.remove(q)\n",
    "            other_qubit = other_qubits[0]\n",
    "            \n",
    "\n",
    "            if ((type_0 == 0) and (q==control)) or ((type_0== 1) and (q==target)):\n",
    "                ### free to pass...\n",
    "                print(\"0\")\n",
    "                if len(gates_on_qubit[other_qubit]) == 1:\n",
    "                    simplification = True\n",
    "                for qord_other, ind_gate_other in enumerate(gates_on_qubit[other_qubit]):\n",
    "                    if (ind_gate_other == ind_gate_p1): ## check if we find the same cnot on both qubits\n",
    "                        print(\"here\")\n",
    "                        cnot_call__q = on_qubit_order[q][order_gate_on_qubit+1]\n",
    "                        if cnot_call__q == on_qubit_order[other_qubit][qord_other]:## now check if we are applying the gate on both qubits at same time\n",
    "                            ### it might happen that there's no gate on the other qbit before the cnot, in that case free to comute.\n",
    "                            if qord_other == 0:\n",
    "                                simplification = True\n",
    "                                break\n",
    "                            else:\n",
    "                                gate_in_other_qubit_before_cnot = simplified_db.loc[on_qubit_order[other_qubit][qord_other-1]][\"ind\"]\n",
    "                                if check_rot(gate_in_other_qubit_before_cnot) == True:\n",
    "                                    type_gate_other = type_get(gate_in_other_qubit_before_cnot)\n",
    "                                    print(q, ind_gate, order_gate_on_qubit)\n",
    "                                    if type_0 != type_gate_other:\n",
    "                                        simplification = True\n",
    "                                        print(\"okkk\")\n",
    "                                        break\n",
    "                if simplification == True:\n",
    "\n",
    "                    info_rot = simplified_db.loc[on_qubit_order[q][order_gate_on_qubit]].copy()\n",
    "                    info_cnot_control = simplified_db.loc[on_qubit_order[q][order_gate_on_qubit+1]].copy()\n",
    "\n",
    "                    simplified_db.loc[on_qubit_order[q][order_gate_on_qubit]]  = info_cnot_control\n",
    "                    simplified_db.loc[on_qubit_order[q][order_gate_on_qubit+1]] = info_rot\n",
    "\n",
    "                    break"
   ]
  },
  {
   "cell_type": "code",
   "execution_count": 265,
   "id": "empty-phrase",
   "metadata": {},
   "outputs": [
    {
     "data": {
      "text/html": [
       "<pre style=\"overflow: auto; white-space: pre;\">(0, 0): ───Rx(th_0)───Rx(th_4)───X───X───Rx(th_6)───X───X───Rx(th_8)───X───X───\n",
       "                                 │   │              │   │              │   │\n",
       "(0, 1): ───Rx(th_1)───Rz(th_3)───@───@───Rz(th_5)───@───@───Rz(th_7)───@───@───\n",
       "\n",
       "(0, 2): ───Rx(th_2)────────────────────────────────────────────────────────────</pre>"
      ],
      "text/plain": [
       "(0, 0): ───Rx(th_0)───Rx(th_4)───X───X───Rx(th_6)───X───X───Rx(th_8)───X───X───\n",
       "                                 │   │              │   │              │   │\n",
       "(0, 1): ───Rx(th_1)───Rz(th_3)───@───@───Rz(th_5)───@───@───Rz(th_7)───@───@───\n",
       "\n",
       "(0, 2): ───Rx(th_2)────────────────────────────────────────────────────────────"
      ]
     },
     "execution_count": 265,
     "metadata": {},
     "output_type": "execute_result"
    }
   ],
   "source": [
    "circuit"
   ]
  },
  {
   "cell_type": "code",
   "execution_count": 266,
   "id": "healthy-violence",
   "metadata": {},
   "outputs": [],
   "source": [
    "scircuit, scircuit_db  = translator.give_circuit(simplified_db)\n"
   ]
  },
  {
   "cell_type": "code",
   "execution_count": 267,
   "id": "graphic-converter",
   "metadata": {},
   "outputs": [
    {
     "data": {
      "text/html": [
       "<pre style=\"overflow: auto; white-space: pre;\">(0, 0): ───Rx(th_0)──────────────X───Rx(th_4)───X───Rx(th_6)───X───X───Rx(th_8)───X───X───\n",
       "                                 │              │              │   │              │   │\n",
       "(0, 1): ───Rx(th_1)───Rz(th_3)───@──────────────@───Rz(th_5)───@───@───Rz(th_7)───@───@───\n",
       "\n",
       "(0, 2): ───Rx(th_2)───────────────────────────────────────────────────────────────────────</pre>"
      ],
      "text/plain": [
       "(0, 0): ───Rx(th_0)──────────────X───Rx(th_4)───X───Rx(th_6)───X───X───Rx(th_8)───X───X───\n",
       "                                 │              │              │   │              │   │\n",
       "(0, 1): ───Rx(th_1)───Rz(th_3)───@──────────────@───Rz(th_5)───@───@───Rz(th_7)───@───@───\n",
       "\n",
       "(0, 2): ───Rx(th_2)───────────────────────────────────────────────────────────────────────"
      ]
     },
     "execution_count": 267,
     "metadata": {},
     "output_type": "execute_result"
    }
   ],
   "source": [
    "scircuit"
   ]
  },
  {
   "cell_type": "code",
   "execution_count": 261,
   "id": "finnish-damage",
   "metadata": {},
   "outputs": [
    {
     "data": {
      "text/html": [
       "<div>\n",
       "<style scoped>\n",
       "    .dataframe tbody tr th:only-of-type {\n",
       "        vertical-align: middle;\n",
       "    }\n",
       "\n",
       "    .dataframe tbody tr th {\n",
       "        vertical-align: top;\n",
       "    }\n",
       "\n",
       "    .dataframe thead th {\n",
       "        text-align: right;\n",
       "    }\n",
       "</style>\n",
       "<table border=\"1\" class=\"dataframe\">\n",
       "  <thead>\n",
       "    <tr style=\"text-align: right;\">\n",
       "      <th></th>\n",
       "      <th>ind</th>\n",
       "      <th>symbol</th>\n",
       "      <th>param_value</th>\n",
       "      <th>trainable</th>\n",
       "      <th>block_id</th>\n",
       "    </tr>\n",
       "  </thead>\n",
       "  <tbody>\n",
       "    <tr>\n",
       "      <th>0</th>\n",
       "      <td>9</td>\n",
       "      <td>th_0</td>\n",
       "      <td>0.0</td>\n",
       "      <td>True</td>\n",
       "      <td>0</td>\n",
       "    </tr>\n",
       "    <tr>\n",
       "      <th>1</th>\n",
       "      <td>10</td>\n",
       "      <td>th_1</td>\n",
       "      <td>0.0</td>\n",
       "      <td>True</td>\n",
       "      <td>0</td>\n",
       "    </tr>\n",
       "    <tr>\n",
       "      <th>2</th>\n",
       "      <td>11</td>\n",
       "      <td>th_2</td>\n",
       "      <td>0.0</td>\n",
       "      <td>True</td>\n",
       "      <td>0</td>\n",
       "    </tr>\n",
       "    <tr>\n",
       "      <th>3</th>\n",
       "      <td>7</td>\n",
       "      <td>th_3</td>\n",
       "      <td>NaN</td>\n",
       "      <td>True</td>\n",
       "      <td>0</td>\n",
       "    </tr>\n",
       "    <tr>\n",
       "      <th>4</th>\n",
       "      <td>9</td>\n",
       "      <td>th_4</td>\n",
       "      <td>NaN</td>\n",
       "      <td>True</td>\n",
       "      <td>0</td>\n",
       "    </tr>\n",
       "    <tr>\n",
       "      <th>5</th>\n",
       "      <td>2</td>\n",
       "      <td>None</td>\n",
       "      <td>NaN</td>\n",
       "      <td>True</td>\n",
       "      <td>0</td>\n",
       "    </tr>\n",
       "    <tr>\n",
       "      <th>6</th>\n",
       "      <td>2</td>\n",
       "      <td>None</td>\n",
       "      <td>NaN</td>\n",
       "      <td>True</td>\n",
       "      <td>0</td>\n",
       "    </tr>\n",
       "    <tr>\n",
       "      <th>7</th>\n",
       "      <td>7</td>\n",
       "      <td>th_5</td>\n",
       "      <td>NaN</td>\n",
       "      <td>True</td>\n",
       "      <td>0</td>\n",
       "    </tr>\n",
       "    <tr>\n",
       "      <th>8</th>\n",
       "      <td>9</td>\n",
       "      <td>th_6</td>\n",
       "      <td>NaN</td>\n",
       "      <td>True</td>\n",
       "      <td>0</td>\n",
       "    </tr>\n",
       "    <tr>\n",
       "      <th>9</th>\n",
       "      <td>2</td>\n",
       "      <td>None</td>\n",
       "      <td>NaN</td>\n",
       "      <td>True</td>\n",
       "      <td>0</td>\n",
       "    </tr>\n",
       "    <tr>\n",
       "      <th>10</th>\n",
       "      <td>2</td>\n",
       "      <td>None</td>\n",
       "      <td>NaN</td>\n",
       "      <td>True</td>\n",
       "      <td>0</td>\n",
       "    </tr>\n",
       "    <tr>\n",
       "      <th>11</th>\n",
       "      <td>7</td>\n",
       "      <td>th_7</td>\n",
       "      <td>NaN</td>\n",
       "      <td>True</td>\n",
       "      <td>0</td>\n",
       "    </tr>\n",
       "    <tr>\n",
       "      <th>12</th>\n",
       "      <td>9</td>\n",
       "      <td>th_8</td>\n",
       "      <td>NaN</td>\n",
       "      <td>True</td>\n",
       "      <td>0</td>\n",
       "    </tr>\n",
       "    <tr>\n",
       "      <th>13</th>\n",
       "      <td>2</td>\n",
       "      <td>None</td>\n",
       "      <td>NaN</td>\n",
       "      <td>True</td>\n",
       "      <td>0</td>\n",
       "    </tr>\n",
       "    <tr>\n",
       "      <th>14</th>\n",
       "      <td>2</td>\n",
       "      <td>None</td>\n",
       "      <td>NaN</td>\n",
       "      <td>True</td>\n",
       "      <td>0</td>\n",
       "    </tr>\n",
       "  </tbody>\n",
       "</table>\n",
       "</div>"
      ],
      "text/plain": [
       "    ind symbol  param_value  trainable  block_id\n",
       "0     9   th_0          0.0       True         0\n",
       "1    10   th_1          0.0       True         0\n",
       "2    11   th_2          0.0       True         0\n",
       "3     7   th_3          NaN       True         0\n",
       "4     9   th_4          NaN       True         0\n",
       "5     2   None          NaN       True         0\n",
       "6     2   None          NaN       True         0\n",
       "7     7   th_5          NaN       True         0\n",
       "8     9   th_6          NaN       True         0\n",
       "9     2   None          NaN       True         0\n",
       "10    2   None          NaN       True         0\n",
       "11    7   th_7          NaN       True         0\n",
       "12    9   th_8          NaN       True         0\n",
       "13    2   None          NaN       True         0\n",
       "14    2   None          NaN       True         0"
      ]
     },
     "execution_count": 261,
     "metadata": {},
     "output_type": "execute_result"
    }
   ],
   "source": [
    "circuit_db"
   ]
  },
  {
   "cell_type": "code",
   "execution_count": 260,
   "id": "smart-ordinary",
   "metadata": {},
   "outputs": [
    {
     "data": {
      "text/html": [
       "<div>\n",
       "<style scoped>\n",
       "    .dataframe tbody tr th:only-of-type {\n",
       "        vertical-align: middle;\n",
       "    }\n",
       "\n",
       "    .dataframe tbody tr th {\n",
       "        vertical-align: top;\n",
       "    }\n",
       "\n",
       "    .dataframe thead th {\n",
       "        text-align: right;\n",
       "    }\n",
       "</style>\n",
       "<table border=\"1\" class=\"dataframe\">\n",
       "  <thead>\n",
       "    <tr style=\"text-align: right;\">\n",
       "      <th></th>\n",
       "      <th>ind</th>\n",
       "      <th>symbol</th>\n",
       "      <th>param_value</th>\n",
       "      <th>trainable</th>\n",
       "      <th>block_id</th>\n",
       "    </tr>\n",
       "  </thead>\n",
       "  <tbody>\n",
       "    <tr>\n",
       "      <th>0</th>\n",
       "      <td>9</td>\n",
       "      <td>th_0</td>\n",
       "      <td>0.0</td>\n",
       "      <td>True</td>\n",
       "      <td>0</td>\n",
       "    </tr>\n",
       "    <tr>\n",
       "      <th>1</th>\n",
       "      <td>10</td>\n",
       "      <td>th_1</td>\n",
       "      <td>0.0</td>\n",
       "      <td>True</td>\n",
       "      <td>0</td>\n",
       "    </tr>\n",
       "    <tr>\n",
       "      <th>2</th>\n",
       "      <td>11</td>\n",
       "      <td>th_2</td>\n",
       "      <td>0.0</td>\n",
       "      <td>True</td>\n",
       "      <td>0</td>\n",
       "    </tr>\n",
       "    <tr>\n",
       "      <th>3</th>\n",
       "      <td>7</td>\n",
       "      <td>th_3</td>\n",
       "      <td>NaN</td>\n",
       "      <td>True</td>\n",
       "      <td>0</td>\n",
       "    </tr>\n",
       "    <tr>\n",
       "      <th>4</th>\n",
       "      <td>9</td>\n",
       "      <td>th_4</td>\n",
       "      <td>NaN</td>\n",
       "      <td>True</td>\n",
       "      <td>0</td>\n",
       "    </tr>\n",
       "    <tr>\n",
       "      <th>5</th>\n",
       "      <td>2</td>\n",
       "      <td>None</td>\n",
       "      <td>NaN</td>\n",
       "      <td>True</td>\n",
       "      <td>0</td>\n",
       "    </tr>\n",
       "    <tr>\n",
       "      <th>6</th>\n",
       "      <td>2</td>\n",
       "      <td>None</td>\n",
       "      <td>NaN</td>\n",
       "      <td>True</td>\n",
       "      <td>0</td>\n",
       "    </tr>\n",
       "    <tr>\n",
       "      <th>7</th>\n",
       "      <td>7</td>\n",
       "      <td>th_5</td>\n",
       "      <td>NaN</td>\n",
       "      <td>True</td>\n",
       "      <td>0</td>\n",
       "    </tr>\n",
       "    <tr>\n",
       "      <th>8</th>\n",
       "      <td>9</td>\n",
       "      <td>th_6</td>\n",
       "      <td>NaN</td>\n",
       "      <td>True</td>\n",
       "      <td>0</td>\n",
       "    </tr>\n",
       "    <tr>\n",
       "      <th>9</th>\n",
       "      <td>2</td>\n",
       "      <td>None</td>\n",
       "      <td>NaN</td>\n",
       "      <td>True</td>\n",
       "      <td>0</td>\n",
       "    </tr>\n",
       "    <tr>\n",
       "      <th>10</th>\n",
       "      <td>2</td>\n",
       "      <td>None</td>\n",
       "      <td>NaN</td>\n",
       "      <td>True</td>\n",
       "      <td>0</td>\n",
       "    </tr>\n",
       "    <tr>\n",
       "      <th>11</th>\n",
       "      <td>7</td>\n",
       "      <td>th_7</td>\n",
       "      <td>NaN</td>\n",
       "      <td>True</td>\n",
       "      <td>0</td>\n",
       "    </tr>\n",
       "    <tr>\n",
       "      <th>12</th>\n",
       "      <td>9</td>\n",
       "      <td>th_8</td>\n",
       "      <td>NaN</td>\n",
       "      <td>True</td>\n",
       "      <td>0</td>\n",
       "    </tr>\n",
       "    <tr>\n",
       "      <th>13</th>\n",
       "      <td>2</td>\n",
       "      <td>None</td>\n",
       "      <td>NaN</td>\n",
       "      <td>True</td>\n",
       "      <td>0</td>\n",
       "    </tr>\n",
       "    <tr>\n",
       "      <th>14</th>\n",
       "      <td>2</td>\n",
       "      <td>None</td>\n",
       "      <td>NaN</td>\n",
       "      <td>True</td>\n",
       "      <td>0</td>\n",
       "    </tr>\n",
       "  </tbody>\n",
       "</table>\n",
       "</div>"
      ],
      "text/plain": [
       "    ind symbol  param_value  trainable  block_id\n",
       "0     9   th_0          0.0       True         0\n",
       "1    10   th_1          0.0       True         0\n",
       "2    11   th_2          0.0       True         0\n",
       "3     7   th_3          NaN       True         0\n",
       "4     9   th_4          NaN       True         0\n",
       "5     2   None          NaN       True         0\n",
       "6     2   None          NaN       True         0\n",
       "7     7   th_5          NaN       True         0\n",
       "8     9   th_6          NaN       True         0\n",
       "9     2   None          NaN       True         0\n",
       "10    2   None          NaN       True         0\n",
       "11    7   th_7          NaN       True         0\n",
       "12    9   th_8          NaN       True         0\n",
       "13    2   None          NaN       True         0\n",
       "14    2   None          NaN       True         0"
      ]
     },
     "execution_count": 260,
     "metadata": {},
     "output_type": "execute_result"
    }
   ],
   "source": [
    "simplified_db"
   ]
  },
  {
   "cell_type": "code",
   "execution_count": 268,
   "id": "talented-modification",
   "metadata": {},
   "outputs": [],
   "source": [
    "def rule_6(translator, simplified_db, on_qubit_order, gates_on_qubit):\n",
    "    \"\"\"\n",
    "    move cnots to the left, rotations to the right.\n",
    "    \n",
    "    IMPORTANT this won't work if the cirucit is too short!\n",
    "    \"\"\"\n",
    "    type_get = lambda x: (x-translator.number_of_cnots)//translator.n_qubits\n",
    "    check_rot = lambda ind_gate: translator.number_of_cnots<= ind_gate <(3*translator.n_qubits + translator.number_of_cnots)\n",
    "\n",
    "    simplification = False\n",
    "    for q, qubit_gates_path in gates_on_qubit.items():\n",
    "        if simplification is True:\n",
    "            break\n",
    "        for order_gate_on_qubit, ind_gate in enumerate(qubit_gates_path[:-1]):\n",
    "            if simplification is True:\n",
    "                break\n",
    "            ind_gate_p1 = qubit_gates_path[order_gate_on_qubit+1]\n",
    "\n",
    "            if (check_rot(ind_gate) == True) and (check_rot(ind_gate_p1) == False):\n",
    "                type_0 = type_get(ind_gate)\n",
    "\n",
    "                control, target = translator.indexed_cnots[str(ind_gate_p1)]\n",
    "\n",
    "                this_qubit = q\n",
    "                other_qubits = [control, target]\n",
    "                other_qubits.remove(q)\n",
    "                other_qubit = other_qubits[0]\n",
    "\n",
    "\n",
    "                if ((type_0 == 0) and (q==control)) or ((type_0== 1) and (q==target)):\n",
    "                    ### free to pass...\n",
    "                    if len(gates_on_qubit[other_qubit]) == 1:\n",
    "                        simplification = True\n",
    "                    for qord_other, ind_gate_other in enumerate(gates_on_qubit[other_qubit]):\n",
    "                        if (ind_gate_other == ind_gate_p1): ## check if we find the same cnot on both qubits\n",
    "                            cnot_call__q = on_qubit_order[q][order_gate_on_qubit+1]\n",
    "                            if cnot_call__q == on_qubit_order[other_qubit][qord_other]:## now check if we are applying the gate on both qubits at same time\n",
    "                                ### it might happen that there's no gate on the other qbit before the cnot, in that case free to comute.\n",
    "                                if qord_other == 0:\n",
    "                                    simplification = True\n",
    "                                    break\n",
    "                                else:\n",
    "                                    gate_in_other_qubit_before_cnot = simplified_db.loc[on_qubit_order[other_qubit][qord_other-1]][\"ind\"]\n",
    "                                    if check_rot(gate_in_other_qubit_before_cnot) == True:\n",
    "                                        type_gate_other = type_get(gate_in_other_qubit_before_cnot)\n",
    "                                        if type_0 != type_gate_other:\n",
    "                                            simplification = True\n",
    "                                            break\n",
    "            if simplification == True:\n",
    "\n",
    "                info_rot = simplified_db.loc[on_qubit_order[q][order_gate_on_qubit]].copy()\n",
    "                info_cnot_control = simplified_db.loc[on_qubit_order[q][order_gate_on_qubit+1]].copy()\n",
    "\n",
    "                simplified_db.loc[on_qubit_order[q][order_gate_on_qubit]]  = info_cnot_control\n",
    "                simplified_db.loc[on_qubit_order[q][order_gate_on_qubit+1]] = info_rot \n",
    "    return simplification, simplified_db\n",
    "\n",
    "def apply_rule(original_circuit_db, rule, **kwargs):\n",
    "    max_cnt = kwargs.get('max_cnt',10)\n",
    "    simplified, cnt = True, 0\n",
    "    original_circuit, original_circuit_db = translator.give_circuit(original_circuit_db)\n",
    "    gates_on_qubit, on_qubit_order = get_positional_dbs(original_circuit, original_circuit_db)\n",
    "    simplified_db = original_circuit_db.copy()\n",
    "    while simplified and cnt < max_cnt:\n",
    "        simplified, simplified_circuit_db = rule(translator, simplified_db, on_qubit_order, gates_on_qubit)\n",
    "        circuit, simplified_db = translator.give_circuit(simplified_circuit_db)\n",
    "        gates_on_qubit, on_qubit_order = get_positional_dbs(circuit, simplified_db)\n",
    "        cnt+=1\n",
    "    return cnt, simplified_db"
   ]
  },
  {
   "cell_type": "code",
   "execution_count": 276,
   "id": "dying-watson",
   "metadata": {},
   "outputs": [],
   "source": [
    "translator = CirqTranslater(3)\n",
    "\n",
    "u1db = u1_layer(translator)\n",
    "uflip = pd.DataFrame([gate_template(k) for k in [translator.number_of_cnots, 0,0]])\n",
    "x_layer_db = pd.DataFrame([gate_template(k, param_value=0.) for k in [translator.number_of_cnots + translator.n_qubits+j for j in range(translator.n_qubits)]])\n",
    "uflip_x = pd.DataFrame([gate_template(k) for k in [translator.number_of_cnots + 1, translator.number_of_cnots+3, 2, 2]])\n",
    "\n",
    "circuit_db = concatenate_dbs([x_on_all,uflip_x, uflip_x, uflip_x])\n",
    "circuit, circuit_db  = translator.give_circuit(circuit_db)\n",
    "gates_on_qubit, on_qubit_order = get_positional_dbs(circuit, circuit_db)\n",
    "simplified_db = circuit_db.copy()\n",
    "\n",
    "simplification, ssimplified_db = rule_6(translator, simplified_db, on_qubit_order, gates_on_qubit)"
   ]
  },
  {
   "cell_type": "markdown",
   "id": "monetary-judge",
   "metadata": {},
   "source": [
    "An example that you might enter into a loop! It might be good to apply the rules in some order. Like do the commutation only once, then reduce the circuit.."
   ]
  },
  {
   "cell_type": "code",
   "execution_count": 277,
   "id": "interested-pixel",
   "metadata": {},
   "outputs": [
    {
     "data": {
      "text/html": [
       "<pre style=\"overflow: auto; white-space: pre;\">(0, 0): ───Rx(th_0)───Rx(th_4)───X───X───Rx(th_6)───X───X───Rx(th_8)───X───X───\n",
       "                                 │   │              │   │              │   │\n",
       "(0, 1): ───Rx(th_1)───Rz(th_3)───@───@───Rz(th_5)───@───@───Rz(th_7)───@───@───\n",
       "\n",
       "(0, 2): ───Rx(th_2)────────────────────────────────────────────────────────────</pre>"
      ],
      "text/plain": [
       "(0, 0): ───Rx(th_0)───Rx(th_4)───X───X───Rx(th_6)───X───X───Rx(th_8)───X───X───\n",
       "                                 │   │              │   │              │   │\n",
       "(0, 1): ───Rx(th_1)───Rz(th_3)───@───@───Rz(th_5)───@───@───Rz(th_7)───@───@───\n",
       "\n",
       "(0, 2): ───Rx(th_2)────────────────────────────────────────────────────────────"
      ]
     },
     "execution_count": 277,
     "metadata": {},
     "output_type": "execute_result"
    }
   ],
   "source": [
    "translator.give_circuit(circuit_db)[0]"
   ]
  },
  {
   "cell_type": "code",
   "execution_count": 278,
   "id": "binding-entrepreneur",
   "metadata": {},
   "outputs": [
    {
     "data": {
      "text/html": [
       "<pre style=\"overflow: auto; white-space: pre;\">(0, 0): ───Rx(th_0)──────────────X───Rx(th_4)───X───Rx(th_6)───X───X───Rx(th_8)───X───X───\n",
       "                                 │              │              │   │              │   │\n",
       "(0, 1): ───Rx(th_1)───Rz(th_3)───@──────────────@───Rz(th_5)───@───@───Rz(th_7)───@───@───\n",
       "\n",
       "(0, 2): ───Rx(th_2)───────────────────────────────────────────────────────────────────────</pre>"
      ],
      "text/plain": [
       "(0, 0): ───Rx(th_0)──────────────X───Rx(th_4)───X───Rx(th_6)───X───X───Rx(th_8)───X───X───\n",
       "                                 │              │              │   │              │   │\n",
       "(0, 1): ───Rx(th_1)───Rz(th_3)───@──────────────@───Rz(th_5)───@───@───Rz(th_7)───@───@───\n",
       "\n",
       "(0, 2): ───Rx(th_2)───────────────────────────────────────────────────────────────────────"
      ]
     },
     "execution_count": 278,
     "metadata": {},
     "output_type": "execute_result"
    }
   ],
   "source": [
    "translator.give_circuit(ssimplified_db)[0]"
   ]
  },
  {
   "cell_type": "code",
   "execution_count": 279,
   "id": "confirmed-walter",
   "metadata": {},
   "outputs": [],
   "source": [
    "simplification, sssimplified_db = rule_6(translator, ssimplified_db, on_qubit_order, gates_on_qubit)"
   ]
  },
  {
   "cell_type": "code",
   "execution_count": 280,
   "id": "first-metadata",
   "metadata": {},
   "outputs": [
    {
     "data": {
      "text/html": [
       "<pre style=\"overflow: auto; white-space: pre;\">(0, 0): ───Rx(th_0)───Rx(th_4)───X───X───Rx(th_6)───X───X───Rx(th_8)───X───X───\n",
       "                                 │   │              │   │              │   │\n",
       "(0, 1): ───Rx(th_1)───Rz(th_3)───@───@───Rz(th_5)───@───@───Rz(th_7)───@───@───\n",
       "\n",
       "(0, 2): ───Rx(th_2)────────────────────────────────────────────────────────────</pre>"
      ],
      "text/plain": [
       "(0, 0): ───Rx(th_0)───Rx(th_4)───X───X───Rx(th_6)───X───X───Rx(th_8)───X───X───\n",
       "                                 │   │              │   │              │   │\n",
       "(0, 1): ───Rx(th_1)───Rz(th_3)───@───@───Rz(th_5)───@───@───Rz(th_7)───@───@───\n",
       "\n",
       "(0, 2): ───Rx(th_2)────────────────────────────────────────────────────────────"
      ]
     },
     "execution_count": 280,
     "metadata": {},
     "output_type": "execute_result"
    }
   ],
   "source": [
    "translator.give_circuit(sssimplified_db)[0]"
   ]
  }
 ],
 "metadata": {
  "kernelspec": {
   "display_name": "Python 3",
   "language": "python",
   "name": "python3"
  },
  "language_info": {
   "codemirror_mode": {
    "name": "ipython",
    "version": 3
   },
   "file_extension": ".py",
   "mimetype": "text/x-python",
   "name": "python",
   "nbconvert_exporter": "python",
   "pygments_lexer": "ipython3",
   "version": "3.6.9"
  }
 },
 "nbformat": 4,
 "nbformat_minor": 5
}
