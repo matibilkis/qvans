{
 "cells": [
  {
   "cell_type": "code",
   "execution_count": 5,
   "id": "cleared-explorer",
   "metadata": {},
   "outputs": [
    {
     "name": "stdout",
     "output_type": "stream",
     "text": [
      "The autoreload extension is already loaded. To reload it, use:\n",
      "  %reload_ext autoreload\n"
     ]
    }
   ],
   "source": [
    "%load_ext autoreload\n",
    "%autoreload 2\n",
    "\n",
    "import sympy \n",
    "import numpy as np \n",
    "import pandas as pd \n",
    "\n",
    "from utilities.circuit_database import CirqTranslater\n",
    "from utilities.templates import *\n",
    "from utilities.variational import Minimizer\n",
    "import matplotlib.pyplot as plt \n"
   ]
  },
  {
   "cell_type": "code",
   "execution_count": 7,
   "id": "incorporate-outline",
   "metadata": {},
   "outputs": [],
   "source": [
    "translator = CirqTranslater(6)\n",
    "circuit_db = u1_layer(translator)\n",
    "circuit, circuit_db = translator.give_circuit(circuit_db)"
   ]
  },
  {
   "cell_type": "code",
   "execution_count": 8,
   "id": "shaped-harvey",
   "metadata": {},
   "outputs": [
    {
     "data": {
      "text/html": [
       "<pre style=\"overflow: auto; white-space: pre;\">(0, 0): ───Rz(th_0)────Rx(th_13)───Rz(th_16)───\n",
       "\n",
       "(0, 1): ───Rz(th_10)───Rx(th_15)───Rz(th_17)───\n",
       "\n",
       "(0, 2): ───Rz(th_7)────Rx(th_12)───Rz(th_14)───\n",
       "\n",
       "(0, 3): ───Rz(th_5)────Rx(th_9)────Rz(th_11)───\n",
       "\n",
       "(0, 4): ───Rz(th_2)────Rx(th_6)────Rz(th_8)────\n",
       "\n",
       "(0, 5): ───Rz(th_1)────Rx(th_3)────Rz(th_4)────</pre>"
      ],
      "text/plain": [
       "(0, 0): ───Rz(th_0)────Rx(th_13)───Rz(th_16)───\n",
       "\n",
       "(0, 1): ───Rz(th_10)───Rx(th_15)───Rz(th_17)───\n",
       "\n",
       "(0, 2): ───Rz(th_7)────Rx(th_12)───Rz(th_14)───\n",
       "\n",
       "(0, 3): ───Rz(th_5)────Rx(th_9)────Rz(th_11)───\n",
       "\n",
       "(0, 4): ───Rz(th_2)────Rx(th_6)────Rz(th_8)────\n",
       "\n",
       "(0, 5): ───Rz(th_1)────Rx(th_3)────Rz(th_4)────"
      ]
     },
     "execution_count": 8,
     "metadata": {},
     "output_type": "execute_result"
    }
   ],
   "source": [
    "circuit"
   ]
  },
  {
   "cell_type": "code",
   "execution_count": null,
   "id": "pending-wagner",
   "metadata": {},
   "outputs": [],
   "source": [
    "def give_proper_indices(self,original_db):\n",
    "    first_symbol = original_db[\"symbol\"].dropna().iloc[0]\n",
    "    original_ind = original_db.index[0]\n",
    "    number = first_symbol.replace(\"th_\",\"\")\n",
    "    return int(number), original_ind"
   ]
  },
  {
   "cell_type": "code",
   "execution_count": 33,
   "id": "canadian-bundle",
   "metadata": {},
   "outputs": [],
   "source": [
    "connections = circuit_db[[\"ind\"]]"
   ]
  },
  {
   "cell_type": "code",
   "execution_count": 41,
   "id": "liable-gibson",
   "metadata": {},
   "outputs": [],
   "source": [
    "connections = {q:[] for q in range(translator.n_qubits)}\n",
    "order_gates = {q:[] for q in range(translator.n_qubits)}\n",
    "\n",
    "for order_gate, ind_gate in enumerate( circuit_db[\"ind\"]):\n",
    "    if ind_gate < translator.n_qubits:\n",
    "        control, target = translator.indexed_cnots[ind_gate]\n",
    "        connections[control].append(ind_gate)\n",
    "        connections[target].append(ind_gate)\n",
    "        order_gates[control].append(order_gate)                \n",
    "        order_gates[target].append(order_gate)                \n",
    "    else:\n",
    "        connections[(ind_gate-translator.n_qubits)%translator.n_qubits].append(ind_gate)\n",
    "        order_gates[(ind_gate-translator.n_qubits)%translator.n_qubits].append(order_gate)        "
   ]
  },
  {
   "cell_type": "code",
   "execution_count": 42,
   "id": "dental-threshold",
   "metadata": {},
   "outputs": [
    {
     "data": {
      "text/plain": [
       "{0: [30, 36, 30],\n",
       " 1: [31, 37, 31],\n",
       " 2: [32, 38, 32],\n",
       " 3: [33, 39, 33],\n",
       " 4: [34, 40, 34],\n",
       " 5: [35, 41, 35]}"
      ]
     },
     "execution_count": 42,
     "metadata": {},
     "output_type": "execute_result"
    }
   ],
   "source": [
    "connections"
   ]
  },
  {
   "cell_type": "code",
   "execution_count": 43,
   "id": "bright-jonathan",
   "metadata": {},
   "outputs": [
    {
     "data": {
      "text/plain": [
       "{0: [0, 13, 16],\n",
       " 1: [10, 15, 17],\n",
       " 2: [7, 12, 14],\n",
       " 3: [5, 9, 11],\n",
       " 4: [2, 6, 8],\n",
       " 5: [1, 3, 4]}"
      ]
     },
     "execution_count": 43,
     "metadata": {},
     "output_type": "execute_result"
    }
   ],
   "source": [
    "order_gates"
   ]
  },
  {
   "cell_type": "code",
   "execution_count": null,
   "id": "uniform-veteran",
   "metadata": {},
   "outputs": [],
   "source": []
  }
 ],
 "metadata": {
  "kernelspec": {
   "display_name": "Python 3",
   "language": "python",
   "name": "python3"
  },
  "language_info": {
   "codemirror_mode": {
    "name": "ipython",
    "version": 3
   },
   "file_extension": ".py",
   "mimetype": "text/x-python",
   "name": "python",
   "nbconvert_exporter": "python",
   "pygments_lexer": "ipython3",
   "version": "3.6.9"
  }
 },
 "nbformat": 4,
 "nbformat_minor": 5
}
