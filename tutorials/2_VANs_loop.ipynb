{
 "cells": [
  {
   "cell_type": "markdown",
   "id": "empty-narrow",
   "metadata": {},
   "source": [
    "# Tutorial 2: VANs loop\n",
    "\n",
    "In this tutorial we will train VANs to find a quantum circuit that prepares the ground state of a TFIM, by departing from a separable circuit."
   ]
  },
  {
   "cell_type": "code",
   "execution_count": 1,
   "id": "5d9c3b13",
   "metadata": {},
   "outputs": [
    {
     "name": "stdout",
     "output_type": "stream",
     "text": [
      "USING TFQ 0.4.0 VERSION \n",
      "USING CIRQ 0.9.1 VERSION \n"
     ]
    }
   ],
   "source": [
    "%load_ext autoreload\n",
    "%autoreload 2\n",
    "import tensorflow_quantum as tfq\n",
    "import matplotlib.pyplot as plt\n",
    "import cirq\n",
    "import numpy as np\n",
    "\n",
    "import os\n",
    "import sys\n",
    "module_path = os.path.abspath(os.path.join('..'))\n",
    "if module_path not in sys.path:\n",
    "    sys.path.append(module_path)\n",
    "    \n",
    "os.chdir(\"..\")\n",
    "print(\"USING TFQ {} VERSION \".format(tfq.__version__))\n",
    "print(\"USING CIRQ {} VERSION \".format(cirq.__version__))"
   ]
  },
  {
   "cell_type": "markdown",
   "id": "sharp-earth",
   "metadata": {},
   "source": [
    "As in the previous tutorial, we will work with the TFIM\n",
    "\n",
    "$H=-J\\sum_{j=1}^n \\sigma_j^x\\sigma_{j+1}^x-g\\sum_{j=1}^n \\sigma_j^x\\,,$"
   ]
  },
  {
   "cell_type": "markdown",
   "id": "undefined-bathroom",
   "metadata": {},
   "source": [
    "### Introducing the Evaluator\n",
    "\n",
    "Evaluator is a method that allows VANs to keep track of quantum circuit evolution, and eventually load results for future analysis. Moreover, it literally evaluates to whether or not accept a new quantum circuit according to some criteria. In this case, the criteria we have implemented is a very simple one: we accept modifications whose energy is $\\epsilon$-close to the best energy found so far. The reason we do this is to favour exploration, and $\\epsilon$ is decreased as VANs iterations evolve.\n",
    "\n",
    "Evaluator keeps a record of training according with two dictionaries: $\\texttt{raw_history}$ and $\\texttt{evolution}$. In $\\texttt{raw_history}$ we keep everything, whereas in $\\texttt{evolution}$ we keep only changes that are approved by the Evaluator. Either adding information to both dictionaries or not is controlled by the argument $relevant$ of the <i>add_step</i> function.\n",
    "\n",
    "Now let us go through the algorithm; this is explained in the paper but for the record we will put the pseudo-code"
   ]
  },
  {
   "cell_type": "markdown",
   "id": "solved-amber",
   "metadata": {},
   "source": [
    "\n",
    "<img src=\"images/vans_algo.png\" alt=\"Italian Trulli\">"
   ]
  },
  {
   "cell_type": "code",
   "execution_count": 42,
   "id": "stunning-relaxation",
   "metadata": {},
   "outputs": [],
   "source": [
    "from utilities.circuit_basics import Basic, overlap\n",
    "from utilities.variational import VQE \n",
    "from utilities.evaluator import Evaluator\n",
    "from utilities.idinserter import IdInserter\n",
    "from utilities.simplifier import Simplifier\n",
    "from utilities.unitary_killer import UnitaryMurder\n",
    "from utilities.evaluator import Evaluator\n"
   ]
  },
  {
   "cell_type": "code",
   "execution_count": 47,
   "id": "angry-representative",
   "metadata": {},
   "outputs": [],
   "source": [
    "problem_config={\"problem\":\"TFIM\", \"J\":1.0, \"g\":1.0}\n",
    "\n",
    "vqe_handler = VQE(n_qubits=4, epochs=2000, \n",
    "                  verbose=1,problem_config=problem_config,\n",
    "                  optimizer=\"adam\", lr=0.01)\n",
    "\n",
    "\n",
    "dict_evaluator={\"n_qubits\":4,\"problem_config\":problem_config}\n",
    "\n",
    "evaluator = Evaluator(dict_evaluator, path=\"examples_repository/\", acceptance_percentage=1e-3, \n",
    "                      reduce_acceptance_percentage=True)\n",
    "\n",
    "training_histories = {}\n",
    "\n",
    "iid = IdInserter(n_qubits=len(vqe_handler.qubits),\n",
    "                 selector_temperature = 10.0)\n",
    "\n",
    "Simp = Simplifier(n_qubits=len(vqe_handler.qubits))\n",
    "\n",
    "vqe_handler = VQE(n_qubits=4, epochs=5000, \n",
    "                  verbose=0,problem_config=problem_config,\n",
    "                  optimizer=\"adam\", lr=1e-2, patience=100)\n",
    "\n",
    "unitary_killer = UnitaryMurder(vqe_handler, accept_wall=100)\n"
   ]
  },
  {
   "cell_type": "markdown",
   "id": "foster-wrapping",
   "metadata": {},
   "source": [
    "We begin with a separable circuit"
   ]
  },
  {
   "cell_type": "code",
   "execution_count": 48,
   "id": "better-lecture",
   "metadata": {},
   "outputs": [
    {
     "data": {
      "text/html": [
       "<pre style=\"overflow: auto; white-space: pre;\">(0, 0): ───Rx(th_0)───\n",
       "\n",
       "(0, 1): ───Rx(th_1)───\n",
       "\n",
       "(0, 2): ───Rx(th_2)───\n",
       "\n",
       "(0, 3): ───Rx(th_3)───</pre>"
      ],
      "text/plain": [
       "(0, 0): ───Rx(th_0)───\n",
       "\n",
       "(0, 1): ───Rx(th_1)───\n",
       "\n",
       "(0, 2): ───Rx(th_2)───\n",
       "\n",
       "(0, 3): ───Rx(th_3)───"
      ]
     },
     "metadata": {},
     "output_type": "display_data"
    }
   ],
   "source": [
    "indexed_circuit = [vqe_handler.number_of_cnots+vqe_handler.n_qubits+k for k in range(vqe_handler.n_qubits)]\n",
    "display(vqe_handler.give_circuit(indexed_circuit)[0])"
   ]
  },
  {
   "cell_type": "code",
   "execution_count": 49,
   "id": "middle-petite",
   "metadata": {},
   "outputs": [],
   "source": [
    "energy, symbol_to_value, training_history = vqe_handler.vqe(indexed_circuit)\n",
    "training_histories[len(list(training_histories.keys()))] = training_history\n",
    "\n",
    "## add step to evaluator ##\n",
    "evaluator.add_step(indexed_circuit, symbol_to_value, energy, relevant=True)\n",
    "evaluator.lowest_energy = energy\n"
   ]
  },
  {
   "cell_type": "markdown",
   "id": "fifth-mechanism",
   "metadata": {},
   "source": [
    "Now let us go on with the algorithm."
   ]
  },
  {
   "cell_type": "code",
   "execution_count": 50,
   "id": "compatible-devices",
   "metadata": {},
   "outputs": [
    {
     "name": "stdout",
     "output_type": "stream",
     "text": [
      "Accepted circuit! Actually I reduced it from 16 to 6. With this, energy increased -2.384185791015625e-06\n",
      "iteration: 0 \n",
      "best energy -4.472135543823242 \n",
      "current energy -4.472135543823242\n",
      "Number of params 4\n",
      "Number of CNOTs 2\n",
      "\n",
      "Accepted circuit! Actually I reduced it from 41 to 26. With this, energy increased -0.13541936874389648\n",
      "iteration: 1 \n",
      "best energy -5.090827941894531 \n",
      "current energy -5.090827941894531\n",
      "Number of params 16\n",
      "Number of CNOTs 10\n",
      "\n",
      "Accepted circuit! Actually I reduced it from 53 to 29. With this, energy increased -0.029964923858642578\n",
      "iteration: 2 \n",
      "best energy -5.196290493011475 \n",
      "current energy -5.196290493011475\n",
      "Number of params 17\n",
      "Number of CNOTs 12\n",
      "\n",
      "Accepted circuit! Actually I reduced it from 37 to 27. With this, energy increased -0.002788543701171875\n",
      "iteration: 3 \n",
      "best energy -5.223462104797363 \n",
      "current energy -5.223462104797363\n",
      "Number of params 15\n",
      "Number of CNOTs 12\n",
      "\n",
      "Accepted circuit! Actually I reduced it from 39 to 25. With this, energy increased -1.7642974853515625e-05\n",
      "iteration: 4 \n",
      "best energy -5.226234436035156 \n",
      "current energy -5.226234436035156\n",
      "Number of params 14\n",
      "Number of CNOTs 11\n",
      "\n",
      "iteration: 5 \n",
      "best energy -5.226234436035156 \n",
      "current energy -5.226234436035156\n",
      "Number of params 14\n",
      "Number of CNOTs 11\n",
      "\n",
      "iteration: 6 \n",
      "best energy -5.226234436035156 \n",
      "current energy -5.226234436035156\n",
      "Number of params 14\n",
      "Number of CNOTs 11\n",
      "\n",
      "Accepted circuit! Actually I reduced it from 54 to 49. With this, energy increased -0.00016307830810546875\n",
      "iteration: 7 \n",
      "best energy -5.226234436035156 \n",
      "current energy -5.226091384887695\n",
      "Number of params 32\n",
      "Number of CNOTs 17\n",
      "\n",
      "Accepted circuit! Actually I reduced it from 78 to 71. With this, energy increased -0.08723258972167969\n",
      "iteration: 8 \n",
      "best energy -5.226234436035156 \n",
      "current energy -5.139016151428223\n",
      "Number of params 46\n",
      "Number of CNOTs 25\n",
      "\n",
      "Accepted circuit! Actually I reduced it from 72 to 67. With this, energy increased -0.04826545715332031\n",
      "iteration: 9 \n",
      "best energy -5.226234436035156 \n",
      "current energy -5.177970886230469\n",
      "Number of params 43\n",
      "Number of CNOTs 24\n",
      "\n",
      "Accepted circuit! Actually I reduced it from 89 to 88. With this, energy increased -0.00015735626220703125\n",
      "iteration: 10 \n",
      "best energy -5.226234436035156 \n",
      "current energy -5.226097106933594\n",
      "Number of params 58\n",
      "Number of CNOTs 30\n",
      "\n",
      "Accepted circuit! Actually I reduced it from 88 to 86. With this, energy increased -0.07187604904174805\n",
      "iteration: 11 \n",
      "best energy -5.226234436035156 \n",
      "current energy -5.154380798339844\n",
      "Number of params 56\n",
      "Number of CNOTs 30\n",
      "\n",
      "Accepted circuit! Actually I reduced it from 93 to 89. With this, energy increased -0.007935523986816406\n",
      "iteration: 12 \n",
      "best energy -5.226234436035156 \n",
      "current energy -5.218315601348877\n",
      "Number of params 57\n",
      "Number of CNOTs 32\n",
      "\n",
      "Accepted circuit! Actually I reduced it from 116 to 114. With this, energy increased -0.19347906112670898\n",
      "iteration: 13 \n",
      "best energy -5.226234436035156 \n",
      "current energy -5.032772541046143\n",
      "Number of params 74\n",
      "Number of CNOTs 40\n",
      "\n",
      "Accepted circuit! Actually I reduced it from 122 to 115. With this, energy increased -0.041460514068603516\n",
      "iteration: 14 \n",
      "best energy -5.226234436035156 \n",
      "current energy -5.18479061126709\n",
      "Number of params 75\n",
      "Number of CNOTs 40\n",
      "\n"
     ]
    }
   ],
   "source": [
    "for iteration in range(15):\n",
    "    M_indices, M_symbols_to_values, M_idx_to_symbols = iid.place_identities(indexed_circuit, symbol_to_value, rate_iids_per_step= 2.0)\n",
    "\n",
    "    ### simplify the circuit as much as possible\n",
    "    Sindices, Ssymbols_to_values, Sindex_to_symbols = Simp.reduce_circuit(M_indices, M_symbols_to_values, M_idx_to_symbols)\n",
    "\n",
    "    ## compute the energy of the mutated-simplified circuit [Note 1]\n",
    "    MSenergy, MSsymbols_to_values, training_history = vqe_handler.vqe(Sindices, symbols_to_values=Ssymbols_to_values, parameter_perturbation_wall=np.pi/10.)\n",
    "    training_histories[len(list(training_histories.keys()))] = training_history\n",
    "\n",
    "\n",
    "    if evaluator.accept_energy(MSenergy):\n",
    "        #delete as many 1-qubit gates as possible, as long as the energy doesn't go up (we allow %1 increments per iteration)\n",
    "        indexed_circuit, symbol_to_value, index_to_symbols = Sindices, MSsymbols_to_values, Sindex_to_symbols\n",
    "\n",
    "        cnt=0\n",
    "        reduced=True\n",
    "        lmax=len(indexed_circuit)\n",
    "        while reduced and cnt < lmax:\n",
    "            indexed_circuit, symbol_to_value, index_to_symbols, energy, reduced = unitary_killer.unitary_slaughter(indexed_circuit, symbol_to_value, index_to_symbols, reference_energy = MSenergy)\n",
    "            indexed_circuit, symbol_to_value, index_to_symbols = Simp.reduce_circuit(indexed_circuit, symbol_to_value, index_to_symbols)\n",
    "            cnt+=1\n",
    "        print(\"Accepted circuit! Actually I reduced it from {} to {}. With this, energy increased {}\".format(len(Sindices), len(indexed_circuit), MSenergy-energy))\n",
    "        relevant=True\n",
    "\n",
    "    evaluator.add_step(indexed_circuit, symbol_to_value, energy,relevant=relevant)\n",
    "    to_print=f\"iteration: {iteration} \\n\"\\\n",
    "            f\"best energy {evaluator.lowest_energy} \\n\"\\\n",
    "            f\"current energy {energy}\\n\"\\\n",
    "            f\"Number of params {vqe_handler.count_params(indexed_circuit)}\\n\"\\\n",
    "            f\"Number of CNOTs {vqe_handler.count_cnots(indexed_circuit)}\\n\"\n",
    "    print(to_print)\n",
    "    evaluator.save_dicts_and_displaying()"
   ]
  },
  {
   "cell_type": "code",
   "execution_count": 27,
   "id": "starting-retro",
   "metadata": {},
   "outputs": [],
   "source": [
    "circuits = [list(evaluator.raw_history.values())[k][0] for k in range(len(evaluator.raw_history.keys()))]\n",
    "energies = [list(evaluator.raw_history.values())[k][1] for k in range(len(evaluator.raw_history.keys()))]"
   ]
  },
  {
   "cell_type": "code",
   "execution_count": null,
   "id": "drawn-facing",
   "metadata": {},
   "outputs": [],
   "source": []
  },
  {
   "cell_type": "code",
   "execution_count": 61,
   "id": "studied-robinson",
   "metadata": {},
   "outputs": [
    {
     "name": "stderr",
     "output_type": "stream",
     "text": [
      "No handles with labels found to put in legend.\n"
     ]
    },
    {
     "data": {
      "text/plain": [
       "Text(0, 0.5, 'Energy')"
      ]
     },
     "execution_count": 61,
     "metadata": {},
     "output_type": "execute_result"
    },
    {
     "data": {
      "image/png": "[encoded data removed]",
      "text/plain": [
       "<Figure size 1080x720 with 1 Axes>"
      ]
     },
     "metadata": {
      "needs_background": "light"
     },
     "output_type": "display_data"
    }
   ],
   "source": [
    "### Let's compute the ground-state:\n",
    "H=sum(vqe_handler.observable).matrix()\n",
    "eigs = np.linalg.eigh(H)\n",
    "ground_state_energy = eigs[0][0]\n",
    "ground_state = eigs[1][:,0]\n",
    "\n",
    "lw=5\n",
    "ls=30\n",
    "plt.figure(figsize=(15,10))\n",
    "plt.subplot(211)\n",
    "plt.xticks([])\n",
    "plt.legend(prop={\"size\":30})\n",
    "\n",
    "indlast=0\n",
    "en = list(training_histories.values())[0].history[\"energy\"]\n",
    "indlast+=len(en)\n",
    "plt.plot(range(indlast), en)\n",
    "for ind,eng in enumerate(list(training_histories.values())[1:]):\n",
    "    en = eng.history[\"energy\"]\n",
    "    plt.plot( range(indlast, indlast+len(en)), en, linewidth=lw)\n",
    "    indlast+=len(en)\n",
    "plt.plot([0,indlast],np.ones(2)*ground_state_energy, '--',label=r'$E_g$', color=\"black\")\n",
    "plt.legend(prop={\"size\":30})\n",
    "plt.xlabel(\"Training epochs\",size=25)\n",
    "plt.ylabel(\"Energy\",size=25)"
   ]
  },
  {
   "cell_type": "markdown",
   "id": "promotional-welding",
   "metadata": {},
   "source": [
    "Note that kinks appear due to parameter initialization when doing VQE (in turn, this can allow to exit local minima, and is a parameter that can be controlled in vqe algorithm, find it in variational.py!).\n",
    "\n",
    "Finally, note that evaluator can be used to load data as well (note that nrun_load=0 is used, but if the problem w/ same configuration is run more a subdirectory with nrun=L (L=#of runs) so to store results."
   ]
  },
  {
   "cell_type": "code",
   "execution_count": 64,
   "id": "dynamic-surgeon",
   "metadata": {},
   "outputs": [],
   "source": [
    "problem_config={\"problem\":\"TFIM\", \"J\":1.0, \"g\":1.0}\n",
    "\n",
    "vqe_handler = VQE(n_qubits=4, epochs=2000, \n",
    "                  verbose=1,problem_config=problem_config,\n",
    "                  optimizer=\"adam\", lr=0.01)\n",
    "\n",
    "dict_evaluator={\"n_qubits\":4,\"problem_config\":problem_config}\n",
    "\n",
    "evaluator_loading = Evaluator(dict_evaluator, path=\"examples_repository/\",loading=True, nrun_load=0)"
   ]
  },
  {
   "cell_type": "code",
   "execution_count": 65,
   "id": "major-register",
   "metadata": {},
   "outputs": [],
   "source": [
    "best_energies = []\n",
    "for k in list(evaluator_loading.evolution.values()):\n",
    "    best_energies.append(k[1])"
   ]
  },
  {
   "cell_type": "code",
   "execution_count": 70,
   "id": "scheduled-fiber",
   "metadata": {},
   "outputs": [
    {
     "data": {
      "text/plain": [
       "[<matplotlib.lines.Line2D at 0x7fbc5697e4e0>]"
      ]
     },
     "execution_count": 70,
     "metadata": {},
     "output_type": "execute_result"
    },
    {
     "data": {
      "image/png": "[encoded data removed]",
      "text/plain": [
       "<Figure size 432x288 with 1 Axes>"
      ]
     },
     "metadata": {
      "needs_background": "light"
     },
     "output_type": "display_data"
    }
   ],
   "source": [
    "plt.plot(best_energies, linewidth=lw, color=\"red\")\n",
    "plt.plot(np.ones(len(best_energies))*ground_state_energy,'--', color=\"blue\")\n",
    "pl"
   ]
  },
  {
   "cell_type": "code",
   "execution_count": null,
   "id": "friendly-belly",
   "metadata": {},
   "outputs": [],
   "source": []
  }
 ],
 "metadata": {
  "kernelspec": {
   "display_name": "Python 3",
   "language": "python",
   "name": "python3"
  },
  "language_info": {
   "codemirror_mode": {
    "name": "ipython",
    "version": 3
   },
   "file_extension": ".py",
   "mimetype": "text/x-python",
   "name": "python",
   "nbconvert_exporter": "python",
   "pygments_lexer": "ipython3",
   "version": "3.6.9"
  }
 },
 "nbformat": 4,
 "nbformat_minor": 5
}
