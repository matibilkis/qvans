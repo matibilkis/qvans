{
 "cells": [
  {
   "cell_type": "markdown",
   "id": "israeli-cathedral",
   "metadata": {},
   "source": [
    "In this notebook we give a proof of concept of unitary compiling using TFQ. "
   ]
  },
  {
   "cell_type": "code",
   "execution_count": 5,
   "id": "cleared-explorer",
   "metadata": {},
   "outputs": [
    {
     "name": "stdout",
     "output_type": "stream",
     "text": [
      "The autoreload extension is already loaded. To reload it, use:\n",
      "  %reload_ext autoreload\n"
     ]
    }
   ],
   "source": [
    "%load_ext autoreload\n",
    "%autoreload 2\n",
    "\n",
    "import sympy \n",
    "import numpy as np \n",
    "import pandas as pd \n",
    "import tensorflow as tf\n",
    "from utilities.circuit_database import CirqTranslater\n",
    "from utilities.templates import *\n",
    "from utilities.variational import Minimizer\n",
    "from utilities.misc import get_qubits_involved, reindex_symbol, shift_symbols_down\n",
    "import matplotlib.pyplot as plt \n",
    "import tensorflow_quantum as tfq\n",
    "import cirq\n",
    "from utilities.compiling import *\n",
    "from utilities.misc import *\n",
    "from utilities.simplifier import Simplifier\n",
    "from utilities.discrimination import *\n",
    "from utilities.idinserter import IdInserter\n",
    "from utilities.evaluator import Evaluator\n",
    "from utilities.gate_killer import GateKiller\n",
    "from ast import literal_eval\n"
   ]
  },
  {
   "cell_type": "code",
   "execution_count": 6,
   "id": "coastal-dividend",
   "metadata": {},
   "outputs": [],
   "source": [
    "np.random.seed(0)\n",
    "translator = CirqTranslater(4, untouchable_blocks = [])\n",
    "\n",
    "translator.env_qubits = [2]\n",
    "\n",
    "simplifier = Simplifier(translator)\n",
    "etas = [0.01, 1.]\n",
    "minimizer = Minimizer(translator, mode=\"discrimination\", params=etas)"
   ]
  },
  {
   "cell_type": "code",
   "execution_count": 7,
   "id": "administrative-aquatic",
   "metadata": {},
   "outputs": [],
   "source": [
    "cdb = []\n",
    "for ind, qubits in list(translator.indexed_cnots.items()):\n",
    "    cdb.append(gate_template(int(ind), block_id=0))\n",
    "    con, tar = qubits\n",
    "    cdb.append(gate_template(int(con + translator.number_of_cnots), param_value = np.random.random()))\n",
    "    cdb.append(gate_template(int(tar + translator.number_of_cnots + translator.n_qubits), param_value = np.random.random()))\n",
    "circuit_db = pd.DataFrame(cdb)\n",
    "c0, cdb0 = translator.give_circuit(x_layer_db(translator))"
   ]
  },
  {
   "cell_type": "code",
   "execution_count": 9,
   "id": "great-voluntary",
   "metadata": {},
   "outputs": [
    {
     "name": "stdout",
     "output_type": "stream",
     "text": [
      "simplified using  <bound method Simplifier.rule_4 of <utilities.simplifier.Simplifier object at 0x7ff7340bbf28>>\n",
      "simplified using  <bound method Simplifier.rule_4 of <utilities.simplifier.Simplifier object at 0x7ff7340bbf28>>\n",
      "simplified using  <bound method Simplifier.rule_4 of <utilities.simplifier.Simplifier object at 0x7ff7340bbf28>>\n",
      "simplified using  <bound method Simplifier.rule_4 of <utilities.simplifier.Simplifier object at 0x7ff7340bbf28>>\n",
      "simplified using  <bound method Simplifier.rule_4 of <utilities.simplifier.Simplifier object at 0x7ff7340bbf28>>\n",
      "simplified using  <bound method Simplifier.rule_4 of <utilities.simplifier.Simplifier object at 0x7ff7340bbf28>>\n",
      "simplified using  <bound method Simplifier.rule_4 of <utilities.simplifier.Simplifier object at 0x7ff7340bbf28>>\n",
      "simplified using  <bound method Simplifier.rule_6 of <utilities.simplifier.Simplifier object at 0x7ff7340bbf28>>\n",
      "simplified using  <bound method Simplifier.rule_6 of <utilities.simplifier.Simplifier object at 0x7ff7340bbf28>>\n",
      "simplified using  <bound method Simplifier.rule_6 of <utilities.simplifier.Simplifier object at 0x7ff7340bbf28>>\n",
      "simplified using  <bound method Simplifier.rule_6 of <utilities.simplifier.Simplifier object at 0x7ff7340bbf28>>\n",
      "simplified using  <bound method Simplifier.rule_6 of <utilities.simplifier.Simplifier object at 0x7ff7340bbf28>>\n",
      "simplified using  <bound method Simplifier.rule_6 of <utilities.simplifier.Simplifier object at 0x7ff7340bbf28>>\n",
      "simplified using  <bound method Simplifier.rule_6 of <utilities.simplifier.Simplifier object at 0x7ff7340bbf28>>\n",
      "simplified using  <bound method Simplifier.rule_6 of <utilities.simplifier.Simplifier object at 0x7ff7340bbf28>>\n",
      "simplified using  <bound method Simplifier.rule_6 of <utilities.simplifier.Simplifier object at 0x7ff7340bbf28>>\n",
      "simplified using  <bound method Simplifier.rule_6 of <utilities.simplifier.Simplifier object at 0x7ff7340bbf28>>\n",
      "simplified using  <bound method Simplifier.rule_6 of <utilities.simplifier.Simplifier object at 0x7ff7340bbf28>>\n",
      "simplified using  <bound method Simplifier.rule_6 of <utilities.simplifier.Simplifier object at 0x7ff7340bbf28>>\n",
      "simplified using  <bound method Simplifier.rule_6 of <utilities.simplifier.Simplifier object at 0x7ff7340bbf28>>\n",
      "simplified using  <bound method Simplifier.rule_6 of <utilities.simplifier.Simplifier object at 0x7ff7340bbf28>>\n",
      "simplified using  <bound method Simplifier.rule_6 of <utilities.simplifier.Simplifier object at 0x7ff7340bbf28>>\n",
      "simplified using  <bound method Simplifier.rule_6 of <utilities.simplifier.Simplifier object at 0x7ff7340bbf28>>\n",
      "simplified using  <bound method Simplifier.rule_6 of <utilities.simplifier.Simplifier object at 0x7ff7340bbf28>>\n",
      "simplified using  <bound method Simplifier.rule_6 of <utilities.simplifier.Simplifier object at 0x7ff7340bbf28>>\n",
      "simplified using  <bound method Simplifier.rule_6 of <utilities.simplifier.Simplifier object at 0x7ff7340bbf28>>\n",
      "simplified using  <bound method Simplifier.rule_6 of <utilities.simplifier.Simplifier object at 0x7ff7340bbf28>>\n",
      "simplified using  <bound method Simplifier.rule_1 of <utilities.simplifier.Simplifier object at 0x7ff7340bbf28>>\n",
      "simplified using  <bound method Simplifier.rule_1 of <utilities.simplifier.Simplifier object at 0x7ff7340bbf28>>\n",
      "simplified using  <bound method Simplifier.rule_1 of <utilities.simplifier.Simplifier object at 0x7ff7340bbf28>>\n",
      "\n",
      "\n",
      "1.942890293094024e-16\n",
      "                                                                                      ┌──┐\n",
      "(0, 0): ───@───Rz(th_0)───@───Rz(th_2)───@───Rz(th_4)───X───Rx(th_7)────────────────────X────Rx(th_13)───────────────────────────────────X───Rx(th_19)───Rx(th_24)───Rx(th_28)───────────────────────────────────────────────────\n",
      "           │              │              │              │                               │                                                │\n",
      "(0, 1): ───X───Rx(th_1)───┼──────────────┼──────────────@───Rz(th_6)───@───Rz(th_8)────@┼────Rz(th_10)───X───Rx(th_15)───────────────────┼───────────────X───────────Rx(th_21)───Rx(th_25)───Rx(th_29)───────────────────────────\n",
      "                          │              │                             │               ││                │                               │               │\n",
      "(0, 2): ──────────────────X───Rx(th_3)───┼─────────────────────────────X───Rx(th_9)────┼@────Rz(th_12)───@───Rz(th_14)───@───Rz(th_16)───┼───────────────┼───────────────────────X───────────Rx(th_23)───Rx(th_26)───Rx(th_30)───\n",
      "                                         │                                             │                                 │               │               │                       │\n",
      "(0, 3): ─────────────────────────────────X───Rx(th_5)──────────────────────────────────X─────Rx(th_11)───────────────────X───Rx(th_17)───@───Rz(th_18)───@───────────Rz(th_20)───@───────────Rz(th_22)───Rx(th_27)───Rx(th_31)───\n",
      "                                                                                      └──┘\n",
      "\n",
      "                                                    ┌─────────┐              ┌─────────┐\n",
      "(0, 0): ───Rz(th_1)───Rz(th_2)───Rz(th_3)───X─────────────────────────────────────────X───────────────────────────────────────────────────────────X───Rx(th_15)───Rx(th_16)───Rx(th_21)───────────────────────────────────────\n",
      "                                            │                                         │                                                           │\n",
      "(0, 1): ───Rx(th_0)─────────────────────────@───@────────────@────Rz(th_6)────Rz(th_7)┼────Rz(th_8)───X───────────────────────────────────────────┼───X───────────Rx(th_17)───Rx(th_22)───────────────────────────────────────\n",
      "                                                │            │                        │               │                                           │   │\n",
      "(0, 2): ────────────────────────────────────────X────Rx(th_4)┼────Rx(th_5)────────────@───────────────@───@───Rz(th_11)───Rz(th_12)───Rz(th_13)───┼───┼───────────X───────────Rx(th_23)───────────────────────────────────────\n",
      "                                                             │                                            │                                       │   │           │\n",
      "(0, 3): ─────────────────────────────────────────────────────X────────────────────────────────────────────X───Rx(th_9)────Rx(th_10)───Rx(th_14)───@───@───────────@───────────Rz(th_18)───Rz(th_19)───Rz(th_20)───Rx(th_24)───\n",
      "                                                    └─────────┘              └─────────┘\n"
     ]
    }
   ],
   "source": [
    "circuit_db = concatenate_dbs([circuit_db, cdb0])\n",
    "circuit_db[\"symbol\"] = None\n",
    "circuit, circuit_db  = translator.give_circuit(circuit_db)\n",
    "\n",
    "simplifier = Simplifier(translator)\n",
    "simplifier.relative_rules = [simplifier.rule_1, simplifier.rule_2]\n",
    "\n",
    "simplified_db, ns = simplifier.reduce_circuit(circuit_db)\n",
    "ss, simplified_db = translator.give_circuit(simplified_db)\n",
    "\n",
    "mdif = max_diff(translator , circuit_db, simplified_db)\n",
    "print(\"\\n\")\n",
    "print(mdif)\n",
    "print(circuit)\n",
    "print()\n",
    "print(ss)"
   ]
  },
  {
   "cell_type": "code",
   "execution_count": null,
   "id": "liquid-plaintiff",
   "metadata": {},
   "outputs": [],
   "source": []
  }
 ],
 "metadata": {
  "kernelspec": {
   "display_name": "Python 3",
   "language": "python",
   "name": "python3"
  },
  "language_info": {
   "codemirror_mode": {
    "name": "ipython",
    "version": 3
   },
   "file_extension": ".py",
   "mimetype": "text/x-python",
   "name": "python",
   "nbconvert_exporter": "python",
   "pygments_lexer": "ipython3",
   "version": "3.6.9"
  }
 },
 "nbformat": 4,
 "nbformat_minor": 5
}
