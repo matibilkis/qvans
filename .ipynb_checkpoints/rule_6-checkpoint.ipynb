{
 "cells": [
  {
   "cell_type": "markdown",
   "id": "israeli-cathedral",
   "metadata": {},
   "source": [
    "In this notebook we give a proof of concept of unitary compiling using TFQ. "
   ]
  },
  {
   "cell_type": "code",
   "execution_count": 6,
   "id": "cleared-explorer",
   "metadata": {},
   "outputs": [
    {
     "name": "stdout",
     "output_type": "stream",
     "text": [
      "The autoreload extension is already loaded. To reload it, use:\n",
      "  %reload_ext autoreload\n"
     ]
    }
   ],
   "source": [
    "%load_ext autoreload\n",
    "%autoreload 2\n",
    "\n",
    "import sympy \n",
    "import numpy as np \n",
    "import pandas as pd \n",
    "import tensorflow as tf\n",
    "from utilities.circuit_database import CirqTranslater\n",
    "from utilities.templates import *\n",
    "from utilities.variational import Minimizer\n",
    "from utilities.misc import get_qubits_involved, reindex_symbol, shift_symbols_down\n",
    "import matplotlib.pyplot as plt \n",
    "import tensorflow_quantum as tfq\n",
    "import cirq\n",
    "from utilities.compiling import *\n",
    "from utilities.misc import *\n",
    "from utilities.simplifier import Simplifier\n",
    "from utilities.discrimination import *\n",
    "from utilities.idinserter import IdInserter\n",
    "from utilities.evaluator import Evaluator\n",
    "from utilities.gate_killer import GateKiller\n",
    "from ast import literal_eval\n"
   ]
  },
  {
   "cell_type": "code",
   "execution_count": 2,
   "id": "coastal-dividend",
   "metadata": {},
   "outputs": [],
   "source": [
    "np.random.seed(0)\n",
    "translator = CirqTranslater(3, untouchable_blocks = [1])\n",
    "translator.env_qubits = [2]\n",
    "translator.encoder_id = 0\n",
    "translator.channel_id = 1\n",
    "translator.decoder_id = 2\n",
    "simplifier = Simplifier(translator)\n",
    "etas = [0.01, 1.]\n",
    "minimizer = Minimizer(translator, mode=\"discrimination\", params=etas)\n",
    "killer = GateKiller(translator, mode=\"discrimination\", params = etas)\n",
    "inserter = IdInserter(translator.n_qubits, untouchable_blocks=translator.channel_id)\n",
    "args_evaluator = {\"n_qubits\":translator.n_qubits, \"problem\":\"acd\",\"params\":etas}\n",
    "evaluator = Evaluator(args=args_evaluator, lower_bound_cost=minimizer.lower_bound_cost, nrun=0)"
   ]
  },
  {
   "cell_type": "code",
   "execution_count": 33,
   "id": "forward-hormone",
   "metadata": {},
   "outputs": [
    {
     "data": {
      "text/plain": [
       "[('0', [0, 1]),\n",
       " ('1', [0, 2]),\n",
       " ('2', [1, 0]),\n",
       " ('3', [1, 2]),\n",
       " ('4', [2, 0]),\n",
       " ('5', [2, 1])]"
      ]
     },
     "execution_count": 33,
     "metadata": {},
     "output_type": "execute_result"
    }
   ],
   "source": [
    "list(translator.indexed_cnots.items())"
   ]
  },
  {
   "cell_type": "code",
   "execution_count": 42,
   "id": "modular-casino",
   "metadata": {},
   "outputs": [],
   "source": [
    "cdb = []\n",
    "for ind, qubits in list(translator.indexed_cnots.items())[:2]:\n",
    "    cdb.append(gate_template(int(ind), block_id=0))\n",
    "    con, tar = qubits\n",
    "    cdb.append(gate_template(int(con + translator.number_of_cnots)))\n",
    "    cdb.append(gate_template(int(tar + translator.number_of_cnots + translator.n_qubits)))    \n",
    "circuit_db = pd.DataFrame(cdb)\n"
   ]
  },
  {
   "cell_type": "code",
   "execution_count": 43,
   "id": "pressed-plaza",
   "metadata": {},
   "outputs": [],
   "source": [
    "circuit, circuit_db = translator.give_circuit(circuit_db)"
   ]
  },
  {
   "cell_type": "code",
   "execution_count": 44,
   "id": "destroyed-highlight",
   "metadata": {},
   "outputs": [
    {
     "data": {
      "text/html": [
       "<pre style=\"overflow: auto; white-space: pre;\">(0, 0): ───@───Rz(th_0)───@───Rz(th_2)───\n",
       "           │              │\n",
       "(0, 1): ───X───Rx(th_1)───┼──────────────\n",
       "                          │\n",
       "(0, 2): ──────────────────X───Rx(th_3)───</pre>"
      ],
      "text/plain": [
       "(0, 0): ───@───Rz(th_0)───@───Rz(th_2)───\n",
       "           │              │\n",
       "(0, 1): ───X───Rx(th_1)───┼──────────────\n",
       "                          │\n",
       "(0, 2): ──────────────────X───Rx(th_3)───"
      ]
     },
     "execution_count": 44,
     "metadata": {},
     "output_type": "execute_result"
    }
   ],
   "source": [
    "circuit"
   ]
  },
  {
   "cell_type": "code",
   "execution_count": 46,
   "id": "catholic-motivation",
   "metadata": {},
   "outputs": [
    {
     "data": {
      "text/html": [
       "<div>\n",
       "<style scoped>\n",
       "    .dataframe tbody tr th:only-of-type {\n",
       "        vertical-align: middle;\n",
       "    }\n",
       "\n",
       "    .dataframe tbody tr th {\n",
       "        vertical-align: top;\n",
       "    }\n",
       "\n",
       "    .dataframe thead th {\n",
       "        text-align: right;\n",
       "    }\n",
       "</style>\n",
       "<table border=\"1\" class=\"dataframe\">\n",
       "  <thead>\n",
       "    <tr style=\"text-align: right;\">\n",
       "      <th></th>\n",
       "      <th>ind</th>\n",
       "      <th>symbol</th>\n",
       "      <th>param_value</th>\n",
       "      <th>trainable</th>\n",
       "      <th>block_id</th>\n",
       "    </tr>\n",
       "  </thead>\n",
       "  <tbody>\n",
       "    <tr>\n",
       "      <th>0</th>\n",
       "      <td>0</td>\n",
       "      <td>None</td>\n",
       "      <td>None</td>\n",
       "      <td>True</td>\n",
       "      <td>0</td>\n",
       "    </tr>\n",
       "    <tr>\n",
       "      <th>1</th>\n",
       "      <td>10</td>\n",
       "      <td>th_1</td>\n",
       "      <td>None</td>\n",
       "      <td>True</td>\n",
       "      <td>0</td>\n",
       "    </tr>\n",
       "    <tr>\n",
       "      <th>2</th>\n",
       "      <td>1</td>\n",
       "      <td>None</td>\n",
       "      <td>None</td>\n",
       "      <td>True</td>\n",
       "      <td>0</td>\n",
       "    </tr>\n",
       "    <tr>\n",
       "      <th>3</th>\n",
       "      <td>6</td>\n",
       "      <td>th_0</td>\n",
       "      <td>None</td>\n",
       "      <td>True</td>\n",
       "      <td>0</td>\n",
       "    </tr>\n",
       "    <tr>\n",
       "      <th>4</th>\n",
       "      <td>6</td>\n",
       "      <td>th_1</td>\n",
       "      <td>None</td>\n",
       "      <td>True</td>\n",
       "      <td>0</td>\n",
       "    </tr>\n",
       "    <tr>\n",
       "      <th>5</th>\n",
       "      <td>11</td>\n",
       "      <td>th_2</td>\n",
       "      <td>None</td>\n",
       "      <td>True</td>\n",
       "      <td>0</td>\n",
       "    </tr>\n",
       "  </tbody>\n",
       "</table>\n",
       "</div>"
      ],
      "text/plain": [
       "   ind symbol param_value  trainable  block_id\n",
       "0    0   None        None       True         0\n",
       "1   10   th_1        None       True         0\n",
       "2    1   None        None       True         0\n",
       "3    6   th_0        None       True         0\n",
       "4    6   th_1        None       True         0\n",
       "5   11   th_2        None       True         0"
      ]
     },
     "execution_count": 46,
     "metadata": {},
     "output_type": "execute_result"
    }
   ],
   "source": [
    "simplified_db"
   ]
  },
  {
   "cell_type": "code",
   "execution_count": 57,
   "id": "atomic-vintage",
   "metadata": {},
   "outputs": [],
   "source": [
    "gates_on_qubit, on_qubit_order = simplifier.get_positional_dbs(circuit, circuit_db)\n",
    "simplified_db = circuit_db.copy()"
   ]
  },
  {
   "cell_type": "code",
   "execution_count": 58,
   "id": "clear-coalition",
   "metadata": {},
   "outputs": [
    {
     "name": "stdout",
     "output_type": "stream",
     "text": [
      "aca\n"
     ]
    }
   ],
   "source": [
    "simplification = False\n",
    "for q, qubit_gates_path in gates_on_qubit.items():\n",
    "    if simplification is True:\n",
    "        break\n",
    "    for order_gate_on_qubit, ind_gate in enumerate(qubit_gates_path[:-1]):\n",
    "        if simplification is True:\n",
    "            break\n",
    "        ind_gate_p1 = qubit_gates_path[order_gate_on_qubit+1]\n",
    "        ## if i have a rotation and then a CNOT\n",
    "        if (check_rot(ind_gate, simplifier.translator) is True) and (check_cnot(ind_gate_p1, simplifier.translator) is True):\n",
    "            type_0 = type_get(ind_gate, simplifier.translator)\n",
    "            control, target = simplifier.translator.indexed_cnots[str(ind_gate_p1)]\n",
    "\n",
    "            this_qubit = q\n",
    "            other_qubits = [control, target]\n",
    "            other_qubits.remove(q)\n",
    "            other_qubit = other_qubits[0]\n",
    "\n",
    "            ### now it happens two interesting things: type0 == 0 AND q == control\n",
    "            ### or type_0 == 1 AND q == target  then swap orders\n",
    "            if ((type_0 == 0) and (q == control)) or ((type_0 == 1) and (q == target)):\n",
    "                if len(on_qubit_order[q])<2:\n",
    "                    simplification=False\n",
    "                else:\n",
    "                    simplification = True\n",
    "                    index_rot = on_qubit_order[q][order_gate_on_qubit]\n",
    "                    info_rot = simplified_db.loc[index_rot].copy()\n",
    "                break\n"
   ]
  },
  {
   "cell_type": "code",
   "execution_count": 52,
   "id": "handled-mandate",
   "metadata": {},
   "outputs": [
    {
     "data": {
      "text/plain": [
       "True"
      ]
     },
     "execution_count": 52,
     "metadata": {},
     "output_type": "execute_result"
    }
   ],
   "source": [
    "index_rot = on_qubit_order[q][order_gate_on_qubit]\n",
    "info_rot = simplified_db.loc[index_rot].copy()\n",
    "simplified_db = simplified_db.drop(labels=[index_rot],axis=0)#\n",
    "\n",
    "simplified_db.loc[on_qubit_order[q][order_gate_on_qubit+1 ] + 0.1] = info_rot\n",
    "simplified_db = simplified_db.sort_index().reset_index(drop=True)"
   ]
  },
  {
   "cell_type": "code",
   "execution_count": 54,
   "id": "early-pharmaceutical",
   "metadata": {},
   "outputs": [
    {
     "data": {
      "text/html": [
       "<pre style=\"overflow: auto; white-space: pre;\">(0, 0): ───@───Rz(th_0)───@───Rz(th_2)───\n",
       "           │              │\n",
       "(0, 1): ───X───Rx(th_1)───┼──────────────\n",
       "                          │\n",
       "(0, 2): ──────────────────X───Rx(th_3)───</pre>"
      ],
      "text/plain": [
       "(0, 0): ───@───Rz(th_0)───@───Rz(th_2)───\n",
       "           │              │\n",
       "(0, 1): ───X───Rx(th_1)───┼──────────────\n",
       "                          │\n",
       "(0, 2): ──────────────────X───Rx(th_3)───"
      ]
     },
     "execution_count": 54,
     "metadata": {},
     "output_type": "execute_result"
    }
   ],
   "source": [
    "circuit"
   ]
  },
  {
   "cell_type": "code",
   "execution_count": null,
   "id": "geological-metabolism",
   "metadata": {},
   "outputs": [],
   "source": []
  },
  {
   "cell_type": "code",
   "execution_count": null,
   "id": "western-nomination",
   "metadata": {},
   "outputs": [],
   "source": []
  },
  {
   "cell_type": "code",
   "execution_count": null,
   "id": "tested-hundred",
   "metadata": {},
   "outputs": [],
   "source": []
  },
  {
   "cell_type": "code",
   "execution_count": null,
   "id": "aquatic-chicken",
   "metadata": {},
   "outputs": [],
   "source": []
  },
  {
   "cell_type": "code",
   "execution_count": null,
   "id": "freelance-papua",
   "metadata": {},
   "outputs": [],
   "source": []
  },
  {
   "cell_type": "code",
   "execution_count": null,
   "id": "accessory-contest",
   "metadata": {},
   "outputs": [],
   "source": [
    "def rule_6(simplifier, simplified_db, on_qubit_order, gates_on_qubit):\n",
    "    simplification = False\n",
    "    for q, qubit_gates_path in gates_on_qubit.items():\n",
    "        if simplification is True:\n",
    "            break\n",
    "        for order_gate_on_qubit, ind_gate in enumerate(qubit_gates_path[:-1]):\n",
    "            if simplification is True:\n",
    "                break\n",
    "            ind_gate_p1 = qubit_gates_path[order_gate_on_qubit+1]\n",
    "            ## if i have a rotation and then a CNOT\n",
    "            if (check_rot(ind_gate, simplifier.translator) is True) and (check_cnot(ind_gate_p1, simplifier.translator) is True):\n",
    "                type_0 = type_get(ind_gate, simplifier.translator)\n",
    "                control, target = simplifier.translator.indexed_cnots[str(ind_gate_p1)]\n",
    "\n",
    "                this_qubit = q\n",
    "                other_qubits = [control, target]\n",
    "                other_qubits.remove(q)\n",
    "                other_qubit = other_qubits[0]\n",
    "\n",
    "                ### now it happens two interesting things: type0 == 0 AND q == control\n",
    "                ### or type_0 == 1 AND q == target  then swap orders\n",
    "\n",
    "                if ((type_0 == 0) and (q == control)) or ((type_0 == 1) and (q == target)):\n",
    "                    if len(on_qubit_order[q]) <2:\n",
    "                        simplification=False\n",
    "                    else:\n",
    "\n",
    "                        simplification = True\n",
    "\n",
    "                        ###now we swap the order in which we apply the rotation and the CNOT.\n",
    "                        index_rot = on_qubit_order[q][order_gate_on_qubit]\n",
    "                        info_rot = simplified_db.loc[index_rot].copy()\n",
    "                        simplified_db = simplified_db.drop(labels=[index_rot],axis=0)#\n",
    "\n",
    "                        simplified_db.loc[on_qubit_order[q][order_gate_on_qubit+1 ] + 0.1] = info_rot\n",
    "                        simplified_db = simplified_db.sort_index().reset_index(drop=True)\n",
    "\n",
    "                        break\n",
    "    return simplification, simplified_db"
   ]
  },
  {
   "cell_type": "code",
   "execution_count": null,
   "id": "chubby-gilbert",
   "metadata": {},
   "outputs": [],
   "source": []
  },
  {
   "cell_type": "code",
   "execution_count": null,
   "id": "moderate-blake",
   "metadata": {},
   "outputs": [],
   "source": []
  },
  {
   "cell_type": "code",
   "execution_count": null,
   "id": "suited-relations",
   "metadata": {},
   "outputs": [],
   "source": []
  },
  {
   "cell_type": "code",
   "execution_count": null,
   "id": "inclusive-basics",
   "metadata": {},
   "outputs": [],
   "source": []
  },
  {
   "cell_type": "code",
   "execution_count": null,
   "id": "colored-forwarding",
   "metadata": {},
   "outputs": [],
   "source": []
  },
  {
   "cell_type": "code",
   "execution_count": null,
   "id": "solved-brook",
   "metadata": {},
   "outputs": [],
   "source": []
  },
  {
   "cell_type": "code",
   "execution_count": 45,
   "id": "chubby-plate",
   "metadata": {},
   "outputs": [
    {
     "name": "stdout",
     "output_type": "stream",
     "text": [
      "<bound method Simplifier.rule_6 of <utilities.simplifier.Simplifier object at 0x7f5968265400>>\n",
      "warning, repeated symbol while constructing the circuit, see circuut_\n",
      "  symbol_name th_1\n",
      " symbols ['th_1', 'th_0']\n",
      "circuit_db {0: {'ind': 0, 'symbol': None, 'param_value': None, 'trainable': True, 'block_id': 0}, 1: {'ind': 10, 'symbol': 'th_1', 'param_value': None, 'trainable': True, 'block_id': 0}, 2: {'ind': 1, 'symbol': None, 'param_value': None, 'trainable': True, 'block_id': 0}, 3: {'ind': 6, 'symbol': 'th_0', 'param_value': None, 'trainable': True, 'block_id': 0}, 4: {'ind': 6, 'symbol': 'th_1', 'param_value': None, 'trainable': True, 'block_id': 0}} \n",
      "\n",
      "\n",
      "\n"
     ]
    }
   ],
   "source": [
    "simplified_db, ns = simplifier.reduce_circuit(circuit_db)\n",
    "ss, simplified_db = translator.give_circuit(simplified_db)"
   ]
  },
  {
   "cell_type": "code",
   "execution_count": null,
   "id": "printable-third",
   "metadata": {},
   "outputs": [],
   "source": []
  },
  {
   "cell_type": "code",
   "execution_count": null,
   "id": "educational-board",
   "metadata": {},
   "outputs": [],
   "source": []
  },
  {
   "cell_type": "code",
   "execution_count": 5,
   "id": "genuine-fighter",
   "metadata": {},
   "outputs": [],
   "source": [
    "block_0 = concatenate_dbs([z_layer_db(translator, block_id=0), z_layer_db(translator, block_id=0), z_layer_db(translator, block_id=0)])\n",
    "blo=1\n",
    "block_1 = concatenate_dbs([x_layer_db(translator, block_id=blo), x_layer_db(translator, block_id=blo), x_layer_db(translator, block_id=blo)])\n",
    "circuit_db = concatenate_dbs([block_0, block_1])"
   ]
  },
  {
   "cell_type": "code",
   "execution_count": 6,
   "id": "unusual-preservation",
   "metadata": {},
   "outputs": [],
   "source": [
    "circuit, circuit_db = translator.give_circuit(circuit_db)"
   ]
  },
  {
   "cell_type": "code",
   "execution_count": 7,
   "id": "rocky-party",
   "metadata": {},
   "outputs": [
    {
     "name": "stdout",
     "output_type": "stream",
     "text": [
      "<bound method Simplifier.rule_4 of <utilities.simplifier.Simplifier object at 0x7f81bc0215c0>>\n",
      "<bound method Simplifier.rule_4 of <utilities.simplifier.Simplifier object at 0x7f81bc0215c0>>\n",
      "<bound method Simplifier.rule_4 of <utilities.simplifier.Simplifier object at 0x7f81bc0215c0>>\n",
      "<bound method Simplifier.rule_4 of <utilities.simplifier.Simplifier object at 0x7f81bc0215c0>>\n",
      "<bound method Simplifier.rule_4 of <utilities.simplifier.Simplifier object at 0x7f81bc0215c0>>\n",
      "<bound method Simplifier.rule_4 of <utilities.simplifier.Simplifier object at 0x7f81bc0215c0>>\n",
      "<bound method Simplifier.rule_4 of <utilities.simplifier.Simplifier object at 0x7f81bc0215c0>>\n",
      "<bound method Simplifier.rule_4 of <utilities.simplifier.Simplifier object at 0x7f81bc0215c0>>\n",
      "<bound method Simplifier.rule_4 of <utilities.simplifier.Simplifier object at 0x7f81bc0215c0>>\n",
      "<bound method Simplifier.rule_4 of <utilities.simplifier.Simplifier object at 0x7f81bc0215c0>>\n",
      "<bound method Simplifier.rule_4 of <utilities.simplifier.Simplifier object at 0x7f81bc0215c0>>\n",
      "<bound method Simplifier.rule_4 of <utilities.simplifier.Simplifier object at 0x7f81bc0215c0>>\n"
     ]
    }
   ],
   "source": [
    "simplified_db, ns = simplifier.reduce_circuit(circuit_db)\n",
    "ss, simplified_db = translator.give_circuit(simplified_db)"
   ]
  },
  {
   "cell_type": "code",
   "execution_count": 8,
   "id": "major-supervisor",
   "metadata": {},
   "outputs": [
    {
     "data": {
      "text/plain": [
       "6.280369834735101e-16"
      ]
     },
     "execution_count": 8,
     "metadata": {},
     "output_type": "execute_result"
    }
   ],
   "source": [
    "mdif = max_diff(translator , circuit_db, simplified_db)\n",
    "mdif"
   ]
  },
  {
   "cell_type": "code",
   "execution_count": 10,
   "id": "major-rendering",
   "metadata": {},
   "outputs": [
    {
     "data": {
      "text/html": [
       "<pre style=\"overflow: auto; white-space: pre;\">(0, 0): ───Rz(th_0)───Rx(th_3)───\n",
       "\n",
       "(0, 1): ───Rz(th_1)───Rx(th_4)───\n",
       "\n",
       "(0, 2): ───Rz(th_2)───Rx(th_5)───</pre>"
      ],
      "text/plain": [
       "(0, 0): ───Rz(th_0)───Rx(th_3)───\n",
       "\n",
       "(0, 1): ───Rz(th_1)───Rx(th_4)───\n",
       "\n",
       "(0, 2): ───Rz(th_2)───Rx(th_5)───"
      ]
     },
     "execution_count": 10,
     "metadata": {},
     "output_type": "execute_result"
    }
   ],
   "source": [
    "translator.give_circuit(simplified_db)[0]"
   ]
  },
  {
   "cell_type": "code",
   "execution_count": null,
   "id": "north-weekly",
   "metadata": {},
   "outputs": [],
   "source": []
  }
 ],
 "metadata": {
  "kernelspec": {
   "display_name": "Python 3",
   "language": "python",
   "name": "python3"
  },
  "language_info": {
   "codemirror_mode": {
    "name": "ipython",
    "version": 3
   },
   "file_extension": ".py",
   "mimetype": "text/x-python",
   "name": "python",
   "nbconvert_exporter": "python",
   "pygments_lexer": "ipython3",
   "version": "3.6.9"
  }
 },
 "nbformat": 4,
 "nbformat_minor": 5
}
