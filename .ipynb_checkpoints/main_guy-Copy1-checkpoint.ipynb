{
 "cells": [
  {
   "cell_type": "markdown",
   "id": "israeli-cathedral",
   "metadata": {},
   "source": [
    "In this notebook we give a proof of concept of unitary compiling using TFQ. "
   ]
  },
  {
   "cell_type": "code",
   "execution_count": 1,
   "id": "cleared-explorer",
   "metadata": {},
   "outputs": [],
   "source": [
    "%load_ext autoreload\n",
    "%autoreload 2\n",
    "\n",
    "import sympy \n",
    "import numpy as np \n",
    "import pandas as pd \n",
    "import tensorflow as tf\n",
    "from utilities.circuit_database import CirqTranslater\n",
    "from utilities.templates import *\n",
    "from utilities.variational import Minimizer\n",
    "from utilities.misc import get_qubits_involved, reindex_symbol, shift_symbols_down\n",
    "import matplotlib.pyplot as plt \n",
    "import tensorflow_quantum as tfq\n",
    "import cirq\n",
    "from utilities.compiling import *\n",
    "from utilities.simplifier import Simplifier\n",
    "from utilities.discrimination import *\n",
    "from utilities.idinserter import IdInserter\n",
    "from utilities.evaluator import Evaluator\n",
    "from utilities.gate_killer import GateKiller"
   ]
  },
  {
   "cell_type": "code",
   "execution_count": 84,
   "id": "coastal-dividend",
   "metadata": {},
   "outputs": [],
   "source": [
    "np.random.seed(0)\n",
    "\n",
    "translator = CirqTranslater(3, untouchable_blocks = [1])\n",
    "\n",
    "translator.env_qubits = [2]\n",
    "translator.encoder_id = 0\n",
    "translator.channel_id = 1\n",
    "translator.decoder_id = 2\n",
    "\n",
    "\n",
    "simplifier = Simplifier(translator)\n",
    "\n",
    "\n",
    "etas = [0.01, 1.]\n",
    "minimizer = Minimizer(translator, mode=\"discrimination\", params=etas)\n",
    "\n",
    "killer = GateKiller(translator, mode=\"discrimination\", params = etas)\n",
    "\n",
    "\n",
    "inserter = IdInserter(translator.n_qubits, untouchable_blocks=translator.channel_id)\n",
    "\n",
    "\n",
    "args_evaluator = {\"n_qubits\":translator.n_qubits, \"problem\":\"acd\",\"params\":etas}\n",
    "evaluator = Evaluator(args=args_evaluator, lower_bound_cost=minimizer.lower_bound_cost, nrun=0)\n"
   ]
  },
  {
   "cell_type": "code",
   "execution_count": 85,
   "id": "uniform-jacket",
   "metadata": {},
   "outputs": [
    {
     "data": {
      "text/html": [
       "<pre style=\"overflow: auto; white-space: pre;\">(0, 0): ───Rz(th_0)───Rx(th_1)───Rz(th_2)───Rz(th_11)───Rx(th_12)───Rz(th_13)─────────────────────────────────────────────────────────────────\n",
       "\n",
       "(0, 1): ───Rz(th_3)───Rx(th_4)───Rz(th_5)───H───────────X────────────────────────X───H────────────────X───Rz(th_14)───Rx(th_15)───Rz(th_16)───\n",
       "                                                        │                        │                    │\n",
       "(0, 2): ───Rz(th_6)───Rx(th_7)───Rz(th_8)───H───────────@───────────Ry(0.318π)───@───H───Ry(0.318π)───@───Rz(th_17)───Rx(th_18)───Rz(th_19)───</pre>"
      ],
      "text/plain": [
       "(0, 0): ───Rz(th_0)───Rx(th_1)───Rz(th_2)───Rz(th_11)───Rx(th_12)───Rz(th_13)─────────────────────────────────────────────────────────────────\n",
       "\n",
       "(0, 1): ───Rz(th_3)───Rx(th_4)───Rz(th_5)───H───────────X────────────────────────X───H────────────────X───Rz(th_14)───Rx(th_15)───Rz(th_16)───\n",
       "                                                        │                        │                    │\n",
       "(0, 2): ───Rz(th_6)───Rx(th_7)───Rz(th_8)───H───────────@───────────Ry(0.318π)───@───H───Ry(0.318π)───@───Rz(th_17)───Rx(th_18)───Rz(th_19)───"
      ]
     },
     "execution_count": 85,
     "metadata": {},
     "output_type": "execute_result"
    }
   ],
   "source": [
    "u1_layer_encoder = u1_layer(translator, inds= [0,1], block_id=translator.encoder_id)\n",
    "channel_db = amplitude_damping_db(translator, qubits_ind=[1,2], eta=1, block_id = translator.channel_id)\n",
    "u1_layer_decoder = u1_layer(translator, inds = [0,1], block_id=translator.decoder_id)\n",
    "\n",
    "u2_layer_encoder = u2_db(translator, 0,1, block_id=translator.encoder_id)\n",
    "channel_db = amplitude_damping_db(translator, qubits_ind=[1,2], eta=1, block_id = translator.channel_id)\n",
    "u2_layer_decoder = u2_db(translator, 0,1, block_id=translator.decoder_id)\n",
    "\n",
    "\n",
    "circuit_db = concatenate_dbs([u1_layer_encoder, channel_db, u1_layer_decoder])\n",
    "#circuit_db = concatenate_dbs([u2_layer_encoder, channel_db, u2_layer_decoder])\n",
    "\n",
    "circuit, circuit_db = translator.give_circuit(circuit_db)\n",
    "circuit"
   ]
  },
  {
   "cell_type": "code",
   "execution_count": 61,
   "id": "delayed-limitation",
   "metadata": {},
   "outputs": [],
   "source": [
    "batch_circuits, trainable_symbols, trainable_params_value = prepare_optimization_discrimination(translator, circuit_db, etas)\n",
    "cost, resolver, training_history = minimizer.minimize(batch_circuits, symbols = trainable_symbols, parameter_values = trainable_params_value )\n",
    "circuit_db = translator.update_circuit_db_param_values(circuit_db, resolver)"
   ]
  },
  {
   "cell_type": "code",
   "execution_count": 62,
   "id": "closed-criticism",
   "metadata": {},
   "outputs": [
    {
     "data": {
      "text/plain": [
       "0      th_0\n",
       "1      th_1\n",
       "2      th_2\n",
       "3      th_3\n",
       "4      th_4\n",
       "5      th_5\n",
       "6      th_6\n",
       "7      th_7\n",
       "8      th_8\n",
       "9      None\n",
       "10     None\n",
       "11     None\n",
       "12     th_9\n",
       "13     None\n",
       "14     None\n",
       "15     None\n",
       "16    th_10\n",
       "17     None\n",
       "18    th_11\n",
       "19    th_12\n",
       "20    th_13\n",
       "21    th_14\n",
       "22    th_15\n",
       "23    th_16\n",
       "24    th_17\n",
       "25    th_18\n",
       "26    th_19\n",
       "Name: symbol, dtype: object"
      ]
     },
     "execution_count": 62,
     "metadata": {},
     "output_type": "execute_result"
    }
   ],
   "source": [
    "circuit_db[\"symbol\"]"
   ]
  },
  {
   "cell_type": "code",
   "execution_count": 63,
   "id": "changing-hindu",
   "metadata": {},
   "outputs": [],
   "source": [
    "original_db = circuit_db.copy()"
   ]
  },
  {
   "cell_type": "code",
   "execution_count": 64,
   "id": "developing-patrick",
   "metadata": {},
   "outputs": [],
   "source": [
    "block_db = circuit_db[circuit_db[\"block_id\"] == 2]\n",
    "block_db_trainable = block_db[block_db[\"trainable\"] == True]\n",
    "block_db_trainable = block_db_trainable[~block_db_trainable[\"symbol\"].isna()]\n",
    "block_db_trainable = block_db_trainable[~block_db_trainable[\"symbol\"].isna()]\n",
    "all_candidates = list(block_db_trainable.index)"
   ]
  },
  {
   "cell_type": "code",
   "execution_count": 67,
   "id": "egyptian-activity",
   "metadata": {},
   "outputs": [],
   "source": [
    "gates_on_qubit, on_qubit_order = killer.get_positional_dbs(block_db_trainable)"
   ]
  },
  {
   "cell_type": "code",
   "execution_count": 69,
   "id": "secure-locator",
   "metadata": {},
   "outputs": [],
   "source": [
    "from utilities.misc import qubit_get"
   ]
  },
  {
   "cell_type": "code",
   "execution_count": 70,
   "id": "velvet-separate",
   "metadata": {},
   "outputs": [
    {
     "data": {
      "text/plain": [
       "21"
      ]
     },
     "execution_count": 70,
     "metadata": {},
     "output_type": "execute_result"
    }
   ],
   "source": [
    "all_candidates[0]"
   ]
  },
  {
   "cell_type": "code",
   "execution_count": 78,
   "id": "included-speed",
   "metadata": {},
   "outputs": [
    {
     "data": {
      "text/plain": [
       "2"
      ]
     },
     "execution_count": 78,
     "metadata": {},
     "output_type": "execute_result"
    }
   ],
   "source": [
    "qubit_get(block_db_trainable.loc[all_candidates[3]][\"ind\"], translator)"
   ]
  },
  {
   "cell_type": "code",
   "execution_count": null,
   "id": "common-prize",
   "metadata": {},
   "outputs": [],
   "source": []
  },
  {
   "cell_type": "code",
   "execution_count": 39,
   "id": "simple-montreal",
   "metadata": {},
   "outputs": [],
   "source": [
    "tok = original_db.copy()"
   ]
  },
  {
   "cell_type": "code",
   "execution_count": 44,
   "id": "oriental-talent",
   "metadata": {},
   "outputs": [],
   "source": [
    "tok = tok.drop(labels=[11])"
   ]
  },
  {
   "cell_type": "code",
   "execution_count": 47,
   "id": "intelligent-yahoo",
   "metadata": {},
   "outputs": [
    {
     "data": {
      "text/plain": [
       "ind                  5\n",
       "symbol            None\n",
       "param_value        NaN\n",
       "trainable        False\n",
       "block_id             1\n",
       "channel_param      NaN\n",
       "Name: 11, dtype: object"
      ]
     },
     "execution_count": 47,
     "metadata": {},
     "output_type": "execute_result"
    }
   ],
   "source": [
    "original_db.loc[11]"
   ]
  },
  {
   "cell_type": "code",
   "execution_count": 79,
   "id": "unnecessary-landing",
   "metadata": {},
   "outputs": [],
   "source": [
    "circuit_db = original_db.copy()"
   ]
  },
  {
   "cell_type": "code",
   "execution_count": 82,
   "id": "starting-posting",
   "metadata": {},
   "outputs": [
    {
     "name": "stdout",
     "output_type": "stream",
     "text": [
      "kill 1qbit gate, try 0/12. Increased by: 7.270030550898809e-07%\n",
      "kill 1qbit gate, try 1/12. Increased by: 7.270030550898809e-07%\n",
      "kill 1qbit gate, try 2/12. Increased by: 0.0%\n",
      "kill 1qbit gate, try 3/12. Increased by: 0.0%\n"
     ]
    }
   ],
   "source": [
    "evaluator.add_step(circuit_db, cost, relevant=True)\n",
    "evaluator.save_dicts_and_displaying()\n",
    "\n",
    "circuit_db, cost = killer.remove_irrelevant_gates(cost, circuit_db)\n",
    "evaluator.add_step(circuit_db, cost, relevant=False)\n",
    "evaluator.save_dicts_and_displaying()\n"
   ]
  },
  {
   "cell_type": "code",
   "execution_count": 6,
   "id": "liable-fountain",
   "metadata": {},
   "outputs": [],
   "source": [
    "mutated_circuit_db = inserter.insert_many_mutations(circuit_db )\n",
    "simplified_db, nreds = simplifier.reduce_circuit(mutated_circuit_db)\n",
    "\n",
    "batch_circuits, trainable_symbols, trainable_params_value = prepare_optimization_discrimination(translator, simplified_db, etas)"
   ]
  },
  {
   "cell_type": "code",
   "execution_count": 10,
   "id": "incorporate-alliance",
   "metadata": {},
   "outputs": [
    {
     "data": {
      "text/plain": [
       "0      th_0\n",
       "1      th_1\n",
       "2      th_2\n",
       "3      th_3\n",
       "4      th_4\n",
       "5      th_5\n",
       "6      None\n",
       "7      None\n",
       "8      th_5\n",
       "9      None\n",
       "10     None\n",
       "11     None\n",
       "12     th_6\n",
       "13     None\n",
       "14     th_7\n",
       "15     th_8\n",
       "16     th_9\n",
       "17    th_10\n",
       "18    th_11\n",
       "19    th_12\n",
       "20    th_13\n",
       "21    th_14\n",
       "22    th_19\n",
       "Name: symbol, dtype: object"
      ]
     },
     "execution_count": 10,
     "metadata": {},
     "output_type": "execute_result"
    }
   ],
   "source": [
    "circuit_db[\"symbol\"]"
   ]
  },
  {
   "cell_type": "code",
   "execution_count": 9,
   "id": "comprehensive-characteristic",
   "metadata": {},
   "outputs": [
    {
     "data": {
      "text/plain": [
       "0      th_0\n",
       "1      th_1\n",
       "2      th_2\n",
       "3      th_3\n",
       "4      th_4\n",
       "5      th_5\n",
       "6      th_6\n",
       "7      th_7\n",
       "8      th_8\n",
       "9      th_9\n",
       "10    th_10\n",
       "11    th_11\n",
       "12     None\n",
       "13     None\n",
       "14    th_11\n",
       "15     None\n",
       "16     None\n",
       "17     None\n",
       "18    th_12\n",
       "19     None\n",
       "20    th_13\n",
       "21    th_14\n",
       "22    th_15\n",
       "23    th_16\n",
       "24    th_17\n",
       "25    th_18\n",
       "26    th_19\n",
       "27    th_20\n",
       "28    th_21\n",
       "29    th_22\n",
       "30    th_23\n",
       "31    th_28\n",
       "Name: symbol, dtype: object"
      ]
     },
     "execution_count": 9,
     "metadata": {},
     "output_type": "execute_result"
    }
   ],
   "source": [
    "mutated_circuit_db[\"symbol\"]"
   ]
  },
  {
   "cell_type": "code",
   "execution_count": null,
   "id": "original-remedy",
   "metadata": {},
   "outputs": [],
   "source": [
    "\n",
    "    cost, resolver, training_history = minimizer.minimize(batch_circuits, symbols = trainable_symbols, parameter_values = trainable_params_value )\n",
    "    mutation_db = translator.update_circuit_db_param_values(mutation_db, resolver)"
   ]
  },
  {
   "cell_type": "code",
   "execution_count": 14,
   "id": "retained-animation",
   "metadata": {},
   "outputs": [
    {
     "name": "stdout",
     "output_type": "stream",
     "text": [
      "vans iter 0\n"
     ]
    },
    {
     "ename": "ValueError",
     "evalue": "All elements of symbol_names must be unique.",
     "output_type": "error",
     "traceback": [
      "\u001b[0;31m---------------------------------------------------------------------------\u001b[0m",
      "\u001b[0;31mValueError\u001b[0m                                Traceback (most recent call last)",
      "\u001b[0;32m<ipython-input-14-f9d8ab130309>\u001b[0m in \u001b[0;36m<module>\u001b[0;34m\u001b[0m\n\u001b[1;32m      7\u001b[0m     \u001b[0mbatch_circuits\u001b[0m\u001b[0;34m,\u001b[0m \u001b[0mtrainable_symbols\u001b[0m\u001b[0;34m,\u001b[0m \u001b[0mtrainable_params_value\u001b[0m \u001b[0;34m=\u001b[0m \u001b[0mprepare_optimization_discrimination\u001b[0m\u001b[0;34m(\u001b[0m\u001b[0mtranslator\u001b[0m\u001b[0;34m,\u001b[0m \u001b[0msimplified_db\u001b[0m\u001b[0;34m,\u001b[0m \u001b[0metas\u001b[0m\u001b[0;34m)\u001b[0m\u001b[0;34m\u001b[0m\u001b[0;34m\u001b[0m\u001b[0m\n\u001b[1;32m      8\u001b[0m \u001b[0;34m\u001b[0m\u001b[0m\n\u001b[0;32m----> 9\u001b[0;31m     \u001b[0mcost\u001b[0m\u001b[0;34m,\u001b[0m \u001b[0mresolver\u001b[0m\u001b[0;34m,\u001b[0m \u001b[0mtraining_history\u001b[0m \u001b[0;34m=\u001b[0m \u001b[0mminimizer\u001b[0m\u001b[0;34m.\u001b[0m\u001b[0mminimize\u001b[0m\u001b[0;34m(\u001b[0m\u001b[0mbatch_circuits\u001b[0m\u001b[0;34m,\u001b[0m \u001b[0msymbols\u001b[0m \u001b[0;34m=\u001b[0m \u001b[0mtrainable_symbols\u001b[0m\u001b[0;34m,\u001b[0m \u001b[0mparameter_values\u001b[0m \u001b[0;34m=\u001b[0m \u001b[0mtrainable_params_value\u001b[0m \u001b[0;34m)\u001b[0m\u001b[0;34m\u001b[0m\u001b[0;34m\u001b[0m\u001b[0m\n\u001b[0m\u001b[1;32m     10\u001b[0m     \u001b[0mmutation_db\u001b[0m \u001b[0;34m=\u001b[0m \u001b[0mtranslator\u001b[0m\u001b[0;34m.\u001b[0m\u001b[0mupdate_circuit_db_param_values\u001b[0m\u001b[0;34m(\u001b[0m\u001b[0mmutation_db\u001b[0m\u001b[0;34m,\u001b[0m \u001b[0mresolver\u001b[0m\u001b[0;34m)\u001b[0m\u001b[0;34m\u001b[0m\u001b[0;34m\u001b[0m\u001b[0m\n\u001b[1;32m     11\u001b[0m \u001b[0;34m\u001b[0m\u001b[0m\n",
      "\u001b[0;32m~/Desktop/qvans/utilities/variational.py\u001b[0m in \u001b[0;36mminimize\u001b[0;34m(self, batched_circuits, symbols, parameter_values, parameter_perturbation_wall)\u001b[0m\n\u001b[1;32m     83\u001b[0m \u001b[0;34m\u001b[0m\u001b[0m\n\u001b[1;32m     84\u001b[0m         \u001b[0mtfqcircuit\u001b[0m \u001b[0;34m=\u001b[0m \u001b[0mtfq\u001b[0m\u001b[0;34m.\u001b[0m\u001b[0mconvert_to_tensor\u001b[0m\u001b[0;34m(\u001b[0m\u001b[0mbatched_circuits\u001b[0m\u001b[0;34m)\u001b[0m\u001b[0;34m\u001b[0m\u001b[0;34m\u001b[0m\u001b[0m\n\u001b[0;32m---> 85\u001b[0;31m         \u001b[0mself\u001b[0m\u001b[0;34m.\u001b[0m\u001b[0mmodel\u001b[0m\u001b[0;34m(\u001b[0m\u001b[0mtfqcircuit\u001b[0m\u001b[0;34m)\u001b[0m \u001b[0;31m#this defines the weigths\u001b[0m\u001b[0;34m\u001b[0m\u001b[0;34m\u001b[0m\u001b[0m\n\u001b[0m\u001b[1;32m     86\u001b[0m         \u001b[0mself\u001b[0m\u001b[0;34m.\u001b[0m\u001b[0mmodel\u001b[0m\u001b[0;34m.\u001b[0m\u001b[0mcompile\u001b[0m\u001b[0;34m(\u001b[0m\u001b[0moptimizer\u001b[0m\u001b[0;34m=\u001b[0m\u001b[0mself\u001b[0m\u001b[0;34m.\u001b[0m\u001b[0moptimizer\u001b[0m\u001b[0;34m,\u001b[0m \u001b[0mloss\u001b[0m\u001b[0;34m=\u001b[0m\u001b[0mself\u001b[0m\u001b[0;34m.\u001b[0m\u001b[0mloss\u001b[0m\u001b[0;34m)\u001b[0m\u001b[0;34m\u001b[0m\u001b[0;34m\u001b[0m\u001b[0m\n\u001b[1;32m     87\u001b[0m \u001b[0;34m\u001b[0m\u001b[0m\n",
      "\u001b[0;32m~/.local/lib/python3.6/site-packages/tensorflow/python/keras/engine/base_layer.py\u001b[0m in \u001b[0;36m__call__\u001b[0;34m(self, *args, **kwargs)\u001b[0m\n\u001b[1;32m    983\u001b[0m \u001b[0;34m\u001b[0m\u001b[0m\n\u001b[1;32m    984\u001b[0m         \u001b[0;32mwith\u001b[0m \u001b[0mops\u001b[0m\u001b[0;34m.\u001b[0m\u001b[0menable_auto_cast_variables\u001b[0m\u001b[0;34m(\u001b[0m\u001b[0mself\u001b[0m\u001b[0;34m.\u001b[0m\u001b[0m_compute_dtype_object\u001b[0m\u001b[0;34m)\u001b[0m\u001b[0;34m:\u001b[0m\u001b[0;34m\u001b[0m\u001b[0;34m\u001b[0m\u001b[0m\n\u001b[0;32m--> 985\u001b[0;31m           \u001b[0moutputs\u001b[0m \u001b[0;34m=\u001b[0m \u001b[0mcall_fn\u001b[0m\u001b[0;34m(\u001b[0m\u001b[0minputs\u001b[0m\u001b[0;34m,\u001b[0m \u001b[0;34m*\u001b[0m\u001b[0margs\u001b[0m\u001b[0;34m,\u001b[0m \u001b[0;34m**\u001b[0m\u001b[0mkwargs\u001b[0m\u001b[0;34m)\u001b[0m\u001b[0;34m\u001b[0m\u001b[0;34m\u001b[0m\u001b[0m\n\u001b[0m\u001b[1;32m    986\u001b[0m \u001b[0;34m\u001b[0m\u001b[0m\n\u001b[1;32m    987\u001b[0m         \u001b[0;32mif\u001b[0m \u001b[0mself\u001b[0m\u001b[0;34m.\u001b[0m\u001b[0m_activity_regularizer\u001b[0m\u001b[0;34m:\u001b[0m\u001b[0;34m\u001b[0m\u001b[0;34m\u001b[0m\u001b[0m\n",
      "\u001b[0;32m~/Desktop/qvans/utilities/discrimination.py\u001b[0m in \u001b[0;36mcall\u001b[0;34m(self, inputs)\u001b[0m\n\u001b[1;32m     61\u001b[0m         \"\"\"\n\u001b[1;32m     62\u001b[0m         \u001b[0mfeat\u001b[0m \u001b[0;34m=\u001b[0m \u001b[0minputs\u001b[0m\u001b[0;34m\u001b[0m\u001b[0;34m\u001b[0m\u001b[0m\n\u001b[0;32m---> 63\u001b[0;31m         \u001b[0mf\u001b[0m \u001b[0;34m=\u001b[0m \u001b[0mself\u001b[0m\u001b[0;34m.\u001b[0m\u001b[0mexpectation_layer\u001b[0m\u001b[0;34m(\u001b[0m\u001b[0mfeat\u001b[0m\u001b[0;34m,\u001b[0m \u001b[0moperators\u001b[0m\u001b[0;34m=\u001b[0m\u001b[0mself\u001b[0m\u001b[0;34m.\u001b[0m\u001b[0mobservable\u001b[0m\u001b[0;34m,\u001b[0m \u001b[0msymbol_names\u001b[0m\u001b[0;34m=\u001b[0m\u001b[0mself\u001b[0m\u001b[0;34m.\u001b[0m\u001b[0msymbols\u001b[0m\u001b[0;34m)\u001b[0m\u001b[0;34m\u001b[0m\u001b[0;34m\u001b[0m\u001b[0m\n\u001b[0m\u001b[1;32m     64\u001b[0m         \u001b[0;31m#f = tf.math.reduce_sum(f,axis=-1)\u001b[0m\u001b[0;34m\u001b[0m\u001b[0;34m\u001b[0m\u001b[0;34m\u001b[0m\u001b[0m\n\u001b[1;32m     65\u001b[0m         \u001b[0;32mreturn\u001b[0m \u001b[0mf\u001b[0m\u001b[0;34m\u001b[0m\u001b[0;34m\u001b[0m\u001b[0m\n",
      "\u001b[0;32m~/.local/lib/python3.6/site-packages/tensorflow/python/keras/engine/base_layer.py\u001b[0m in \u001b[0;36m__call__\u001b[0;34m(self, *args, **kwargs)\u001b[0m\n\u001b[1;32m    983\u001b[0m \u001b[0;34m\u001b[0m\u001b[0m\n\u001b[1;32m    984\u001b[0m         \u001b[0;32mwith\u001b[0m \u001b[0mops\u001b[0m\u001b[0;34m.\u001b[0m\u001b[0menable_auto_cast_variables\u001b[0m\u001b[0;34m(\u001b[0m\u001b[0mself\u001b[0m\u001b[0;34m.\u001b[0m\u001b[0m_compute_dtype_object\u001b[0m\u001b[0;34m)\u001b[0m\u001b[0;34m:\u001b[0m\u001b[0;34m\u001b[0m\u001b[0;34m\u001b[0m\u001b[0m\n\u001b[0;32m--> 985\u001b[0;31m           \u001b[0moutputs\u001b[0m \u001b[0;34m=\u001b[0m \u001b[0mcall_fn\u001b[0m\u001b[0;34m(\u001b[0m\u001b[0minputs\u001b[0m\u001b[0;34m,\u001b[0m \u001b[0;34m*\u001b[0m\u001b[0margs\u001b[0m\u001b[0;34m,\u001b[0m \u001b[0;34m**\u001b[0m\u001b[0mkwargs\u001b[0m\u001b[0;34m)\u001b[0m\u001b[0;34m\u001b[0m\u001b[0;34m\u001b[0m\u001b[0m\n\u001b[0m\u001b[1;32m    986\u001b[0m \u001b[0;34m\u001b[0m\u001b[0m\n\u001b[1;32m    987\u001b[0m         \u001b[0;32mif\u001b[0m \u001b[0mself\u001b[0m\u001b[0;34m.\u001b[0m\u001b[0m_activity_regularizer\u001b[0m\u001b[0;34m:\u001b[0m\u001b[0;34m\u001b[0m\u001b[0;34m\u001b[0m\u001b[0m\n",
      "\u001b[0;32m~/.local/lib/python3.6/site-packages/tensorflow_quantum/python/layers/circuit_executors/expectation.py\u001b[0m in \u001b[0;36mcall\u001b[0;34m(self, inputs, symbol_names, symbol_values, operators, initializer)\u001b[0m\n\u001b[1;32m    272\u001b[0m \u001b[0;34m\u001b[0m\u001b[0m\n\u001b[1;32m    273\u001b[0m         inputs, symbol_names, symbol_values = input_checks.expand_circuits(\n\u001b[0;32m--> 274\u001b[0;31m             inputs, symbol_names, symbol_values)\n\u001b[0m\u001b[1;32m    275\u001b[0m \u001b[0;34m\u001b[0m\u001b[0m\n\u001b[1;32m    276\u001b[0m         \u001b[0mcircuit_batch_dim\u001b[0m \u001b[0;34m=\u001b[0m \u001b[0mtf\u001b[0m\u001b[0;34m.\u001b[0m\u001b[0mgather\u001b[0m\u001b[0;34m(\u001b[0m\u001b[0mtf\u001b[0m\u001b[0;34m.\u001b[0m\u001b[0mshape\u001b[0m\u001b[0;34m(\u001b[0m\u001b[0minputs\u001b[0m\u001b[0;34m)\u001b[0m\u001b[0;34m,\u001b[0m \u001b[0;36m0\u001b[0m\u001b[0;34m)\u001b[0m\u001b[0;34m\u001b[0m\u001b[0;34m\u001b[0m\u001b[0m\n",
      "\u001b[0;32m~/.local/lib/python3.6/site-packages/tensorflow_quantum/python/layers/circuit_executors/input_checks.py\u001b[0m in \u001b[0;36mexpand_circuits\u001b[0;34m(inputs, symbol_names, symbol_values)\u001b[0m\n\u001b[1;32m     61\u001b[0m         \u001b[0msymbol_names\u001b[0m \u001b[0;34m=\u001b[0m \u001b[0;34m[\u001b[0m\u001b[0mstr\u001b[0m\u001b[0;34m(\u001b[0m\u001b[0ms\u001b[0m\u001b[0;34m)\u001b[0m \u001b[0;32mfor\u001b[0m \u001b[0ms\u001b[0m \u001b[0;32min\u001b[0m \u001b[0msymbol_names\u001b[0m\u001b[0;34m]\u001b[0m\u001b[0;34m\u001b[0m\u001b[0;34m\u001b[0m\u001b[0m\n\u001b[1;32m     62\u001b[0m         \u001b[0;32mif\u001b[0m \u001b[0;32mnot\u001b[0m \u001b[0mlen\u001b[0m\u001b[0;34m(\u001b[0m\u001b[0msymbol_names\u001b[0m\u001b[0;34m)\u001b[0m \u001b[0;34m==\u001b[0m \u001b[0mlen\u001b[0m\u001b[0;34m(\u001b[0m\u001b[0mlist\u001b[0m\u001b[0;34m(\u001b[0m\u001b[0mset\u001b[0m\u001b[0;34m(\u001b[0m\u001b[0msymbol_names\u001b[0m\u001b[0;34m)\u001b[0m\u001b[0;34m)\u001b[0m\u001b[0;34m)\u001b[0m\u001b[0;34m:\u001b[0m\u001b[0;34m\u001b[0m\u001b[0;34m\u001b[0m\u001b[0m\n\u001b[0;32m---> 63\u001b[0;31m             \u001b[0;32mraise\u001b[0m \u001b[0mValueError\u001b[0m\u001b[0;34m(\u001b[0m\u001b[0;34m\"All elements of symbol_names must be unique.\"\u001b[0m\u001b[0;34m)\u001b[0m\u001b[0;34m\u001b[0m\u001b[0;34m\u001b[0m\u001b[0m\n\u001b[0m\u001b[1;32m     64\u001b[0m         symbol_names = tf.convert_to_tensor(symbol_names,\n\u001b[1;32m     65\u001b[0m                                             dtype=tf.dtypes.string)\n",
      "\u001b[0;31mValueError\u001b[0m: All elements of symbol_names must be unique."
     ]
    }
   ],
   "source": [
    "\n",
    "    \n",
    "\n",
    "    if evaluator.accept_cost(cost):\n",
    "        circuit_db = mutation_db\n",
    "        circuit_db, cost = killer.remove_irrelevant_gates(cost, circuit_db)\n",
    "        evaluator.add_step(circuit_db, cost, relevant=False)\n",
    "        evaluator.save_dicts_and_displaying()"
   ]
  },
  {
   "cell_type": "code",
   "execution_count": 15,
   "id": "informal-paris",
   "metadata": {},
   "outputs": [
    {
     "data": {
      "text/html": [
       "<div>\n",
       "<style scoped>\n",
       "    .dataframe tbody tr th:only-of-type {\n",
       "        vertical-align: middle;\n",
       "    }\n",
       "\n",
       "    .dataframe tbody tr th {\n",
       "        vertical-align: top;\n",
       "    }\n",
       "\n",
       "    .dataframe thead th {\n",
       "        text-align: right;\n",
       "    }\n",
       "</style>\n",
       "<table border=\"1\" class=\"dataframe\">\n",
       "  <thead>\n",
       "    <tr style=\"text-align: right;\">\n",
       "      <th></th>\n",
       "      <th>ind</th>\n",
       "      <th>symbol</th>\n",
       "      <th>param_value</th>\n",
       "      <th>trainable</th>\n",
       "      <th>block_id</th>\n",
       "      <th>channel_param</th>\n",
       "    </tr>\n",
       "  </thead>\n",
       "  <tbody>\n",
       "    <tr>\n",
       "      <th>0</th>\n",
       "      <td>6</td>\n",
       "      <td>th_0</td>\n",
       "      <td>-9.576239</td>\n",
       "      <td>True</td>\n",
       "      <td>0</td>\n",
       "      <td>NaN</td>\n",
       "    </tr>\n",
       "    <tr>\n",
       "      <th>1</th>\n",
       "      <td>9</td>\n",
       "      <td>th_1</td>\n",
       "      <td>3.407127</td>\n",
       "      <td>True</td>\n",
       "      <td>0</td>\n",
       "      <td>NaN</td>\n",
       "    </tr>\n",
       "    <tr>\n",
       "      <th>2</th>\n",
       "      <td>6</td>\n",
       "      <td>th_2</td>\n",
       "      <td>2.210824</td>\n",
       "      <td>True</td>\n",
       "      <td>0</td>\n",
       "      <td>NaN</td>\n",
       "    </tr>\n",
       "    <tr>\n",
       "      <th>3</th>\n",
       "      <td>7</td>\n",
       "      <td>th_3</td>\n",
       "      <td>0.169105</td>\n",
       "      <td>True</td>\n",
       "      <td>0</td>\n",
       "      <td>NaN</td>\n",
       "    </tr>\n",
       "    <tr>\n",
       "      <th>4</th>\n",
       "      <td>10</td>\n",
       "      <td>th_4</td>\n",
       "      <td>-15.707957</td>\n",
       "      <td>True</td>\n",
       "      <td>0</td>\n",
       "      <td>NaN</td>\n",
       "    </tr>\n",
       "    <tr>\n",
       "      <th>5</th>\n",
       "      <td>7</td>\n",
       "      <td>th_5</td>\n",
       "      <td>2.666668</td>\n",
       "      <td>True</td>\n",
       "      <td>0</td>\n",
       "      <td>NaN</td>\n",
       "    </tr>\n",
       "    <tr>\n",
       "      <th>6</th>\n",
       "      <td>11</td>\n",
       "      <td>th_6</td>\n",
       "      <td>-5.722386</td>\n",
       "      <td>True</td>\n",
       "      <td>0</td>\n",
       "      <td>NaN</td>\n",
       "    </tr>\n",
       "    <tr>\n",
       "      <th>7</th>\n",
       "      <td>8</td>\n",
       "      <td>th_7</td>\n",
       "      <td>7.853981</td>\n",
       "      <td>True</td>\n",
       "      <td>0</td>\n",
       "      <td>NaN</td>\n",
       "    </tr>\n",
       "    <tr>\n",
       "      <th>8</th>\n",
       "      <td>16</td>\n",
       "      <td>None</td>\n",
       "      <td>NaN</td>\n",
       "      <td>False</td>\n",
       "      <td>1</td>\n",
       "      <td>NaN</td>\n",
       "    </tr>\n",
       "    <tr>\n",
       "      <th>9</th>\n",
       "      <td>17</td>\n",
       "      <td>None</td>\n",
       "      <td>NaN</td>\n",
       "      <td>False</td>\n",
       "      <td>1</td>\n",
       "      <td>NaN</td>\n",
       "    </tr>\n",
       "    <tr>\n",
       "      <th>10</th>\n",
       "      <td>14</td>\n",
       "      <td>th_7</td>\n",
       "      <td>1.000000</td>\n",
       "      <td>False</td>\n",
       "      <td>1</td>\n",
       "      <td>True</td>\n",
       "    </tr>\n",
       "    <tr>\n",
       "      <th>11</th>\n",
       "      <td>5</td>\n",
       "      <td>None</td>\n",
       "      <td>NaN</td>\n",
       "      <td>False</td>\n",
       "      <td>1</td>\n",
       "      <td>NaN</td>\n",
       "    </tr>\n",
       "    <tr>\n",
       "      <th>12</th>\n",
       "      <td>16</td>\n",
       "      <td>None</td>\n",
       "      <td>NaN</td>\n",
       "      <td>False</td>\n",
       "      <td>1</td>\n",
       "      <td>NaN</td>\n",
       "    </tr>\n",
       "    <tr>\n",
       "      <th>13</th>\n",
       "      <td>17</td>\n",
       "      <td>None</td>\n",
       "      <td>NaN</td>\n",
       "      <td>False</td>\n",
       "      <td>1</td>\n",
       "      <td>NaN</td>\n",
       "    </tr>\n",
       "    <tr>\n",
       "      <th>14</th>\n",
       "      <td>14</td>\n",
       "      <td>th_8</td>\n",
       "      <td>1.000000</td>\n",
       "      <td>False</td>\n",
       "      <td>1</td>\n",
       "      <td>True</td>\n",
       "    </tr>\n",
       "    <tr>\n",
       "      <th>15</th>\n",
       "      <td>5</td>\n",
       "      <td>None</td>\n",
       "      <td>NaN</td>\n",
       "      <td>False</td>\n",
       "      <td>1</td>\n",
       "      <td>NaN</td>\n",
       "    </tr>\n",
       "    <tr>\n",
       "      <th>16</th>\n",
       "      <td>6</td>\n",
       "      <td>th_9</td>\n",
       "      <td>-5.352217</td>\n",
       "      <td>True</td>\n",
       "      <td>0</td>\n",
       "      <td>NaN</td>\n",
       "    </tr>\n",
       "    <tr>\n",
       "      <th>17</th>\n",
       "      <td>9</td>\n",
       "      <td>th_10</td>\n",
       "      <td>3.407125</td>\n",
       "      <td>True</td>\n",
       "      <td>0</td>\n",
       "      <td>NaN</td>\n",
       "    </tr>\n",
       "    <tr>\n",
       "      <th>18</th>\n",
       "      <td>6</td>\n",
       "      <td>th_11</td>\n",
       "      <td>0.758125</td>\n",
       "      <td>True</td>\n",
       "      <td>0</td>\n",
       "      <td>NaN</td>\n",
       "    </tr>\n",
       "    <tr>\n",
       "      <th>19</th>\n",
       "      <td>7</td>\n",
       "      <td>th_12</td>\n",
       "      <td>-2.523252</td>\n",
       "      <td>True</td>\n",
       "      <td>2</td>\n",
       "      <td>NaN</td>\n",
       "    </tr>\n",
       "    <tr>\n",
       "      <th>20</th>\n",
       "      <td>10</td>\n",
       "      <td>th_13</td>\n",
       "      <td>-6.283186</td>\n",
       "      <td>True</td>\n",
       "      <td>2</td>\n",
       "      <td>NaN</td>\n",
       "    </tr>\n",
       "    <tr>\n",
       "      <th>21</th>\n",
       "      <td>7</td>\n",
       "      <td>th_14</td>\n",
       "      <td>13.130128</td>\n",
       "      <td>True</td>\n",
       "      <td>2</td>\n",
       "      <td>NaN</td>\n",
       "    </tr>\n",
       "    <tr>\n",
       "      <th>22</th>\n",
       "      <td>8</td>\n",
       "      <td>th_15</td>\n",
       "      <td>2.902343</td>\n",
       "      <td>True</td>\n",
       "      <td>2</td>\n",
       "      <td>NaN</td>\n",
       "    </tr>\n",
       "    <tr>\n",
       "      <th>23</th>\n",
       "      <td>11</td>\n",
       "      <td>th_16</td>\n",
       "      <td>4.279790</td>\n",
       "      <td>True</td>\n",
       "      <td>2</td>\n",
       "      <td>NaN</td>\n",
       "    </tr>\n",
       "    <tr>\n",
       "      <th>24</th>\n",
       "      <td>8</td>\n",
       "      <td>th_17</td>\n",
       "      <td>0.062689</td>\n",
       "      <td>True</td>\n",
       "      <td>2</td>\n",
       "      <td>NaN</td>\n",
       "    </tr>\n",
       "    <tr>\n",
       "      <th>25</th>\n",
       "      <td>11</td>\n",
       "      <td>th_18</td>\n",
       "      <td>0.047677</td>\n",
       "      <td>True</td>\n",
       "      <td>2</td>\n",
       "      <td>NaN</td>\n",
       "    </tr>\n",
       "    <tr>\n",
       "      <th>26</th>\n",
       "      <td>0</td>\n",
       "      <td>None</td>\n",
       "      <td>NaN</td>\n",
       "      <td>True</td>\n",
       "      <td>2</td>\n",
       "      <td>NaN</td>\n",
       "    </tr>\n",
       "    <tr>\n",
       "      <th>27</th>\n",
       "      <td>6</td>\n",
       "      <td>th_19</td>\n",
       "      <td>0.062611</td>\n",
       "      <td>True</td>\n",
       "      <td>2</td>\n",
       "      <td>NaN</td>\n",
       "    </tr>\n",
       "    <tr>\n",
       "      <th>28</th>\n",
       "      <td>9</td>\n",
       "      <td>th_20</td>\n",
       "      <td>0.027982</td>\n",
       "      <td>True</td>\n",
       "      <td>2</td>\n",
       "      <td>NaN</td>\n",
       "    </tr>\n",
       "    <tr>\n",
       "      <th>29</th>\n",
       "      <td>6</td>\n",
       "      <td>th_21</td>\n",
       "      <td>0.005415</td>\n",
       "      <td>True</td>\n",
       "      <td>2</td>\n",
       "      <td>NaN</td>\n",
       "    </tr>\n",
       "    <tr>\n",
       "      <th>30</th>\n",
       "      <td>10</td>\n",
       "      <td>th_22</td>\n",
       "      <td>0.060922</td>\n",
       "      <td>True</td>\n",
       "      <td>2</td>\n",
       "      <td>NaN</td>\n",
       "    </tr>\n",
       "    <tr>\n",
       "      <th>31</th>\n",
       "      <td>7</td>\n",
       "      <td>th_23</td>\n",
       "      <td>0.003623</td>\n",
       "      <td>True</td>\n",
       "      <td>2</td>\n",
       "      <td>NaN</td>\n",
       "    </tr>\n",
       "    <tr>\n",
       "      <th>32</th>\n",
       "      <td>10</td>\n",
       "      <td>th_24</td>\n",
       "      <td>0.036587</td>\n",
       "      <td>True</td>\n",
       "      <td>2</td>\n",
       "      <td>NaN</td>\n",
       "    </tr>\n",
       "    <tr>\n",
       "      <th>33</th>\n",
       "      <td>0</td>\n",
       "      <td>None</td>\n",
       "      <td>NaN</td>\n",
       "      <td>True</td>\n",
       "      <td>2</td>\n",
       "      <td>NaN</td>\n",
       "    </tr>\n",
       "    <tr>\n",
       "      <th>34</th>\n",
       "      <td>8</td>\n",
       "      <td>th_25</td>\n",
       "      <td>0.023347</td>\n",
       "      <td>True</td>\n",
       "      <td>2</td>\n",
       "      <td>NaN</td>\n",
       "    </tr>\n",
       "    <tr>\n",
       "      <th>35</th>\n",
       "      <td>8</td>\n",
       "      <td>th_28</td>\n",
       "      <td>-0.848313</td>\n",
       "      <td>True</td>\n",
       "      <td>2</td>\n",
       "      <td>NaN</td>\n",
       "    </tr>\n",
       "  </tbody>\n",
       "</table>\n",
       "</div>"
      ],
      "text/plain": [
       "    ind symbol  param_value  trainable  block_id channel_param\n",
       "0     6   th_0    -9.576239       True         0           NaN\n",
       "1     9   th_1     3.407127       True         0           NaN\n",
       "2     6   th_2     2.210824       True         0           NaN\n",
       "3     7   th_3     0.169105       True         0           NaN\n",
       "4    10   th_4   -15.707957       True         0           NaN\n",
       "5     7   th_5     2.666668       True         0           NaN\n",
       "6    11   th_6    -5.722386       True         0           NaN\n",
       "7     8   th_7     7.853981       True         0           NaN\n",
       "8    16   None          NaN      False         1           NaN\n",
       "9    17   None          NaN      False         1           NaN\n",
       "10   14   th_7     1.000000      False         1          True\n",
       "11    5   None          NaN      False         1           NaN\n",
       "12   16   None          NaN      False         1           NaN\n",
       "13   17   None          NaN      False         1           NaN\n",
       "14   14   th_8     1.000000      False         1          True\n",
       "15    5   None          NaN      False         1           NaN\n",
       "16    6   th_9    -5.352217       True         0           NaN\n",
       "17    9  th_10     3.407125       True         0           NaN\n",
       "18    6  th_11     0.758125       True         0           NaN\n",
       "19    7  th_12    -2.523252       True         2           NaN\n",
       "20   10  th_13    -6.283186       True         2           NaN\n",
       "21    7  th_14    13.130128       True         2           NaN\n",
       "22    8  th_15     2.902343       True         2           NaN\n",
       "23   11  th_16     4.279790       True         2           NaN\n",
       "24    8  th_17     0.062689       True         2           NaN\n",
       "25   11  th_18     0.047677       True         2           NaN\n",
       "26    0   None          NaN       True         2           NaN\n",
       "27    6  th_19     0.062611       True         2           NaN\n",
       "28    9  th_20     0.027982       True         2           NaN\n",
       "29    6  th_21     0.005415       True         2           NaN\n",
       "30   10  th_22     0.060922       True         2           NaN\n",
       "31    7  th_23     0.003623       True         2           NaN\n",
       "32   10  th_24     0.036587       True         2           NaN\n",
       "33    0   None          NaN       True         2           NaN\n",
       "34    8  th_25     0.023347       True         2           NaN\n",
       "35    8  th_28    -0.848313       True         2           NaN"
      ]
     },
     "execution_count": 15,
     "metadata": {},
     "output_type": "execute_result"
    }
   ],
   "source": [
    "mutated_circuit_db"
   ]
  },
  {
   "cell_type": "code",
   "execution_count": null,
   "id": "single-timeline",
   "metadata": {},
   "outputs": [],
   "source": []
  }
 ],
 "metadata": {
  "kernelspec": {
   "display_name": "Python 3",
   "language": "python",
   "name": "python3"
  },
  "language_info": {
   "codemirror_mode": {
    "name": "ipython",
    "version": 3
   },
   "file_extension": ".py",
   "mimetype": "text/x-python",
   "name": "python",
   "nbconvert_exporter": "python",
   "pygments_lexer": "ipython3",
   "version": "3.6.9"
  }
 },
 "nbformat": 4,
 "nbformat_minor": 5
}
