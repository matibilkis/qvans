{
 "cells": [
  {
   "cell_type": "code",
   "execution_count": 1,
   "id": "descending-subcommittee",
   "metadata": {},
   "outputs": [],
   "source": [
    "%load_ext autoreload\n",
    "%autoreload 2\n",
    "\n",
    "import sympy \n",
    "import numpy as np \n",
    "import pandas as pd \n",
    "\n",
    "from utilities.circuit_database import CirqTranslater\n",
    "from utilities.templates import *\n",
    "from utilities.variational import Minimizer\n",
    "import matplotlib.pyplot as plt \n"
   ]
  },
  {
   "cell_type": "code",
   "execution_count": 2,
   "id": "published-investment",
   "metadata": {},
   "outputs": [],
   "source": [
    "translator = CirqTranslater(3)\n",
    "circuit_db = u2_layer(translator)\n",
    "circuit, circuit_db = translator.give_circuit(circuit_db)"
   ]
  },
  {
   "cell_type": "code",
   "execution_count": 3,
   "id": "likely-premium",
   "metadata": {},
   "outputs": [
    {
     "name": "stdout",
     "output_type": "stream",
     "text": [
      "computing ground state energy...\n"
     ]
    }
   ],
   "source": [
    "minimizer = Minimizer(translator, mode=\"VQE\", hamiltonian=\"XXZ\",params=[.01,1])"
   ]
  },
  {
   "cell_type": "code",
   "execution_count": 6,
   "id": "animal-discussion",
   "metadata": {},
   "outputs": [
    {
     "data": {
      "text/plain": [
       "-3.010000000000001"
      ]
     },
     "execution_count": 6,
     "metadata": {},
     "output_type": "execute_result"
    }
   ],
   "source": [
    "symbols = translator.get_symbols(circuit_db)\n",
    "cost, resolver, training_history = minimizer.minimize([circuit], symbols)\n",
    "minimizer.lower_bound_cost"
   ]
  },
  {
   "cell_type": "code",
   "execution_count": 7,
   "id": "further-metabolism",
   "metadata": {},
   "outputs": [
    {
     "data": {
      "text/plain": [
       "<matplotlib.lines.Line2D at 0x7fcaec10c320>"
      ]
     },
     "execution_count": 7,
     "metadata": {},
     "output_type": "execute_result"
    },
    {
     "data": {
      "image/png": "[encoded data removed]",
      "text/plain": [
       "<Figure size 432x288 with 1 Axes>"
      ]
     },
     "metadata": {
      "needs_background": "light"
     },
     "output_type": "display_data"
    }
   ],
   "source": [
    "ax=plt.subplot(111)\n",
    "ax.plot(training_history.history[\"cost\"])\n",
    "ax.axhline(minimizer.lower_bound_cost)"
   ]
  },
  {
   "cell_type": "code",
   "execution_count": 10,
   "id": "convenient-registrar",
   "metadata": {},
   "outputs": [],
   "source": [
    "optimizer_circuit_db = translator.update_circuit_db_param_values(circuit_db,resolver)"
   ]
  },
  {
   "cell_type": "code",
   "execution_count": null,
   "id": "norwegian-complex",
   "metadata": {},
   "outputs": [],
   "source": [
    "minimizer.give_energy()"
   ]
  },
  {
   "cell_type": "code",
   "execution_count": null,
   "id": "welcome-entrance",
   "metadata": {},
   "outputs": [],
   "source": []
  }
 ],
 "metadata": {
  "kernelspec": {
   "display_name": "Python 3",
   "language": "python",
   "name": "python3"
  },
  "language_info": {
   "codemirror_mode": {
    "name": "ipython",
    "version": 3
   },
   "file_extension": ".py",
   "mimetype": "text/x-python",
   "name": "python",
   "nbconvert_exporter": "python",
   "pygments_lexer": "ipython3",
   "version": "3.6.9"
  }
 },
 "nbformat": 4,
 "nbformat_minor": 5
}
