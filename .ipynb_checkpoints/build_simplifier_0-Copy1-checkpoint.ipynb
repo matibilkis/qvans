{
 "cells": [
  {
   "cell_type": "code",
   "execution_count": 185,
   "id": "cleared-explorer",
   "metadata": {},
   "outputs": [
    {
     "name": "stdout",
     "output_type": "stream",
     "text": [
      "The autoreload extension is already loaded. To reload it, use:\n",
      "  %reload_ext autoreload\n"
     ]
    }
   ],
   "source": [
    "%load_ext autoreload\n",
    "%autoreload 2\n",
    "\n",
    "import sympy \n",
    "import numpy as np \n",
    "import pandas as pd \n",
    "\n",
    "from utilities.circuit_database import CirqTranslater\n",
    "from utilities.templates import *\n",
    "from utilities.variational import Minimizer\n",
    "from utilities.misc import get_qubits_involved\n",
    "import matplotlib.pyplot as plt \n"
   ]
  },
  {
   "cell_type": "code",
   "execution_count": 122,
   "id": "incorporate-outline",
   "metadata": {},
   "outputs": [],
   "source": [
    "translator = CirqTranslater(3)\n",
    "u1_layer_db = u1_layer(translator, block_id=0)\n",
    "cnots_db = cnot_layer(translator, touching=False, block_id=1)"
   ]
  },
  {
   "cell_type": "code",
   "execution_count": 183,
   "id": "south-provincial",
   "metadata": {},
   "outputs": [],
   "source": [
    "circuit_db = concatenate_dbs([cnots_db, cnots_db,u1_layer_db])\n",
    "circuit, circuit_db = translator.give_circuit(circuit_db)"
   ]
  },
  {
   "cell_type": "code",
   "execution_count": 186,
   "id": "liable-gibson",
   "metadata": {},
   "outputs": [],
   "source": [
    "qubits_involved = get_qubits_involved(circuit, circuit_db)\n",
    "\n",
    "gates_on_qubit = {q:[] for q in qubits_involved}\n",
    "on_qubit_order = {q:[] for q in qubits_involved}\n",
    "gate_analyzed = {q:[] for q in qubits_involved}\n",
    "\n",
    "for order_gate, ind_gate in enumerate( circuit_db[\"ind\"]):\n",
    "    if ind_gate < translator.n_qubits:\n",
    "        control, target = translator.indexed_cnots[str(ind_gate)]\n",
    "        gates_on_qubit[control].append(ind_gate)\n",
    "        gates_on_qubit[target].append(ind_gate)\n",
    "        on_qubit_order[control].append(order_gate)                \n",
    "        on_qubit_order[target].append(order_gate)  \n",
    "        gate_analyzed[control].append(False)\n",
    "        gate_analyzed[target].append(False)\n",
    "    else:\n",
    "        gates_on_qubit[(ind_gate-translator.n_qubits)%translator.n_qubits].append(ind_gate)\n",
    "        on_qubit_order[(ind_gate-translator.n_qubits)%translator.n_qubits].append(order_gate)        \n",
    "        gate_analyzed[(ind_gate-translator.n_qubits)%translator.n_qubits].append(False)\n"
   ]
  },
  {
   "cell_type": "code",
   "execution_count": 248,
   "id": "solid-nothing",
   "metadata": {},
   "outputs": [],
   "source": [
    "simplified_db = circuit_db.copy()"
   ]
  },
  {
   "cell_type": "code",
   "execution_count": 249,
   "id": "domestic-volume",
   "metadata": {},
   "outputs": [],
   "source": [
    "def rule_1(translator, simplified_db, on_qubit_order, qubit_gates_path, gate_analized):\n",
    "    simplification = False\n",
    "    \n",
    "    for q, qubit_gates_path in gates_on_qubit.items():\n",
    "        if simplification is True:\n",
    "            break\n",
    "        for order_gate_on_qubit, ind_gate in enumerate(qubit_gates_path):\n",
    "            if ind_gate < translator.number_of_cnots:\n",
    "                control, target = translator.indexed_cnots[str(ind_gate)]\n",
    "                if (q == control) and (order_gate_on_qubit == 0):\n",
    "                    pos_gate_to_drop = on_qubit_order[q][order_gate_on_qubit]\n",
    "                    simplified_db = simplified_db.drop(labels=[pos_gate_to_drop],axis=0)\n",
    "                    gate_analyzed[q][orded_gate_on_qubit] = True\n",
    "                    simplification = True\n",
    "                    break\n",
    "            else:       \n",
    "                simplification = False\n",
    "                gate_analyzed[q][orded_gate_on_qubit] = True\n",
    "    simplified_db = simplified_db.reset_index(drop=True)\n",
    "    return simplification, simplified_db\n"
   ]
  },
  {
   "cell_type": "code",
   "execution_count": 250,
   "id": "opposite-giving",
   "metadata": {},
   "outputs": [],
   "source": [
    "simplification, simplified_db = rule_1(translator, simplified_db, on_qubit_order, qubit_gates_path, gate_analyzed)"
   ]
  },
  {
   "cell_type": "code",
   "execution_count": 251,
   "id": "aboriginal-scholar",
   "metadata": {},
   "outputs": [
    {
     "data": {
      "text/plain": [
       "{0: [0, 1, 3, 4, 6, 7, 8], 1: [0, 2, 3, 5, 9, 10, 11], 2: [12, 13, 14]}"
      ]
     },
     "execution_count": 251,
     "metadata": {},
     "output_type": "execute_result"
    }
   ],
   "source": [
    "on_qubit_order"
   ]
  },
  {
   "cell_type": "code",
   "execution_count": null,
   "id": "japanese-program",
   "metadata": {},
   "outputs": [],
   "source": [
    "def rule_2(translator, simplified_db, on_qubit_order, qubit_gates_path, gate_analized):\n",
    "    simplification = False\n",
    "    \n",
    "    for q, qubit_gates_path in gates_on_qubit.items():\n",
    "        if simplification is True:\n",
    "            break\n",
    "        for order_gate_on_qubit, ind_gate in enumerate(qubit_gates_path[:-1]):\n",
    "            next_ind_gate = qubit_gates_path[order_gate_on_qubit+1]\n",
    "            if (ind_gate < translator.number_of_cnots) and (ind_gate == next_ind_gate):\n",
    "                #next_control, next_target = translator.indexed_cnots[str(next_ind_gate)]\n",
    "                \n",
    "                ## up to here, I know that current gate affecting this qubit is the same than the one coming next\n",
    "                ## but what about the other qubit ?\n",
    "                control, target = translator.indexed_cnots[str(ind_gate)]\n",
    "\n",
    "                not_gates_in_between = False\n",
    "                this_qubit = q\n",
    "                other_qubit = [control, target]\n",
    "                other_qubit = other_qubit.remove(q)[0]\n",
    "                    \n",
    "                ## now we need to check what happens in the other_qubit\n",
    "                for qord_other, ind_gate_other in enumerate(gates_on_qubit[other_qubit][:-1]):\n",
    "                    if (ind_gate_other == ind_gate) and (gates_on_qubit[other_qubit][qord_other +1] == ind_gate):\n",
    "                        if (on_qubit_order[q][order_gate_on_qubit] == on_qubit_order[other_qubit][qord_other]) and (on_qubit_order[q][order_gate_on_qubit+1] == on_qubit_order[other_qubit][qord_other+1]):\n",
    "                            not_gates_in_between = True\n",
    "                            \n",
    "                        pos_gate_to_drop = on_qubit_order[q][order_gate_on_qubit]\n",
    "                        simplified_db = simplified_db.drop(labels=[pos_gate_to_drop],axis=0)\n",
    "                        pos_gate_to_drop = on_qubit_order[q][order_gate_on_qubit+1]\n",
    "                        simplified_db = simplified_db.drop(labels=[pos_gate_to_drop],axis=0)\n",
    "\n",
    "                        gate_analyzed[q][orded_gate_on_qubit] = True\n",
    "                        gate_analyzed[q][orded_gate_on_qubit+1] = True\n",
    "                        simplification = True\n",
    "                        break\n",
    "            else:       \n",
    "                simplification = False\n",
    "                gate_analyzed[q][orded_gate_on_qubit] = True\n",
    "    simplified_db = simplified_db.reset_index(drop=True)\n",
    "    return simplification, simplified_db\n"
   ]
  },
  {
   "cell_type": "code",
   "execution_count": 260,
   "id": "crude-portrait",
   "metadata": {},
   "outputs": [
    {
     "data": {
      "text/plain": [
       "{0: [0, 1, 3, 4, 6, 7, 8], 1: [0, 2, 3, 5, 9, 10, 11], 2: [12, 13, 14]}"
      ]
     },
     "execution_count": 260,
     "metadata": {},
     "output_type": "execute_result"
    }
   ],
   "source": [
    "on_qubit_order"
   ]
  },
  {
   "cell_type": "code",
   "execution_count": 261,
   "id": "pleasant-korean",
   "metadata": {},
   "outputs": [
    {
     "name": "stdout",
     "output_type": "stream",
     "text": [
      "0 0\n",
      "0 1\n",
      "1 0\n",
      "1 1\n",
      "2 0\n",
      "2 1\n",
      "3 0\n",
      "3 1\n",
      "4 0\n",
      "4 1\n",
      "5 0\n",
      "5 1\n",
      "6 0\n",
      "6 1\n",
      "7 0\n",
      "7 1\n",
      "8 0\n",
      "8 1\n",
      "9 0\n",
      "9 1\n"
     ]
    }
   ],
   "source": [
    "for i in range(10):\n",
    "    for j in range(20):\n",
    "        print(i,j)\n",
    "        if j == 1:\n",
    "            break"
   ]
  },
  {
   "cell_type": "code",
   "execution_count": 258,
   "id": "discrete-there",
   "metadata": {},
   "outputs": [],
   "source": [
    "l.remove(2)"
   ]
  },
  {
   "cell_type": "code",
   "execution_count": 259,
   "id": "conservative-archive",
   "metadata": {},
   "outputs": [
    {
     "data": {
      "text/plain": [
       "[1]"
      ]
     },
     "execution_count": 259,
     "metadata": {},
     "output_type": "execute_result"
    }
   ],
   "source": [
    "l"
   ]
  },
  {
   "cell_type": "code",
   "execution_count": null,
   "id": "international-driving",
   "metadata": {},
   "outputs": [],
   "source": []
  }
 ],
 "metadata": {
  "kernelspec": {
   "display_name": "Python 3",
   "language": "python",
   "name": "python3"
  },
  "language_info": {
   "codemirror_mode": {
    "name": "ipython",
    "version": 3
   },
   "file_extension": ".py",
   "mimetype": "text/x-python",
   "name": "python",
   "nbconvert_exporter": "python",
   "pygments_lexer": "ipython3",
   "version": "3.6.9"
  }
 },
 "nbformat": 4,
 "nbformat_minor": 5
}
