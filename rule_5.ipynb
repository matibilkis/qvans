{
 "cells": [
  {
   "cell_type": "markdown",
   "id": "israeli-cathedral",
   "metadata": {},
   "source": [
    "In this notebook we give a proof of concept of unitary compiling using TFQ. "
   ]
  },
  {
   "cell_type": "code",
   "execution_count": 24,
   "id": "cleared-explorer",
   "metadata": {},
   "outputs": [
    {
     "name": "stdout",
     "output_type": "stream",
     "text": [
      "The autoreload extension is already loaded. To reload it, use:\n",
      "  %reload_ext autoreload\n"
     ]
    }
   ],
   "source": [
    "%load_ext autoreload\n",
    "%autoreload 2\n",
    "\n",
    "import sympy \n",
    "import numpy as np \n",
    "import pandas as pd \n",
    "import tensorflow as tf\n",
    "from utilities.circuit_database import CirqTranslater\n",
    "from utilities.templates import *\n",
    "from utilities.variational import Minimizer\n",
    "from utilities.misc import get_qubits_involved, reindex_symbol, shift_symbols_down\n",
    "import matplotlib.pyplot as plt \n",
    "import tensorflow_quantum as tfq\n",
    "import cirq"
   ]
  },
  {
   "cell_type": "code",
   "execution_count": 25,
   "id": "provincial-convention",
   "metadata": {},
   "outputs": [],
   "source": [
    "translator = CirqTranslater(n_qubits = 2) #system + ancilla"
   ]
  },
  {
   "cell_type": "code",
   "execution_count": 26,
   "id": "right-fluid",
   "metadata": {},
   "outputs": [],
   "source": [
    "from utilities.compiling import *"
   ]
  },
  {
   "cell_type": "code",
   "execution_count": 27,
   "id": "elder-gravity",
   "metadata": {},
   "outputs": [],
   "source": [
    "u1ss = u1_db(translator, 1, params=True)\n",
    "v_to_compile_db = concatenate_dbs([u1ss]*2) ###target gates to compile\n",
    "compile_circuit, compile_circuit_db = construct_compiling_circuit(translator, conjugate_db(translator, v_to_compile_db))\n",
    "minimizer = Minimizer(translator, mode=\"compiling\", hamiltonian=\"Z\")"
   ]
  },
  {
   "cell_type": "code",
   "execution_count": 28,
   "id": "important-terry",
   "metadata": {},
   "outputs": [],
   "source": [
    "cost, resolver, history = minimizer.minimize([compile_circuit], symbols=translator.get_symbols(compile_circuit_db))"
   ]
  },
  {
   "cell_type": "code",
   "execution_count": 29,
   "id": "activated-concert",
   "metadata": {},
   "outputs": [],
   "source": [
    "u1s = u1_db(translator, 0, params=True)\n",
    "u1s[\"param_value\"] = list(resolver.values())\n",
    "resu_comp, resu_db = translator.give_circuit(u1s,unresolved=False)"
   ]
  },
  {
   "cell_type": "code",
   "execution_count": 30,
   "id": "liable-gibson",
   "metadata": {},
   "outputs": [],
   "source": [
    "def get_positional_dbs(circuit, circuit_db):\n",
    "\n",
    "    qubits_involved = get_qubits_involved(circuit, circuit_db)\n",
    "    \n",
    "    gates_on_qubit = {q:[] for q in qubits_involved}\n",
    "    on_qubit_order = {q:[] for q in qubits_involved}\n",
    "\n",
    "    for order_gate, ind_gate in enumerate( circuit_db[\"ind\"]):\n",
    "        if ind_gate < translator.number_of_cnots:\n",
    "            control, target = translator.indexed_cnots[str(ind_gate)]\n",
    "            gates_on_qubit[control].append(ind_gate)\n",
    "            gates_on_qubit[target].append(ind_gate)\n",
    "            on_qubit_order[control].append(order_gate)                \n",
    "            on_qubit_order[target].append(order_gate)  \n",
    "        else:\n",
    "            gates_on_qubit[(ind_gate-translator.n_qubits)%translator.n_qubits].append(ind_gate)\n",
    "            on_qubit_order[(ind_gate-translator.n_qubits)%translator.n_qubits].append(order_gate)        \n",
    "    return gates_on_qubit, on_qubit_order"
   ]
  },
  {
   "cell_type": "code",
   "execution_count": 79,
   "id": "talented-modification",
   "metadata": {},
   "outputs": [],
   "source": [
    "def rule_1(translator, simplified_db, on_qubit_order, gates_on_qubit):\n",
    "    simplification = False\n",
    "    \n",
    "    for q, qubit_gates_path in gates_on_qubit.items():\n",
    "        if simplification is True:\n",
    "            break\n",
    "        for order_gate_on_qubit, ind_gate in enumerate(qubit_gates_path):\n",
    "            if ind_gate < translator.number_of_cnots:\n",
    "                control, target = translator.indexed_cnots[str(ind_gate)]\n",
    "                if (q == control) and (order_gate_on_qubit == 0):\n",
    "                    pos_gate_to_drop = on_qubit_order[q][order_gate_on_qubit]\n",
    "                    \n",
    "                    block_id = circuit_db.loc[pos_gate_to_drop][\"block_id\"]\n",
    "                    simplified_db.loc[int(pos_gate_to_drop)+0.1] = gate_template(translator.number_of_cnots + translator.n_qubits + control, param_value=0.0, block_id=circuit_db.loc[0][\"block_id\"])\n",
    "                    simplified_db.loc[int(pos_gate_to_drop)+0.11] = gate_template(translator.number_of_cnots + translator.n_qubits + target, param_value=0.0, block_id=circuit_db.loc[0][\"block_id\"])\n",
    "                    \n",
    "                    simplified_db = simplified_db.drop(labels=[pos_gate_to_drop],axis=0)\n",
    "                    \n",
    "                    simplification = True\n",
    "                    break\n",
    "    simplified_db = simplified_db.sort_index().reset_index(drop=True)\n",
    "    return simplification, simplified_db\n",
    "\n",
    "\n",
    "def rule_2(translator, simplified_db, on_qubit_order, gates_on_qubit):\n",
    "    simplification = False\n",
    "    \n",
    "    for q, qubit_gates_path in gates_on_qubit.items():\n",
    "        if simplification is True:\n",
    "            break\n",
    "        for order_gate_on_qubit, ind_gate in enumerate(qubit_gates_path[:-1]):\n",
    "            \n",
    "            next_ind_gate = qubit_gates_path[order_gate_on_qubit+1]\n",
    "            if (ind_gate < translator.number_of_cnots) and (ind_gate == next_ind_gate):\n",
    "                control, target = translator.indexed_cnots[str(ind_gate)]\n",
    "                not_gates_in_between = False\n",
    "                this_qubit = q\n",
    "                other_qubits = [control, target]\n",
    "                other_qubits.remove(q)\n",
    "                other_qubit = other_qubits[0]\n",
    "                \n",
    "                ## now we need to check what happens in the other_qubit\n",
    "                for qord_other, ind_gate_other in enumerate(gates_on_qubit[other_qubit][:-1]):\n",
    "                    if (ind_gate_other == ind_gate) and (gates_on_qubit[other_qubit][qord_other +1] == ind_gate):\n",
    "                        ## if we append the CNOT for q and other_q on the same call, and also for the consecutive\n",
    "                        ## note that in between there can be other calls for other qubits\n",
    "                        order_call_q = on_qubit_order[q][order_gate_on_qubit]\n",
    "                        order_call_other_q = on_qubit_order[other_qubit][qord_other]\n",
    "                        \n",
    "                        order_call_qP1 = on_qubit_order[q][order_gate_on_qubit+1]\n",
    "                        order_call_other_qP1 = on_qubit_order[other_qubit][qord_other+1]\n",
    "                        \n",
    "                        ## then it's kosher to say they are consecutively applied (if only looking at the two qubits)\n",
    "                        if (order_call_q == order_call_other_q) and (order_call_qP1 == order_call_other_qP1):\n",
    "                            \n",
    "                            pos_gate_to_drop = on_qubit_order[q][order_gate_on_qubit]\n",
    "                            simplified_db = simplified_db.drop(labels=[pos_gate_to_drop],axis=0)\n",
    "                            pos_gate_to_drop = on_qubit_order[q][order_gate_on_qubit+1]\n",
    "                            simplified_db = simplified_db.drop(labels=[pos_gate_to_drop],axis=0)\n",
    "\n",
    "                            simplification = True\n",
    "                            break\n",
    "                if simplification is True:\n",
    "                    break\n",
    "    simplified_db = simplified_db.reset_index(drop=True)\n",
    "    return simplification, simplified_db\n",
    "\n",
    "\n",
    "\n",
    "def rule_3(translator, simplified_db, on_qubit_order, gates_on_qubit):\n",
    "    simplification = False\n",
    "    for q, qubit_gates_path in gates_on_qubit.items():\n",
    "        if simplification is True:\n",
    "            break\n",
    "        for order_gate_on_qubit, ind_gate in enumerate(qubit_gates_path[:-1]):\n",
    "            if order_gate_on_qubit == 0 and (translator.number_of_cnots <= ind_gate< translator.number_of_cnots+ translator.n_qubits ):\n",
    "                pos_gate_to_drop = on_qubit_order[q][order_gate_on_qubit]\n",
    "                simplified_db = simplified_db.drop(labels=[pos_gate_to_drop],axis=0)\n",
    "                simplified_db = simplified_db.reset_index(drop=True)\n",
    "                simplified_db = shift_symbols_down(translator, pos_gate_to_drop, simplified_db)\n",
    "                simplification = True\n",
    "                break\n",
    "    return simplification, simplified_db\n",
    "\n",
    "\n",
    "\n",
    "def rule_4(translator, simplified_db, on_qubit_order, gates_on_qubit):\n",
    "    \"\"\"\n",
    "    Repeated rotations: add the values\n",
    "    \"\"\"\n",
    "    simplification = False\n",
    "    for q, qubit_gates_path in gates_on_qubit.items():\n",
    "        if simplification is True:\n",
    "            break\n",
    "        for order_gate_on_qubit, ind_gate in enumerate(qubit_gates_path[:-1]):\n",
    "            if ind_gate>=translator.number_of_cnots:\n",
    "                next_ind_gate = qubit_gates_path[order_gate_on_qubit+1]\n",
    "                if next_ind_gate == ind_gate:\n",
    "                    pos_gate_to_drop = on_qubit_order[q][order_gate_on_qubit]\n",
    "                    pos_gate_to_add = on_qubit_order[q][order_gate_on_qubit+1]\n",
    "                    \n",
    "                    value_1 = simplified_db.loc[pos_gate_to_drop][\"param_value\"]\n",
    "                    value_2 = simplified_db.loc[pos_gate_to_add][\"param_value\"]\n",
    "                    \n",
    "                    simplified_db.loc[pos_gate_to_add] = simplified_db.loc[pos_gate_to_add].replace(to_replace=value_2, value=value_1 + value_2)\n",
    "                    simplified_db = simplified_db.drop(labels=[pos_gate_to_drop],axis=0)\n",
    "                    simplified_db = simplified_db.reset_index(drop=True)\n",
    "\n",
    "                    simplified_db = shift_symbols_down(translator, pos_gate_to_drop, simplified_db)\n",
    "                    simplification = True\n",
    "                    break\n",
    "    return simplification, simplified_db\n",
    "\n",
    "\n",
    "def rule_5(translator, simplified_db, on_qubit_order, gates_on_qubit):\n",
    "    \"\"\"\n",
    "    compile 1-qubit gates into euler rotations\n",
    "    \"\"\"\n",
    "    simplification = False\n",
    "    for q, qubit_gates_path in gates_on_qubit.items():\n",
    "        if simplification is True:\n",
    "            break\n",
    "        for order_gate_on_qubit, ind_gate in enumerate(qubit_gates_path[:-2]):\n",
    "            if simplification is True:\n",
    "                break\n",
    "            ind_gate_p1 = qubit_gates_path[order_gate_on_qubit+1]\n",
    "            ind_gate_p2 = qubit_gates_path[order_gate_on_qubit+2]\n",
    "            check_rot = lambda ind_gate: translator.number_of_cnots<= ind_gate <(3*translator.n_qubits + translator.number_of_cnots)\n",
    "\n",
    "            if (check_rot(ind_gate) == True) and (check_rot(ind_gate_p1) == True) and (check_rot(ind_gate_p2) == True):\n",
    "\n",
    "                type_get = lambda x: (x-translator.number_of_cnots)//translator.n_qubits\n",
    "                type_0 = type_get(ind_gate)\n",
    "                type_1 = type_get(ind_gate_p1)\n",
    "                type_2 = type_get(ind_gate_p2)\n",
    "\n",
    "\n",
    "                if type_0 == type_2:\n",
    "                    types = [type_0, type_1, type_2]\n",
    "                    for next_order_gate_on_qubit, ind_gate_next in enumerate(qubit_gates_path[order_gate_on_qubit+3:-2]):\n",
    "                        if (check_rot(ind_gate_next) == True) and (next_order_gate_on_qubit < len(qubit_gates_path[order_gate_on_qubit+3:-3])):\n",
    "                            types.append(type_get(ind_gate_next))\n",
    "                        else:\n",
    "                            indices_to_compile = [on_qubit_order[q][order_gate_on_qubit+k] for k in range(len(types))]\n",
    "                            if len(indices_to_compile)>3:\n",
    "                                v_to_compile_db = simplified_db.loc[indices_to_compile]\n",
    "                                v_to_compile_db[\"ind\"] = (v_to_compile_db[\"ind\"]-q +1) #target qubit in unitary compilation set to 1\n",
    "                                v_to_compile_db[\"ind\"] = v_to_compile_db[\"ind\"] - translator.number_of_cnots\n",
    "                                v_to_compile_db[\"symbol\"] = None ##just to be sure it makes no interference with the compiler...\n",
    "                                \n",
    "                                translator.translator_ = CirqTranslater(n_qubits=2)\n",
    "\n",
    "                                compile_circuit, compile_circuit_db = construct_compiling_circuit(translator.translator_, conjugate_db(translator.translator_, v_to_compile_db))\n",
    "\n",
    "                                translator.compiler = Minimizer(translator.translator_, mode=\"compiling\", hamiltonian=\"Z\")\n",
    "\n",
    "                                cost, resolver, history = translator.compiler.minimize([compile_circuit], symbols=translator.get_symbols(compile_circuit_db))\n",
    "\n",
    "                                for new_ind, typ, pval in zip(indices_to_compile[:3],[0,1,0], list(resolver.values())):\n",
    "                                    simplified_db.loc[new_ind + 0.1] = gate_template(translator.number_of_cnots + q + typ*translator.n_qubits,\n",
    "                                                                                     param_value=pval, block_id=simplified_db.loc[new_ind][\"block_id\"], \n",
    "                                                                                     trainable=True, symbol=simplified_db.loc[new_ind][\"symbol\"])\n",
    "                                    \n",
    "                                for old_inds in indices_to_compile:\n",
    "                                    simplified_db = simplified_db.drop(labels=[old_inds],axis=0)\n",
    "\n",
    "                                simplified_db = simplified_db.reset_index(drop=True)\n",
    "                        #        ## check this..!\n",
    "                                ##for down_symbols in range(len(indices_to_compile)-3):\n",
    "                                 #   simplified_db = shift_symbols_down(translator, old_inds, simplified_db)\n",
    "                                simplification = True\n",
    "                                break\n",
    "    return simplification, simplified_db\n",
    "\n",
    "\n",
    "def apply_rule(original_circuit_db, rule, **kwargs):\n",
    "    max_cnt = kwargs.get('max_cnt',10)\n",
    "    simplified, cnt = True, 0\n",
    "    original_circuit, original_circuit_db = translator.give_circuit(original_circuit_db)\n",
    "    gates_on_qubit, on_qubit_order = get_positional_dbs(original_circuit, original_circuit_db)\n",
    "    simplified_db = original_circuit_db.copy()\n",
    "    while simplified and cnt < max_cnt:\n",
    "        simplified, simplified_circuit_db = rule(translator, simplified_db, on_qubit_order, gates_on_qubit)\n",
    "        circuit, simplified_db = translator.give_circuit(simplified_circuit_db)\n",
    "        gates_on_qubit, on_qubit_order = get_positional_dbs(circuit, simplified_db)\n",
    "        cnt+=1\n",
    "    return cnt, simplified_db"
   ]
  },
  {
   "cell_type": "code",
   "execution_count": 80,
   "id": "dying-watson",
   "metadata": {},
   "outputs": [],
   "source": [
    "translator = CirqTranslater(3)\n",
    "db1 = u1_layer(translator)\n",
    "circuit_db = concatenate_dbs([db1]*5)\n",
    "circuit, circuit_db  = translator.give_circuit(circuit_db)\n",
    "gates_on_qubit, on_qubit_order = get_positional_dbs(circuit, circuit_db)\n",
    "simplified_db = circuit_db.copy()\n",
    "simplification, ssimplified_db = rule_5(translator, simplified_db, on_qubit_order, gates_on_qubit)"
   ]
  },
  {
   "cell_type": "code",
   "execution_count": 81,
   "id": "interested-pixel",
   "metadata": {},
   "outputs": [
    {
     "data": {
      "text/html": [
       "<pre style=\"overflow: auto; white-space: pre;\">(0, 0): ───Rz(th_0)───Rx(th_1)───Rz(th_2)───Rz(th_9)────Rx(th_10)───Rz(th_11)───Rz(th_18)───Rx(th_19)───Rz(th_20)───Rz(th_27)───Rx(th_28)───Rz(th_29)───Rz(th_36)───Rx(th_37)───Rz(th_38)───\n",
       "\n",
       "(0, 1): ───Rz(th_3)───Rx(th_4)───Rz(th_5)───Rz(th_12)───Rx(th_13)───Rz(th_14)───Rz(th_21)───Rx(th_22)───Rz(th_23)───Rz(th_30)───Rx(th_31)───Rz(th_32)───Rz(th_39)───Rx(th_40)───Rz(th_41)───\n",
       "\n",
       "(0, 2): ───Rz(th_6)───Rx(th_7)───Rz(th_8)───Rz(th_15)───Rx(th_16)───Rz(th_17)───Rz(th_24)───Rx(th_25)───Rz(th_26)───Rz(th_33)───Rx(th_34)───Rz(th_35)───Rz(th_42)───Rx(th_43)───Rz(th_44)───</pre>"
      ],
      "text/plain": [
       "(0, 0): ───Rz(th_0)───Rx(th_1)───Rz(th_2)───Rz(th_9)────Rx(th_10)───Rz(th_11)───Rz(th_18)───Rx(th_19)───Rz(th_20)───Rz(th_27)───Rx(th_28)───Rz(th_29)───Rz(th_36)───Rx(th_37)───Rz(th_38)───\n",
       "\n",
       "(0, 1): ───Rz(th_3)───Rx(th_4)───Rz(th_5)───Rz(th_12)───Rx(th_13)───Rz(th_14)───Rz(th_21)───Rx(th_22)───Rz(th_23)───Rz(th_30)───Rx(th_31)───Rz(th_32)───Rz(th_39)───Rx(th_40)───Rz(th_41)───\n",
       "\n",
       "(0, 2): ───Rz(th_6)───Rx(th_7)───Rz(th_8)───Rz(th_15)───Rx(th_16)───Rz(th_17)───Rz(th_24)───Rx(th_25)───Rz(th_26)───Rz(th_33)───Rx(th_34)───Rz(th_35)───Rz(th_42)───Rx(th_43)───Rz(th_44)───"
      ]
     },
     "execution_count": 81,
     "metadata": {},
     "output_type": "execute_result"
    }
   ],
   "source": [
    "translator.give_circuit(circuit_db)[0]"
   ]
  },
  {
   "cell_type": "code",
   "execution_count": 82,
   "id": "binding-entrepreneur",
   "metadata": {},
   "outputs": [
    {
     "data": {
      "text/html": [
       "<pre style=\"overflow: auto; white-space: pre;\">(0, 0): ───Rz(th_36)───Rx(th_37)───Rz(th_38)───Rz(th_0)────Rx(th_1)────Rz(th_2)────────────────────────────────────────────────────────────────────────────────────────────────────────────────\n",
       "\n",
       "(0, 1): ───Rz(th_3)────Rx(th_4)────Rz(th_5)────Rz(th_12)───Rx(th_13)───Rz(th_14)───Rz(th_21)───Rx(th_22)───Rz(th_23)───Rz(th_30)───Rx(th_31)───Rz(th_32)───Rz(th_39)───Rx(th_40)───Rz(th_41)───\n",
       "\n",
       "(0, 2): ───Rz(th_6)────Rx(th_7)────Rz(th_8)────Rz(th_15)───Rx(th_16)───Rz(th_17)───Rz(th_24)───Rx(th_25)───Rz(th_26)───Rz(th_33)───Rx(th_34)───Rz(th_35)───Rz(th_42)───Rx(th_43)───Rz(th_44)───</pre>"
      ],
      "text/plain": [
       "(0, 0): ───Rz(th_36)───Rx(th_37)───Rz(th_38)───Rz(th_0)────Rx(th_1)────Rz(th_2)────────────────────────────────────────────────────────────────────────────────────────────────────────────────\n",
       "\n",
       "(0, 1): ───Rz(th_3)────Rx(th_4)────Rz(th_5)────Rz(th_12)───Rx(th_13)───Rz(th_14)───Rz(th_21)───Rx(th_22)───Rz(th_23)───Rz(th_30)───Rx(th_31)───Rz(th_32)───Rz(th_39)───Rx(th_40)───Rz(th_41)───\n",
       "\n",
       "(0, 2): ───Rz(th_6)────Rx(th_7)────Rz(th_8)────Rz(th_15)───Rx(th_16)───Rz(th_17)───Rz(th_24)───Rx(th_25)───Rz(th_26)───Rz(th_33)───Rx(th_34)───Rz(th_35)───Rz(th_42)───Rx(th_43)───Rz(th_44)───"
      ]
     },
     "execution_count": 82,
     "metadata": {},
     "output_type": "execute_result"
    }
   ],
   "source": [
    "translator.give_circuit(ssimplified_db)[0]"
   ]
  },
  {
   "cell_type": "code",
   "execution_count": 193,
   "id": "characteristic-immunology",
   "metadata": {},
   "outputs": [],
   "source": [
    "translator = CirqTranslater(1)\n",
    "db1 = u1_layer(translator)\n",
    "circuit_db = concatenate_dbs([db1]*5)\n",
    "circuit, circuit_db  = translator.give_circuit(circuit_db)\n",
    "gates_on_qubit, on_qubit_order = get_positional_dbs(circuit, circuit_db)\n",
    "simplified_db = circuit_db.copy()\n",
    "\n",
    "\n",
    "simplification = False\n",
    "for q, qubit_gates_path in gates_on_qubit.items():\n",
    "    if simplification is True:\n",
    "        break\n",
    "    for order_gate_on_qubit, ind_gate in enumerate(qubit_gates_path[:-2]):\n",
    "        if simplification is True:\n",
    "            break\n",
    "        ind_gate_p1 = qubit_gates_path[order_gate_on_qubit+1]\n",
    "        ind_gate_p2 = qubit_gates_path[order_gate_on_qubit+2]\n",
    "        check_rot = lambda ind_gate: translator.number_of_cnots<= ind_gate <(3*translator.n_qubits + translator.number_of_cnots)\n",
    "\n",
    "        if (check_rot(ind_gate) == True) and (check_rot(ind_gate_p1) == True) and (check_rot(ind_gate_p2) == True):\n",
    "\n",
    "            type_get = lambda x: (x-translator.number_of_cnots)//translator.n_qubits\n",
    "            type_0 = type_get(ind_gate)\n",
    "            type_1 = type_get(ind_gate_p1)\n",
    "            type_2 = type_get(ind_gate_p2)\n",
    "\n",
    "\n",
    "            if type_0 == type_2:\n",
    "                types = [type_0, type_1, type_2]\n",
    "                for next_order_gate_on_qubit, ind_gate_next in enumerate(qubit_gates_path[order_gate_on_qubit+3:-2]):\n",
    "                    if (check_rot(ind_gate_next) == True) and (next_order_gate_on_qubit < len(qubit_gates_path[order_gate_on_qubit+3:-3])):\n",
    "                        types.append(type_get(ind_gate_next))\n",
    "                    else:\n",
    "                        indices_to_compile = [on_qubit_order[q][order_gate_on_qubit+k] for k in range(len(types))]\n",
    "                        if len(indices_to_compile)>3:\n",
    "                            v_to_compile_db = simplified_db.loc[indices_to_compile]\n",
    "                            v_to_compile_db[\"ind\"] = (v_to_compile_db[\"ind\"]-q +1) #target qubit in unitary compilation set to 1\n",
    "                            v_to_compile_db[\"ind\"] = v_to_compile_db[\"ind\"] - translator.number_of_cnots\n",
    "                            v_to_compile_db[\"symbol\"] = None ##just to be sure it makes no interference with the compiler...\n",
    "\n",
    "                            translator.translator_ = CirqTranslater(n_qubits=2)\n",
    "\n",
    "                            compile_circuit, compile_circuit_db = construct_compiling_circuit(translator.translator_, conjugate_db(translator.translator_, v_to_compile_db))\n",
    "\n",
    "                            translator.compiler = Minimizer(translator.translator_, mode=\"compiling\", hamiltonian=\"Z\")\n",
    "\n",
    "                            cost, resolver, history = translator.compiler.minimize([compile_circuit], symbols=translator.get_symbols(compile_circuit_db))\n",
    "\n",
    "                            for new_ind, typ, pval in zip(indices_to_compile[:3],[0,1,0], list(resolver.values())):\n",
    "                                simplified_db.loc[new_ind+0.1] = gate_template(translator.number_of_cnots + q + typ*translator.n_qubits,\n",
    "                                                                                 param_value=pval, block_id=simplified_db.loc[new_ind][\"block_id\"], \n",
    "                                                                                 trainable=True)#, symbol=symbols[new_ind])\n",
    "                            for old_inds in indices_to_compile:\n",
    "                                simplified_db = simplified_db.drop(labels=[old_inds],axis=0)#\n",
    "                                \n",
    "                            #simplified_db = simplified_db.sort_index().reset_index(drop=True)\n",
    "\n",
    "                    #        ## check this..!\n",
    "                            ##for down_symbols in range(len(indices_to_compile)-3):\n",
    "                            simplification = True\n",
    "                            break"
   ]
  },
  {
   "cell_type": "code",
   "execution_count": 194,
   "id": "actual-magnet",
   "metadata": {},
   "outputs": [],
   "source": [
    "sss = simplified_db.sort_index().reset_index(drop=True)\n",
    "uuco, ns = translator.give_circuit(sss, unresolved=False)\n",
    "aato, os = translator.give_circuit(circuit_db,unresolved=False)"
   ]
  },
  {
   "cell_type": "code",
   "execution_count": 195,
   "id": "statistical-price",
   "metadata": {},
   "outputs": [
    {
     "data": {
      "text/html": [
       "<pre style=\"overflow: auto; white-space: pre;\">(0, 0): ───Rz(-0.421π)───Rx(0)───Rz(-1.58π)───Rz(-1.81π)───Rx(0.297π)───Rz(0.817π)───</pre>"
      ],
      "text/plain": [
       "(0, 0): ───Rz(-0.421π)───Rx(0)───Rz(-1.58π)───Rz(-1.81π)───Rx(0.297π)───Rz(0.817π)───"
      ]
     },
     "execution_count": 195,
     "metadata": {},
     "output_type": "execute_result"
    }
   ],
   "source": [
    "uuco"
   ]
  },
  {
   "cell_type": "code",
   "execution_count": 196,
   "id": "divided-trigger",
   "metadata": {},
   "outputs": [],
   "source": [
    "indiis = np.sort(list(range(0,3*3*5,9)) + list(range(3,3*3*5,9)))"
   ]
  },
  {
   "cell_type": "code",
   "execution_count": 197,
   "id": "regulated-diploma",
   "metadata": {},
   "outputs": [],
   "source": [
    "ll = []\n",
    "for k in indiis[:-1]:\n",
    "    ll.append(ns[k:(k+1)])"
   ]
  },
  {
   "cell_type": "code",
   "execution_count": 198,
   "id": "binding-deviation",
   "metadata": {},
   "outputs": [
    {
     "data": {
      "text/plain": [
       "((0, 0): ───Rz(th_0)───Rz(th_12)───,\n",
       "    ind symbol  param_value  trainable  block_id\n",
       " 0    0   th_0   -13.888521       True         0\n",
       " 1    0  th_12    -5.695495       True         0)"
      ]
     },
     "execution_count": 198,
     "metadata": {},
     "output_type": "execute_result"
    }
   ],
   "source": [
    "translator.give_circuit(concatenate_dbs(ll))"
   ]
  },
  {
   "cell_type": "code",
   "execution_count": 201,
   "id": "informal-fraud",
   "metadata": {},
   "outputs": [
    {
     "data": {
      "text/plain": [
       "array([[-0.00512433-0.89309116j, -0.37580852-0.24724459j],\n",
       "       [ 0.37580852-0.24724459j, -0.00512433+0.89309116j]])"
      ]
     },
     "execution_count": 201,
     "metadata": {},
     "output_type": "execute_result"
    }
   ],
   "source": [
    "uuco.unitary()"
   ]
  },
  {
   "cell_type": "code",
   "execution_count": 202,
   "id": "alone-century",
   "metadata": {},
   "outputs": [
    {
     "data": {
      "text/plain": [
       "array([[ 0.0257012 +0.89280744j,  0.37568389+0.24717591j],\n",
       "       [-0.37568389+0.24717591j,  0.0257012 -0.89280744j]])"
      ]
     },
     "execution_count": 202,
     "metadata": {},
     "output_type": "execute_result"
    }
   ],
   "source": [
    "aato.unitary()"
   ]
  },
  {
   "cell_type": "code",
   "execution_count": 203,
   "id": "awful-drinking",
   "metadata": {},
   "outputs": [
    {
     "data": {
      "text/plain": [
       "<tf.Tensor: shape=(), dtype=float32, numpy=1.1920929e-07>"
      ]
     },
     "execution_count": 203,
     "metadata": {},
     "output_type": "execute_result"
    }
   ],
   "source": [
    "cost"
   ]
  },
  {
   "cell_type": "code",
   "execution_count": null,
   "id": "express-orbit",
   "metadata": {},
   "outputs": [],
   "source": []
  }
 ],
 "metadata": {
  "kernelspec": {
   "display_name": "Python 3",
   "language": "python",
   "name": "python3"
  },
  "language_info": {
   "codemirror_mode": {
    "name": "ipython",
    "version": 3
   },
   "file_extension": ".py",
   "mimetype": "text/x-python",
   "name": "python",
   "nbconvert_exporter": "python",
   "pygments_lexer": "ipython3",
   "version": "3.6.9"
  }
 },
 "nbformat": 4,
 "nbformat_minor": 5
}
