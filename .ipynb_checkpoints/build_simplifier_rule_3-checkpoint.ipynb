{
 "cells": [
  {
   "cell_type": "code",
   "execution_count": 3,
   "id": "cleared-explorer",
   "metadata": {},
   "outputs": [],
   "source": [
    "%load_ext autoreload\n",
    "%autoreload 2\n",
    "\n",
    "import sympy \n",
    "import numpy as np \n",
    "import pandas as pd \n",
    "\n",
    "from utilities.circuit_database import CirqTranslater\n",
    "from utilities.templates import *\n",
    "from utilities.variational import Minimizer\n",
    "from utilities.misc import get_qubits_involved, reindex_symbol\n",
    "import matplotlib.pyplot as plt \n"
   ]
  },
  {
   "cell_type": "code",
   "execution_count": 4,
   "id": "liable-gibson",
   "metadata": {},
   "outputs": [],
   "source": [
    "def get_positional_dbs(circuit, circuit_db):\n",
    "\n",
    "    qubits_involved = get_qubits_involved(circuit, circuit_db)\n",
    "    \n",
    "    gates_on_qubit = {q:[] for q in qubits_involved}\n",
    "    on_qubit_order = {q:[] for q in qubits_involved}\n",
    "\n",
    "    for order_gate, ind_gate in enumerate( circuit_db[\"ind\"]):\n",
    "        if ind_gate < translator.number_of_cnots:\n",
    "            control, target = translator.indexed_cnots[str(ind_gate)]\n",
    "            gates_on_qubit[control].append(ind_gate)\n",
    "            gates_on_qubit[target].append(ind_gate)\n",
    "            on_qubit_order[control].append(order_gate)                \n",
    "            on_qubit_order[target].append(order_gate)  \n",
    "        else:\n",
    "            gates_on_qubit[(ind_gate-translator.n_qubits)%translator.n_qubits].append(ind_gate)\n",
    "            on_qubit_order[(ind_gate-translator.n_qubits)%translator.n_qubits].append(order_gate)        \n",
    "    return gates_on_qubit, on_qubit_order"
   ]
  },
  {
   "cell_type": "code",
   "execution_count": 7,
   "id": "talented-modification",
   "metadata": {},
   "outputs": [],
   "source": [
    "def rule_1(translator, simplified_db, on_qubit_order, gates_on_qubit):\n",
    "    simplification = False\n",
    "    \n",
    "    for q, qubit_gates_path in gates_on_qubit.items():\n",
    "        if simplification is True:\n",
    "            break\n",
    "        for order_gate_on_qubit, ind_gate in enumerate(qubit_gates_path):\n",
    "            if ind_gate < translator.number_of_cnots:\n",
    "                control, target = translator.indexed_cnots[str(ind_gate)]\n",
    "                if (q == control) and (order_gate_on_qubit == 0):\n",
    "                    pos_gate_to_drop = on_qubit_order[q][order_gate_on_qubit]\n",
    "                    \n",
    "                    block_id = circuit_db.iloc[pos_gate_to_drop][\"block_id\"]\n",
    "                    simplified_db.loc[int(pos_gate_to_drop)+0.1] = gate_template(translator.number_of_cnots + translator.n_qubits + control, param_value=0.0, block_id=circuit_db.iloc[0][\"block_id\"])\n",
    "                    simplified_db.loc[int(pos_gate_to_drop)+0.11] = gate_template(translator.number_of_cnots + translator.n_qubits + target, param_value=0.0, block_id=circuit_db.iloc[0][\"block_id\"])\n",
    "                    \n",
    "                    simplified_db = simplified_db.drop(labels=[pos_gate_to_drop],axis=0)\n",
    "                    \n",
    "                    simplification = True\n",
    "                    break\n",
    "    simplified_db = simplified_db.sort_index().reset_index(drop=True)\n",
    "    return simplification, simplified_db\n",
    "\n",
    "\n",
    "def rule_2(translator, simplified_db, on_qubit_order, gates_on_qubit):\n",
    "    simplification = False\n",
    "    \n",
    "    for q, qubit_gates_path in gates_on_qubit.items():\n",
    "        if simplification is True:\n",
    "            break\n",
    "        for order_gate_on_qubit, ind_gate in enumerate(qubit_gates_path[:-1]):\n",
    "            \n",
    "            next_ind_gate = qubit_gates_path[order_gate_on_qubit+1]\n",
    "            if (ind_gate < translator.number_of_cnots) and (ind_gate == next_ind_gate):\n",
    "                control, target = translator.indexed_cnots[str(ind_gate)]\n",
    "                not_gates_in_between = False\n",
    "                this_qubit = q\n",
    "                other_qubits = [control, target]\n",
    "                other_qubits.remove(q)\n",
    "                other_qubit = other_qubits[0]\n",
    "                \n",
    "                ## now we need to check what happens in the other_qubit\n",
    "                for qord_other, ind_gate_other in enumerate(gates_on_qubit[other_qubit][:-1]):\n",
    "                    if (ind_gate_other == ind_gate) and (gates_on_qubit[other_qubit][qord_other +1] == ind_gate):\n",
    "                        ## if we append the CNOT for q and other_q on the same call, and also for the consecutive\n",
    "                        ## note that in between there can be other calls for other qubits\n",
    "                        order_call_q = on_qubit_order[q][order_gate_on_qubit]\n",
    "                        order_call_other_q = on_qubit_order[other_qubit][qord_other]\n",
    "                        \n",
    "                        order_call_qP1 = on_qubit_order[q][order_gate_on_qubit+1]\n",
    "                        order_call_other_qP1 = on_qubit_order[other_qubit][qord_other+1]\n",
    "                        \n",
    "                        ## then it's kosher to say they are consecutively applied (if only looking at the two qubits)\n",
    "                        if (order_call_q == order_call_other_q) and (order_call_qP1 == order_call_other_qP1):\n",
    "                            \n",
    "                            pos_gate_to_drop = on_qubit_order[q][order_gate_on_qubit]\n",
    "                            simplified_db = simplified_db.drop(labels=[pos_gate_to_drop],axis=0)\n",
    "                            pos_gate_to_drop = on_qubit_order[q][order_gate_on_qubit+1]\n",
    "                            simplified_db = simplified_db.drop(labels=[pos_gate_to_drop],axis=0)\n",
    "\n",
    "                            simplification = True\n",
    "                            break\n",
    "                if simplification is True:\n",
    "                    break\n",
    "    simplified_db = simplified_db.reset_index(drop=True)\n",
    "    return simplification, simplified_db\n",
    "\n",
    "\n",
    "\n",
    "def apply_rule(original_circuit_db, rule, **kwargs):\n",
    "    max_cnt = kwargs.get('max_cnt',10)\n",
    "    simplified, cnt = True, 0\n",
    "    original_circuit, original_circuit_db = translator.give_circuit(original_circuit_db)\n",
    "    gates_on_qubit, on_qubit_order = get_positional_dbs(original_circuit, original_circuit_db)\n",
    "    simplified_db = original_circuit_db.copy()\n",
    "    while simplified and cnt < max_cnt:\n",
    "        simplified, simplified_circuit_db = rule(translator, simplified_db, on_qubit_order, gates_on_qubit)\n",
    "        circuit, simplified_db = translator.give_circuit(simplified_circuit_db)\n",
    "        gates_on_qubit, on_qubit_order = get_positional_dbs(circuit, simplified_db)\n",
    "        cnt+=1\n",
    "    return cnt, simplified_db"
   ]
  },
  {
   "cell_type": "code",
   "execution_count": 51,
   "id": "geological-limitation",
   "metadata": {},
   "outputs": [],
   "source": [
    "def rule_3(translator, simplified_db, on_qubit_order, gates_on_qubit):\n",
    "    simplification = False\n",
    "    \n",
    "    for q, qubit_gates_path in gates_on_qubit.items():\n",
    "        if simplification is True:\n",
    "            break\n",
    "        for order_gate_on_qubit, ind_gate in enumerate(qubit_gates_path[:-1]):\n",
    "            \n",
    "            if order_gate_on_qubit == 0 and (translator.number_of_cnots <= ind_gate< translator.number_of_cnots+ translator.n_qubits ):\n",
    "                pos_gate_to_drop = on_qubit_order[q][order_gate_on_qubit]\n",
    "                simplified_db = simplified_db.drop(labels=[pos_gate_to_drop],axis=0)\n",
    "                simplified_db = shift_symbols_down(translator, pos_gate_to_drop, simplified_db)\n",
    "                simplification = True\n",
    "                break\n",
    "        simplified_db = simplified_db.reset_index(drop=True)\n",
    "    return simplification, simplified_db"
   ]
  },
  {
   "cell_type": "code",
   "execution_count": 52,
   "id": "grand-nicholas",
   "metadata": {},
   "outputs": [],
   "source": [
    "translator = CirqTranslater(3)\n",
    "db1 = u1_layer(translator)\n",
    "db2 = cnot_layer(translator)\n",
    "circuit_db = concatenate_dbs([db1, db2])\n",
    "gates_on_qubit, on_qubit_order = get_positional_dbs(circuit, circuit_db)"
   ]
  },
  {
   "cell_type": "code",
   "execution_count": 53,
   "id": "prostate-bacon",
   "metadata": {},
   "outputs": [],
   "source": [
    "circuit, circuit_db  = translator.give_circuit(circuit_db)"
   ]
  },
  {
   "cell_type": "code",
   "execution_count": 55,
   "id": "charged-preview",
   "metadata": {},
   "outputs": [],
   "source": [
    "ss = circuit_db.copy()"
   ]
  },
  {
   "cell_type": "code",
   "execution_count": 57,
   "id": "sustainable-sequence",
   "metadata": {},
   "outputs": [],
   "source": [
    "ss = ss.drop(labels=[0], axis=0)"
   ]
  },
  {
   "cell_type": "code",
   "execution_count": 58,
   "id": "second-interval",
   "metadata": {},
   "outputs": [
    {
     "data": {
      "text/html": [
       "<div>\n",
       "<style scoped>\n",
       "    .dataframe tbody tr th:only-of-type {\n",
       "        vertical-align: middle;\n",
       "    }\n",
       "\n",
       "    .dataframe tbody tr th {\n",
       "        vertical-align: top;\n",
       "    }\n",
       "\n",
       "    .dataframe thead th {\n",
       "        text-align: right;\n",
       "    }\n",
       "</style>\n",
       "<table border=\"1\" class=\"dataframe\">\n",
       "  <thead>\n",
       "    <tr style=\"text-align: right;\">\n",
       "      <th></th>\n",
       "      <th>ind</th>\n",
       "      <th>symbol</th>\n",
       "      <th>param_value</th>\n",
       "      <th>trainable</th>\n",
       "      <th>block_id</th>\n",
       "    </tr>\n",
       "  </thead>\n",
       "  <tbody>\n",
       "    <tr>\n",
       "      <th>1</th>\n",
       "      <td>9</td>\n",
       "      <td>th_1</td>\n",
       "      <td>None</td>\n",
       "      <td>True</td>\n",
       "      <td>0</td>\n",
       "    </tr>\n",
       "    <tr>\n",
       "      <th>2</th>\n",
       "      <td>6</td>\n",
       "      <td>th_2</td>\n",
       "      <td>None</td>\n",
       "      <td>True</td>\n",
       "      <td>0</td>\n",
       "    </tr>\n",
       "    <tr>\n",
       "      <th>3</th>\n",
       "      <td>7</td>\n",
       "      <td>th_3</td>\n",
       "      <td>None</td>\n",
       "      <td>True</td>\n",
       "      <td>0</td>\n",
       "    </tr>\n",
       "    <tr>\n",
       "      <th>4</th>\n",
       "      <td>10</td>\n",
       "      <td>th_4</td>\n",
       "      <td>None</td>\n",
       "      <td>True</td>\n",
       "      <td>0</td>\n",
       "    </tr>\n",
       "    <tr>\n",
       "      <th>5</th>\n",
       "      <td>7</td>\n",
       "      <td>th_5</td>\n",
       "      <td>None</td>\n",
       "      <td>True</td>\n",
       "      <td>0</td>\n",
       "    </tr>\n",
       "    <tr>\n",
       "      <th>6</th>\n",
       "      <td>8</td>\n",
       "      <td>th_6</td>\n",
       "      <td>None</td>\n",
       "      <td>True</td>\n",
       "      <td>0</td>\n",
       "    </tr>\n",
       "    <tr>\n",
       "      <th>7</th>\n",
       "      <td>11</td>\n",
       "      <td>th_7</td>\n",
       "      <td>None</td>\n",
       "      <td>True</td>\n",
       "      <td>0</td>\n",
       "    </tr>\n",
       "    <tr>\n",
       "      <th>8</th>\n",
       "      <td>8</td>\n",
       "      <td>th_8</td>\n",
       "      <td>None</td>\n",
       "      <td>True</td>\n",
       "      <td>0</td>\n",
       "    </tr>\n",
       "    <tr>\n",
       "      <th>9</th>\n",
       "      <td>0</td>\n",
       "      <td>None</td>\n",
       "      <td>None</td>\n",
       "      <td>True</td>\n",
       "      <td>0</td>\n",
       "    </tr>\n",
       "    <tr>\n",
       "      <th>10</th>\n",
       "      <td>3</td>\n",
       "      <td>None</td>\n",
       "      <td>None</td>\n",
       "      <td>True</td>\n",
       "      <td>0</td>\n",
       "    </tr>\n",
       "    <tr>\n",
       "      <th>11</th>\n",
       "      <td>4</td>\n",
       "      <td>None</td>\n",
       "      <td>None</td>\n",
       "      <td>True</td>\n",
       "      <td>0</td>\n",
       "    </tr>\n",
       "  </tbody>\n",
       "</table>\n",
       "</div>"
      ],
      "text/plain": [
       "    ind symbol param_value  trainable  block_id\n",
       "1     9   th_1        None       True         0\n",
       "2     6   th_2        None       True         0\n",
       "3     7   th_3        None       True         0\n",
       "4    10   th_4        None       True         0\n",
       "5     7   th_5        None       True         0\n",
       "6     8   th_6        None       True         0\n",
       "7    11   th_7        None       True         0\n",
       "8     8   th_8        None       True         0\n",
       "9     0   None        None       True         0\n",
       "10    3   None        None       True         0\n",
       "11    4   None        None       True         0"
      ]
     },
     "execution_count": 58,
     "metadata": {},
     "output_type": "execute_result"
    }
   ],
   "source": [
    "ss"
   ]
  },
  {
   "cell_type": "code",
   "execution_count": 54,
   "id": "recreational-hostel",
   "metadata": {},
   "outputs": [
    {
     "ename": "KeyError",
     "evalue": "0",
     "output_type": "error",
     "traceback": [
      "\u001b[0;31m---------------------------------------------------------------------------\u001b[0m",
      "\u001b[0;31mKeyError\u001b[0m                                  Traceback (most recent call last)",
      "\u001b[0;32m~/.local/lib/python3.6/site-packages/pandas/core/indexes/base.py\u001b[0m in \u001b[0;36mget_loc\u001b[0;34m(self, key, method, tolerance)\u001b[0m\n\u001b[1;32m   2897\u001b[0m             \u001b[0;32mtry\u001b[0m\u001b[0;34m:\u001b[0m\u001b[0;34m\u001b[0m\u001b[0;34m\u001b[0m\u001b[0m\n\u001b[0;32m-> 2898\u001b[0;31m                 \u001b[0;32mreturn\u001b[0m \u001b[0mself\u001b[0m\u001b[0;34m.\u001b[0m\u001b[0m_engine\u001b[0m\u001b[0;34m.\u001b[0m\u001b[0mget_loc\u001b[0m\u001b[0;34m(\u001b[0m\u001b[0mcasted_key\u001b[0m\u001b[0;34m)\u001b[0m\u001b[0;34m\u001b[0m\u001b[0;34m\u001b[0m\u001b[0m\n\u001b[0m\u001b[1;32m   2899\u001b[0m             \u001b[0;32mexcept\u001b[0m \u001b[0mKeyError\u001b[0m \u001b[0;32mas\u001b[0m \u001b[0merr\u001b[0m\u001b[0;34m:\u001b[0m\u001b[0;34m\u001b[0m\u001b[0;34m\u001b[0m\u001b[0m\n",
      "\u001b[0;32mpandas/_libs/index.pyx\u001b[0m in \u001b[0;36mpandas._libs.index.IndexEngine.get_loc\u001b[0;34m()\u001b[0m\n",
      "\u001b[0;32mpandas/_libs/index.pyx\u001b[0m in \u001b[0;36mpandas._libs.index.IndexEngine.get_loc\u001b[0;34m()\u001b[0m\n",
      "\u001b[0;32mpandas/_libs/hashtable_class_helper.pxi\u001b[0m in \u001b[0;36mpandas._libs.hashtable.Int64HashTable.get_item\u001b[0;34m()\u001b[0m\n",
      "\u001b[0;32mpandas/_libs/hashtable_class_helper.pxi\u001b[0m in \u001b[0;36mpandas._libs.hashtable.Int64HashTable.get_item\u001b[0;34m()\u001b[0m\n",
      "\u001b[0;31mKeyError\u001b[0m: 0",
      "\nThe above exception was the direct cause of the following exception:\n",
      "\u001b[0;31mKeyError\u001b[0m                                  Traceback (most recent call last)",
      "\u001b[0;32m<ipython-input-54-800bfb755a4a>\u001b[0m in \u001b[0;36m<module>\u001b[0;34m\u001b[0m\n\u001b[0;32m----> 1\u001b[0;31m \u001b[0mcnts\u001b[0m\u001b[0;34m,\u001b[0m \u001b[0msimplified_db\u001b[0m \u001b[0;34m=\u001b[0m \u001b[0mrule_3\u001b[0m\u001b[0;34m(\u001b[0m\u001b[0mtranslator\u001b[0m\u001b[0;34m,\u001b[0m \u001b[0mcircuit_db\u001b[0m\u001b[0;34m,\u001b[0m \u001b[0mon_qubit_order\u001b[0m\u001b[0;34m,\u001b[0m \u001b[0mgates_on_qubit\u001b[0m\u001b[0;34m)\u001b[0m\u001b[0;34m\u001b[0m\u001b[0;34m\u001b[0m\u001b[0m\n\u001b[0m",
      "\u001b[0;32m<ipython-input-51-6b0b6bbec84f>\u001b[0m in \u001b[0;36mrule_3\u001b[0;34m(translator, simplified_db, on_qubit_order, gates_on_qubit)\u001b[0m\n\u001b[1;32m     10\u001b[0m                 \u001b[0mpos_gate_to_drop\u001b[0m \u001b[0;34m=\u001b[0m \u001b[0mon_qubit_order\u001b[0m\u001b[0;34m[\u001b[0m\u001b[0mq\u001b[0m\u001b[0;34m]\u001b[0m\u001b[0;34m[\u001b[0m\u001b[0morder_gate_on_qubit\u001b[0m\u001b[0;34m]\u001b[0m\u001b[0;34m\u001b[0m\u001b[0;34m\u001b[0m\u001b[0m\n\u001b[1;32m     11\u001b[0m                 \u001b[0msimplified_db\u001b[0m \u001b[0;34m=\u001b[0m \u001b[0msimplified_db\u001b[0m\u001b[0;34m.\u001b[0m\u001b[0mdrop\u001b[0m\u001b[0;34m(\u001b[0m\u001b[0mlabels\u001b[0m\u001b[0;34m=\u001b[0m\u001b[0;34m[\u001b[0m\u001b[0mpos_gate_to_drop\u001b[0m\u001b[0;34m]\u001b[0m\u001b[0;34m,\u001b[0m\u001b[0maxis\u001b[0m\u001b[0;34m=\u001b[0m\u001b[0;36m0\u001b[0m\u001b[0;34m)\u001b[0m\u001b[0;34m\u001b[0m\u001b[0;34m\u001b[0m\u001b[0m\n\u001b[0;32m---> 12\u001b[0;31m                 \u001b[0msimplified_db\u001b[0m \u001b[0;34m=\u001b[0m \u001b[0mshift_symbols_down\u001b[0m\u001b[0;34m(\u001b[0m\u001b[0mtranslator\u001b[0m\u001b[0;34m,\u001b[0m \u001b[0mpos_gate_to_drop\u001b[0m\u001b[0;34m,\u001b[0m \u001b[0msimplified_db\u001b[0m\u001b[0;34m)\u001b[0m\u001b[0;34m\u001b[0m\u001b[0;34m\u001b[0m\u001b[0m\n\u001b[0m\u001b[1;32m     13\u001b[0m                 \u001b[0msimplification\u001b[0m \u001b[0;34m=\u001b[0m \u001b[0;32mTrue\u001b[0m\u001b[0;34m\u001b[0m\u001b[0;34m\u001b[0m\u001b[0m\n\u001b[1;32m     14\u001b[0m                 \u001b[0;32mbreak\u001b[0m\u001b[0;34m\u001b[0m\u001b[0;34m\u001b[0m\u001b[0m\n",
      "\u001b[0;32m<ipython-input-50-80c9c33be2d9>\u001b[0m in \u001b[0;36mshift_symbols_down\u001b[0;34m(idinserter, indice, circuit_db)\u001b[0m\n\u001b[1;32m      4\u001b[0m     \"\"\"\n\u001b[1;32m      5\u001b[0m     \u001b[0;32mfor\u001b[0m \u001b[0mk\u001b[0m \u001b[0;32min\u001b[0m \u001b[0mrange\u001b[0m\u001b[0;34m(\u001b[0m\u001b[0mindice\u001b[0m\u001b[0;34m,\u001b[0m \u001b[0mcircuit_db\u001b[0m\u001b[0;34m.\u001b[0m\u001b[0mshape\u001b[0m\u001b[0;34m[\u001b[0m\u001b[0;36m0\u001b[0m\u001b[0;34m]\u001b[0m\u001b[0;34m)\u001b[0m\u001b[0;34m:\u001b[0m\u001b[0;34m\u001b[0m\u001b[0;34m\u001b[0m\u001b[0m\n\u001b[0;32m----> 6\u001b[0;31m         \u001b[0;32mif\u001b[0m \u001b[0mcircuit_db\u001b[0m\u001b[0;34m.\u001b[0m\u001b[0mloc\u001b[0m\u001b[0;34m[\u001b[0m\u001b[0mk\u001b[0m\u001b[0;34m]\u001b[0m\u001b[0;34m[\u001b[0m\u001b[0;34m\"ind\"\u001b[0m\u001b[0;34m]\u001b[0m \u001b[0;34m<\u001b[0m \u001b[0midinserter\u001b[0m\u001b[0;34m.\u001b[0m\u001b[0mnumber_of_cnots\u001b[0m \u001b[0;32mor\u001b[0m \u001b[0mtype\u001b[0m\u001b[0;34m(\u001b[0m\u001b[0mcircuit_db\u001b[0m\u001b[0;34m.\u001b[0m\u001b[0mloc\u001b[0m\u001b[0;34m[\u001b[0m\u001b[0mk\u001b[0m\u001b[0;34m]\u001b[0m\u001b[0;34m[\u001b[0m\u001b[0;34m\"symbol\"\u001b[0m\u001b[0;34m]\u001b[0m\u001b[0;34m)\u001b[0m \u001b[0;34m!=\u001b[0m \u001b[0mstr\u001b[0m\u001b[0;34m:\u001b[0m\u001b[0;34m\u001b[0m\u001b[0;34m\u001b[0m\u001b[0m\n\u001b[0m\u001b[1;32m      7\u001b[0m             \u001b[0;32mpass\u001b[0m\u001b[0;34m\u001b[0m\u001b[0;34m\u001b[0m\u001b[0m\n\u001b[1;32m      8\u001b[0m         \u001b[0;32melse\u001b[0m\u001b[0;34m:\u001b[0m\u001b[0;34m\u001b[0m\u001b[0;34m\u001b[0m\u001b[0m\n",
      "\u001b[0;32m~/.local/lib/python3.6/site-packages/pandas/core/indexing.py\u001b[0m in \u001b[0;36m__getitem__\u001b[0;34m(self, key)\u001b[0m\n\u001b[1;32m    877\u001b[0m \u001b[0;34m\u001b[0m\u001b[0m\n\u001b[1;32m    878\u001b[0m             \u001b[0mmaybe_callable\u001b[0m \u001b[0;34m=\u001b[0m \u001b[0mcom\u001b[0m\u001b[0;34m.\u001b[0m\u001b[0mapply_if_callable\u001b[0m\u001b[0;34m(\u001b[0m\u001b[0mkey\u001b[0m\u001b[0;34m,\u001b[0m \u001b[0mself\u001b[0m\u001b[0;34m.\u001b[0m\u001b[0mobj\u001b[0m\u001b[0;34m)\u001b[0m\u001b[0;34m\u001b[0m\u001b[0;34m\u001b[0m\u001b[0m\n\u001b[0;32m--> 879\u001b[0;31m             \u001b[0;32mreturn\u001b[0m \u001b[0mself\u001b[0m\u001b[0;34m.\u001b[0m\u001b[0m_getitem_axis\u001b[0m\u001b[0;34m(\u001b[0m\u001b[0mmaybe_callable\u001b[0m\u001b[0;34m,\u001b[0m \u001b[0maxis\u001b[0m\u001b[0;34m=\u001b[0m\u001b[0maxis\u001b[0m\u001b[0;34m)\u001b[0m\u001b[0;34m\u001b[0m\u001b[0;34m\u001b[0m\u001b[0m\n\u001b[0m\u001b[1;32m    880\u001b[0m \u001b[0;34m\u001b[0m\u001b[0m\n\u001b[1;32m    881\u001b[0m     \u001b[0;32mdef\u001b[0m \u001b[0m_is_scalar_access\u001b[0m\u001b[0;34m(\u001b[0m\u001b[0mself\u001b[0m\u001b[0;34m,\u001b[0m \u001b[0mkey\u001b[0m\u001b[0;34m:\u001b[0m \u001b[0mTuple\u001b[0m\u001b[0;34m)\u001b[0m\u001b[0;34m:\u001b[0m\u001b[0;34m\u001b[0m\u001b[0;34m\u001b[0m\u001b[0m\n",
      "\u001b[0;32m~/.local/lib/python3.6/site-packages/pandas/core/indexing.py\u001b[0m in \u001b[0;36m_getitem_axis\u001b[0;34m(self, key, axis)\u001b[0m\n\u001b[1;32m   1108\u001b[0m         \u001b[0;31m# fall thru to straight lookup\u001b[0m\u001b[0;34m\u001b[0m\u001b[0;34m\u001b[0m\u001b[0;34m\u001b[0m\u001b[0m\n\u001b[1;32m   1109\u001b[0m         \u001b[0mself\u001b[0m\u001b[0;34m.\u001b[0m\u001b[0m_validate_key\u001b[0m\u001b[0;34m(\u001b[0m\u001b[0mkey\u001b[0m\u001b[0;34m,\u001b[0m \u001b[0maxis\u001b[0m\u001b[0;34m)\u001b[0m\u001b[0;34m\u001b[0m\u001b[0;34m\u001b[0m\u001b[0m\n\u001b[0;32m-> 1110\u001b[0;31m         \u001b[0;32mreturn\u001b[0m \u001b[0mself\u001b[0m\u001b[0;34m.\u001b[0m\u001b[0m_get_label\u001b[0m\u001b[0;34m(\u001b[0m\u001b[0mkey\u001b[0m\u001b[0;34m,\u001b[0m \u001b[0maxis\u001b[0m\u001b[0;34m=\u001b[0m\u001b[0maxis\u001b[0m\u001b[0;34m)\u001b[0m\u001b[0;34m\u001b[0m\u001b[0;34m\u001b[0m\u001b[0m\n\u001b[0m\u001b[1;32m   1111\u001b[0m \u001b[0;34m\u001b[0m\u001b[0m\n\u001b[1;32m   1112\u001b[0m     \u001b[0;32mdef\u001b[0m \u001b[0m_get_slice_axis\u001b[0m\u001b[0;34m(\u001b[0m\u001b[0mself\u001b[0m\u001b[0;34m,\u001b[0m \u001b[0mslice_obj\u001b[0m\u001b[0;34m:\u001b[0m \u001b[0mslice\u001b[0m\u001b[0;34m,\u001b[0m \u001b[0maxis\u001b[0m\u001b[0;34m:\u001b[0m \u001b[0mint\u001b[0m\u001b[0;34m)\u001b[0m\u001b[0;34m:\u001b[0m\u001b[0;34m\u001b[0m\u001b[0;34m\u001b[0m\u001b[0m\n",
      "\u001b[0;32m~/.local/lib/python3.6/site-packages/pandas/core/indexing.py\u001b[0m in \u001b[0;36m_get_label\u001b[0;34m(self, label, axis)\u001b[0m\n\u001b[1;32m   1057\u001b[0m     \u001b[0;32mdef\u001b[0m \u001b[0m_get_label\u001b[0m\u001b[0;34m(\u001b[0m\u001b[0mself\u001b[0m\u001b[0;34m,\u001b[0m \u001b[0mlabel\u001b[0m\u001b[0;34m,\u001b[0m \u001b[0maxis\u001b[0m\u001b[0;34m:\u001b[0m \u001b[0mint\u001b[0m\u001b[0;34m)\u001b[0m\u001b[0;34m:\u001b[0m\u001b[0;34m\u001b[0m\u001b[0;34m\u001b[0m\u001b[0m\n\u001b[1;32m   1058\u001b[0m         \u001b[0;31m# GH#5667 this will fail if the label is not present in the axis.\u001b[0m\u001b[0;34m\u001b[0m\u001b[0;34m\u001b[0m\u001b[0;34m\u001b[0m\u001b[0m\n\u001b[0;32m-> 1059\u001b[0;31m         \u001b[0;32mreturn\u001b[0m \u001b[0mself\u001b[0m\u001b[0;34m.\u001b[0m\u001b[0mobj\u001b[0m\u001b[0;34m.\u001b[0m\u001b[0mxs\u001b[0m\u001b[0;34m(\u001b[0m\u001b[0mlabel\u001b[0m\u001b[0;34m,\u001b[0m \u001b[0maxis\u001b[0m\u001b[0;34m=\u001b[0m\u001b[0maxis\u001b[0m\u001b[0;34m)\u001b[0m\u001b[0;34m\u001b[0m\u001b[0;34m\u001b[0m\u001b[0m\n\u001b[0m\u001b[1;32m   1060\u001b[0m \u001b[0;34m\u001b[0m\u001b[0m\n\u001b[1;32m   1061\u001b[0m     \u001b[0;32mdef\u001b[0m \u001b[0m_handle_lowerdim_multi_index_axis0\u001b[0m\u001b[0;34m(\u001b[0m\u001b[0mself\u001b[0m\u001b[0;34m,\u001b[0m \u001b[0mtup\u001b[0m\u001b[0;34m:\u001b[0m \u001b[0mTuple\u001b[0m\u001b[0;34m)\u001b[0m\u001b[0;34m:\u001b[0m\u001b[0;34m\u001b[0m\u001b[0;34m\u001b[0m\u001b[0m\n",
      "\u001b[0;32m~/.local/lib/python3.6/site-packages/pandas/core/generic.py\u001b[0m in \u001b[0;36mxs\u001b[0;34m(self, key, axis, level, drop_level)\u001b[0m\n\u001b[1;32m   3491\u001b[0m             \u001b[0mloc\u001b[0m\u001b[0;34m,\u001b[0m \u001b[0mnew_index\u001b[0m \u001b[0;34m=\u001b[0m \u001b[0mself\u001b[0m\u001b[0;34m.\u001b[0m\u001b[0mindex\u001b[0m\u001b[0;34m.\u001b[0m\u001b[0mget_loc_level\u001b[0m\u001b[0;34m(\u001b[0m\u001b[0mkey\u001b[0m\u001b[0;34m,\u001b[0m \u001b[0mdrop_level\u001b[0m\u001b[0;34m=\u001b[0m\u001b[0mdrop_level\u001b[0m\u001b[0;34m)\u001b[0m\u001b[0;34m\u001b[0m\u001b[0;34m\u001b[0m\u001b[0m\n\u001b[1;32m   3492\u001b[0m         \u001b[0;32melse\u001b[0m\u001b[0;34m:\u001b[0m\u001b[0;34m\u001b[0m\u001b[0;34m\u001b[0m\u001b[0m\n\u001b[0;32m-> 3493\u001b[0;31m             \u001b[0mloc\u001b[0m \u001b[0;34m=\u001b[0m \u001b[0mself\u001b[0m\u001b[0;34m.\u001b[0m\u001b[0mindex\u001b[0m\u001b[0;34m.\u001b[0m\u001b[0mget_loc\u001b[0m\u001b[0;34m(\u001b[0m\u001b[0mkey\u001b[0m\u001b[0;34m)\u001b[0m\u001b[0;34m\u001b[0m\u001b[0;34m\u001b[0m\u001b[0m\n\u001b[0m\u001b[1;32m   3494\u001b[0m \u001b[0;34m\u001b[0m\u001b[0m\n\u001b[1;32m   3495\u001b[0m             \u001b[0;32mif\u001b[0m \u001b[0misinstance\u001b[0m\u001b[0;34m(\u001b[0m\u001b[0mloc\u001b[0m\u001b[0;34m,\u001b[0m \u001b[0mnp\u001b[0m\u001b[0;34m.\u001b[0m\u001b[0mndarray\u001b[0m\u001b[0;34m)\u001b[0m\u001b[0;34m:\u001b[0m\u001b[0;34m\u001b[0m\u001b[0;34m\u001b[0m\u001b[0m\n",
      "\u001b[0;32m~/.local/lib/python3.6/site-packages/pandas/core/indexes/base.py\u001b[0m in \u001b[0;36mget_loc\u001b[0;34m(self, key, method, tolerance)\u001b[0m\n\u001b[1;32m   2898\u001b[0m                 \u001b[0;32mreturn\u001b[0m \u001b[0mself\u001b[0m\u001b[0;34m.\u001b[0m\u001b[0m_engine\u001b[0m\u001b[0;34m.\u001b[0m\u001b[0mget_loc\u001b[0m\u001b[0;34m(\u001b[0m\u001b[0mcasted_key\u001b[0m\u001b[0;34m)\u001b[0m\u001b[0;34m\u001b[0m\u001b[0;34m\u001b[0m\u001b[0m\n\u001b[1;32m   2899\u001b[0m             \u001b[0;32mexcept\u001b[0m \u001b[0mKeyError\u001b[0m \u001b[0;32mas\u001b[0m \u001b[0merr\u001b[0m\u001b[0;34m:\u001b[0m\u001b[0;34m\u001b[0m\u001b[0;34m\u001b[0m\u001b[0m\n\u001b[0;32m-> 2900\u001b[0;31m                 \u001b[0;32mraise\u001b[0m \u001b[0mKeyError\u001b[0m\u001b[0;34m(\u001b[0m\u001b[0mkey\u001b[0m\u001b[0;34m)\u001b[0m \u001b[0;32mfrom\u001b[0m \u001b[0merr\u001b[0m\u001b[0;34m\u001b[0m\u001b[0;34m\u001b[0m\u001b[0m\n\u001b[0m\u001b[1;32m   2901\u001b[0m \u001b[0;34m\u001b[0m\u001b[0m\n\u001b[1;32m   2902\u001b[0m         \u001b[0;32mif\u001b[0m \u001b[0mtolerance\u001b[0m \u001b[0;32mis\u001b[0m \u001b[0;32mnot\u001b[0m \u001b[0;32mNone\u001b[0m\u001b[0;34m:\u001b[0m\u001b[0;34m\u001b[0m\u001b[0;34m\u001b[0m\u001b[0m\n",
      "\u001b[0;31mKeyError\u001b[0m: 0"
     ]
    }
   ],
   "source": [
    "cnts, simplified_db = rule_3(translator, circuit_db, on_qubit_order, gates_on_qubit)"
   ]
  },
  {
   "cell_type": "code",
   "execution_count": 50,
   "id": "reserved-program",
   "metadata": {},
   "outputs": [],
   "source": [
    "def shift_symbols_down(idinserter, indice, circuit_db):\n",
    "    \"\"\"\n",
    "    indice is the place at which the gate was added.\n",
    "    \"\"\"\n",
    "    for k in range(indice, circuit_db.shape[0]):\n",
    "        if circuit_db.loc[k][\"ind\"] < idinserter.number_of_cnots or type(circuit_db.loc[k][\"symbol\"]) != str:\n",
    "            pass\n",
    "        else:\n",
    "            old_value = circuit_db.iloc[k][\"symbol\"]\n",
    "            number_symbol = int(old_value.replace(\"th_\",\"\")) -1\n",
    "            new_value = \"th_{}\".format(number_symbol)\n",
    "            print(k, circuit_db.loc[k])\n",
    "            circuit_db.loc[k] = circuit_db.loc[k].replace(to_replace=old_value,value=new_value)\n",
    "    return circuit_db\n"
   ]
  },
  {
   "cell_type": "code",
   "execution_count": 43,
   "id": "higher-singing",
   "metadata": {},
   "outputs": [
    {
     "data": {
      "text/plain": [
       "12"
      ]
     },
     "execution_count": 43,
     "metadata": {},
     "output_type": "execute_result"
    }
   ],
   "source": []
  },
  {
   "cell_type": "code",
   "execution_count": null,
   "id": "alive-modeling",
   "metadata": {},
   "outputs": [],
   "source": []
  },
  {
   "cell_type": "code",
   "execution_count": null,
   "id": "effective-headset",
   "metadata": {},
   "outputs": [],
   "source": []
  },
  {
   "cell_type": "code",
   "execution_count": null,
   "id": "literary-suffering",
   "metadata": {},
   "outputs": [],
   "source": []
  },
  {
   "cell_type": "code",
   "execution_count": 201,
   "id": "powered-heritage",
   "metadata": {},
   "outputs": [],
   "source": [
    "circuit, circuit_db = translator.give_circuit(simplified_db)"
   ]
  },
  {
   "cell_type": "code",
   "execution_count": 202,
   "id": "incoming-maine",
   "metadata": {},
   "outputs": [],
   "source": [
    "cnts, simplified_db = apply_rule(circuit_db, rule_2)"
   ]
  },
  {
   "cell_type": "code",
   "execution_count": 203,
   "id": "adjustable-cookie",
   "metadata": {},
   "outputs": [],
   "source": [
    "circuit, circuit_db = translator.give_circuit(simplified_db)"
   ]
  },
  {
   "cell_type": "code",
   "execution_count": 204,
   "id": "private-pocket",
   "metadata": {},
   "outputs": [
    {
     "data": {
      "text/html": [
       "<pre style=\"overflow: auto; white-space: pre;\">(0, 0): ───Rx(0)───────\n",
       "\n",
       "(0, 1): ───Rx(0)───@───\n",
       "                   │\n",
       "(0, 2): ───────────X───</pre>"
      ],
      "text/plain": [
       "(0, 0): ───Rx(0)───────\n",
       "\n",
       "(0, 1): ───Rx(0)───@───\n",
       "                   │\n",
       "(0, 2): ───────────X───"
      ]
     },
     "execution_count": 204,
     "metadata": {},
     "output_type": "execute_result"
    }
   ],
   "source": [
    "circuit"
   ]
  },
  {
   "cell_type": "code",
   "execution_count": null,
   "id": "neural-stamp",
   "metadata": {},
   "outputs": [],
   "source": []
  }
 ],
 "metadata": {
  "kernelspec": {
   "display_name": "Python 3",
   "language": "python",
   "name": "python3"
  },
  "language_info": {
   "codemirror_mode": {
    "name": "ipython",
    "version": 3
   },
   "file_extension": ".py",
   "mimetype": "text/x-python",
   "name": "python",
   "nbconvert_exporter": "python",
   "pygments_lexer": "ipython3",
   "version": "3.6.9"
  }
 },
 "nbformat": 4,
 "nbformat_minor": 5
}
