{
 "cells": [
  {
   "cell_type": "markdown",
   "id": "israeli-cathedral",
   "metadata": {},
   "source": [
    "In this notebook we give a proof of concept of unitary compiling using TFQ. "
   ]
  },
  {
   "cell_type": "code",
   "execution_count": 6,
   "id": "cleared-explorer",
   "metadata": {},
   "outputs": [
    {
     "name": "stdout",
     "output_type": "stream",
     "text": [
      "The autoreload extension is already loaded. To reload it, use:\n",
      "  %reload_ext autoreload\n"
     ]
    }
   ],
   "source": [
    "%load_ext autoreload\n",
    "%autoreload 2\n",
    "\n",
    "import sympy \n",
    "import numpy as np \n",
    "import pandas as pd \n",
    "import tensorflow as tf\n",
    "from utilities.circuit_database import CirqTranslater\n",
    "from utilities.templates import *\n",
    "from utilities.variational import Minimizer\n",
    "from utilities.misc import get_qubits_involved, reindex_symbol, shift_symbols_down\n",
    "import matplotlib.pyplot as plt \n",
    "import tensorflow_quantum as tfq\n",
    "import cirq\n",
    "from utilities.compiling import *\n",
    "from utilities.simplifier import Simplifier\n",
    "from utilities.discrimination import *\n",
    "from utilities.idinserter import IdInserter\n",
    "from utilities.evaluator import Evaluator\n",
    "from utilities.gate_killer import GateKiller"
   ]
  },
  {
   "cell_type": "code",
   "execution_count": 9,
   "id": "mature-fourth",
   "metadata": {},
   "outputs": [],
   "source": [
    "translator = CirqTranslater(3, untouchable_blocks = [1])\n",
    "\n",
    "translator.env_qubits = [2]\n",
    "translator.encoder_id = 0\n",
    "translator.channel_id = 1\n",
    "translator.decoder_id = 2\n",
    "\n",
    "\n",
    "simplifier = Simplifier(translator)\n",
    "\n",
    "\n",
    "etas = [0.01, 1.]\n",
    "minimizer = Minimizer(translator, mode=\"discrimination\", params=etas)\n",
    "\n",
    "killer = GateKiller(translator, mode=\"discrimination\")\n",
    "\n",
    "\n",
    "inserter = IdInserter(translator.n_qubits, untouchable_blocks=translator.channel_id)\n",
    "\n",
    "\n",
    "args_evaluator = {\"n_qubits\":translator.n_qubits, \"problem\":\"acd\",\"params\":etas}\n",
    "evaluator = Evaluator(args=args_evaluator, lower_bound_cost=minimizer.lower_bound_cost, nrun=0)\n"
   ]
  },
  {
   "cell_type": "code",
   "execution_count": 3,
   "id": "maritime-television",
   "metadata": {},
   "outputs": [
    {
     "data": {
      "text/html": [
       "<pre style=\"overflow: auto; white-space: pre;\">(0, 0): ───Rz(th_0)───Rx(th_1)───Rz(th_2)───Rz(th_11)───Rx(th_12)───Rz(th_13)─────────────────────────────────────────────────────────────────\n",
       "\n",
       "(0, 1): ───Rz(th_3)───Rx(th_4)───Rz(th_5)───H───────────X────────────────────────X───H────────────────X───Rz(th_14)───Rx(th_15)───Rz(th_16)───\n",
       "                                                        │                        │                    │\n",
       "(0, 2): ───Rz(th_6)───Rx(th_7)───Rz(th_8)───H───────────@───────────Ry(0.318π)───@───H───Ry(0.318π)───@───Rz(th_17)───Rx(th_18)───Rz(th_19)───</pre>"
      ],
      "text/plain": [
       "(0, 0): ───Rz(th_0)───Rx(th_1)───Rz(th_2)───Rz(th_11)───Rx(th_12)───Rz(th_13)─────────────────────────────────────────────────────────────────\n",
       "\n",
       "(0, 1): ───Rz(th_3)───Rx(th_4)───Rz(th_5)───H───────────X────────────────────────X───H────────────────X───Rz(th_14)───Rx(th_15)───Rz(th_16)───\n",
       "                                                        │                        │                    │\n",
       "(0, 2): ───Rz(th_6)───Rx(th_7)───Rz(th_8)───H───────────@───────────Ry(0.318π)───@───H───Ry(0.318π)───@───Rz(th_17)───Rx(th_18)───Rz(th_19)───"
      ]
     },
     "execution_count": 3,
     "metadata": {},
     "output_type": "execute_result"
    }
   ],
   "source": [
    "u1_layer_encoder = u1_layer(translator, inds= [0,1], block_id=translator.encoder_id)\n",
    "channel_db = amplitude_damping_db(translator, qubits_ind=[1,2], eta=1, block_id = translator.channel_id)\n",
    "u1_layer_decoder = u1_layer(translator, inds = [0,1], block_id=translator.decoder_id)\n",
    "\n",
    "u2_layer_encoder = u2_db(translator, 0,1, block_id=translator.encoder_id)\n",
    "channel_db = amplitude_damping_db(translator, qubits_ind=[1,2], eta=1, block_id = translator.channel_id)\n",
    "u2_layer_decoder = u2_db(translator, 0,1, block_id=translator.decoder_id)\n",
    "\n",
    "\n",
    "circuit_db = concatenate_dbs([u1_layer_encoder, channel_db, u1_layer_decoder])\n",
    "#circuit_db = concatenate_dbs([u2_layer_encoder, channel_db, u2_layer_decoder])\n",
    "\n",
    "circuit, circuit_db = translator.give_circuit(circuit_db)\n",
    "circuit"
   ]
  },
  {
   "cell_type": "code",
   "execution_count": 5,
   "id": "delayed-limitation",
   "metadata": {},
   "outputs": [],
   "source": [
    "batch_circuits, trainable_symbols, trainable_params_value = prepare_optimization_discrimination(translator, circuit_db, etas)\n",
    "cost, resolver, training_history = minimizer.minimize(batch_circuits, symbols = trainable_symbols, parameter_values = trainable_params_value )\n",
    "circuit_db = translator.update_circuit_db_param_values(circuit_db, resolver)"
   ]
  },
  {
   "cell_type": "code",
   "execution_count": 6,
   "id": "ordered-thesis",
   "metadata": {},
   "outputs": [],
   "source": [
    "evaluator.add_step(circuit_db, cost, relevant=True)\n",
    "evaluator.save_dicts_and_displaying()\n",
    "\n",
    "circuit_db, new_cost = killer.remove_irrelevant_gates(circuit_db)\n",
    "evaluator.add_step(circuit_db, cost, relevant=False)\n",
    "evaluator.save_dicts_and_displaying()\n",
    "\n",
    "max_iter_vans=2\n",
    "for iter_vans in range(max_iter_vans):\n",
    "    mutated_circuit_db = inserter.insert_many_mutations(circuit_db )\n",
    "    simplified_db, nreds = simplifier.reduce_circuit(mutated_circuit_db)\n",
    "    \n",
    "    batch_circuits, trainable_symbols, trainable_params_value = prepare_optimization_discrimination(translator, simplified_db, etas)\n",
    "    \n",
    "    cost, resolver, training_history = minimizer.minimize(batch_circuits, symbols = trainable_symbols, parameter_values = trainable_params_value )\n",
    "    mutation_db = translator.update_circuit_db_param_values(mutation_db, resolver)\n",
    "\n",
    "    if evaluator.accept_cost(cost):\n",
    "        circuit_db = mutation_db\n",
    "    \n",
    "    \n",
    "    \n",
    "    "
   ]
  },
  {
   "cell_type": "code",
   "execution_count": 12,
   "id": "double-disposal",
   "metadata": {},
   "outputs": [],
   "source": [
    "evaluator"
   ]
  },
  {
   "cell_type": "code",
   "execution_count": 17,
   "id": "sharing-mexican",
   "metadata": {},
   "outputs": [],
   "source": []
  },
  {
   "cell_type": "code",
   "execution_count": 19,
   "id": "amazing-induction",
   "metadata": {},
   "outputs": [],
   "source": []
  },
  {
   "cell_type": "code",
   "execution_count": 20,
   "id": "contained-partner",
   "metadata": {},
   "outputs": [],
   "source": []
  },
  {
   "cell_type": "code",
   "execution_count": null,
   "id": "existing-shore",
   "metadata": {},
   "outputs": [],
   "source": [
    "simplified_db, nreds = simplifier.reduce_circuit(circuit_db)"
   ]
  },
  {
   "cell_type": "code",
   "execution_count": null,
   "id": "dietary-denial",
   "metadata": {},
   "outputs": [],
   "source": []
  },
  {
   "cell_type": "code",
   "execution_count": 4,
   "id": "level-kelly",
   "metadata": {},
   "outputs": [
    {
     "data": {
      "text/plain": [
       "<tf.Tensor: shape=(), dtype=float32, numpy=0.14601386>"
      ]
     },
     "execution_count": 4,
     "metadata": {},
     "output_type": "execute_result"
    }
   ],
   "source": [
    "simplified_batch_circuits, _ = channel_circuits(translator, simplified_db, etas )\n",
    "minimizer.give_cost(simplified_batch_circuits)"
   ]
  },
  {
   "cell_type": "code",
   "execution_count": 6,
   "id": "honey-productivity",
   "metadata": {},
   "outputs": [],
   "source": []
  },
  {
   "cell_type": "code",
   "execution_count": 7,
   "id": "powered-agency",
   "metadata": {},
   "outputs": [],
   "source": []
  },
  {
   "cell_type": "code",
   "execution_count": 9,
   "id": "bottom-lounge",
   "metadata": {},
   "outputs": [],
   "source": [
    "batch_circuits, trainable_symbols, trainable_params_value = prepare_optimization_discrimination(translator, mutated_circuit_db, etas)\n",
    "cost, resolver, training_history = minimizer.minimize(batch_circuits, symbols = trainable_symbols, parameter_values = trainable_params_value )"
   ]
  },
  {
   "cell_type": "code",
   "execution_count": null,
   "id": "tired-aspect",
   "metadata": {},
   "outputs": [],
   "source": []
  },
  {
   "cell_type": "code",
   "execution_count": null,
   "id": "collected-novel",
   "metadata": {},
   "outputs": [],
   "source": []
  },
  {
   "cell_type": "code",
   "execution_count": null,
   "id": "jewish-fraud",
   "metadata": {},
   "outputs": [],
   "source": []
  },
  {
   "cell_type": "code",
   "execution_count": null,
   "id": "foreign-carter",
   "metadata": {},
   "outputs": [],
   "source": []
  },
  {
   "cell_type": "code",
   "execution_count": null,
   "id": "bigger-armstrong",
   "metadata": {},
   "outputs": [],
   "source": []
  },
  {
   "cell_type": "code",
   "execution_count": null,
   "id": "acting-cricket",
   "metadata": {},
   "outputs": [],
   "source": []
  },
  {
   "cell_type": "code",
   "execution_count": null,
   "id": "premium-liechtenstein",
   "metadata": {},
   "outputs": [],
   "source": []
  },
  {
   "cell_type": "code",
   "execution_count": null,
   "id": "strong-functionality",
   "metadata": {},
   "outputs": [],
   "source": []
  },
  {
   "cell_type": "code",
   "execution_count": null,
   "id": "angry-shield",
   "metadata": {},
   "outputs": [],
   "source": []
  },
  {
   "cell_type": "code",
   "execution_count": 60,
   "id": "checked-drive",
   "metadata": {},
   "outputs": [
    {
     "data": {
      "text/plain": [
       "<tf.Tensor: shape=(), dtype=float32, numpy=0.4793837>"
      ]
     },
     "execution_count": 60,
     "metadata": {},
     "output_type": "execute_result"
    }
   ],
   "source": [
    "minimizer.give_cost(channel_circuits(translator, circuit_db, etas )[0], resolver = translator.give_resolver(circuit_db),model = minimizer.model)"
   ]
  },
  {
   "cell_type": "code",
   "execution_count": 59,
   "id": "bizarre-latitude",
   "metadata": {},
   "outputs": [
    {
     "data": {
      "text/plain": [
       "<tf.Tensor: shape=(), dtype=float32, numpy=0.4793837>"
      ]
     },
     "execution_count": 59,
     "metadata": {},
     "output_type": "execute_result"
    }
   ],
   "source": [
    "minimizer.give_cost(channel_circuits(translator, simplified_db, etas )[0], resolver = translator.give_resolver(circuit_db), model = minimizer.model)"
   ]
  },
  {
   "cell_type": "code",
   "execution_count": 58,
   "id": "lonely-indie",
   "metadata": {},
   "outputs": [
    {
     "data": {
      "text/plain": [
       "<tf.Tensor: shape=(), dtype=float32, numpy=0.14601326>"
      ]
     },
     "execution_count": 58,
     "metadata": {},
     "output_type": "execute_result"
    }
   ],
   "source": [
    "minimizer.loss(*[minimizer.model(batch_circuits)]*2)"
   ]
  },
  {
   "cell_type": "code",
   "execution_count": 62,
   "id": "velvet-supplier",
   "metadata": {},
   "outputs": [
    {
     "data": {
      "text/plain": [
       "<tf.Tensor: shape=(2, 3), dtype=float32, numpy=\n",
       "array([[ 0.99979985, -0.9999999 ,  0.99979985],\n",
       "       [-0.41614735, -0.9999999 , -0.41614735]], dtype=float32)>"
      ]
     },
     "execution_count": 62,
     "metadata": {},
     "output_type": "execute_result"
    }
   ],
   "source": [
    "minimizer.model(batch_circuits)"
   ]
  },
  {
   "cell_type": "code",
   "execution_count": 63,
   "id": "medium-relief",
   "metadata": {},
   "outputs": [],
   "source": [
    "sbatch_circuits, batch_circuits_db = channel_circuits(translator, simplified_db, etas )"
   ]
  },
  {
   "cell_type": "code",
   "execution_count": null,
   "id": "happy-brush",
   "metadata": {},
   "outputs": [],
   "source": []
  }
 ],
 "metadata": {
  "kernelspec": {
   "display_name": "Python 3",
   "language": "python",
   "name": "python3"
  },
  "language_info": {
   "codemirror_mode": {
    "name": "ipython",
    "version": 3
   },
   "file_extension": ".py",
   "mimetype": "text/x-python",
   "name": "python",
   "nbconvert_exporter": "python",
   "pygments_lexer": "ipython3",
   "version": "3.6.9"
  }
 },
 "nbformat": 4,
 "nbformat_minor": 5
}
