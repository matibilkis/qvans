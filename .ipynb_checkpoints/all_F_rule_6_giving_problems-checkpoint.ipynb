{
 "cells": [
  {
   "cell_type": "markdown",
   "id": "israeli-cathedral",
   "metadata": {},
   "source": [
    "In this notebook we give a proof of concept of unitary compiling using TFQ. "
   ]
  },
  {
   "cell_type": "code",
   "execution_count": 1,
   "id": "cleared-explorer",
   "metadata": {},
   "outputs": [],
   "source": [
    "%load_ext autoreload\n",
    "%autoreload 2\n",
    "\n",
    "import sympy \n",
    "import numpy as np \n",
    "import pandas as pd \n",
    "import tensorflow as tf\n",
    "from utilities.circuit_database import CirqTranslater\n",
    "from utilities.templates import *\n",
    "from utilities.variational import Minimizer\n",
    "import matplotlib.pyplot as plt \n",
    "import tensorflow_quantum as tfq\n",
    "import cirq\n",
    "from utilities.compiling import *\n",
    "from utilities.misc import *\n",
    "from utilities.simplifier import Simplifier\n",
    "from utilities.discrimination import *\n",
    "from utilities.idinserter import IdInserter\n",
    "from utilities.evaluator import Evaluator\n",
    "from utilities.gate_killer import GateKiller\n",
    "from ast import literal_eval\n"
   ]
  },
  {
   "cell_type": "code",
   "execution_count": 2,
   "id": "coastal-dividend",
   "metadata": {},
   "outputs": [],
   "source": [
    "np.random.seed(0)\n",
    "translator = CirqTranslater(4, untouchable_blocks = [])\n",
    "\n",
    "translator.env_qubits = [2]\n",
    "\n",
    "simplifier = Simplifier(translator)\n",
    "etas = [0.01, 1.]\n",
    "minimizer = Minimizer(translator, mode=\"discrimination\", params=etas)"
   ]
  },
  {
   "cell_type": "code",
   "execution_count": 8,
   "id": "nominated-collectible",
   "metadata": {},
   "outputs": [],
   "source": [
    "q = 0\n",
    "other_qs = list(range(translator.n_qubits))\n",
    "other_qs.remove(q)\n",
    "indds = [translator.cnots_index[str([q,k])] for k in other_qs]\n",
    "cdb = pd.DataFrame([gate_template(i) for i in indds])\n",
    "\n",
    "circuit_db = concatenate_dbs([z_layer_db(translator), cdb])\n",
    "\n",
    "for q in range(1, translator.n_qubits):\n",
    "    other_qs = list(range(translator.n_qubits))\n",
    "    other_qs.remove(q)\n",
    "    indds = [translator.cnots_index[str([q,k])] for k in other_qs]\n",
    "    cdb = pd.DataFrame([gate_template(i) for i in indds])\n",
    "    circuit_db = concatenate_dbs([circuit_db ,cdb])\n",
    "\n",
    "c, circuit_db = translator.give_circuit(circuit_db)\n",
    "\n",
    "db1 = concatenate_dbs([x_layer_db(translator)]*3)\n",
    "#db2 = concatenate_dbs([z_layer_db(translator)]*3)\n",
    "#db3 = concatenate_dbs([x_layer_db(translator)]*3)\n",
    "#db4 = concatenate_dbs([z_layer_db(translator)]*3)\n",
    "\n",
    "circuit_db = concatenate_dbs([circuit_db, db1])\n",
    "c, circuit_db = translator.give_circuit(circuit_db)\n",
    "\n",
    "cdb = []\n",
    "for ind, qubits in list(translator.indexed_cnots.items()):\n",
    "    cdb.append(gate_template(int(ind), block_id=0))\n",
    "    con, tar = qubits\n",
    "    cdb.append(gate_template(int(con + translator.number_of_cnots), param_value = np.random.random()))\n",
    "    cdb.append(gate_template(int(tar + translator.number_of_cnots + translator.n_qubits), param_value = np.random.random()))\n",
    "c6_db = pd.DataFrame(cdb)\n",
    "circuit_db = concatenate_dbs([circuit_db, c6_db])\n",
    "\n",
    "c, circuit_db = translator.give_circuit(circuit_db)"
   ]
  },
  {
   "cell_type": "code",
   "execution_count": 9,
   "id": "starting-methodology",
   "metadata": {},
   "outputs": [
    {
     "data": {
      "text/html": [
       "<pre style=\"overflow: auto; white-space: pre;\">                                          ┌──┐                                                                                                                                                     ┌──┐\n",
       "(0, 0): ───Rz(th_0)───@───@───@───X─────────X────────────X───Rx(th_4)───Rx(th_8)───Rx(th_12)───────────────@───────────Rz(th_16)───@───Rz(th_18)───@───Rz(th_20)───X───Rx(th_23)─────────────────────X────Rx(th_29)───────────────────────────────────X───Rx(th_35)───────────────────────────────────\n",
       "                      │   │   │   │         │            │                                                 │                       │               │               │                                 │                                                │\n",
       "(0, 1): ───Rz(th_1)───X───┼───┼───@───@────@┼────X───────┼───X──────────Rx(th_5)───Rx(th_9)────Rx(th_13)───X───────────Rx(th_17)───┼───────────────┼───────────────@───Rz(th_22)───@───Rz(th_24)────@┼────Rz(th_26)───X───Rx(th_31)───────────────────┼───────────────X───Rx(th_37)───────────────────\n",
       "                          │   │       │    ││    │       │   │                                                                     │               │                               │                ││                │                               │               │\n",
       "(0, 2): ───Rz(th_2)───────X───┼───────X────┼@────@───@───┼───┼──────────X──────────Rx(th_6)────Rx(th_10)───Rx(th_14)───────────────X───Rx(th_19)───┼───────────────────────────────X───Rx(th_25)────┼@────Rz(th_28)───@───Rz(th_30)───@───Rz(th_32)───┼───────────────┼───────────────X───Rx(th_39)───\n",
       "                              │            │         │   │   │          │                                                                          │                                                │                                 │               │               │               │\n",
       "(0, 3): ───Rz(th_3)───────────X────────────X─────────X───@───@──────────@──────────Rx(th_7)────Rx(th_11)───Rx(th_15)───────────────────────────────X───Rx(th_21)────────────────────────────────────X─────Rx(th_27)───────────────────X───Rx(th_33)───@───Rz(th_34)───@───Rz(th_36)───@───Rz(th_38)───\n",
       "                                          └──┘                                                                                                                                                     └──┘</pre>"
      ],
      "text/plain": [
       "                                          ┌──┐                                                                                                                                                     ┌──┐\n",
       "(0, 0): ───Rz(th_0)───@───@───@───X─────────X────────────X───Rx(th_4)───Rx(th_8)───Rx(th_12)───────────────@───────────Rz(th_16)───@───Rz(th_18)───@───Rz(th_20)───X───Rx(th_23)─────────────────────X────Rx(th_29)───────────────────────────────────X───Rx(th_35)───────────────────────────────────\n",
       "                      │   │   │   │         │            │                                                 │                       │               │               │                                 │                                                │\n",
       "(0, 1): ───Rz(th_1)───X───┼───┼───@───@────@┼────X───────┼───X──────────Rx(th_5)───Rx(th_9)────Rx(th_13)───X───────────Rx(th_17)───┼───────────────┼───────────────@───Rz(th_22)───@───Rz(th_24)────@┼────Rz(th_26)───X───Rx(th_31)───────────────────┼───────────────X───Rx(th_37)───────────────────\n",
       "                          │   │       │    ││    │       │   │                                                                     │               │                               │                ││                │                               │               │\n",
       "(0, 2): ───Rz(th_2)───────X───┼───────X────┼@────@───@───┼───┼──────────X──────────Rx(th_6)────Rx(th_10)───Rx(th_14)───────────────X───Rx(th_19)───┼───────────────────────────────X───Rx(th_25)────┼@────Rz(th_28)───@───Rz(th_30)───@───Rz(th_32)───┼───────────────┼───────────────X───Rx(th_39)───\n",
       "                              │            │         │   │   │          │                                                                          │                                                │                                 │               │               │               │\n",
       "(0, 3): ───Rz(th_3)───────────X────────────X─────────X───@───@──────────@──────────Rx(th_7)────Rx(th_11)───Rx(th_15)───────────────────────────────X───Rx(th_21)────────────────────────────────────X─────Rx(th_27)───────────────────X───Rx(th_33)───@───Rz(th_34)───@───Rz(th_36)───@───Rz(th_38)───\n",
       "                                          └──┘                                                                                                                                                     └──┘"
      ]
     },
     "execution_count": 9,
     "metadata": {},
     "output_type": "execute_result"
    }
   ],
   "source": [
    "c"
   ]
  },
  {
   "cell_type": "code",
   "execution_count": 12,
   "id": "likely-vitamin",
   "metadata": {},
   "outputs": [
    {
     "name": "stdout",
     "output_type": "stream",
     "text": [
      "simplified using  <bound method Simplifier.rule_3 of <utilities.simplifier.Simplifier object at 0x7f592c19db00>>\n",
      "simplified using  <bound method Simplifier.rule_3 of <utilities.simplifier.Simplifier object at 0x7f592c19db00>>\n",
      "simplified using  <bound method Simplifier.rule_3 of <utilities.simplifier.Simplifier object at 0x7f592c19db00>>\n",
      "simplified using  <bound method Simplifier.rule_3 of <utilities.simplifier.Simplifier object at 0x7f592c19db00>>\n"
     ]
    }
   ],
   "source": [
    "simplifier = Simplifier(translator, apply_relatives_to_first = True)\n",
    "simplifier.absolute_rules = []\n",
    "simplifier.relative_rules = [simplifier.rule_1, simplifier.rule_2, simplifier.rule_3]\n",
    "simplified_db, ns = simplifier.reduce_circuit(circuit_db)\n",
    "ss, simplified_db = translator.give_circuit(simplified_db)"
   ]
  },
  {
   "cell_type": "code",
   "execution_count": 13,
   "id": "equivalent-fundamental",
   "metadata": {},
   "outputs": [
    {
     "name": "stdout",
     "output_type": "stream",
     "text": [
      "\n",
      "\n",
      "0.949680639375971\n",
      "                                          ┌──┐                                                                                                                                                     ┌──┐\n",
      "(0, 0): ───Rz(th_0)───@───@───@───X─────────X────────────X───Rx(th_4)───Rx(th_8)───Rx(th_12)───────────────@───────────Rz(th_16)───@───Rz(th_18)───@───Rz(th_20)───X───Rx(th_23)─────────────────────X────Rx(th_29)───────────────────────────────────X───Rx(th_35)───────────────────────────────────\n",
      "                      │   │   │   │         │            │                                                 │                       │               │               │                                 │                                                │\n",
      "(0, 1): ───Rz(th_1)───X───┼───┼───@───@────@┼────X───────┼───X──────────Rx(th_5)───Rx(th_9)────Rx(th_13)───X───────────Rx(th_17)───┼───────────────┼───────────────@───Rz(th_22)───@───Rz(th_24)────@┼────Rz(th_26)───X───Rx(th_31)───────────────────┼───────────────X───Rx(th_37)───────────────────\n",
      "                          │   │       │    ││    │       │   │                                                                     │               │                               │                ││                │                               │               │\n",
      "(0, 2): ───Rz(th_2)───────X───┼───────X────┼@────@───@───┼───┼──────────X──────────Rx(th_6)────Rx(th_10)───Rx(th_14)───────────────X───Rx(th_19)───┼───────────────────────────────X───Rx(th_25)────┼@────Rz(th_28)───@───Rz(th_30)───@───Rz(th_32)───┼───────────────┼───────────────X───Rx(th_39)───\n",
      "                              │            │         │   │   │          │                                                                          │                                                │                                 │               │               │               │\n",
      "(0, 3): ───Rz(th_3)───────────X────────────X─────────X───@───@──────────@──────────Rx(th_7)────Rx(th_11)───Rx(th_15)───────────────────────────────X───Rx(th_21)────────────────────────────────────X─────Rx(th_27)───────────────────X───Rx(th_33)───@───Rz(th_34)───@───Rz(th_36)───@───Rz(th_38)───\n",
      "                                          └──┘                                                                                                                                                     └──┘\n",
      "\n",
      "                               ┌──┐                                                                                                                                                   ┌──┐\n",
      "(0, 0): ───@───@───@───X─────────X────────────X───Rx(th_0)───Rx(th_4)───Rx(th_8)──────────────@───────────Rz(th_12)───@───Rz(th_14)───@───Rz(th_16)───X───Rx(th_19)─────────────────────X────Rx(th_25)───────────────────────────────────X───Rx(th_31)───────────────────────────────────\n",
      "           │   │   │   │         │            │                                               │                       │               │               │                                 │                                                │\n",
      "(0, 1): ───X───┼───┼───@───@────@┼────X───────┼───X──────────Rx(th_1)───Rx(th_5)───Rx(th_9)───X───────────Rx(th_13)───┼───────────────┼───────────────@───Rz(th_18)───@───Rz(th_20)────@┼────Rz(th_22)───X───Rx(th_27)───────────────────┼───────────────X───Rx(th_33)───────────────────\n",
      "               │   │       │    ││    │       │   │                                                                   │               │                               │                ││                │                               │               │\n",
      "(0, 2): ───────X───┼───────X────┼@────@───@───┼───┼──────────X──────────Rx(th_2)───Rx(th_6)───Rx(th_10)───────────────X───Rx(th_15)───┼───────────────────────────────X───Rx(th_21)────┼@────Rz(th_24)───@───Rz(th_26)───@───Rz(th_28)───┼───────────────┼───────────────X───Rx(th_35)───\n",
      "                   │            │         │   │   │          │                                                                        │                                                │                                 │               │               │               │\n",
      "(0, 3): ───────────X────────────X─────────X───@───@──────────@──────────Rx(th_3)───Rx(th_7)───Rx(th_11)───────────────────────────────X───Rx(th_17)────────────────────────────────────X─────Rx(th_23)───────────────────X───Rx(th_29)───@───Rz(th_30)───@───Rz(th_32)───@───Rz(th_34)───\n",
      "                               └──┘                                                                                                                                                   └──┘\n"
     ]
    }
   ],
   "source": [
    "mdif = max_diff(translator , circuit_db, simplified_db)\n",
    "print(\"\\n\")\n",
    "print(mdif)\n",
    "print(c)\n",
    "print()\n",
    "print(ss)"
   ]
  },
  {
   "cell_type": "code",
   "execution_count": 15,
   "id": "apart-ownership",
   "metadata": {},
   "outputs": [
    {
     "data": {
      "text/plain": [
       "True"
      ]
     },
     "execution_count": 15,
     "metadata": {},
     "output_type": "execute_result"
    }
   ],
   "source": [
    "check_symbols_ordered(simplified_db)"
   ]
  },
  {
   "cell_type": "code",
   "execution_count": null,
   "id": "copyrighted-header",
   "metadata": {},
   "outputs": [],
   "source": []
  },
  {
   "cell_type": "code",
   "execution_count": 27,
   "id": "spoken-fourth",
   "metadata": {},
   "outputs": [],
   "source": [
    "mdif, [u1,u2] = max_diff(translator , circuit_db, simplified_db, matrix=True)"
   ]
  },
  {
   "cell_type": "code",
   "execution_count": 28,
   "id": "compliant-latex",
   "metadata": {},
   "outputs": [],
   "source": [
    "import matplotlib.pyplot as plt "
   ]
  },
  {
   "cell_type": "code",
   "execution_count": 29,
   "id": "naked-oxygen",
   "metadata": {},
   "outputs": [
    {
     "data": {
      "text/plain": [
       "<matplotlib.image.AxesImage at 0x7f940845e588>"
      ]
     },
     "execution_count": 29,
     "metadata": {},
     "output_type": "execute_result"
    },
    {
     "data": {
      "image/png": "[encoded data removed]",
      "text/plain": [
       "<Figure size 432x288 with 1 Axes>"
      ]
     },
     "metadata": {
      "needs_background": "light"
     },
     "output_type": "display_data"
    }
   ],
   "source": [
    "plt.imshow(np.real(a_bt(u1,u2)) )"
   ]
  },
  {
   "cell_type": "code",
   "execution_count": 30,
   "id": "lined-marathon",
   "metadata": {},
   "outputs": [
    {
     "data": {
      "text/plain": [
       "array([1., 1., 1., 1., 1., 1., 1., 1., 1., 1., 1., 1., 1., 1., 1., 1.])"
      ]
     },
     "execution_count": 30,
     "metadata": {},
     "output_type": "execute_result"
    }
   ],
   "source": [
    "np.abs(np.diag(np.real(a_bt(u1,u2)) + np.imag(a_bt(u1,u2))*1j))"
   ]
  },
  {
   "cell_type": "code",
   "execution_count": 31,
   "id": "canadian-timing",
   "metadata": {},
   "outputs": [
    {
     "data": {
      "text/plain": [
       "True"
      ]
     },
     "execution_count": 31,
     "metadata": {},
     "output_type": "execute_result"
    }
   ],
   "source": [
    "check_symbols_ordered(simplified_db)"
   ]
  },
  {
   "cell_type": "code",
   "execution_count": null,
   "id": "working-investing",
   "metadata": {},
   "outputs": [],
   "source": []
  }
 ],
 "metadata": {
  "kernelspec": {
   "display_name": "Python 3",
   "language": "python",
   "name": "python3"
  },
  "language_info": {
   "codemirror_mode": {
    "name": "ipython",
    "version": 3
   },
   "file_extension": ".py",
   "mimetype": "text/x-python",
   "name": "python",
   "nbconvert_exporter": "python",
   "pygments_lexer": "ipython3",
   "version": "3.6.9"
  }
 },
 "nbformat": 4,
 "nbformat_minor": 5
}
