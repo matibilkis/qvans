{
 "cells": [
  {
   "cell_type": "code",
   "execution_count": 133,
   "id": "cleared-explorer",
   "metadata": {},
   "outputs": [
    {
     "name": "stdout",
     "output_type": "stream",
     "text": [
      "The autoreload extension is already loaded. To reload it, use:\n",
      "  %reload_ext autoreload\n"
     ]
    }
   ],
   "source": [
    "%load_ext autoreload\n",
    "%autoreload 2\n",
    "\n",
    "import sympy \n",
    "import numpy as np \n",
    "import pandas as pd \n",
    "\n",
    "from utilities.circuit_database import CirqTranslater\n",
    "from utilities.templates import *\n",
    "from utilities.variational import Minimizer\n",
    "from utilities.misc import get_qubits_involved, reindex_symbol, gate_counter_on_qubits, get_symbol_number_from, shift_symbols\n",
    "import matplotlib.pyplot as plt \n"
   ]
  },
  {
   "cell_type": "code",
   "execution_count": 134,
   "id": "consolidated-journey",
   "metadata": {},
   "outputs": [
    {
     "name": "stdout",
     "output_type": "stream",
     "text": [
      "computing ground state energy...\n"
     ]
    }
   ],
   "source": [
    "translator = CirqTranslater(3)\n",
    "#db0 = pd.DataFrame([gate_template(translator.cnots_index[str([q,q+1])], block_id=0) for q in range(translator.n_qubits -1)])\n",
    "#db1 = pd.DataFrame([gate_template(translator.cnots_index[str([q,q+1])], block_id=0) for q in range(translator.n_qubits -1) for j in range(2)])\n",
    "db0 = u1_layer(translator, block_id=0)\n",
    "db1 = u1_layer(translator, block_id=1)\n",
    "circuit_db = concatenate_dbs([db0,db1])\n",
    "circuit, circuit_db = translator.give_circuit(circuit_db)\n",
    "\n",
    "minimizer = Minimizer(translator, mode=\"VQE\", hamiltonian=\"XXZ\",params=[.01,1])"
   ]
  },
  {
   "cell_type": "code",
   "execution_count": 135,
   "id": "commercial-punch",
   "metadata": {},
   "outputs": [
    {
     "data": {
      "text/plain": [
       "-3.010000000000001"
      ]
     },
     "execution_count": 135,
     "metadata": {},
     "output_type": "execute_result"
    }
   ],
   "source": [
    "symbols = translator.get_symbols(circuit_db)\n",
    "cost, resolver, training_history = minimizer.minimize([circuit], symbols)\n",
    "minimizer.lower_bound_cost"
   ]
  },
  {
   "cell_type": "code",
   "execution_count": 136,
   "id": "descending-warner",
   "metadata": {},
   "outputs": [],
   "source": [
    "circuit_db = translator.update_circuit_db_param_values(circuit_db,resolver)"
   ]
  },
  {
   "cell_type": "code",
   "execution_count": 137,
   "id": "graphic-trade",
   "metadata": {},
   "outputs": [
    {
     "data": {
      "text/html": [
       "<div>\n",
       "<style scoped>\n",
       "    .dataframe tbody tr th:only-of-type {\n",
       "        vertical-align: middle;\n",
       "    }\n",
       "\n",
       "    .dataframe tbody tr th {\n",
       "        vertical-align: top;\n",
       "    }\n",
       "\n",
       "    .dataframe thead th {\n",
       "        text-align: right;\n",
       "    }\n",
       "</style>\n",
       "<table border=\"1\" class=\"dataframe\">\n",
       "  <thead>\n",
       "    <tr style=\"text-align: right;\">\n",
       "      <th></th>\n",
       "      <th>ind</th>\n",
       "      <th>symbol</th>\n",
       "      <th>param_value</th>\n",
       "      <th>trainable</th>\n",
       "      <th>block_id</th>\n",
       "    </tr>\n",
       "  </thead>\n",
       "  <tbody>\n",
       "    <tr>\n",
       "      <th>0</th>\n",
       "      <td>6</td>\n",
       "      <td>th_0</td>\n",
       "      <td>26.2063</td>\n",
       "      <td>True</td>\n",
       "      <td>0</td>\n",
       "    </tr>\n",
       "    <tr>\n",
       "      <th>1</th>\n",
       "      <td>9</td>\n",
       "      <td>th_1</td>\n",
       "      <td>-49.3662</td>\n",
       "      <td>True</td>\n",
       "      <td>0</td>\n",
       "    </tr>\n",
       "    <tr>\n",
       "      <th>2</th>\n",
       "      <td>6</td>\n",
       "      <td>th_2</td>\n",
       "      <td>15.5827</td>\n",
       "      <td>True</td>\n",
       "      <td>0</td>\n",
       "    </tr>\n",
       "    <tr>\n",
       "      <th>3</th>\n",
       "      <td>7</td>\n",
       "      <td>th_3</td>\n",
       "      <td>11.8542</td>\n",
       "      <td>True</td>\n",
       "      <td>0</td>\n",
       "    </tr>\n",
       "    <tr>\n",
       "      <th>4</th>\n",
       "      <td>10</td>\n",
       "      <td>th_4</td>\n",
       "      <td>-19.9351</td>\n",
       "      <td>True</td>\n",
       "      <td>0</td>\n",
       "    </tr>\n",
       "    <tr>\n",
       "      <th>5</th>\n",
       "      <td>7</td>\n",
       "      <td>th_5</td>\n",
       "      <td>-89.6646</td>\n",
       "      <td>True</td>\n",
       "      <td>0</td>\n",
       "    </tr>\n",
       "    <tr>\n",
       "      <th>6</th>\n",
       "      <td>8</td>\n",
       "      <td>th_6</td>\n",
       "      <td>13.6428</td>\n",
       "      <td>True</td>\n",
       "      <td>0</td>\n",
       "    </tr>\n",
       "    <tr>\n",
       "      <th>7</th>\n",
       "      <td>11</td>\n",
       "      <td>th_7</td>\n",
       "      <td>-55.7413</td>\n",
       "      <td>True</td>\n",
       "      <td>0</td>\n",
       "    </tr>\n",
       "    <tr>\n",
       "      <th>8</th>\n",
       "      <td>8</td>\n",
       "      <td>th_8</td>\n",
       "      <td>-28.0173</td>\n",
       "      <td>True</td>\n",
       "      <td>0</td>\n",
       "    </tr>\n",
       "    <tr>\n",
       "      <th>9</th>\n",
       "      <td>6</td>\n",
       "      <td>th_9</td>\n",
       "      <td>-32.2125</td>\n",
       "      <td>True</td>\n",
       "      <td>0</td>\n",
       "    </tr>\n",
       "    <tr>\n",
       "      <th>10</th>\n",
       "      <td>9</td>\n",
       "      <td>th_10</td>\n",
       "      <td>-44.8545</td>\n",
       "      <td>True</td>\n",
       "      <td>0</td>\n",
       "    </tr>\n",
       "    <tr>\n",
       "      <th>11</th>\n",
       "      <td>6</td>\n",
       "      <td>th_11</td>\n",
       "      <td>-5.84423</td>\n",
       "      <td>True</td>\n",
       "      <td>0</td>\n",
       "    </tr>\n",
       "    <tr>\n",
       "      <th>12</th>\n",
       "      <td>7</td>\n",
       "      <td>th_12</td>\n",
       "      <td>-81.4878</td>\n",
       "      <td>True</td>\n",
       "      <td>1</td>\n",
       "    </tr>\n",
       "    <tr>\n",
       "      <th>13</th>\n",
       "      <td>10</td>\n",
       "      <td>th_13</td>\n",
       "      <td>67.0299</td>\n",
       "      <td>True</td>\n",
       "      <td>1</td>\n",
       "    </tr>\n",
       "    <tr>\n",
       "      <th>14</th>\n",
       "      <td>7</td>\n",
       "      <td>th_14</td>\n",
       "      <td>-1.17214</td>\n",
       "      <td>True</td>\n",
       "      <td>1</td>\n",
       "    </tr>\n",
       "    <tr>\n",
       "      <th>15</th>\n",
       "      <td>8</td>\n",
       "      <td>th_15</td>\n",
       "      <td>-9.67904</td>\n",
       "      <td>True</td>\n",
       "      <td>1</td>\n",
       "    </tr>\n",
       "    <tr>\n",
       "      <th>16</th>\n",
       "      <td>11</td>\n",
       "      <td>th_16</td>\n",
       "      <td>-81.1513</td>\n",
       "      <td>True</td>\n",
       "      <td>1</td>\n",
       "    </tr>\n",
       "    <tr>\n",
       "      <th>17</th>\n",
       "      <td>8</td>\n",
       "      <td>th_17</td>\n",
       "      <td>86.7106</td>\n",
       "      <td>True</td>\n",
       "      <td>1</td>\n",
       "    </tr>\n",
       "  </tbody>\n",
       "</table>\n",
       "</div>"
      ],
      "text/plain": [
       "    ind symbol param_value  trainable  block_id\n",
       "0     6   th_0     26.2063       True         0\n",
       "1     9   th_1    -49.3662       True         0\n",
       "2     6   th_2     15.5827       True         0\n",
       "3     7   th_3     11.8542       True         0\n",
       "4    10   th_4    -19.9351       True         0\n",
       "5     7   th_5    -89.6646       True         0\n",
       "6     8   th_6     13.6428       True         0\n",
       "7    11   th_7    -55.7413       True         0\n",
       "8     8   th_8    -28.0173       True         0\n",
       "9     6   th_9    -32.2125       True         0\n",
       "10    9  th_10    -44.8545       True         0\n",
       "11    6  th_11    -5.84423       True         0\n",
       "12    7  th_12    -81.4878       True         1\n",
       "13   10  th_13     67.0299       True         1\n",
       "14    7  th_14    -1.17214       True         1\n",
       "15    8  th_15    -9.67904       True         1\n",
       "16   11  th_16    -81.1513       True         1\n",
       "17    8  th_17     86.7106       True         1"
      ]
     },
     "execution_count": 137,
     "metadata": {},
     "output_type": "execute_result"
    }
   ],
   "source": [
    "circuit_db"
   ]
  },
  {
   "cell_type": "code",
   "execution_count": 140,
   "id": "animated-julian",
   "metadata": {},
   "outputs": [],
   "source": [
    "idinserter = IdInserter(n_qubits=translator.n_qubits, spread_CNOTs=False, choose_qubit_Temperature=0., noise_in_rotations=0.)"
   ]
  },
  {
   "cell_type": "code",
   "execution_count": 152,
   "id": "major-tucson",
   "metadata": {},
   "outputs": [],
   "source": [
    "for k in range(10):\n",
    "    m_circuit_db = idinserter.insert_many_mutations(circuit_db, mutation_rate=2)\n",
    "    diff = minimizer.give_cost(  [translator.give_circuit(m_circuit_db)[0]], resolver ) - cost\n",
    "    if np.abs(diff) > 1e-6:\n",
    "        print(\"epa\", diff)\n"
   ]
  },
  {
   "cell_type": "code",
   "execution_count": null,
   "id": "resident-furniture",
   "metadata": {},
   "outputs": [],
   "source": []
  },
  {
   "cell_type": "code",
   "execution_count": null,
   "id": "boxed-textbook",
   "metadata": {},
   "outputs": [],
   "source": []
  },
  {
   "cell_type": "code",
   "execution_count": null,
   "id": "czech-haven",
   "metadata": {},
   "outputs": [],
   "source": []
  },
  {
   "cell_type": "code",
   "execution_count": null,
   "id": "fresh-stylus",
   "metadata": {},
   "outputs": [],
   "source": []
  },
  {
   "cell_type": "code",
   "execution_count": null,
   "id": "tender-isaac",
   "metadata": {},
   "outputs": [],
   "source": []
  },
  {
   "cell_type": "code",
   "execution_count": 5,
   "id": "liable-gibson",
   "metadata": {},
   "outputs": [],
   "source": [
    "def get_positional_dbs(circuit, circuit_db):\n",
    "\n",
    "    qubits_involved = get_qubits_involved(circuit, circuit_db)\n",
    "    \n",
    "    gates_on_qubit = {q:[] for q in qubits_involved}\n",
    "    on_qubit_order = {q:[] for q in qubits_involved}\n",
    "\n",
    "    for order_gate, ind_gate in enumerate( circuit_db[\"ind\"]):\n",
    "        if ind_gate < translator.number_of_cnots:\n",
    "            control, target = translator.indexed_cnots[str(ind_gate)]\n",
    "            gates_on_qubit[control].append(ind_gate)\n",
    "            gates_on_qubit[target].append(ind_gate)\n",
    "            on_qubit_order[control].append(order_gate)                \n",
    "            on_qubit_order[target].append(order_gate)  \n",
    "        else:\n",
    "            gates_on_qubit[(ind_gate-translator.n_qubits)%translator.n_qubits].append(ind_gate)\n",
    "            on_qubit_order[(ind_gate-translator.n_qubits)%translator.n_qubits].append(order_gate)        \n",
    "    return gates_on_qubit, on_qubit_order"
   ]
  },
  {
   "cell_type": "code",
   "execution_count": null,
   "id": "worst-pillow",
   "metadata": {},
   "outputs": [],
   "source": []
  },
  {
   "cell_type": "code",
   "execution_count": 9,
   "id": "talented-modification",
   "metadata": {},
   "outputs": [],
   "source": [
    "def rule_1(translator, simplified_db, on_qubit_order, gates_on_qubit):\n",
    "    simplification = False\n",
    "    \n",
    "    for q, qubit_gates_path in gates_on_qubit.items():\n",
    "        if simplification is True:\n",
    "            break\n",
    "        for order_gate_on_qubit, ind_gate in enumerate(qubit_gates_path):\n",
    "            if ind_gate < translator.number_of_cnots:\n",
    "                control, target = translator.indexed_cnots[str(ind_gate)]\n",
    "                if (q == control) and (order_gate_on_qubit == 0):\n",
    "                    pos_gate_to_drop = on_qubit_order[q][order_gate_on_qubit]\n",
    "                    \n",
    "                    block_id = circuit_db.iloc[pos_gate_to_drop][\"block_id\"]\n",
    "                    simplified_db.loc[int(pos_gate_to_drop)+0.1] = gate_template(translator.number_of_cnots + translator.n_qubits + control, param_value=0.0, block_id=circuit_db.iloc[0][\"block_id\"])\n",
    "                    simplified_db.loc[int(pos_gate_to_drop)+0.11] = gate_template(translator.number_of_cnots + translator.n_qubits + target, param_value=0.0, block_id=circuit_db.iloc[0][\"block_id\"])\n",
    "                    \n",
    "                    simplified_db = simplified_db.drop(labels=[pos_gate_to_drop],axis=0)\n",
    "                    \n",
    "                    simplification = True\n",
    "                    break\n",
    "    simplified_db = simplified_db.sort_index().reset_index(drop=True)\n",
    "    return simplification, simplified_db\n",
    "\n",
    "\n",
    "def rule_2(translator, simplified_db, on_qubit_order, gates_on_qubit):\n",
    "    simplification = False\n",
    "    \n",
    "    for q, qubit_gates_path in gates_on_qubit.items():\n",
    "        if simplification is True:\n",
    "            break\n",
    "        for order_gate_on_qubit, ind_gate in enumerate(qubit_gates_path[:-1]):\n",
    "            \n",
    "            next_ind_gate = qubit_gates_path[order_gate_on_qubit+1]\n",
    "            if (ind_gate < translator.number_of_cnots) and (ind_gate == next_ind_gate):\n",
    "                control, target = translator.indexed_cnots[str(ind_gate)]\n",
    "                not_gates_in_between = False\n",
    "                this_qubit = q\n",
    "                other_qubits = [control, target]\n",
    "                other_qubits.remove(q)\n",
    "                other_qubit = other_qubits[0]\n",
    "                \n",
    "                ## now we need to check what happens in the other_qubit\n",
    "                for qord_other, ind_gate_other in enumerate(gates_on_qubit[other_qubit][:-1]):\n",
    "                    if (ind_gate_other == ind_gate) and (gates_on_qubit[other_qubit][qord_other +1] == ind_gate):\n",
    "                        ## if we append the CNOT for q and other_q on the same call, and also for the consecutive\n",
    "                        ## note that in between there can be other calls for other qubits\n",
    "                        order_call_q = on_qubit_order[q][order_gate_on_qubit]\n",
    "                        order_call_other_q = on_qubit_order[other_qubit][qord_other]\n",
    "                        \n",
    "                        order_call_qP1 = on_qubit_order[q][order_gate_on_qubit+1]\n",
    "                        order_call_other_qP1 = on_qubit_order[other_qubit][qord_other+1]\n",
    "                        \n",
    "                        ## then it's kosher to say they are consecutively applied (if only looking at the two qubits)\n",
    "                        if (order_call_q == order_call_other_q) and (order_call_qP1 == order_call_other_qP1):\n",
    "                            \n",
    "                            pos_gate_to_drop = on_qubit_order[q][order_gate_on_qubit]\n",
    "                            simplified_db = simplified_db.drop(labels=[pos_gate_to_drop],axis=0)\n",
    "                            pos_gate_to_drop = on_qubit_order[q][order_gate_on_qubit+1]\n",
    "                            simplified_db = simplified_db.drop(labels=[pos_gate_to_drop],axis=0)\n",
    "\n",
    "                            simplification = True\n",
    "                            break\n",
    "                if simplification is True:\n",
    "                    break\n",
    "            else:       \n",
    "                simplification = False\n",
    "                gate_analyzed[q][order_gate_on_qubit] = True\n",
    "    simplified_db = simplified_db.reset_index(drop=True)\n",
    "    return simplification, simplified_db\n",
    "\n",
    "\n",
    "\n",
    "def apply_rule(original_circuit_db, rule, **kwargs):\n",
    "    max_cnt = kwargs.get('max_cnt',10)\n",
    "    simplified, cnt = True, 0\n",
    "    original_circuit, original_circuit_db = translator.give_circuit(original_circuit_db)\n",
    "    gates_on_qubit, on_qubit_order = get_positional_dbs(original_circuit, original_circuit_db)\n",
    "    simplified_db = original_circuit_db.copy()\n",
    "    while simplified and cnt < max_cnt:\n",
    "        simplified, simplified_circuit_db = rule(translator, simplified_db, on_qubit_order, gates_on_qubit)\n",
    "        circuit, simplified_db = translator.give_circuit(simplified_circuit_db)\n",
    "        gates_on_qubit, on_qubit_order = get_positional_dbs(circuit, simplified_db)\n",
    "        cnt+=1\n",
    "    return cnt, simplified_db"
   ]
  },
  {
   "cell_type": "code",
   "execution_count": 10,
   "id": "indian-lying",
   "metadata": {},
   "outputs": [],
   "source": []
  },
  {
   "cell_type": "code",
   "execution_count": 13,
   "id": "geological-limitation",
   "metadata": {},
   "outputs": [
    {
     "data": {
      "text/plain": [
       "0    None\n",
       "1    None\n",
       "2    None\n",
       "3    None\n",
       "4    None\n",
       "5    None\n",
       "Name: symbol, dtype: object"
      ]
     },
     "execution_count": 13,
     "metadata": {},
     "output_type": "execute_result"
    }
   ],
   "source": [
    "circuit_db[\"symbol\"]."
   ]
  },
  {
   "cell_type": "code",
   "execution_count": null,
   "id": "grand-nicholas",
   "metadata": {},
   "outputs": [],
   "source": []
  },
  {
   "cell_type": "code",
   "execution_count": 198,
   "id": "recreational-hostel",
   "metadata": {},
   "outputs": [],
   "source": [
    "cnts, simplified_db = apply_rule(circuit_db, rule_1)"
   ]
  },
  {
   "cell_type": "code",
   "execution_count": 201,
   "id": "powered-heritage",
   "metadata": {},
   "outputs": [],
   "source": [
    "circuit, circuit_db = translator.give_circuit(simplified_db)"
   ]
  },
  {
   "cell_type": "code",
   "execution_count": 202,
   "id": "incoming-maine",
   "metadata": {},
   "outputs": [],
   "source": [
    "cnts, simplified_db = apply_rule(circuit_db, rule_2)"
   ]
  },
  {
   "cell_type": "code",
   "execution_count": 203,
   "id": "adjustable-cookie",
   "metadata": {},
   "outputs": [],
   "source": [
    "circuit, circuit_db = translator.give_circuit(simplified_db)"
   ]
  },
  {
   "cell_type": "code",
   "execution_count": 204,
   "id": "private-pocket",
   "metadata": {},
   "outputs": [
    {
     "data": {
      "text/html": [
       "<pre style=\"overflow: auto; white-space: pre;\">(0, 0): ───Rx(0)───────\n",
       "\n",
       "(0, 1): ───Rx(0)───@───\n",
       "                   │\n",
       "(0, 2): ───────────X───</pre>"
      ],
      "text/plain": [
       "(0, 0): ───Rx(0)───────\n",
       "\n",
       "(0, 1): ───Rx(0)───@───\n",
       "                   │\n",
       "(0, 2): ───────────X───"
      ]
     },
     "execution_count": 204,
     "metadata": {},
     "output_type": "execute_result"
    }
   ],
   "source": [
    "circuit"
   ]
  },
  {
   "cell_type": "code",
   "execution_count": null,
   "id": "neural-stamp",
   "metadata": {},
   "outputs": [],
   "source": []
  }
 ],
 "metadata": {
  "kernelspec": {
   "display_name": "Python 3",
   "language": "python",
   "name": "python3"
  },
  "language_info": {
   "codemirror_mode": {
    "name": "ipython",
    "version": 3
   },
   "file_extension": ".py",
   "mimetype": "text/x-python",
   "name": "python",
   "nbconvert_exporter": "python",
   "pygments_lexer": "ipython3",
   "version": "3.6.9"
  }
 },
 "nbformat": 4,
 "nbformat_minor": 5
}
