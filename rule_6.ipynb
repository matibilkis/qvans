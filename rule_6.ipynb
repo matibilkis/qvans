{
 "cells": [
  {
   "cell_type": "markdown",
   "id": "israeli-cathedral",
   "metadata": {},
   "source": [
    "In this notebook we give a proof of concept of unitary compiling using TFQ. "
   ]
  },
  {
   "cell_type": "code",
   "execution_count": 87,
   "id": "cleared-explorer",
   "metadata": {},
   "outputs": [
    {
     "name": "stdout",
     "output_type": "stream",
     "text": [
      "The autoreload extension is already loaded. To reload it, use:\n",
      "  %reload_ext autoreload\n"
     ]
    }
   ],
   "source": [
    "%load_ext autoreload\n",
    "%autoreload 2\n",
    "\n",
    "import sympy \n",
    "import numpy as np \n",
    "import pandas as pd \n",
    "import tensorflow as tf\n",
    "from utilities.circuit_database import CirqTranslater\n",
    "from utilities.templates import *\n",
    "from utilities.variational import Minimizer\n",
    "from utilities.misc import get_qubits_involved, reindex_symbol, shift_symbols_down\n",
    "import matplotlib.pyplot as plt \n",
    "import tensorflow_quantum as tfq\n",
    "import cirq\n",
    "from utilities.compiling import *\n",
    "from utilities.misc import *\n",
    "from utilities.simplifier import Simplifier\n",
    "from utilities.discrimination import *\n",
    "from utilities.idinserter import IdInserter\n",
    "from utilities.evaluator import Evaluator\n",
    "from utilities.gate_killer import GateKiller\n",
    "from ast import literal_eval\n"
   ]
  },
  {
   "cell_type": "code",
   "execution_count": 88,
   "id": "coastal-dividend",
   "metadata": {},
   "outputs": [],
   "source": [
    "np.random.seed(0)\n",
    "translator = CirqTranslater(3, untouchable_blocks = [1])\n",
    "translator.env_qubits = [2]\n",
    "translator.encoder_id = 0\n",
    "translator.channel_id = 1\n",
    "translator.decoder_id = 2\n",
    "simplifier = Simplifier(translator)\n",
    "etas = [0.01, 1.]\n",
    "minimizer = Minimizer(translator, mode=\"discrimination\", params=etas)\n",
    "killer = GateKiller(translator, mode=\"discrimination\", params = etas)\n",
    "inserter = IdInserter(translator.n_qubits, untouchable_blocks=translator.channel_id)\n",
    "args_evaluator = {\"n_qubits\":translator.n_qubits, \"problem\":\"acd\",\"params\":etas}\n",
    "evaluator = Evaluator(args=args_evaluator, lower_bound_cost=minimizer.lower_bound_cost, nrun=0)"
   ]
  },
  {
   "cell_type": "code",
   "execution_count": 112,
   "id": "directed-unemployment",
   "metadata": {},
   "outputs": [],
   "source": [
    "cdb = []\n",
    "for ind, qubits in list(translator.indexed_cnots.items()):\n",
    "    cdb.append(gate_template(int(ind), block_id=0))\n",
    "    con, tar = qubits\n",
    "    cdb.append(gate_template(int(con + translator.number_of_cnots), param_value = np.random.random()))\n",
    "    cdb.append(gate_template(int(tar + translator.number_of_cnots + translator.n_qubits), param_value = np.random.random()))\n",
    "circuit_db = pd.DataFrame(cdb)\n"
   ]
  },
  {
   "cell_type": "code",
   "execution_count": 113,
   "id": "comparative-world",
   "metadata": {},
   "outputs": [],
   "source": [
    "circuit, circuit_db = translator.give_circuit(circuit_db)"
   ]
  },
  {
   "cell_type": "code",
   "execution_count": 114,
   "id": "accessible-franchise",
   "metadata": {},
   "outputs": [
    {
     "data": {
      "text/html": [
       "<pre style=\"overflow: auto; white-space: pre;\">(0, 0): ───@───Rz(th_0)───@───Rz(th_2)───X───Rx(th_5)──────────────────X───Rx(th_9)───────────────────\n",
       "           │              │              │                             │\n",
       "(0, 1): ───X───Rx(th_1)───┼──────────────@───Rz(th_4)───@───Rz(th_6)───┼──────────────X───Rx(th_11)───\n",
       "                          │                             │              │              │\n",
       "(0, 2): ──────────────────X───Rx(th_3)──────────────────X───Rx(th_7)───@───Rz(th_8)───@───Rz(th_10)───</pre>"
      ],
      "text/plain": [
       "(0, 0): ───@───Rz(th_0)───@───Rz(th_2)───X───Rx(th_5)──────────────────X───Rx(th_9)───────────────────\n",
       "           │              │              │                             │\n",
       "(0, 1): ───X───Rx(th_1)───┼──────────────@───Rz(th_4)───@───Rz(th_6)───┼──────────────X───Rx(th_11)───\n",
       "                          │                             │              │              │\n",
       "(0, 2): ──────────────────X───Rx(th_3)──────────────────X───Rx(th_7)───@───Rz(th_8)───@───Rz(th_10)───"
      ]
     },
     "execution_count": 114,
     "metadata": {},
     "output_type": "execute_result"
    }
   ],
   "source": [
    "circuit"
   ]
  },
  {
   "cell_type": "code",
   "execution_count": 115,
   "id": "later-house",
   "metadata": {},
   "outputs": [
    {
     "name": "stdout",
     "output_type": "stream",
     "text": [
      "<bound method Simplifier.rule_6 of <utilities.simplifier.Simplifier object at 0x7f593cc31a90>>\n",
      "<bound method Simplifier.rule_6 of <utilities.simplifier.Simplifier object at 0x7f593cc31a90>>\n",
      "<bound method Simplifier.rule_6 of <utilities.simplifier.Simplifier object at 0x7f593cc31a90>>\n",
      "<bound method Simplifier.rule_6 of <utilities.simplifier.Simplifier object at 0x7f593cc31a90>>\n",
      "<bound method Simplifier.rule_6 of <utilities.simplifier.Simplifier object at 0x7f593cc31a90>>\n"
     ]
    }
   ],
   "source": [
    "simplified_db, ns = simplifier.reduce_circuit(circuit_db)\n",
    "ss, simplified_db = translator.give_circuit(simplified_db)"
   ]
  },
  {
   "cell_type": "code",
   "execution_count": 116,
   "id": "fiscal-clothing",
   "metadata": {},
   "outputs": [],
   "source": [
    "gates_on_qubit, on_qubit_order = simplifier.get_positional_dbs(circuit, circuit_db)\n",
    "simplified_db = circuit_db.copy()"
   ]
  },
  {
   "cell_type": "code",
   "execution_count": 117,
   "id": "desperate-conservation",
   "metadata": {},
   "outputs": [
    {
     "data": {
      "text/plain": [
       "0.0"
      ]
     },
     "execution_count": 117,
     "metadata": {},
     "output_type": "execute_result"
    }
   ],
   "source": [
    "mdif = max_diff(translator , circuit_db, simplified_db)\n",
    "mdif"
   ]
  },
  {
   "cell_type": "code",
   "execution_count": null,
   "id": "cloudy-nutrition",
   "metadata": {},
   "outputs": [],
   "source": []
  },
  {
   "cell_type": "code",
   "execution_count": null,
   "id": "acute-indie",
   "metadata": {},
   "outputs": [],
   "source": []
  },
  {
   "cell_type": "code",
   "execution_count": null,
   "id": "northern-detector",
   "metadata": {},
   "outputs": [],
   "source": []
  },
  {
   "cell_type": "code",
   "execution_count": null,
   "id": "surrounded-syntax",
   "metadata": {},
   "outputs": [],
   "source": []
  },
  {
   "cell_type": "code",
   "execution_count": 59,
   "id": "elegant-commonwealth",
   "metadata": {},
   "outputs": [],
   "source": [
    "simplification = False\n",
    "for q, qubit_gates_path in gates_on_qubit.items():\n",
    "    if simplification is True:\n",
    "        break\n",
    "    for order_gate_on_qubit, ind_gate in enumerate(qubit_gates_path[:-1]):\n",
    "        if simplification is True:\n",
    "            break\n",
    "        ind_gate_p1 = qubit_gates_path[order_gate_on_qubit+1]\n",
    "        ## if i have a rotation and then a CNOT\n",
    "        if (check_rot(ind_gate, simplifier.translator) is True) and (check_cnot(ind_gate_p1, simplifier.translator) is True):\n",
    "            type_0 = type_get(ind_gate, simplifier.translator)\n",
    "            control, target = simplifier.translator.indexed_cnots[str(ind_gate_p1)]\n",
    "\n",
    "            this_qubit = q\n",
    "            other_qubits = [control, target]\n",
    "            other_qubits.remove(q)\n",
    "            other_qubit = other_qubits[0]\n",
    "\n",
    "            ### now it happens two interesting things: type0 == 0 AND q == control\n",
    "            ### or type_0 == 1 AND q == target  then swap orders\n",
    "            if ((type_0 == 0) and (q == control)) or ((type_0 == 1) and (q == target)):\n",
    "                if len(on_qubit_order[q])<2:\n",
    "                    simplification=False\n",
    "                else:\n",
    "                    simplification = True\n",
    "                    qq, order_gate_on_qubitt, indexx_rot = q, order_gate_on_qubit, index_rot\n",
    "                    index_rot = on_qubit_order[q][order_gate_on_qubit]\n",
    "                    info_rot = simplified_db.loc[index_rot].copy()\n",
    "                break\n"
   ]
  },
  {
   "cell_type": "code",
   "execution_count": 67,
   "id": "functional-unemployment",
   "metadata": {},
   "outputs": [],
   "source": [
    "simplified_db = simplified_db.drop(labels=[index_rot],axis=0)#"
   ]
  },
  {
   "cell_type": "code",
   "execution_count": 76,
   "id": "outdoor-catholic",
   "metadata": {},
   "outputs": [],
   "source": [
    "simplified_db.loc[on_qubit_order[qq][order_gate_on_qubitt+1 ] + 0.1] = info_rot"
   ]
  },
  {
   "cell_type": "code",
   "execution_count": 78,
   "id": "complete-vegetable",
   "metadata": {},
   "outputs": [],
   "source": [
    "simplified_db = simplified_db.sort_index().reset_index(drop=True)"
   ]
  },
  {
   "cell_type": "code",
   "execution_count": 86,
   "id": "worst-agency",
   "metadata": {},
   "outputs": [],
   "source": [
    "simplified_db = order_symbol_labels(simplified_db)"
   ]
  },
  {
   "cell_type": "code",
   "execution_count": null,
   "id": "royal-paste",
   "metadata": {},
   "outputs": [],
   "source": []
  },
  {
   "cell_type": "code",
   "execution_count": null,
   "id": "tamil-haven",
   "metadata": {},
   "outputs": [],
   "source": []
  },
  {
   "cell_type": "code",
   "execution_count": null,
   "id": "humanitarian-berkeley",
   "metadata": {},
   "outputs": [],
   "source": []
  },
  {
   "cell_type": "code",
   "execution_count": 52,
   "id": "convenient-liberia",
   "metadata": {},
   "outputs": [
    {
     "data": {
      "text/plain": [
       "True"
      ]
     },
     "execution_count": 52,
     "metadata": {},
     "output_type": "execute_result"
    }
   ],
   "source": [
    "simplified_db = simplified_db.drop(labels=[index_rot],axis=0)#\n",
    "\n",
    "simplified_db.loc[on_qubit_order[q][order_gate_on_qubit+1 ] + 0.1] = info_rot\n",
    "simplified_db = simplified_db.sort_index().reset_index(drop=True)"
   ]
  },
  {
   "cell_type": "code",
   "execution_count": 54,
   "id": "recreational-architecture",
   "metadata": {},
   "outputs": [
    {
     "data": {
      "text/html": [
       "<pre style=\"overflow: auto; white-space: pre;\">(0, 0): ───@───Rz(th_0)───@───Rz(th_2)───\n",
       "           │              │\n",
       "(0, 1): ───X───Rx(th_1)───┼──────────────\n",
       "                          │\n",
       "(0, 2): ──────────────────X───Rx(th_3)───</pre>"
      ],
      "text/plain": [
       "(0, 0): ───@───Rz(th_0)───@───Rz(th_2)───\n",
       "           │              │\n",
       "(0, 1): ───X───Rx(th_1)───┼──────────────\n",
       "                          │\n",
       "(0, 2): ──────────────────X───Rx(th_3)───"
      ]
     },
     "execution_count": 54,
     "metadata": {},
     "output_type": "execute_result"
    }
   ],
   "source": [
    "circuit"
   ]
  },
  {
   "cell_type": "code",
   "execution_count": null,
   "id": "elect-composite",
   "metadata": {},
   "outputs": [],
   "source": []
  },
  {
   "cell_type": "code",
   "execution_count": null,
   "id": "dependent-region",
   "metadata": {},
   "outputs": [],
   "source": []
  },
  {
   "cell_type": "code",
   "execution_count": null,
   "id": "private-escape",
   "metadata": {},
   "outputs": [],
   "source": []
  },
  {
   "cell_type": "code",
   "execution_count": null,
   "id": "sudden-philip",
   "metadata": {},
   "outputs": [],
   "source": []
  },
  {
   "cell_type": "code",
   "execution_count": null,
   "id": "injured-integral",
   "metadata": {},
   "outputs": [],
   "source": []
  },
  {
   "cell_type": "code",
   "execution_count": null,
   "id": "developed-shanghai",
   "metadata": {},
   "outputs": [],
   "source": [
    "def rule_6(simplifier, simplified_db, on_qubit_order, gates_on_qubit):\n",
    "    simplification = False\n",
    "    for q, qubit_gates_path in gates_on_qubit.items():\n",
    "        if simplification is True:\n",
    "            break\n",
    "        for order_gate_on_qubit, ind_gate in enumerate(qubit_gates_path[:-1]):\n",
    "            if simplification is True:\n",
    "                break\n",
    "            ind_gate_p1 = qubit_gates_path[order_gate_on_qubit+1]\n",
    "            ## if i have a rotation and then a CNOT\n",
    "            if (check_rot(ind_gate, simplifier.translator) is True) and (check_cnot(ind_gate_p1, simplifier.translator) is True):\n",
    "                type_0 = type_get(ind_gate, simplifier.translator)\n",
    "                control, target = simplifier.translator.indexed_cnots[str(ind_gate_p1)]\n",
    "\n",
    "                this_qubit = q\n",
    "                other_qubits = [control, target]\n",
    "                other_qubits.remove(q)\n",
    "                other_qubit = other_qubits[0]\n",
    "\n",
    "                ### now it happens two interesting things: type0 == 0 AND q == control\n",
    "                ### or type_0 == 1 AND q == target  then swap orders\n",
    "\n",
    "                if ((type_0 == 0) and (q == control)) or ((type_0 == 1) and (q == target)):\n",
    "                    if len(on_qubit_order[q]) <2:\n",
    "                        simplification=False\n",
    "                    else:\n",
    "\n",
    "                        simplification = True\n",
    "\n",
    "                        ###now we swap the order in which we apply the rotation and the CNOT.\n",
    "                        index_rot = on_qubit_order[q][order_gate_on_qubit]\n",
    "                        info_rot = simplified_db.loc[index_rot].copy()\n",
    "                        simplified_db = simplified_db.drop(labels=[index_rot],axis=0)#\n",
    "\n",
    "                        simplified_db.loc[on_qubit_order[q][order_gate_on_qubit+1 ] + 0.1] = info_rot\n",
    "                        simplified_db = simplified_db.sort_index().reset_index(drop=True)\n",
    "\n",
    "                        break\n",
    "    return simplification, simplified_db"
   ]
  },
  {
   "cell_type": "code",
   "execution_count": null,
   "id": "metallic-karma",
   "metadata": {},
   "outputs": [],
   "source": []
  },
  {
   "cell_type": "code",
   "execution_count": null,
   "id": "recreational-small",
   "metadata": {},
   "outputs": [],
   "source": []
  },
  {
   "cell_type": "code",
   "execution_count": null,
   "id": "virtual-neutral",
   "metadata": {},
   "outputs": [],
   "source": []
  },
  {
   "cell_type": "code",
   "execution_count": null,
   "id": "statewide-seeker",
   "metadata": {},
   "outputs": [],
   "source": []
  },
  {
   "cell_type": "code",
   "execution_count": null,
   "id": "changed-worker",
   "metadata": {},
   "outputs": [],
   "source": []
  },
  {
   "cell_type": "code",
   "execution_count": null,
   "id": "fancy-campbell",
   "metadata": {},
   "outputs": [],
   "source": []
  },
  {
   "cell_type": "code",
   "execution_count": 45,
   "id": "authorized-carbon",
   "metadata": {},
   "outputs": [
    {
     "name": "stdout",
     "output_type": "stream",
     "text": [
      "<bound method Simplifier.rule_6 of <utilities.simplifier.Simplifier object at 0x7f5968265400>>\n",
      "warning, repeated symbol while constructing the circuit, see circuut_\n",
      "  symbol_name th_1\n",
      " symbols ['th_1', 'th_0']\n",
      "circuit_db {0: {'ind': 0, 'symbol': None, 'param_value': None, 'trainable': True, 'block_id': 0}, 1: {'ind': 10, 'symbol': 'th_1', 'param_value': None, 'trainable': True, 'block_id': 0}, 2: {'ind': 1, 'symbol': None, 'param_value': None, 'trainable': True, 'block_id': 0}, 3: {'ind': 6, 'symbol': 'th_0', 'param_value': None, 'trainable': True, 'block_id': 0}, 4: {'ind': 6, 'symbol': 'th_1', 'param_value': None, 'trainable': True, 'block_id': 0}} \n",
      "\n",
      "\n",
      "\n"
     ]
    }
   ],
   "source": [
    "simplified_db, ns = simplifier.reduce_circuit(circuit_db)\n",
    "ss, simplified_db = translator.give_circuit(simplified_db)"
   ]
  },
  {
   "cell_type": "code",
   "execution_count": null,
   "id": "nutritional-complex",
   "metadata": {},
   "outputs": [],
   "source": []
  },
  {
   "cell_type": "code",
   "execution_count": null,
   "id": "civil-bidding",
   "metadata": {},
   "outputs": [],
   "source": []
  },
  {
   "cell_type": "code",
   "execution_count": 5,
   "id": "genuine-fighter",
   "metadata": {},
   "outputs": [],
   "source": [
    "block_0 = concatenate_dbs([z_layer_db(translator, block_id=0), z_layer_db(translator, block_id=0), z_layer_db(translator, block_id=0)])\n",
    "blo=1\n",
    "block_1 = concatenate_dbs([x_layer_db(translator, block_id=blo), x_layer_db(translator, block_id=blo), x_layer_db(translator, block_id=blo)])\n",
    "circuit_db = concatenate_dbs([block_0, block_1])"
   ]
  },
  {
   "cell_type": "code",
   "execution_count": 6,
   "id": "unusual-preservation",
   "metadata": {},
   "outputs": [],
   "source": [
    "circuit, circuit_db = translator.give_circuit(circuit_db)"
   ]
  },
  {
   "cell_type": "code",
   "execution_count": 7,
   "id": "rocky-party",
   "metadata": {},
   "outputs": [
    {
     "name": "stdout",
     "output_type": "stream",
     "text": [
      "<bound method Simplifier.rule_4 of <utilities.simplifier.Simplifier object at 0x7f81bc0215c0>>\n",
      "<bound method Simplifier.rule_4 of <utilities.simplifier.Simplifier object at 0x7f81bc0215c0>>\n",
      "<bound method Simplifier.rule_4 of <utilities.simplifier.Simplifier object at 0x7f81bc0215c0>>\n",
      "<bound method Simplifier.rule_4 of <utilities.simplifier.Simplifier object at 0x7f81bc0215c0>>\n",
      "<bound method Simplifier.rule_4 of <utilities.simplifier.Simplifier object at 0x7f81bc0215c0>>\n",
      "<bound method Simplifier.rule_4 of <utilities.simplifier.Simplifier object at 0x7f81bc0215c0>>\n",
      "<bound method Simplifier.rule_4 of <utilities.simplifier.Simplifier object at 0x7f81bc0215c0>>\n",
      "<bound method Simplifier.rule_4 of <utilities.simplifier.Simplifier object at 0x7f81bc0215c0>>\n",
      "<bound method Simplifier.rule_4 of <utilities.simplifier.Simplifier object at 0x7f81bc0215c0>>\n",
      "<bound method Simplifier.rule_4 of <utilities.simplifier.Simplifier object at 0x7f81bc0215c0>>\n",
      "<bound method Simplifier.rule_4 of <utilities.simplifier.Simplifier object at 0x7f81bc0215c0>>\n",
      "<bound method Simplifier.rule_4 of <utilities.simplifier.Simplifier object at 0x7f81bc0215c0>>\n"
     ]
    }
   ],
   "source": [
    "simplified_db, ns = simplifier.reduce_circuit(circuit_db)\n",
    "ss, simplified_db = translator.give_circuit(simplified_db)"
   ]
  },
  {
   "cell_type": "code",
   "execution_count": 8,
   "id": "major-supervisor",
   "metadata": {},
   "outputs": [
    {
     "data": {
      "text/plain": [
       "6.280369834735101e-16"
      ]
     },
     "execution_count": 8,
     "metadata": {},
     "output_type": "execute_result"
    }
   ],
   "source": [
    "mdif = max_diff(translator , circuit_db, simplified_db)\n",
    "mdif"
   ]
  },
  {
   "cell_type": "code",
   "execution_count": 10,
   "id": "major-rendering",
   "metadata": {},
   "outputs": [
    {
     "data": {
      "text/html": [
       "<pre style=\"overflow: auto; white-space: pre;\">(0, 0): ───Rz(th_0)───Rx(th_3)───\n",
       "\n",
       "(0, 1): ───Rz(th_1)───Rx(th_4)───\n",
       "\n",
       "(0, 2): ───Rz(th_2)───Rx(th_5)───</pre>"
      ],
      "text/plain": [
       "(0, 0): ───Rz(th_0)───Rx(th_3)───\n",
       "\n",
       "(0, 1): ───Rz(th_1)───Rx(th_4)───\n",
       "\n",
       "(0, 2): ───Rz(th_2)───Rx(th_5)───"
      ]
     },
     "execution_count": 10,
     "metadata": {},
     "output_type": "execute_result"
    }
   ],
   "source": [
    "translator.give_circuit(simplified_db)[0]"
   ]
  },
  {
   "cell_type": "code",
   "execution_count": null,
   "id": "north-weekly",
   "metadata": {},
   "outputs": [],
   "source": []
  }
 ],
 "metadata": {
  "kernelspec": {
   "display_name": "Python 3",
   "language": "python",
   "name": "python3"
  },
  "language_info": {
   "codemirror_mode": {
    "name": "ipython",
    "version": 3
   },
   "file_extension": ".py",
   "mimetype": "text/x-python",
   "name": "python",
   "nbconvert_exporter": "python",
   "pygments_lexer": "ipython3",
   "version": "3.6.9"
  }
 },
 "nbformat": 4,
 "nbformat_minor": 5
}
