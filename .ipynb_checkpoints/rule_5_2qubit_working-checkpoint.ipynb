{
 "cells": [
  {
   "cell_type": "markdown",
   "id": "israeli-cathedral",
   "metadata": {},
   "source": [
    "In this notebook we give a proof of concept of unitary compiling using TFQ. "
   ]
  },
  {
   "cell_type": "code",
   "execution_count": 7,
   "id": "cleared-explorer",
   "metadata": {},
   "outputs": [
    {
     "name": "stdout",
     "output_type": "stream",
     "text": [
      "The autoreload extension is already loaded. To reload it, use:\n",
      "  %reload_ext autoreload\n"
     ]
    }
   ],
   "source": [
    "%load_ext autoreload\n",
    "%autoreload 2\n",
    "\n",
    "import sympy \n",
    "import numpy as np \n",
    "import pandas as pd \n",
    "import tensorflow as tf\n",
    "from utilities.circuit_database import CirqTranslater\n",
    "from utilities.templates import *\n",
    "from utilities.variational import Minimizer\n",
    "from utilities.misc import get_qubits_involved, reindex_symbol, shift_symbols_down\n",
    "import matplotlib.pyplot as plt \n",
    "import tensorflow_quantum as tfq\n",
    "import cirq\n",
    "from utilities.compiling import *"
   ]
  },
  {
   "cell_type": "code",
   "execution_count": 11,
   "id": "liable-gibson",
   "metadata": {},
   "outputs": [],
   "source": [
    "def get_positional_dbs(circuit, circuit_db):\n",
    "\n",
    "    qubits_involved = get_qubits_involved(circuit, circuit_db)\n",
    "    \n",
    "    gates_on_qubit = {q:[] for q in qubits_involved}\n",
    "    on_qubit_order = {q:[] for q in qubits_involved}\n",
    "\n",
    "    for order_gate, ind_gate in enumerate( circuit_db[\"ind\"]):\n",
    "        if ind_gate < translator.number_of_cnots:\n",
    "            control, target = translator.indexed_cnots[str(ind_gate)]\n",
    "            gates_on_qubit[control].append(ind_gate)\n",
    "            gates_on_qubit[target].append(ind_gate)\n",
    "            on_qubit_order[control].append(order_gate)                \n",
    "            on_qubit_order[target].append(order_gate)  \n",
    "        else:\n",
    "            gates_on_qubit[(ind_gate-translator.n_qubits)%translator.n_qubits].append(ind_gate)\n",
    "            on_qubit_order[(ind_gate-translator.n_qubits)%translator.n_qubits].append(order_gate)        \n",
    "    return gates_on_qubit, on_qubit_order"
   ]
  },
  {
   "cell_type": "code",
   "execution_count": 71,
   "id": "personalized-visitor",
   "metadata": {},
   "outputs": [],
   "source": [
    "translator = CirqTranslater(2)\n",
    "db1 = u1_layer(translator)\n",
    "circuit_db = concatenate_dbs([db1]*2)\n",
    "circuit, circuit_db  = translator.give_circuit(circuit_db)\n",
    "gates_on_qubit, on_qubit_order = get_positional_dbs(circuit, circuit_db)\n",
    "simplified_db = circuit_db.copy()\n"
   ]
  },
  {
   "cell_type": "code",
   "execution_count": 72,
   "id": "experimental-blogger",
   "metadata": {},
   "outputs": [],
   "source": [
    "simplification = False\n",
    "\n",
    "type_get = lambda x, translator: (x-translator.number_of_cnots)//translator.n_qubits\n",
    "\n",
    "for q, qubit_gates_path in gates_on_qubit.items():\n",
    "    if simplification is True:\n",
    "        break\n",
    "    for order_gate_on_qubit, ind_gate in enumerate(qubit_gates_path[:-2]):\n",
    "        if simplification is True:\n",
    "            break\n",
    "        ind_gate_p1 = qubit_gates_path[order_gate_on_qubit+1]\n",
    "        ind_gate_p2 = qubit_gates_path[order_gate_on_qubit+2]\n",
    "        check_rot = lambda ind_gate: translator.number_of_cnots<= ind_gate <(3*translator.n_qubits + translator.number_of_cnots)\n",
    "\n",
    "        if (check_rot(ind_gate) == True) and (check_rot(ind_gate_p1) == True) and (check_rot(ind_gate_p2) == True):\n",
    "\n",
    "\n",
    "            type_0 = type_get(ind_gate,translator)\n",
    "            type_1 = type_get(ind_gate_p1,translator)\n",
    "            type_2 = type_get(ind_gate_p2,translator)\n",
    "\n",
    "\n",
    "            if type_0 == type_2:\n",
    "                types = [type_0, type_1, type_2]\n",
    "                for next_order_gate_on_qubit, ind_gate_next in enumerate(qubit_gates_path[order_gate_on_qubit+3:]):\n",
    "                    if (check_rot(ind_gate_next) == True):# and (next_order_gate_on_qubit < len(qubit_gates_path[order_gate_on_qubit+3:])):\n",
    "                        types.append(type_get(ind_gate_next, translator))\n",
    "                        simplification=True                        \n",
    "                    else:\n",
    "                        break\n",
    "                if simplification == True:\n",
    "                    indices_to_compile = [on_qubit_order[q][order_gate_on_qubit+k] for k in range(len(types))]\n",
    "                    translator.translator_ = CirqTranslater(n_qubits=2)\n",
    "                    u_to_compile_db = simplified_db.loc[indices_to_compile]\n",
    "                    u_to_compile_db[\"ind\"] = translator.translator_.n_qubits*type_get(u_to_compile_db[\"ind\"], translator) + translator.translator_.number_of_cnots#type_get(u_to_compile_db[\"ind\"], translator.translator_)#translator.translator_.n_qubits*(u_to_compile_db[\"ind\"] - translator.number_of_cnots)//translator.n_qubits + translator.translator_.number_of_cnots\n",
    "                    u_to_compile_db[\"symbol\"] = None ##just to be sure it makes no interference with the compiler...\n",
    "\n",
    "\n",
    "                    compile_circuit, compile_circuit_db = construct_compiling_circuit(translator.translator_, u_to_compile_db)\n",
    "                    minimizer = Minimizer(translator.translator_, mode=\"compiling\", hamiltonian=\"Z\")\n",
    "\n",
    "                    cost, resolver, history = minimizer.minimize([compile_circuit], symbols=translator.get_symbols(compile_circuit_db))\n",
    "\n",
    "                    OneQbit_translator = CirqTranslater(n_qubits=1)\n",
    "                    u1s = u1_db(OneQbit_translator, 0, params=True)\n",
    "                    u1s[\"param_value\"] = -np.array(list(resolver.values()))\n",
    "                    resu_comp, resu_db = OneQbit_translator.give_circuit(u1s,unresolved=False)\n",
    "\n",
    "\n",
    "                    u_to_compile_db_1q = u_to_compile_db.copy()\n",
    "                    u_to_compile_db_1q[\"ind\"] = u_to_compile_db[\"ind\"] = type_get(u_to_compile_db[\"ind\"], translator.translator_) ##type_get(u_to_compile_db[\"ind\"],OneQbit_translator)# - translator.translator_.number_of_cnots)//translator.translator_.n_qubits\n",
    "\n",
    "\n",
    "                    cc, cdb = OneQbit_translator.give_circuit(u_to_compile_db_1q, unresolved=False)\n",
    "                    c = cc.unitary()\n",
    "                    r = resu_comp.unitary()\n",
    "\n",
    "\n",
    "\n",
    "                    ## phase_shift if necessary\n",
    "                    if np.abs(np.mean(c/r) -1) > 1:\n",
    "                        u1s.loc[0] = u1s.loc[0].replace(to_replace=u1s[\"param_value\"][0], value=u1s[\"param_value\"][0] + 2*np.pi)# Rz(\\th) = e^{-ii \\theta \\sigma_z / 2}c0, cdb0 = translator.give_circuit(pd.DataFrame([gate_template(0, param_value=2*np.pi)]), unresolved=False)\n",
    "                    resu_comp, resu_db = translator.give_circuit(u1s,unresolved=False)\n",
    "\n",
    "\n"
   ]
  },
  {
   "cell_type": "code",
   "execution_count": 75,
   "id": "daily-anniversary",
   "metadata": {},
   "outputs": [],
   "source": [
    "first_symbols = simplified_db[\"symbol\"][indices_to_compile][:3]\n",
    "\n",
    "for new_ind, typ, pval in zip(indices_to_compile[:3],[0,1,0], list(u1s[\"param_value\"])):\n",
    "    simplified_db.loc[new_ind+0.1] = gate_template(translator.number_of_cnots + q + typ*translator.n_qubits,\n",
    "                                                     param_value=pval, block_id=simplified_db.loc[new_ind][\"block_id\"], \n",
    "                                                     trainable=True, symbol=first_symbols[new_ind])\n",
    "\n"
   ]
  },
  {
   "cell_type": "code",
   "execution_count": 76,
   "id": "curious-chicken",
   "metadata": {},
   "outputs": [
    {
     "data": {
      "text/html": [
       "<div>\n",
       "<style scoped>\n",
       "    .dataframe tbody tr th:only-of-type {\n",
       "        vertical-align: middle;\n",
       "    }\n",
       "\n",
       "    .dataframe tbody tr th {\n",
       "        vertical-align: top;\n",
       "    }\n",
       "\n",
       "    .dataframe thead th {\n",
       "        text-align: right;\n",
       "    }\n",
       "</style>\n",
       "<table border=\"1\" class=\"dataframe\">\n",
       "  <thead>\n",
       "    <tr style=\"text-align: right;\">\n",
       "      <th></th>\n",
       "      <th>ind</th>\n",
       "      <th>symbol</th>\n",
       "      <th>param_value</th>\n",
       "      <th>trainable</th>\n",
       "      <th>block_id</th>\n",
       "    </tr>\n",
       "  </thead>\n",
       "  <tbody>\n",
       "    <tr>\n",
       "      <th>0.0</th>\n",
       "      <td>2</td>\n",
       "      <td>th_0</td>\n",
       "      <td>-4.466160</td>\n",
       "      <td>True</td>\n",
       "      <td>0</td>\n",
       "    </tr>\n",
       "    <tr>\n",
       "      <th>1.0</th>\n",
       "      <td>4</td>\n",
       "      <td>th_1</td>\n",
       "      <td>7.574974</td>\n",
       "      <td>True</td>\n",
       "      <td>0</td>\n",
       "    </tr>\n",
       "    <tr>\n",
       "      <th>2.0</th>\n",
       "      <td>2</td>\n",
       "      <td>th_2</td>\n",
       "      <td>-1.216368</td>\n",
       "      <td>True</td>\n",
       "      <td>0</td>\n",
       "    </tr>\n",
       "    <tr>\n",
       "      <th>3.0</th>\n",
       "      <td>3</td>\n",
       "      <td>th_3</td>\n",
       "      <td>-9.957022</td>\n",
       "      <td>True</td>\n",
       "      <td>0</td>\n",
       "    </tr>\n",
       "    <tr>\n",
       "      <th>4.0</th>\n",
       "      <td>5</td>\n",
       "      <td>th_4</td>\n",
       "      <td>-1.304806</td>\n",
       "      <td>True</td>\n",
       "      <td>0</td>\n",
       "    </tr>\n",
       "    <tr>\n",
       "      <th>5.0</th>\n",
       "      <td>3</td>\n",
       "      <td>th_5</td>\n",
       "      <td>-6.002643</td>\n",
       "      <td>True</td>\n",
       "      <td>0</td>\n",
       "    </tr>\n",
       "    <tr>\n",
       "      <th>6.0</th>\n",
       "      <td>2</td>\n",
       "      <td>th_6</td>\n",
       "      <td>-4.466160</td>\n",
       "      <td>True</td>\n",
       "      <td>0</td>\n",
       "    </tr>\n",
       "    <tr>\n",
       "      <th>7.0</th>\n",
       "      <td>4</td>\n",
       "      <td>th_7</td>\n",
       "      <td>7.574974</td>\n",
       "      <td>True</td>\n",
       "      <td>0</td>\n",
       "    </tr>\n",
       "    <tr>\n",
       "      <th>8.0</th>\n",
       "      <td>2</td>\n",
       "      <td>th_8</td>\n",
       "      <td>-1.216368</td>\n",
       "      <td>True</td>\n",
       "      <td>0</td>\n",
       "    </tr>\n",
       "    <tr>\n",
       "      <th>9.0</th>\n",
       "      <td>3</td>\n",
       "      <td>th_9</td>\n",
       "      <td>-9.957022</td>\n",
       "      <td>True</td>\n",
       "      <td>0</td>\n",
       "    </tr>\n",
       "    <tr>\n",
       "      <th>10.0</th>\n",
       "      <td>5</td>\n",
       "      <td>th_10</td>\n",
       "      <td>-1.304806</td>\n",
       "      <td>True</td>\n",
       "      <td>0</td>\n",
       "    </tr>\n",
       "    <tr>\n",
       "      <th>11.0</th>\n",
       "      <td>3</td>\n",
       "      <td>th_11</td>\n",
       "      <td>-6.002643</td>\n",
       "      <td>True</td>\n",
       "      <td>0</td>\n",
       "    </tr>\n",
       "    <tr>\n",
       "      <th>0.1</th>\n",
       "      <td>3</td>\n",
       "      <td>th_0</td>\n",
       "      <td>8.944207</td>\n",
       "      <td>True</td>\n",
       "      <td>0</td>\n",
       "    </tr>\n",
       "    <tr>\n",
       "      <th>1.1</th>\n",
       "      <td>5</td>\n",
       "      <td>th_1</td>\n",
       "      <td>14.893872</td>\n",
       "      <td>True</td>\n",
       "      <td>0</td>\n",
       "    </tr>\n",
       "    <tr>\n",
       "      <th>2.1</th>\n",
       "      <td>3</td>\n",
       "      <td>th_2</td>\n",
       "      <td>-6.655507</td>\n",
       "      <td>True</td>\n",
       "      <td>0</td>\n",
       "    </tr>\n",
       "  </tbody>\n",
       "</table>\n",
       "</div>"
      ],
      "text/plain": [
       "      ind symbol  param_value  trainable  block_id\n",
       "0.0     2   th_0    -4.466160       True         0\n",
       "1.0     4   th_1     7.574974       True         0\n",
       "2.0     2   th_2    -1.216368       True         0\n",
       "3.0     3   th_3    -9.957022       True         0\n",
       "4.0     5   th_4    -1.304806       True         0\n",
       "5.0     3   th_5    -6.002643       True         0\n",
       "6.0     2   th_6    -4.466160       True         0\n",
       "7.0     4   th_7     7.574974       True         0\n",
       "8.0     2   th_8    -1.216368       True         0\n",
       "9.0     3   th_9    -9.957022       True         0\n",
       "10.0    5  th_10    -1.304806       True         0\n",
       "11.0    3  th_11    -6.002643       True         0\n",
       "0.1     3   th_0     8.944207       True         0\n",
       "1.1     5   th_1    14.893872       True         0\n",
       "2.1     3   th_2    -6.655507       True         0"
      ]
     },
     "execution_count": 76,
     "metadata": {},
     "output_type": "execute_result"
    }
   ],
   "source": [
    "simplified_db"
   ]
  },
  {
   "cell_type": "code",
   "execution_count": 77,
   "id": "municipal-third",
   "metadata": {},
   "outputs": [],
   "source": [
    "for old_inds in indices_to_compile:\n",
    "    simplified_db = simplified_db.drop(labels=[old_inds],axis=0)#"
   ]
  },
  {
   "cell_type": "code",
   "execution_count": 78,
   "id": "cathedral-drilling",
   "metadata": {},
   "outputs": [
    {
     "data": {
      "text/html": [
       "<div>\n",
       "<style scoped>\n",
       "    .dataframe tbody tr th:only-of-type {\n",
       "        vertical-align: middle;\n",
       "    }\n",
       "\n",
       "    .dataframe tbody tr th {\n",
       "        vertical-align: top;\n",
       "    }\n",
       "\n",
       "    .dataframe thead th {\n",
       "        text-align: right;\n",
       "    }\n",
       "</style>\n",
       "<table border=\"1\" class=\"dataframe\">\n",
       "  <thead>\n",
       "    <tr style=\"text-align: right;\">\n",
       "      <th></th>\n",
       "      <th>ind</th>\n",
       "      <th>symbol</th>\n",
       "      <th>param_value</th>\n",
       "      <th>trainable</th>\n",
       "      <th>block_id</th>\n",
       "    </tr>\n",
       "  </thead>\n",
       "  <tbody>\n",
       "    <tr>\n",
       "      <th>3.0</th>\n",
       "      <td>3</td>\n",
       "      <td>th_3</td>\n",
       "      <td>-9.957022</td>\n",
       "      <td>True</td>\n",
       "      <td>0</td>\n",
       "    </tr>\n",
       "    <tr>\n",
       "      <th>4.0</th>\n",
       "      <td>5</td>\n",
       "      <td>th_4</td>\n",
       "      <td>-1.304806</td>\n",
       "      <td>True</td>\n",
       "      <td>0</td>\n",
       "    </tr>\n",
       "    <tr>\n",
       "      <th>5.0</th>\n",
       "      <td>3</td>\n",
       "      <td>th_5</td>\n",
       "      <td>-6.002643</td>\n",
       "      <td>True</td>\n",
       "      <td>0</td>\n",
       "    </tr>\n",
       "    <tr>\n",
       "      <th>9.0</th>\n",
       "      <td>3</td>\n",
       "      <td>th_9</td>\n",
       "      <td>-9.957022</td>\n",
       "      <td>True</td>\n",
       "      <td>0</td>\n",
       "    </tr>\n",
       "    <tr>\n",
       "      <th>10.0</th>\n",
       "      <td>5</td>\n",
       "      <td>th_10</td>\n",
       "      <td>-1.304806</td>\n",
       "      <td>True</td>\n",
       "      <td>0</td>\n",
       "    </tr>\n",
       "    <tr>\n",
       "      <th>11.0</th>\n",
       "      <td>3</td>\n",
       "      <td>th_11</td>\n",
       "      <td>-6.002643</td>\n",
       "      <td>True</td>\n",
       "      <td>0</td>\n",
       "    </tr>\n",
       "    <tr>\n",
       "      <th>0.1</th>\n",
       "      <td>3</td>\n",
       "      <td>th_0</td>\n",
       "      <td>8.944207</td>\n",
       "      <td>True</td>\n",
       "      <td>0</td>\n",
       "    </tr>\n",
       "    <tr>\n",
       "      <th>1.1</th>\n",
       "      <td>5</td>\n",
       "      <td>th_1</td>\n",
       "      <td>14.893872</td>\n",
       "      <td>True</td>\n",
       "      <td>0</td>\n",
       "    </tr>\n",
       "    <tr>\n",
       "      <th>2.1</th>\n",
       "      <td>3</td>\n",
       "      <td>th_2</td>\n",
       "      <td>-6.655507</td>\n",
       "      <td>True</td>\n",
       "      <td>0</td>\n",
       "    </tr>\n",
       "  </tbody>\n",
       "</table>\n",
       "</div>"
      ],
      "text/plain": [
       "      ind symbol  param_value  trainable  block_id\n",
       "3.0     3   th_3    -9.957022       True         0\n",
       "4.0     5   th_4    -1.304806       True         0\n",
       "5.0     3   th_5    -6.002643       True         0\n",
       "9.0     3   th_9    -9.957022       True         0\n",
       "10.0    5  th_10    -1.304806       True         0\n",
       "11.0    3  th_11    -6.002643       True         0\n",
       "0.1     3   th_0     8.944207       True         0\n",
       "1.1     5   th_1    14.893872       True         0\n",
       "2.1     3   th_2    -6.655507       True         0"
      ]
     },
     "execution_count": 78,
     "metadata": {},
     "output_type": "execute_result"
    }
   ],
   "source": [
    "simplified_db"
   ]
  },
  {
   "cell_type": "code",
   "execution_count": 81,
   "id": "adverse-pollution",
   "metadata": {},
   "outputs": [],
   "source": [
    "killed_indices = indices_to_compile[3:]"
   ]
  },
  {
   "cell_type": "code",
   "execution_count": 84,
   "id": "standard-bahamas",
   "metadata": {},
   "outputs": [],
   "source": [
    "killed_db = circuit_db.iloc[killed_indices]"
   ]
  },
  {
   "cell_type": "code",
   "execution_count": 86,
   "id": "addressed-walker",
   "metadata": {},
   "outputs": [
    {
     "data": {
      "text/html": [
       "<div>\n",
       "<style scoped>\n",
       "    .dataframe tbody tr th:only-of-type {\n",
       "        vertical-align: middle;\n",
       "    }\n",
       "\n",
       "    .dataframe tbody tr th {\n",
       "        vertical-align: top;\n",
       "    }\n",
       "\n",
       "    .dataframe thead th {\n",
       "        text-align: right;\n",
       "    }\n",
       "</style>\n",
       "<table border=\"1\" class=\"dataframe\">\n",
       "  <thead>\n",
       "    <tr style=\"text-align: right;\">\n",
       "      <th></th>\n",
       "      <th>ind</th>\n",
       "      <th>symbol</th>\n",
       "      <th>param_value</th>\n",
       "      <th>trainable</th>\n",
       "      <th>block_id</th>\n",
       "    </tr>\n",
       "  </thead>\n",
       "  <tbody>\n",
       "    <tr>\n",
       "      <th>6</th>\n",
       "      <td>2</td>\n",
       "      <td>th_6</td>\n",
       "      <td>-4.466160</td>\n",
       "      <td>True</td>\n",
       "      <td>0</td>\n",
       "    </tr>\n",
       "    <tr>\n",
       "      <th>7</th>\n",
       "      <td>4</td>\n",
       "      <td>th_7</td>\n",
       "      <td>7.574974</td>\n",
       "      <td>True</td>\n",
       "      <td>0</td>\n",
       "    </tr>\n",
       "    <tr>\n",
       "      <th>8</th>\n",
       "      <td>2</td>\n",
       "      <td>th_8</td>\n",
       "      <td>-1.216368</td>\n",
       "      <td>True</td>\n",
       "      <td>0</td>\n",
       "    </tr>\n",
       "  </tbody>\n",
       "</table>\n",
       "</div>"
      ],
      "text/plain": [
       "   ind symbol  param_value  trainable  block_id\n",
       "6    2   th_6    -4.466160       True         0\n",
       "7    4   th_7     7.574974       True         0\n",
       "8    2   th_8    -1.216368       True         0"
      ]
     },
     "execution_count": 86,
     "metadata": {},
     "output_type": "execute_result"
    }
   ],
   "source": [
    "killed_db"
   ]
  },
  {
   "cell_type": "code",
   "execution_count": 93,
   "id": "athletic-effects",
   "metadata": {},
   "outputs": [],
   "source": [
    "get_biggest_symbol_killed = lambda killed_db: int(list(killed_db[\"symbol\"])[-1].replace(\"th_\",\"\"))"
   ]
  },
  {
   "cell_type": "code",
   "execution_count": 95,
   "id": "light-scanning",
   "metadata": {},
   "outputs": [
    {
     "data": {
      "text/plain": [
       "8"
      ]
     },
     "execution_count": 95,
     "metadata": {},
     "output_type": "execute_result"
    }
   ],
   "source": [
    "bsk = get_biggest_symbol_killed(killed_db)\n",
    "bsk"
   ]
  },
  {
   "cell_type": "code",
   "execution_count": 96,
   "id": "meaning-techno",
   "metadata": {},
   "outputs": [],
   "source": [
    "db_follows = circuit_db[circuit_db.index>indices_to_compile[-1]]"
   ]
  },
  {
   "cell_type": "code",
   "execution_count": 102,
   "id": "dated-cherry",
   "metadata": {},
   "outputs": [],
   "source": [
    "if len(db_follows)>0:\n",
    "    gates_to_lower = list(db_follows.index)\n",
    "    number_of_shifts = len(killed_indices)\n",
    "    for g in range(number_of_shifts):\n",
    "        shift_symbols_down(translator, gates_to_lower[0])"
   ]
  },
  {
   "cell_type": "code",
   "execution_count": 104,
   "id": "excess-manor",
   "metadata": {},
   "outputs": [],
   "source": []
  },
  {
   "cell_type": "code",
   "execution_count": 105,
   "id": "close-verification",
   "metadata": {},
   "outputs": [
    {
     "data": {
      "text/plain": [
       "3"
      ]
     },
     "execution_count": 105,
     "metadata": {},
     "output_type": "execute_result"
    }
   ],
   "source": []
  },
  {
   "cell_type": "code",
   "execution_count": 91,
   "id": "ruled-gasoline",
   "metadata": {},
   "outputs": [
    {
     "data": {
      "text/plain": [
       "0     2\n",
       "1     4\n",
       "2     2\n",
       "3     3\n",
       "4     5\n",
       "5     3\n",
       "6     2\n",
       "7     4\n",
       "8     2\n",
       "9     3\n",
       "10    5\n",
       "11    3\n",
       "Name: ind, dtype: int64"
      ]
     },
     "execution_count": 91,
     "metadata": {},
     "output_type": "execute_result"
    }
   ],
   "source": [
    "circuit_db[\"ind\"]"
   ]
  },
  {
   "cell_type": "code",
   "execution_count": null,
   "id": "surface-munich",
   "metadata": {},
   "outputs": [],
   "source": []
  },
  {
   "cell_type": "code",
   "execution_count": null,
   "id": "nonprofit-might",
   "metadata": {},
   "outputs": [],
   "source": []
  },
  {
   "cell_type": "code",
   "execution_count": null,
   "id": "ceramic-coalition",
   "metadata": {},
   "outputs": [],
   "source": []
  },
  {
   "cell_type": "code",
   "execution_count": 65,
   "id": "romance-ribbon",
   "metadata": {},
   "outputs": [
    {
     "data": {
      "text/html": [
       "<div>\n",
       "<style scoped>\n",
       "    .dataframe tbody tr th:only-of-type {\n",
       "        vertical-align: middle;\n",
       "    }\n",
       "\n",
       "    .dataframe tbody tr th {\n",
       "        vertical-align: top;\n",
       "    }\n",
       "\n",
       "    .dataframe thead th {\n",
       "        text-align: right;\n",
       "    }\n",
       "</style>\n",
       "<table border=\"1\" class=\"dataframe\">\n",
       "  <thead>\n",
       "    <tr style=\"text-align: right;\">\n",
       "      <th></th>\n",
       "      <th>ind</th>\n",
       "      <th>symbol</th>\n",
       "      <th>param_value</th>\n",
       "      <th>trainable</th>\n",
       "      <th>block_id</th>\n",
       "    </tr>\n",
       "  </thead>\n",
       "  <tbody>\n",
       "    <tr>\n",
       "      <th>6</th>\n",
       "      <td>2</td>\n",
       "      <td>th_6</td>\n",
       "      <td>-7.785923</td>\n",
       "      <td>True</td>\n",
       "      <td>0</td>\n",
       "    </tr>\n",
       "    <tr>\n",
       "      <th>7</th>\n",
       "      <td>4</td>\n",
       "      <td>th_7</td>\n",
       "      <td>-9.788825</td>\n",
       "      <td>True</td>\n",
       "      <td>0</td>\n",
       "    </tr>\n",
       "    <tr>\n",
       "      <th>8</th>\n",
       "      <td>2</td>\n",
       "      <td>th_8</td>\n",
       "      <td>-7.390990</td>\n",
       "      <td>True</td>\n",
       "      <td>0</td>\n",
       "    </tr>\n",
       "  </tbody>\n",
       "</table>\n",
       "</div>"
      ],
      "text/plain": [
       "   ind symbol  param_value  trainable  block_id\n",
       "6    2   th_6    -7.785923       True         0\n",
       "7    4   th_7    -9.788825       True         0\n",
       "8    2   th_8    -7.390990       True         0"
      ]
     },
     "execution_count": 65,
     "metadata": {},
     "output_type": "execute_result"
    }
   ],
   "source": [
    "circuit_db.loc[indices_to_compile[3:]]"
   ]
  },
  {
   "cell_type": "code",
   "execution_count": 64,
   "id": "worst-traffic",
   "metadata": {},
   "outputs": [
    {
     "data": {
      "text/plain": [
       "[0, 1, 2, 6, 7, 8]"
      ]
     },
     "execution_count": 64,
     "metadata": {},
     "output_type": "execute_result"
    }
   ],
   "source": [
    "indices_to_compile"
   ]
  },
  {
   "cell_type": "code",
   "execution_count": 48,
   "id": "coral-ceiling",
   "metadata": {},
   "outputs": [
    {
     "data": {
      "text/plain": [
       "array([14, 15, 16])"
      ]
     },
     "execution_count": 48,
     "metadata": {},
     "output_type": "execute_result"
    }
   ],
   "source": [
    "indices_to_compile[-1]+np.array(indices_to_compile[3:])"
   ]
  },
  {
   "cell_type": "code",
   "execution_count": 50,
   "id": "affiliated-germany",
   "metadata": {},
   "outputs": [
    {
     "data": {
      "text/plain": [
       "[0, 1, 2, 6, 7, 8]"
      ]
     },
     "execution_count": 50,
     "metadata": {},
     "output_type": "execute_result"
    }
   ],
   "source": [
    "indices_to_compile"
   ]
  },
  {
   "cell_type": "code",
   "execution_count": 51,
   "id": "deadly-grant",
   "metadata": {},
   "outputs": [],
   "source": [
    "\n",
    "simplified_db = simplified_db.sort_index().reset_index(drop=True)"
   ]
  },
  {
   "cell_type": "code",
   "execution_count": 52,
   "id": "casual-illness",
   "metadata": {},
   "outputs": [
    {
     "data": {
      "text/html": [
       "<div>\n",
       "<style scoped>\n",
       "    .dataframe tbody tr th:only-of-type {\n",
       "        vertical-align: middle;\n",
       "    }\n",
       "\n",
       "    .dataframe tbody tr th {\n",
       "        vertical-align: top;\n",
       "    }\n",
       "\n",
       "    .dataframe thead th {\n",
       "        text-align: right;\n",
       "    }\n",
       "</style>\n",
       "<table border=\"1\" class=\"dataframe\">\n",
       "  <thead>\n",
       "    <tr style=\"text-align: right;\">\n",
       "      <th></th>\n",
       "      <th>ind</th>\n",
       "      <th>symbol</th>\n",
       "      <th>param_value</th>\n",
       "      <th>trainable</th>\n",
       "      <th>block_id</th>\n",
       "    </tr>\n",
       "  </thead>\n",
       "  <tbody>\n",
       "    <tr>\n",
       "      <th>0</th>\n",
       "      <td>3</td>\n",
       "      <td>th_0</td>\n",
       "      <td>-3.534679</td>\n",
       "      <td>True</td>\n",
       "      <td>0</td>\n",
       "    </tr>\n",
       "    <tr>\n",
       "      <th>1</th>\n",
       "      <td>5</td>\n",
       "      <td>th_1</td>\n",
       "      <td>37.827320</td>\n",
       "      <td>True</td>\n",
       "      <td>0</td>\n",
       "    </tr>\n",
       "    <tr>\n",
       "      <th>2</th>\n",
       "      <td>3</td>\n",
       "      <td>th_2</td>\n",
       "      <td>39.824886</td>\n",
       "      <td>True</td>\n",
       "      <td>0</td>\n",
       "    </tr>\n",
       "    <tr>\n",
       "      <th>3</th>\n",
       "      <td>3</td>\n",
       "      <td>th_3</td>\n",
       "      <td>-4.651577</td>\n",
       "      <td>True</td>\n",
       "      <td>0</td>\n",
       "    </tr>\n",
       "    <tr>\n",
       "      <th>4</th>\n",
       "      <td>5</td>\n",
       "      <td>th_4</td>\n",
       "      <td>0.188769</td>\n",
       "      <td>True</td>\n",
       "      <td>0</td>\n",
       "    </tr>\n",
       "    <tr>\n",
       "      <th>5</th>\n",
       "      <td>3</td>\n",
       "      <td>th_5</td>\n",
       "      <td>-3.054944</td>\n",
       "      <td>True</td>\n",
       "      <td>0</td>\n",
       "    </tr>\n",
       "  </tbody>\n",
       "</table>\n",
       "</div>"
      ],
      "text/plain": [
       "   ind symbol  param_value  trainable  block_id\n",
       "0    3   th_0    -3.534679       True         0\n",
       "1    5   th_1    37.827320       True         0\n",
       "2    3   th_2    39.824886       True         0\n",
       "3    3   th_3    -4.651577       True         0\n",
       "4    5   th_4     0.188769       True         0\n",
       "5    3   th_5    -3.054944       True         0"
      ]
     },
     "execution_count": 52,
     "metadata": {},
     "output_type": "execute_result"
    }
   ],
   "source": [
    "simplified_db"
   ]
  },
  {
   "cell_type": "code",
   "execution_count": null,
   "id": "covered-cradle",
   "metadata": {},
   "outputs": [],
   "source": [
    "for k in indices_to_compile[3:]:\n",
    "    simplified_db"
   ]
  },
  {
   "cell_type": "code",
   "execution_count": 55,
   "id": "timely-fossil",
   "metadata": {},
   "outputs": [
    {
     "data": {
      "text/plain": [
       "[0, 1, 2, 6, 7, 8]"
      ]
     },
     "execution_count": 55,
     "metadata": {},
     "output_type": "execute_result"
    }
   ],
   "source": [
    "indices_to_compile"
   ]
  },
  {
   "cell_type": "code",
   "execution_count": null,
   "id": "necessary-ladder",
   "metadata": {},
   "outputs": [],
   "source": []
  },
  {
   "cell_type": "code",
   "execution_count": null,
   "id": "laden-while",
   "metadata": {},
   "outputs": [],
   "source": [
    "simplified_db = shift_symbols_down(translator, pos_gate_to_drop, simplified_db)"
   ]
  },
  {
   "cell_type": "code",
   "execution_count": 41,
   "id": "varied-lemon",
   "metadata": {},
   "outputs": [
    {
     "data": {
      "text/plain": [
       "[6, 7, 8]"
      ]
     },
     "execution_count": 41,
     "metadata": {},
     "output_type": "execute_result"
    }
   ],
   "source": [
    "indices_to_compile[3:]"
   ]
  },
  {
   "cell_type": "code",
   "execution_count": 45,
   "id": "dietary-symbol",
   "metadata": {},
   "outputs": [
    {
     "data": {
      "text/plain": [
       "array([14, 15, 16])"
      ]
     },
     "execution_count": 45,
     "metadata": {},
     "output_type": "execute_result"
    }
   ],
   "source": [
    "indices_to_compile[-1]+np.array(indices_to_compile[3:])"
   ]
  },
  {
   "cell_type": "code",
   "execution_count": null,
   "id": "listed-lindsay",
   "metadata": {},
   "outputs": [],
   "source": []
  },
  {
   "cell_type": "code",
   "execution_count": null,
   "id": "accessory-electric",
   "metadata": {},
   "outputs": [],
   "source": []
  },
  {
   "cell_type": "code",
   "execution_count": null,
   "id": "palestinian-shopping",
   "metadata": {},
   "outputs": [],
   "source": []
  },
  {
   "cell_type": "code",
   "execution_count": 202,
   "id": "laden-burning",
   "metadata": {},
   "outputs": [
    {
     "data": {
      "text/plain": [
       "2"
      ]
     },
     "execution_count": 202,
     "metadata": {},
     "output_type": "execute_result"
    }
   ],
   "source": [
    "type_get(translator.number_of_cnots + 0+ 2*translator.n_qubits, translator)"
   ]
  },
  {
   "cell_type": "code",
   "execution_count": 216,
   "id": "commercial-jonathan",
   "metadata": {},
   "outputs": [],
   "source": [
    "translator.translator_ = CirqTranslater(n_qubits=2)\n",
    "u_to_compile_db = simplified_db.loc[indices_to_compile]\n",
    "u_to_compile_db[\"ind\"] = translator.translator_.n_qubits*type_get(u_to_compile_db[\"ind\"], translator) + translator.translator_.number_of_cnots#type_get(u_to_compile_db[\"ind\"], translator.translator_)#translator.translator_.n_qubits*(u_to_compile_db[\"ind\"] - translator.number_of_cnots)//translator.n_qubits + translator.translator_.number_of_cnots\n",
    "u_to_compile_db[\"symbol\"] = None ##just to be sure it makes no interference with the compiler...\n",
    "\n",
    "\n",
    "compile_circuit, compile_circuit_db = construct_compiling_circuit(translator.translator_, u_to_compile_db)\n",
    "minimizer = Minimizer(translator.translator_, mode=\"compiling\", hamiltonian=\"Z\")\n",
    "\n",
    "cost, resolver, history = minimizer.minimize([compile_circuit], symbols=translator.get_symbols(compile_circuit_db))\n",
    "\n",
    "OneQbit_translator = CirqTranslater(n_qubits=1)\n",
    "u1s = u1_db(OneQbit_translator, 0, params=True)\n",
    "u1s[\"param_value\"] = -np.array(list(resolver.values()))\n",
    "resu_comp, resu_db = OneQbit_translator.give_circuit(u1s,unresolved=False)\n",
    "\n",
    "\n",
    "u_to_compile_db_1q = u_to_compile_db.copy()\n",
    "u_to_compile_db_1q[\"ind\"] = u_to_compile_db[\"ind\"] = type_get(u_to_compile_db[\"ind\"], translator.translator_) ##type_get(u_to_compile_db[\"ind\"],OneQbit_translator)# - translator.translator_.number_of_cnots)//translator.translator_.n_qubits\n",
    "\n",
    "\n",
    "cc, cdb = OneQbit_translator.give_circuit(u_to_compile_db_1q, unresolved=False)\n",
    "c = cc.unitary()\n",
    "r = resu_comp.unitary()\n",
    "\n",
    "\n",
    "\n",
    "## phase_shift if necessary\n",
    "if np.abs(np.mean(c/r) -1) > 1:\n",
    "    u1s.loc[0] = u1s.loc[0].replace(to_replace=u1s[\"param_value\"][0], value=u1s[\"param_value\"][0] + 2*np.pi)# Rz(\\th) = e^{-ii \\theta \\sigma_z / 2}c0, cdb0 = translator.give_circuit(pd.DataFrame([gate_template(0, param_value=2*np.pi)]), unresolved=False)\n",
    "resu_comp, resu_db = translator.give_circuit(u1s,unresolved=False)\n",
    "\n",
    "\n",
    "for new_ind, typ, pval in zip(indices_to_compile[:3],[0,1,0], list(u1s[\"param_value\"])):\n",
    "    simplified_db.loc[new_ind+0.1] = gate_template(translator.number_of_cnots + q + typ*translator.n_qubits,\n",
    "                                                     param_value=pval, block_id=simplified_db.loc[new_ind][\"block_id\"], \n",
    "                                                     trainable=True)#, symbol=symbols[new_ind])\n",
    "for old_inds in indices_to_compile:\n",
    "    simplified_db = simplified_db.drop(labels=[old_inds],axis=0)#\n",
    "simplified_db = simplified_db.sort_index().reset_index(drop=True)\n"
   ]
  },
  {
   "cell_type": "code",
   "execution_count": 217,
   "id": "corporate-sampling",
   "metadata": {},
   "outputs": [],
   "source": []
  },
  {
   "cell_type": "code",
   "execution_count": 223,
   "id": "convinced-nursing",
   "metadata": {},
   "outputs": [],
   "source": []
  },
  {
   "cell_type": "markdown",
   "id": "raised-paris",
   "metadata": {},
   "source": []
  },
  {
   "cell_type": "code",
   "execution_count": null,
   "id": "suspended-detector",
   "metadata": {},
   "outputs": [],
   "source": []
  },
  {
   "cell_type": "code",
   "execution_count": null,
   "id": "cleared-hawaiian",
   "metadata": {},
   "outputs": [],
   "source": []
  },
  {
   "cell_type": "code",
   "execution_count": null,
   "id": "applied-rugby",
   "metadata": {},
   "outputs": [],
   "source": []
  },
  {
   "cell_type": "code",
   "execution_count": null,
   "id": "stopped-appendix",
   "metadata": {},
   "outputs": [],
   "source": []
  },
  {
   "cell_type": "code",
   "execution_count": null,
   "id": "attractive-worth",
   "metadata": {},
   "outputs": [],
   "source": []
  },
  {
   "cell_type": "code",
   "execution_count": null,
   "id": "functioning-practitioner",
   "metadata": {},
   "outputs": [],
   "source": []
  },
  {
   "cell_type": "code",
   "execution_count": 159,
   "id": "nuclear-eagle",
   "metadata": {},
   "outputs": [
    {
     "data": {
      "text/plain": [
       "array([[-0.85055965-0.368102j  , -0.35882368+0.11088177j],\n",
       "       [ 0.35882368+0.11088177j, -0.85055965+0.368102j  ]])"
      ]
     },
     "execution_count": 159,
     "metadata": {},
     "output_type": "execute_result"
    }
   ],
   "source": [
    "sc, scdb = translator.give_circuit(simplified_db,unresolved=False)\n",
    "sc.unitary()"
   ]
  },
  {
   "cell_type": "code",
   "execution_count": 160,
   "id": "traditional-decrease",
   "metadata": {},
   "outputs": [
    {
     "data": {
      "text/plain": [
       "array([[-0.85055767-0.36811656j, -0.35874677+0.11109724j],\n",
       "       [ 0.35874677+0.11109724j, -0.85055767+0.36811656j]])"
      ]
     },
     "execution_count": 160,
     "metadata": {},
     "output_type": "execute_result"
    }
   ],
   "source": [
    "circuit.unitary()"
   ]
  },
  {
   "cell_type": "code",
   "execution_count": 161,
   "id": "adverse-chambers",
   "metadata": {},
   "outputs": [
    {
     "data": {
      "text/html": [
       "<div>\n",
       "<style scoped>\n",
       "    .dataframe tbody tr th:only-of-type {\n",
       "        vertical-align: middle;\n",
       "    }\n",
       "\n",
       "    .dataframe tbody tr th {\n",
       "        vertical-align: top;\n",
       "    }\n",
       "\n",
       "    .dataframe thead th {\n",
       "        text-align: right;\n",
       "    }\n",
       "</style>\n",
       "<table border=\"1\" class=\"dataframe\">\n",
       "  <thead>\n",
       "    <tr style=\"text-align: right;\">\n",
       "      <th></th>\n",
       "      <th>ind</th>\n",
       "      <th>symbol</th>\n",
       "      <th>param_value</th>\n",
       "      <th>trainable</th>\n",
       "      <th>block_id</th>\n",
       "    </tr>\n",
       "  </thead>\n",
       "  <tbody>\n",
       "    <tr>\n",
       "      <th>0</th>\n",
       "      <td>0</td>\n",
       "      <td>None</td>\n",
       "      <td>0.862651</td>\n",
       "      <td>True</td>\n",
       "      <td>0</td>\n",
       "    </tr>\n",
       "    <tr>\n",
       "      <th>1</th>\n",
       "      <td>1</td>\n",
       "      <td>None</td>\n",
       "      <td>7.053198</td>\n",
       "      <td>True</td>\n",
       "      <td>0</td>\n",
       "    </tr>\n",
       "    <tr>\n",
       "      <th>2</th>\n",
       "      <td>0</td>\n",
       "      <td>None</td>\n",
       "      <td>-14.245899</td>\n",
       "      <td>True</td>\n",
       "      <td>0</td>\n",
       "    </tr>\n",
       "  </tbody>\n",
       "</table>\n",
       "</div>"
      ],
      "text/plain": [
       "   ind symbol  param_value  trainable  block_id\n",
       "0    0   None     0.862651       True         0\n",
       "1    1   None     7.053198       True         0\n",
       "2    0   None   -14.245899       True         0"
      ]
     },
     "execution_count": 161,
     "metadata": {},
     "output_type": "execute_result"
    }
   ],
   "source": [
    "simplified_db"
   ]
  },
  {
   "cell_type": "code",
   "execution_count": null,
   "id": "advised-scale",
   "metadata": {},
   "outputs": [],
   "source": []
  },
  {
   "cell_type": "code",
   "execution_count": 228,
   "id": "talented-modification",
   "metadata": {},
   "outputs": [],
   "source": [
    "def rule_5(translator, simplified_db, on_qubit_order, gates_on_qubit):\n",
    "    \"\"\"\n",
    "    compile 1-qubit gates into euler rotations\n",
    "    \"\"\"\n",
    "    simplification = False\n",
    "\n",
    "    type_get = lambda x, translator: (x-translator.number_of_cnots)//translator.n_qubits\n",
    "\n",
    "    for q, qubit_gates_path in gates_on_qubit.items():\n",
    "        if simplification is True:\n",
    "            break\n",
    "        for order_gate_on_qubit, ind_gate in enumerate(qubit_gates_path[:-2]):\n",
    "            if simplification is True:\n",
    "                break\n",
    "            ind_gate_p1 = qubit_gates_path[order_gate_on_qubit+1]\n",
    "            ind_gate_p2 = qubit_gates_path[order_gate_on_qubit+2]\n",
    "            check_rot = lambda ind_gate: translator.number_of_cnots<= ind_gate <(3*translator.n_qubits + translator.number_of_cnots)\n",
    "\n",
    "            if (check_rot(ind_gate) == True) and (check_rot(ind_gate_p1) == True) and (check_rot(ind_gate_p2) == True):\n",
    "\n",
    "\n",
    "                type_0 = type_get(ind_gate,translator)\n",
    "                type_1 = type_get(ind_gate_p1,translator)\n",
    "                type_2 = type_get(ind_gate_p2,translator)\n",
    "\n",
    "\n",
    "                if type_0 == type_2:\n",
    "                    types = [type_0, type_1, type_2]\n",
    "                    for next_order_gate_on_qubit, ind_gate_next in enumerate(qubit_gates_path[order_gate_on_qubit+3:]):\n",
    "                        print(q, ind_gate, ind_gate_next)\n",
    "                        if (check_rot(ind_gate_next) == True):# and (next_order_gate_on_qubit < len(qubit_gates_path[order_gate_on_qubit+3:])):\n",
    "                            types.append(type_get(ind_gate_next, translator))\n",
    "                            simplification=True                        \n",
    "                        else:\n",
    "                            break\n",
    "                    if simplification == True:\n",
    "                        translator.translator_ = CirqTranslater(n_qubits=2)\n",
    "                        u_to_compile_db = simplified_db.loc[indices_to_compile]\n",
    "                        u_to_compile_db[\"ind\"] = translator.translator_.n_qubits*type_get(u_to_compile_db[\"ind\"], translator) + translator.translator_.number_of_cnots#type_get(u_to_compile_db[\"ind\"], translator.translator_)#translator.translator_.n_qubits*(u_to_compile_db[\"ind\"] - translator.number_of_cnots)//translator.n_qubits + translator.translator_.number_of_cnots\n",
    "                        u_to_compile_db[\"symbol\"] = None ##just to be sure it makes no interference with the compiler...\n",
    "\n",
    "\n",
    "                        compile_circuit, compile_circuit_db = construct_compiling_circuit(translator.translator_, u_to_compile_db)\n",
    "                        minimizer = Minimizer(translator.translator_, mode=\"compiling\", hamiltonian=\"Z\")\n",
    "\n",
    "                        cost, resolver, history = minimizer.minimize([compile_circuit], symbols=translator.get_symbols(compile_circuit_db))\n",
    "\n",
    "                        OneQbit_translator = CirqTranslater(n_qubits=1)\n",
    "                        u1s = u1_db(OneQbit_translator, 0, params=True)\n",
    "                        u1s[\"param_value\"] = -np.array(list(resolver.values()))\n",
    "                        resu_comp, resu_db = OneQbit_translator.give_circuit(u1s,unresolved=False)\n",
    "\n",
    "\n",
    "                        u_to_compile_db_1q = u_to_compile_db.copy()\n",
    "                        u_to_compile_db_1q[\"ind\"] = u_to_compile_db[\"ind\"] = type_get(u_to_compile_db[\"ind\"], translator.translator_) ##type_get(u_to_compile_db[\"ind\"],OneQbit_translator)# - translator.translator_.number_of_cnots)//translator.translator_.n_qubits\n",
    "\n",
    "\n",
    "                        cc, cdb = OneQbit_translator.give_circuit(u_to_compile_db_1q, unresolved=False)\n",
    "                        c = cc.unitary()\n",
    "                        r = resu_comp.unitary()\n",
    "\n",
    "\n",
    "\n",
    "                        ## phase_shift if necessary\n",
    "                        if np.abs(np.mean(c/r) -1) > 1:\n",
    "                            u1s.loc[0] = u1s.loc[0].replace(to_replace=u1s[\"param_value\"][0], value=u1s[\"param_value\"][0] + 2*np.pi)# Rz(\\th) = e^{-ii \\theta \\sigma_z / 2}c0, cdb0 = translator.give_circuit(pd.DataFrame([gate_template(0, param_value=2*np.pi)]), unresolved=False)\n",
    "                        resu_comp, resu_db = translator.give_circuit(u1s,unresolved=False)\n",
    "\n",
    "\n",
    "                        for new_ind, typ, pval in zip(indices_to_compile[:3],[0,1,0], list(u1s[\"param_value\"])):\n",
    "                            simplified_db.loc[new_ind+0.1] = gate_template(translator.number_of_cnots + q + typ*translator.n_qubits,\n",
    "                                                                             param_value=pval, block_id=simplified_db.loc[new_ind][\"block_id\"], \n",
    "                                                                             trainable=True)#, symbol=symbols[new_ind])\n",
    "                        for old_inds in indices_to_compile:\n",
    "                            simplified_db = simplified_db.drop(labels=[old_inds],axis=0)#\n",
    "                        simplified_db = simplified_db.sort_index().reset_index(drop=True)\n",
    "\n",
    "        break                \n",
    "    return simplification, simplified_db\n",
    "\n",
    "\n",
    "def apply_rule(original_circuit_db, rule, **kwargs):\n",
    "    max_cnt = kwargs.get('max_cnt',10)\n",
    "    simplified, cnt = True, 0\n",
    "    original_circuit, original_circuit_db = translator.give_circuit(original_circuit_db)\n",
    "    gates_on_qubit, on_qubit_order = get_positional_dbs(original_circuit, original_circuit_db)\n",
    "    simplified_db = original_circuit_db.copy()\n",
    "    while simplified and cnt < max_cnt:\n",
    "        simplified, simplified_circuit_db = rule(translator, simplified_db, on_qubit_order, gates_on_qubit)\n",
    "        circuit, simplified_db = translator.give_circuit(simplified_circuit_db)\n",
    "        gates_on_qubit, on_qubit_order = get_positional_dbs(circuit, simplified_db)\n",
    "        cnt+=1\n",
    "    return cnt, simplified_db"
   ]
  },
  {
   "cell_type": "code",
   "execution_count": 229,
   "id": "dying-watson",
   "metadata": {},
   "outputs": [
    {
     "name": "stdout",
     "output_type": "stream",
     "text": [
      "0 2 2\n",
      "0 2 4\n",
      "0 2 2\n"
     ]
    }
   ],
   "source": [
    "translator = CirqTranslater(2)\n",
    "db1 = u1_layer(translator)\n",
    "circuit_db = concatenate_dbs([db1]*2)\n",
    "circuit, circuit_db  = translator.give_circuit(circuit_db)\n",
    "gates_on_qubit, on_qubit_order = get_positional_dbs(circuit, circuit_db)\n",
    "simplified_db = circuit_db.copy()\n",
    "simplification, ssimplified_db = rule_5(translator, simplified_db, on_qubit_order, gates_on_qubit)"
   ]
  },
  {
   "cell_type": "code",
   "execution_count": 232,
   "id": "lyric-training",
   "metadata": {},
   "outputs": [],
   "source": [
    "circuit, circuit_db  = translator.give_circuit(circuit_db, unresolved=False)\n",
    "scircuit, scircuit_db  = translator.give_circuit(ssimplified_db, unresolved=False)"
   ]
  },
  {
   "cell_type": "code",
   "execution_count": 233,
   "id": "surrounded-piece",
   "metadata": {},
   "outputs": [
    {
     "data": {
      "text/plain": [
       "array([[-0.38799214-0.02864733j, -0.08133665-0.46420911j,\n",
       "        -0.45861786+0.20879091j, -0.38115212-0.47679636j],\n",
       "       [-0.14913967+0.44706052j,  0.3879594 +0.02908734j,\n",
       "         0.10864075+0.6006737j ,  0.45885435-0.20827065j],\n",
       "       [-0.45885435-0.20827065j,  0.10864075-0.6006737j ,\n",
       "         0.3879594 -0.02908734j,  0.14913967+0.44706052j],\n",
       "       [-0.38115212+0.47679636j,  0.45861786+0.20879091j,\n",
       "         0.08133665-0.46420911j, -0.38799214+0.02864733j]])"
      ]
     },
     "execution_count": 233,
     "metadata": {},
     "output_type": "execute_result"
    }
   ],
   "source": [
    "scircuit.unitary()"
   ]
  },
  {
   "cell_type": "code",
   "execution_count": 234,
   "id": "cosmetic-strand",
   "metadata": {},
   "outputs": [
    {
     "data": {
      "text/plain": [
       "array([[ 9.97191896e-01-2.15321351e-03j,  5.38043038e-04-1.37054063e-04j,\n",
       "         6.71203391e-02+3.31396426e-02j,  4.07511602e-05+8.74373807e-06j],\n",
       "       [-5.38505813e-04-1.35224316e-04j,  9.97193454e-01-1.23652572e-03j,\n",
       "        -3.16941278e-05-2.70664418e-05j,  6.70898465e-02+3.32013302e-02j],\n",
       "       [-6.70898465e-02+3.32013302e-02j, -3.16941278e-05+2.70664418e-05j,\n",
       "         9.97193454e-01+1.23652572e-03j,  5.38505813e-04-1.35224316e-04j],\n",
       "       [ 4.07511602e-05-8.74373807e-06j, -6.71203391e-02+3.31396426e-02j,\n",
       "        -5.38043038e-04-1.37054063e-04j,  9.97191896e-01+2.15321351e-03j]])"
      ]
     },
     "execution_count": 234,
     "metadata": {},
     "output_type": "execute_result"
    }
   ],
   "source": [
    "circuit.unitary()"
   ]
  },
  {
   "cell_type": "code",
   "execution_count": 235,
   "id": "dangerous-segment",
   "metadata": {},
   "outputs": [
    {
     "data": {
      "text/html": [
       "<pre style=\"overflow: auto; white-space: pre;\">(0, 0): ───Rz(-0.527π)───Rx(-1.03π)────Rz(-1.82π)───Rz(-0.527π)───Rx(-1.03π)────Rz(-1.82π)───\n",
       "\n",
       "(0, 1): ───Rz(-0.079π)───Rx(-0.561π)───Rz(1.08π)────Rz(-0.079π)───Rx(-0.561π)───Rz(1.08π)────</pre>"
      ],
      "text/plain": [
       "(0, 0): ───Rz(-0.527π)───Rx(-1.03π)────Rz(-1.82π)───Rz(-0.527π)───Rx(-1.03π)────Rz(-1.82π)───\n",
       "\n",
       "(0, 1): ───Rz(-0.079π)───Rx(-0.561π)───Rz(1.08π)────Rz(-0.079π)───Rx(-0.561π)───Rz(1.08π)────"
      ]
     },
     "execution_count": 235,
     "metadata": {},
     "output_type": "execute_result"
    }
   ],
   "source": [
    "circuit"
   ]
  },
  {
   "cell_type": "code",
   "execution_count": 236,
   "id": "celtic-scheduling",
   "metadata": {},
   "outputs": [
    {
     "data": {
      "text/html": [
       "<pre style=\"overflow: auto; white-space: pre;\">(0, 0): ───Rz(-0.631π)───Rx(-1.59π)────Rz(-0.912π)───Rz(-0.527π)───Rx(-1.03π)───Rz(-1.82π)───\n",
       "\n",
       "(0, 1): ───Rz(-0.079π)───Rx(-0.561π)───Rz(1.08π)─────────────────────────────────────────────</pre>"
      ],
      "text/plain": [
       "(0, 0): ───Rz(-0.631π)───Rx(-1.59π)────Rz(-0.912π)───Rz(-0.527π)───Rx(-1.03π)───Rz(-1.82π)───\n",
       "\n",
       "(0, 1): ───Rz(-0.079π)───Rx(-0.561π)───Rz(1.08π)─────────────────────────────────────────────"
      ]
     },
     "execution_count": 236,
     "metadata": {},
     "output_type": "execute_result"
    }
   ],
   "source": [
    "scircuit"
   ]
  },
  {
   "cell_type": "code",
   "execution_count": null,
   "id": "compliant-conjunction",
   "metadata": {},
   "outputs": [],
   "source": []
  },
  {
   "cell_type": "code",
   "execution_count": null,
   "id": "thousand-profit",
   "metadata": {},
   "outputs": [],
   "source": []
  },
  {
   "cell_type": "code",
   "execution_count": null,
   "id": "handy-chapter",
   "metadata": {},
   "outputs": [],
   "source": []
  },
  {
   "cell_type": "code",
   "execution_count": null,
   "id": "cheap-diana",
   "metadata": {},
   "outputs": [],
   "source": []
  },
  {
   "cell_type": "code",
   "execution_count": null,
   "id": "pretty-fifth",
   "metadata": {},
   "outputs": [],
   "source": []
  },
  {
   "cell_type": "code",
   "execution_count": 50,
   "id": "hidden-fields",
   "metadata": {},
   "outputs": [],
   "source": [
    "sss = simplified_db.sort_index().reset_index(drop=True)\n",
    "uuco, ns = translator.give_circuit(sss, unresolved=False)\n",
    "aato, os = translator.give_circuit(circuit_db,unresolved=False)"
   ]
  },
  {
   "cell_type": "code",
   "execution_count": 51,
   "id": "reserved-pennsylvania",
   "metadata": {},
   "outputs": [
    {
     "data": {
      "text/plain": [
       "array([[ 0.46061846+0.70739527j, -0.51837669-0.13677784j],\n",
       "       [ 0.51837669-0.13677784j,  0.46061846-0.70739527j]])"
      ]
     },
     "execution_count": 51,
     "metadata": {},
     "output_type": "execute_result"
    }
   ],
   "source": [
    "uuco.unitary()"
   ]
  },
  {
   "cell_type": "code",
   "execution_count": 52,
   "id": "active-parade",
   "metadata": {},
   "outputs": [
    {
     "data": {
      "text/plain": [
       "array([[ 0.6803843 -0.58407108j,  0.42800579+0.11291244j],\n",
       "       [-0.42800579+0.11291244j,  0.6803843 +0.58407108j]])"
      ]
     },
     "execution_count": 52,
     "metadata": {},
     "output_type": "execute_result"
    }
   ],
   "source": [
    "aato.unitary()"
   ]
  },
  {
   "cell_type": "code",
   "execution_count": 194,
   "id": "actual-magnet",
   "metadata": {},
   "outputs": [],
   "source": []
  },
  {
   "cell_type": "code",
   "execution_count": 195,
   "id": "statistical-price",
   "metadata": {},
   "outputs": [
    {
     "data": {
      "text/html": [
       "<pre style=\"overflow: auto; white-space: pre;\">(0, 0): ───Rz(-0.421π)───Rx(0)───Rz(-1.58π)───Rz(-1.81π)───Rx(0.297π)───Rz(0.817π)───</pre>"
      ],
      "text/plain": [
       "(0, 0): ───Rz(-0.421π)───Rx(0)───Rz(-1.58π)───Rz(-1.81π)───Rx(0.297π)───Rz(0.817π)───"
      ]
     },
     "execution_count": 195,
     "metadata": {},
     "output_type": "execute_result"
    }
   ],
   "source": [
    "uuco"
   ]
  },
  {
   "cell_type": "code",
   "execution_count": 196,
   "id": "divided-trigger",
   "metadata": {},
   "outputs": [],
   "source": [
    "indiis = np.sort(list(range(0,3*3*5,9)) + list(range(3,3*3*5,9)))"
   ]
  },
  {
   "cell_type": "code",
   "execution_count": 197,
   "id": "regulated-diploma",
   "metadata": {},
   "outputs": [],
   "source": [
    "ll = []\n",
    "for k in indiis[:-1]:\n",
    "    ll.append(ns[k:(k+1)])"
   ]
  },
  {
   "cell_type": "code",
   "execution_count": 198,
   "id": "binding-deviation",
   "metadata": {},
   "outputs": [
    {
     "data": {
      "text/plain": [
       "((0, 0): ───Rz(th_0)───Rz(th_12)───,\n",
       "    ind symbol  param_value  trainable  block_id\n",
       " 0    0   th_0   -13.888521       True         0\n",
       " 1    0  th_12    -5.695495       True         0)"
      ]
     },
     "execution_count": 198,
     "metadata": {},
     "output_type": "execute_result"
    }
   ],
   "source": [
    "translator.give_circuit(concatenate_dbs(ll))"
   ]
  },
  {
   "cell_type": "code",
   "execution_count": 201,
   "id": "informal-fraud",
   "metadata": {},
   "outputs": [
    {
     "data": {
      "text/plain": [
       "array([[-0.00512433-0.89309116j, -0.37580852-0.24724459j],\n",
       "       [ 0.37580852-0.24724459j, -0.00512433+0.89309116j]])"
      ]
     },
     "execution_count": 201,
     "metadata": {},
     "output_type": "execute_result"
    }
   ],
   "source": []
  },
  {
   "cell_type": "code",
   "execution_count": 202,
   "id": "alone-century",
   "metadata": {},
   "outputs": [
    {
     "data": {
      "text/plain": [
       "array([[ 0.0257012 +0.89280744j,  0.37568389+0.24717591j],\n",
       "       [-0.37568389+0.24717591j,  0.0257012 -0.89280744j]])"
      ]
     },
     "execution_count": 202,
     "metadata": {},
     "output_type": "execute_result"
    }
   ],
   "source": []
  },
  {
   "cell_type": "code",
   "execution_count": 203,
   "id": "awful-drinking",
   "metadata": {},
   "outputs": [
    {
     "data": {
      "text/plain": [
       "<tf.Tensor: shape=(), dtype=float32, numpy=1.1920929e-07>"
      ]
     },
     "execution_count": 203,
     "metadata": {},
     "output_type": "execute_result"
    }
   ],
   "source": [
    "cost"
   ]
  },
  {
   "cell_type": "code",
   "execution_count": null,
   "id": "express-orbit",
   "metadata": {},
   "outputs": [],
   "source": []
  }
 ],
 "metadata": {
  "kernelspec": {
   "display_name": "Python 3",
   "language": "python",
   "name": "python3"
  },
  "language_info": {
   "codemirror_mode": {
    "name": "ipython",
    "version": 3
   },
   "file_extension": ".py",
   "mimetype": "text/x-python",
   "name": "python",
   "nbconvert_exporter": "python",
   "pygments_lexer": "ipython3",
   "version": "3.6.9"
  }
 },
 "nbformat": 4,
 "nbformat_minor": 5
}
