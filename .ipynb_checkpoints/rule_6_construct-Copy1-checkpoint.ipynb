{
 "cells": [
  {
   "cell_type": "markdown",
   "id": "israeli-cathedral",
   "metadata": {},
   "source": [
    "In this notebook we give a proof of concept of unitary compiling using TFQ. "
   ]
  },
  {
   "cell_type": "code",
   "execution_count": 1,
   "id": "cleared-explorer",
   "metadata": {},
   "outputs": [],
   "source": [
    "%load_ext autoreload\n",
    "%autoreload 2\n",
    "\n",
    "import sympy \n",
    "import numpy as np \n",
    "import pandas as pd \n",
    "import tensorflow as tf\n",
    "from utilities.circuit_database import CirqTranslater\n",
    "from utilities.templates import *\n",
    "from utilities.variational import Minimizer\n",
    "from utilities.misc import get_qubits_involved, reindex_symbol, shift_symbols_down\n",
    "import matplotlib.pyplot as plt \n",
    "import tensorflow_quantum as tfq\n",
    "import cirq\n",
    "from utilities.compiling import *"
   ]
  },
  {
   "cell_type": "code",
   "execution_count": 2,
   "id": "liable-gibson",
   "metadata": {},
   "outputs": [],
   "source": [
    "def get_positional_dbs(circuit, circuit_db):\n",
    "\n",
    "    qubits_involved = get_qubits_involved(circuit, circuit_db)\n",
    "    \n",
    "    gates_on_qubit = {q:[] for q in qubits_involved}\n",
    "    on_qubit_order = {q:[] for q in qubits_involved}\n",
    "\n",
    "    for order_gate, ind_gate in enumerate( circuit_db[\"ind\"]):\n",
    "        if ind_gate < translator.number_of_cnots:\n",
    "            control, target = translator.indexed_cnots[str(ind_gate)]\n",
    "            gates_on_qubit[control].append(ind_gate)\n",
    "            gates_on_qubit[target].append(ind_gate)\n",
    "            on_qubit_order[control].append(order_gate)                \n",
    "            on_qubit_order[target].append(order_gate)  \n",
    "        else:\n",
    "            gates_on_qubit[(ind_gate-translator.n_qubits)%translator.n_qubits].append(ind_gate)\n",
    "            on_qubit_order[(ind_gate-translator.n_qubits)%translator.n_qubits].append(order_gate)        \n",
    "    return gates_on_qubit, on_qubit_order"
   ]
  },
  {
   "cell_type": "code",
   "execution_count": 10,
   "id": "spoken-terrain",
   "metadata": {},
   "outputs": [],
   "source": [
    "translator = CirqTranslater(2)\n",
    "db1 = u1_layer(translator)\n",
    "circuit_db = concatenate_dbs([db1]*2)\n",
    "circuit, circuit_db  = translator.give_circuit(circuit_db)\n",
    "gates_on_qubit, on_qubit_order = get_positional_dbs(circuit, circuit_db)\n",
    "simplified_db = circuit_db.copy()"
   ]
  },
  {
   "cell_type": "code",
   "execution_count": 31,
   "id": "intimate-infection",
   "metadata": {},
   "outputs": [],
   "source": [
    "type_get = lambda x: (x-translator.number_of_cnots)//translator.n_qubits\n"
   ]
  },
  {
   "cell_type": "code",
   "execution_count": 38,
   "id": "incorporate-logan",
   "metadata": {},
   "outputs": [
    {
     "data": {
      "text/plain": [
       "((0, 3): ───Rx(th_0)───,\n",
       "    ind symbol param_value  trainable  block_id\n",
       " 0   39   th_0        None       True         0)"
      ]
     },
     "execution_count": 38,
     "metadata": {},
     "output_type": "execute_result"
    }
   ],
   "source": [
    "translator = CirqTranslater(6)\n",
    "indi = translator.number_of_cnots + 9\n",
    "translator.give_circuit(pd.DataFrame([gate_template(indi)]))"
   ]
  },
  {
   "cell_type": "code",
   "execution_count": 39,
   "id": "fuzzy-cookie",
   "metadata": {},
   "outputs": [
    {
     "data": {
      "text/plain": [
       "1"
      ]
     },
     "execution_count": 39,
     "metadata": {},
     "output_type": "execute_result"
    }
   ],
   "source": [
    "type_get(indi)"
   ]
  },
  {
   "cell_type": "code",
   "execution_count": 236,
   "id": "senior-robinson",
   "metadata": {},
   "outputs": [
    {
     "data": {
      "text/html": [
       "<pre style=\"overflow: auto; white-space: pre;\">(0, 0): ───Rx(th_0)───Rx(th_4)───X───\n",
       "                                 │\n",
       "(0, 1): ───Rx(th_1)───Rz(th_3)───@───\n",
       "\n",
       "(0, 2): ───Rx(th_2)──────────────────</pre>"
      ],
      "text/plain": [
       "(0, 0): ───Rx(th_0)───Rx(th_4)───X───\n",
       "                                 │\n",
       "(0, 1): ───Rx(th_1)───Rz(th_3)───@───\n",
       "\n",
       "(0, 2): ───Rx(th_2)──────────────────"
      ]
     },
     "execution_count": 236,
     "metadata": {},
     "output_type": "execute_result"
    }
   ],
   "source": [
    "translator = CirqTranslater(3)\n",
    "\n",
    "u1db = u1_layer(translator)\n",
    "uflip = pd.DataFrame([gate_template(k) for k in [translator.number_of_cnots, 0]])\n",
    "x_layer_db = pd.DataFrame([gate_template(k, param_value=0.) for k in [translator.number_of_cnots + translator.n_qubits+j for j in range(translator.n_qubits)]])\n",
    "uflip_x = pd.DataFrame([gate_template(k) for k in [translator.number_of_cnots + 1, translator.number_of_cnots+3, 2]])\n",
    "\n",
    "circuit_db = concatenate_dbs([x_on_all,uflip_x])\n",
    "circuit, circuit_db  = translator.give_circuit(circuit_db)\n",
    "gates_on_qubit, on_qubit_order = get_positional_dbs(circuit, circuit_db)\n",
    "simplified_db = circuit_db.copy()\n",
    "circuit"
   ]
  },
  {
   "cell_type": "code",
   "execution_count": 237,
   "id": "educated-massachusetts",
   "metadata": {},
   "outputs": [
    {
     "name": "stdout",
     "output_type": "stream",
     "text": [
      "1 0 1 0\n",
      "0\n",
      "here\n",
      "0 9 1\n",
      "okkk\n"
     ]
    }
   ],
   "source": [
    "type_get = lambda x: (x-translator.number_of_cnots)//translator.n_qubits\n",
    "check_rot = lambda ind_gate: translator.number_of_cnots<= ind_gate <(3*translator.n_qubits + translator.number_of_cnots)\n",
    "\n",
    "simplification = False\n",
    "for q, qubit_gates_path in gates_on_qubit.items():\n",
    "    if simplification is True:\n",
    "        break\n",
    "    for order_gate_on_qubit, ind_gate in enumerate(qubit_gates_path[:-1]):\n",
    "        if simplification is True:\n",
    "            break\n",
    "        ind_gate_p1 = qubit_gates_path[order_gate_on_qubit+1]\n",
    "\n",
    "        if (check_rot(ind_gate) == True) and (check_rot(ind_gate_p1) == False):\n",
    "            type_0 = type_get(ind_gate)\n",
    "\n",
    "            control, target = translator.indexed_cnots[str(ind_gate_p1)]\n",
    "            \n",
    "            this_qubit = q\n",
    "            other_qubits = [control, target]\n",
    "            other_qubits.remove(q)\n",
    "            other_qubit = other_qubits[0]\n",
    "            \n",
    "            print(type_0, q, control, target)\n",
    "\n",
    "            if ((type_0 == 0) and (q==control)) or ((type_0== 1) and (q==target)):\n",
    "                ### free to pass...\n",
    "                print(\"0\")\n",
    "                if len(gates_on_qubit[other_qubit]) == 1:\n",
    "                    simplification = True\n",
    "                for qord_other, ind_gate_other in enumerate(gates_on_qubit[other_qubit]):\n",
    "                    if (ind_gate_other == ind_gate_p1): ## check if we find the same cnot on both qubits\n",
    "                        print(\"here\")\n",
    "                        cnot_call__q = on_qubit_order[q][order_gate_on_qubit+1]\n",
    "                        if cnot_call__q == on_qubit_order[other_qubit][qord_other]:## now check if we are applying the gate on both qubits at same time\n",
    "                            ### it might happen that there's no gate on the other qbit before the cnot, in that case free to comute.\n",
    "                            if qord_other == 0:\n",
    "                                simplification = True\n",
    "                                break\n",
    "                            else:\n",
    "                                gate_in_other_qubit_before_cnot = simplified_db.loc[on_qubit_order[other_qubit][qord_other-1]][\"ind\"]\n",
    "                                if check_rot(gate_in_other_qubit_before_cnot) == True:\n",
    "                                    type_gate_other = type_get(gate_in_other_qubit_before_cnot)\n",
    "                                    print(q, ind_gate, order_gate_on_qubit)\n",
    "                                    if type_0 != type_gate_other:\n",
    "                                        simplification = True\n",
    "                                        print(\"okkk\")\n",
    "                                        break\n",
    "if simplification == True:\n",
    "\n",
    "    info_rot = simplified_db.loc[on_qubit_order[q][order_gate_on_qubit]].copy()\n",
    "    info_cnot_control = simplified_db.loc[on_qubit_order[q][order_gate_on_qubit+1]].copy()\n",
    "\n",
    "    simplified_db.loc[on_qubit_order[q][order_gate_on_qubit]]  = info_cnot_control\n",
    "    simplified_db.loc[on_qubit_order[q][order_gate_on_qubit+1]] = info_rot\n",
    "\n",
    "            "
   ]
  },
  {
   "cell_type": "code",
   "execution_count": 230,
   "id": "charitable-closure",
   "metadata": {},
   "outputs": [
    {
     "data": {
      "text/plain": [
       "0"
      ]
     },
     "execution_count": 230,
     "metadata": {},
     "output_type": "execute_result"
    }
   ],
   "source": [
    "type_gate_other"
   ]
  },
  {
   "cell_type": "code",
   "execution_count": 231,
   "id": "pharmaceutical-smile",
   "metadata": {},
   "outputs": [],
   "source": [
    "scircuit, scircuit_db  = translator.give_circuit(simplified_db)\n"
   ]
  },
  {
   "cell_type": "code",
   "execution_count": 232,
   "id": "seeing-phase",
   "metadata": {},
   "outputs": [
    {
     "data": {
      "text/html": [
       "<pre style=\"overflow: auto; white-space: pre;\">(0, 0): ───Rx(th_0)───X───Rx(th_4)───\n",
       "                      │\n",
       "(0, 1): ───Rx(th_1)───@───Rz(th_3)───\n",
       "\n",
       "(0, 2): ───Rx(th_2)──────────────────</pre>"
      ],
      "text/plain": [
       "(0, 0): ───Rx(th_0)───X───Rx(th_4)───\n",
       "                      │\n",
       "(0, 1): ───Rx(th_1)───@───Rz(th_3)───\n",
       "\n",
       "(0, 2): ───Rx(th_2)──────────────────"
      ]
     },
     "execution_count": 232,
     "metadata": {},
     "output_type": "execute_result"
    }
   ],
   "source": [
    "scircuit"
   ]
  },
  {
   "cell_type": "code",
   "execution_count": 233,
   "id": "worth-article",
   "metadata": {},
   "outputs": [
    {
     "data": {
      "text/plain": [
       "True"
      ]
     },
     "execution_count": 233,
     "metadata": {},
     "output_type": "execute_result"
    }
   ],
   "source": [
    "simplification"
   ]
  },
  {
   "cell_type": "code",
   "execution_count": 239,
   "id": "talented-modification",
   "metadata": {},
   "outputs": [],
   "source": [
    "def rule_6(translator, simplified_db, on_qubit_order, gates_on_qubit):\n",
    "    \"\"\"\n",
    "    move cnots to the left, rotations to the right.\n",
    "    \n",
    "    IMPORTANT this won't work if the cirucit is too short!\n",
    "    \"\"\"\n",
    "    type_get = lambda x: (x-translator.number_of_cnots)//translator.n_qubits\n",
    "    check_rot = lambda ind_gate: translator.number_of_cnots<= ind_gate <(3*translator.n_qubits + translator.number_of_cnots)\n",
    "\n",
    "    simplification = False\n",
    "    for q, qubit_gates_path in gates_on_qubit.items():\n",
    "        if simplification is True:\n",
    "            break\n",
    "        for order_gate_on_qubit, ind_gate in enumerate(qubit_gates_path[:-1]):\n",
    "            if simplification is True:\n",
    "                break\n",
    "            ind_gate_p1 = qubit_gates_path[order_gate_on_qubit+1]\n",
    "\n",
    "            if (check_rot(ind_gate) == True) and (check_rot(ind_gate_p1) == False):\n",
    "                type_0 = type_get(ind_gate)\n",
    "\n",
    "                control, target = translator.indexed_cnots[str(ind_gate_p1)]\n",
    "\n",
    "                this_qubit = q\n",
    "                other_qubits = [control, target]\n",
    "                other_qubits.remove(q)\n",
    "                other_qubit = other_qubits[0]\n",
    "\n",
    "\n",
    "                if ((type_0 == 0) and (q==control)) or ((type_0== 1) and (q==target)):\n",
    "                    ### free to pass...\n",
    "                    if len(gates_on_qubit[other_qubit]) == 1:\n",
    "                        simplification = True\n",
    "                    for qord_other, ind_gate_other in enumerate(gates_on_qubit[other_qubit]):\n",
    "                        if (ind_gate_other == ind_gate_p1): ## check if we find the same cnot on both qubits\n",
    "                            cnot_call__q = on_qubit_order[q][order_gate_on_qubit+1]\n",
    "                            if cnot_call__q == on_qubit_order[other_qubit][qord_other]:## now check if we are applying the gate on both qubits at same time\n",
    "                                ### it might happen that there's no gate on the other qbit before the cnot, in that case free to comute.\n",
    "                                if qord_other == 0:\n",
    "                                    simplification = True\n",
    "                                    break\n",
    "                                else:\n",
    "                                    gate_in_other_qubit_before_cnot = simplified_db.loc[on_qubit_order[other_qubit][qord_other-1]][\"ind\"]\n",
    "                                    if check_rot(gate_in_other_qubit_before_cnot) == True:\n",
    "                                        type_gate_other = type_get(gate_in_other_qubit_before_cnot)\n",
    "                                        if type_0 != type_gate_other:\n",
    "                                            simplification = True\n",
    "                                            break\n",
    "    if simplification == True:\n",
    "\n",
    "        info_rot = simplified_db.loc[on_qubit_order[q][order_gate_on_qubit]].copy()\n",
    "        info_cnot_control = simplified_db.loc[on_qubit_order[q][order_gate_on_qubit+1]].copy()\n",
    "\n",
    "        simplified_db.loc[on_qubit_order[q][order_gate_on_qubit]]  = info_cnot_control\n",
    "        simplified_db.loc[on_qubit_order[q][order_gate_on_qubit+1]] = info_rot \n",
    "    return simplification, simplified_db\n",
    "\n",
    "def apply_rule(original_circuit_db, rule, **kwargs):\n",
    "    max_cnt = kwargs.get('max_cnt',10)\n",
    "    simplified, cnt = True, 0\n",
    "    original_circuit, original_circuit_db = translator.give_circuit(original_circuit_db)\n",
    "    gates_on_qubit, on_qubit_order = get_positional_dbs(original_circuit, original_circuit_db)\n",
    "    simplified_db = original_circuit_db.copy()\n",
    "    while simplified and cnt < max_cnt:\n",
    "        simplified, simplified_circuit_db = rule(translator, simplified_db, on_qubit_order, gates_on_qubit)\n",
    "        circuit, simplified_db = translator.give_circuit(simplified_circuit_db)\n",
    "        gates_on_qubit, on_qubit_order = get_positional_dbs(circuit, simplified_db)\n",
    "        cnt+=1\n",
    "    return cnt, simplified_db"
   ]
  },
  {
   "cell_type": "code",
   "execution_count": 251,
   "id": "dying-watson",
   "metadata": {},
   "outputs": [],
   "source": [
    "translator = CirqTranslater(3)\n",
    "\n",
    "u1db = u1_layer(translator)\n",
    "uflip = pd.DataFrame([gate_template(k) for k in [translator.number_of_cnots, 0,0]])\n",
    "x_layer_db = pd.DataFrame([gate_template(k, param_value=0.) for k in [translator.number_of_cnots + translator.n_qubits+j for j in range(translator.n_qubits)]])\n",
    "uflip_x = pd.DataFrame([gate_template(k) for k in [translator.number_of_cnots + 1, translator.number_of_cnots+3, 2, 2]])\n",
    "\n",
    "circuit_db = concatenate_dbs([x_on_all,uflip_x, uflip_x, uflip_x])\n",
    "circuit, circuit_db  = translator.give_circuit(circuit_db)\n",
    "gates_on_qubit, on_qubit_order = get_positional_dbs(circuit, circuit_db)\n",
    "simplified_db = circuit_db.copy()\n",
    "\n",
    "simplification, ssimplified_db = rule_6(translator, simplified_db, on_qubit_order, gates_on_qubit)"
   ]
  },
  {
   "cell_type": "code",
   "execution_count": 252,
   "id": "interested-pixel",
   "metadata": {},
   "outputs": [
    {
     "data": {
      "text/html": [
       "<pre style=\"overflow: auto; white-space: pre;\">(0, 0): ───Rx(th_0)───Rx(th_4)───X───X───Rx(th_6)───X───X───Rx(th_8)───X───X───\n",
       "                                 │   │              │   │              │   │\n",
       "(0, 1): ───Rx(th_1)───Rz(th_3)───@───@───Rz(th_5)───@───@───Rz(th_7)───@───@───\n",
       "\n",
       "(0, 2): ───Rx(th_2)────────────────────────────────────────────────────────────</pre>"
      ],
      "text/plain": [
       "(0, 0): ───Rx(th_0)───Rx(th_4)───X───X───Rx(th_6)───X───X───Rx(th_8)───X───X───\n",
       "                                 │   │              │   │              │   │\n",
       "(0, 1): ───Rx(th_1)───Rz(th_3)───@───@───Rz(th_5)───@───@───Rz(th_7)───@───@───\n",
       "\n",
       "(0, 2): ───Rx(th_2)────────────────────────────────────────────────────────────"
      ]
     },
     "execution_count": 252,
     "metadata": {},
     "output_type": "execute_result"
    }
   ],
   "source": [
    "translator.give_circuit(circuit_db)[0]"
   ]
  },
  {
   "cell_type": "code",
   "execution_count": 253,
   "id": "binding-entrepreneur",
   "metadata": {},
   "outputs": [
    {
     "data": {
      "text/html": [
       "<pre style=\"overflow: auto; white-space: pre;\">(0, 0): ───Rx(th_0)───Rx(th_4)───X───X───Rx(th_6)───X───X───Rx(th_8)───X───X───\n",
       "                                 │   │              │   │              │   │\n",
       "(0, 1): ───Rx(th_1)───Rz(th_3)───@───@───Rz(th_5)───@───@───Rz(th_7)───@───@───\n",
       "\n",
       "(0, 2): ───Rx(th_2)────────────────────────────────────────────────────────────</pre>"
      ],
      "text/plain": [
       "(0, 0): ───Rx(th_0)───Rx(th_4)───X───X───Rx(th_6)───X───X───Rx(th_8)───X───X───\n",
       "                                 │   │              │   │              │   │\n",
       "(0, 1): ───Rx(th_1)───Rz(th_3)───@───@───Rz(th_5)───@───@───Rz(th_7)───@───@───\n",
       "\n",
       "(0, 2): ───Rx(th_2)────────────────────────────────────────────────────────────"
      ]
     },
     "execution_count": 253,
     "metadata": {},
     "output_type": "execute_result"
    }
   ],
   "source": [
    "translator.give_circuit(ssimplified_db)[0]"
   ]
  },
  {
   "cell_type": "code",
   "execution_count": 28,
   "id": "characteristic-immunology",
   "metadata": {},
   "outputs": [
    {
     "name": "stdout",
     "output_type": "stream",
     "text": [
      "0 0 0\n"
     ]
    }
   ],
   "source": [
    "translator = CirqTranslater(1)\n",
    "db1 = u1_layer(translator)\n",
    "circuit_db = concatenate_dbs([db1]*2)\n",
    "circuit, circuit_db  = translator.give_circuit(circuit_db)\n",
    "gates_on_qubit, on_qubit_order = get_positional_dbs(circuit, circuit_db)\n",
    "simplified_db = circuit_db.copy()\n",
    "\n",
    "\n",
    "simplification = False\n",
    "for q, qubit_gates_path in gates_on_qubit.items():\n",
    "    if simplification is True:\n",
    "        break\n",
    "    for order_gate_on_qubit, ind_gate in enumerate(qubit_gates_path[:-2]):\n",
    "        if simplification is True:\n",
    "            break\n",
    "        ind_gate_p1 = qubit_gates_path[order_gate_on_qubit+1]\n",
    "        ind_gate_p2 = qubit_gates_path[order_gate_on_qubit+2]\n",
    "        check_rot = lambda ind_gate: translator.number_of_cnots<= ind_gate <(3*translator.n_qubits + translator.number_of_cnots)\n",
    "\n",
    "        if (check_rot(ind_gate) == True) and (check_rot(ind_gate_p1) == True) and (check_rot(ind_gate_p2) == True):\n",
    "\n",
    "            type_get = lambda x: (x-translator.number_of_cnots)//translator.n_qubits\n",
    "            type_0 = type_get(ind_gate)\n",
    "            type_1 = type_get(ind_gate_p1)\n",
    "            type_2 = type_get(ind_gate_p2)\n",
    "\n",
    "\n",
    "            if type_0 == type_2:\n",
    "                types = [type_0, type_1, type_2]\n",
    "                for next_order_gate_on_qubit, ind_gate_next in enumerate(qubit_gates_path[order_gate_on_qubit+3:]):\n",
    "                    print(q, ind_gate, ind_gate_next)\n",
    "                    if (check_rot(ind_gate_next) == True):# and (next_order_gate_on_qubit < len(qubit_gates_path[order_gate_on_qubit+3:])):\n",
    "                        types.append(type_get(ind_gate_next))\n",
    "                    else:\n",
    "                        indices_to_compile = [on_qubit_order[q][order_gate_on_qubit+k] for k in range(len(types))]\n",
    "                        if len(indices_to_compile)>3:\n",
    "                            u_to_compile_db = simplified_db.loc[indices_to_compile]\n",
    "                            u_to_compile_db[\"ind\"] = (u_to_compile_db[\"ind\"]-q) #target qubit in unitary compilation set to 0\n",
    "                            u_to_compile_db[\"ind\"] = u_to_compile_db[\"ind\"] - translator.number_of_cnots\n",
    "                            u_to_compile_db[\"symbol\"] = None ##just to be sure it makes no interference with the compiler...\n",
    "\n",
    "                            translator.translator_ = CirqTranslater(n_qubits=2)\n",
    "\n",
    "                            compile_circuit, compile_circuit_db = construct_compiling_circuit(translator.translator_, u_to_compile_db)\n",
    "                            minimizer = Minimizer(translator.translator_, mode=\"compiling\", hamiltonian=\"Z\")\n",
    "\n",
    "\n",
    "                            cost, resolver, history = minimizer.minimize([compile_circuit], symbols=translator.get_symbols(compile_circuit_db))\n",
    "\n",
    "\n",
    "                            u1s = u1_db(translator, 0, params=True)\n",
    "                            u1s[\"param_value\"] = -np.array(list(resolver.values()))\n",
    "                            resu_comp, resu_db = translator.translator_.give_circuit(u1s,unresolved=False)\n",
    "\n",
    "                            cc, cdb = translator.translator_.give_circuit(u_to_compile_db, unresolved=False)\n",
    "                            c = cc.unitary()\n",
    "                            r = resu_comp.unitary()\n",
    "\n",
    "                            ## phase_shift if necessary\n",
    "                            if np.abs(np.mean(c/r) -1) > 1:\n",
    "                                u1s.loc[0] = u1s.loc[0].replace(to_replace=u1s[\"param_value\"][0], value=u1s[\"param_value\"][0] + np.pi)\n",
    "\n",
    "                            for new_ind, typ, pval in zip(indices_to_compile[:3],[0,1,0], list(u1s[\"param_value\"])):\n",
    "                                simplified_db.loc[new_ind+0.1] = gate_template(translator.number_of_cnots + q + typ*translator.n_qubits,\n",
    "                                                                                 param_value=pval, block_id=simplified_db.loc[new_ind][\"block_id\"], \n",
    "                                                                                 trainable=True)#, symbol=symbols[new_ind])\n",
    "                            for old_inds in indices_to_compile:\n",
    "                                simplified_db = simplified_db.drop(labels=[old_inds],axis=0)#\n",
    "                                \n",
    "                            #simplified_db = simplified_db.sort_index().reset_index(drop=True)\n",
    "\n",
    "                    #        ## check this..!\n",
    "                            ##for down_symbols in range(len(indices_to_compile)-3):\n",
    "                            simplification = True\n",
    "                            breakT.J. Volkoff"
   ]
  },
  {
   "cell_type": "code",
   "execution_count": 5,
   "id": "defensive-spain",
   "metadata": {},
   "outputs": [
    {
     "name": "stdout",
     "output_type": "stream",
     "text": [
      "0 0 0\n",
      "0 0 1\n",
      "0 0 0\n"
     ]
    },
    {
     "name": "stderr",
     "output_type": "stream",
     "text": [
      "/home/cooper-cooper/.local/lib/python3.6/site-packages/ipykernel_launcher.py:64: RuntimeWarning: divide by zero encountered in true_divide\n",
      "/home/cooper-cooper/.local/lib/python3.6/site-packages/ipykernel_launcher.py:64: RuntimeWarning: invalid value encountered in true_divide\n"
     ]
    }
   ],
   "source": []
  },
  {
   "cell_type": "code",
   "execution_count": null,
   "id": "important-segment",
   "metadata": {},
   "outputs": [],
   "source": []
  },
  {
   "cell_type": "code",
   "execution_count": 6,
   "id": "ethical-tours",
   "metadata": {},
   "outputs": [
    {
     "name": "stderr",
     "output_type": "stream",
     "text": [
      "/home/cooper-cooper/.local/lib/python3.6/site-packages/ipykernel_launcher.py:10: RuntimeWarning: divide by zero encountered in true_divide\n",
      "  # Remove the CWD from sys.path while we load stuff.\n",
      "/home/cooper-cooper/.local/lib/python3.6/site-packages/ipykernel_launcher.py:10: RuntimeWarning: invalid value encountered in true_divide\n",
      "  # Remove the CWD from sys.path while we load stuff.\n"
     ]
    },
    {
     "ename": "KeyError",
     "evalue": "0",
     "output_type": "error",
     "traceback": [
      "\u001b[0;31m---------------------------------------------------------------------------\u001b[0m",
      "\u001b[0;31mKeyError\u001b[0m                                  Traceback (most recent call last)",
      "\u001b[0;32m~/.local/lib/python3.6/site-packages/pandas/core/indexes/base.py\u001b[0m in \u001b[0;36mget_loc\u001b[0;34m(self, key, method, tolerance)\u001b[0m\n\u001b[1;32m   2897\u001b[0m             \u001b[0;32mtry\u001b[0m\u001b[0;34m:\u001b[0m\u001b[0;34m\u001b[0m\u001b[0;34m\u001b[0m\u001b[0m\n\u001b[0;32m-> 2898\u001b[0;31m                 \u001b[0;32mreturn\u001b[0m \u001b[0mself\u001b[0m\u001b[0;34m.\u001b[0m\u001b[0m_engine\u001b[0m\u001b[0;34m.\u001b[0m\u001b[0mget_loc\u001b[0m\u001b[0;34m(\u001b[0m\u001b[0mcasted_key\u001b[0m\u001b[0;34m)\u001b[0m\u001b[0;34m\u001b[0m\u001b[0;34m\u001b[0m\u001b[0m\n\u001b[0m\u001b[1;32m   2899\u001b[0m             \u001b[0;32mexcept\u001b[0m \u001b[0mKeyError\u001b[0m \u001b[0;32mas\u001b[0m \u001b[0merr\u001b[0m\u001b[0;34m:\u001b[0m\u001b[0;34m\u001b[0m\u001b[0;34m\u001b[0m\u001b[0m\n",
      "\u001b[0;32mpandas/_libs/index.pyx\u001b[0m in \u001b[0;36mpandas._libs.index.IndexEngine.get_loc\u001b[0;34m()\u001b[0m\n",
      "\u001b[0;32mpandas/_libs/index.pyx\u001b[0m in \u001b[0;36mpandas._libs.index.IndexEngine.get_loc\u001b[0;34m()\u001b[0m\n",
      "\u001b[0;32mpandas/_libs/hashtable_class_helper.pxi\u001b[0m in \u001b[0;36mpandas._libs.hashtable.Float64HashTable.get_item\u001b[0;34m()\u001b[0m\n",
      "\u001b[0;32mpandas/_libs/hashtable_class_helper.pxi\u001b[0m in \u001b[0;36mpandas._libs.hashtable.Float64HashTable.get_item\u001b[0;34m()\u001b[0m\n",
      "\u001b[0;31mKeyError\u001b[0m: 0.0",
      "\nThe above exception was the direct cause of the following exception:\n",
      "\u001b[0;31mKeyError\u001b[0m                                  Traceback (most recent call last)",
      "\u001b[0;32m<ipython-input-6-d407873fdfa4>\u001b[0m in \u001b[0;36m<module>\u001b[0;34m\u001b[0m\n\u001b[1;32m     13\u001b[0m \u001b[0;32mfor\u001b[0m \u001b[0mnew_ind\u001b[0m\u001b[0;34m,\u001b[0m \u001b[0mtyp\u001b[0m\u001b[0;34m,\u001b[0m \u001b[0mpval\u001b[0m \u001b[0;32min\u001b[0m \u001b[0mzip\u001b[0m\u001b[0;34m(\u001b[0m\u001b[0mindices_to_compile\u001b[0m\u001b[0;34m[\u001b[0m\u001b[0;34m:\u001b[0m\u001b[0;36m3\u001b[0m\u001b[0;34m]\u001b[0m\u001b[0;34m,\u001b[0m\u001b[0;34m[\u001b[0m\u001b[0;36m0\u001b[0m\u001b[0;34m,\u001b[0m\u001b[0;36m1\u001b[0m\u001b[0;34m,\u001b[0m\u001b[0;36m0\u001b[0m\u001b[0;34m]\u001b[0m\u001b[0;34m,\u001b[0m \u001b[0mlist\u001b[0m\u001b[0;34m(\u001b[0m\u001b[0mu1s\u001b[0m\u001b[0;34m[\u001b[0m\u001b[0;34m\"param_value\"\u001b[0m\u001b[0;34m]\u001b[0m\u001b[0;34m)\u001b[0m\u001b[0;34m)\u001b[0m\u001b[0;34m:\u001b[0m\u001b[0;34m\u001b[0m\u001b[0;34m\u001b[0m\u001b[0m\n\u001b[1;32m     14\u001b[0m     simplified_db.loc[new_ind+0.1] = gate_template(translator.number_of_cnots + q + typ*translator.n_qubits,\n\u001b[0;32m---> 15\u001b[0;31m                                                      \u001b[0mparam_value\u001b[0m\u001b[0;34m=\u001b[0m\u001b[0mpval\u001b[0m\u001b[0;34m,\u001b[0m \u001b[0mblock_id\u001b[0m\u001b[0;34m=\u001b[0m\u001b[0msimplified_db\u001b[0m\u001b[0;34m.\u001b[0m\u001b[0mloc\u001b[0m\u001b[0;34m[\u001b[0m\u001b[0mnew_ind\u001b[0m\u001b[0;34m]\u001b[0m\u001b[0;34m[\u001b[0m\u001b[0;34m\"block_id\"\u001b[0m\u001b[0;34m]\u001b[0m\u001b[0;34m,\u001b[0m\u001b[0;34m\u001b[0m\u001b[0;34m\u001b[0m\u001b[0m\n\u001b[0m\u001b[1;32m     16\u001b[0m                                                      trainable=True)#, symbol=symbols[new_ind])\n\u001b[1;32m     17\u001b[0m \u001b[0;32mfor\u001b[0m \u001b[0mold_inds\u001b[0m \u001b[0;32min\u001b[0m \u001b[0mindices_to_compile\u001b[0m\u001b[0;34m:\u001b[0m\u001b[0;34m\u001b[0m\u001b[0;34m\u001b[0m\u001b[0m\n",
      "\u001b[0;32m~/.local/lib/python3.6/site-packages/pandas/core/indexing.py\u001b[0m in \u001b[0;36m__getitem__\u001b[0;34m(self, key)\u001b[0m\n\u001b[1;32m    877\u001b[0m \u001b[0;34m\u001b[0m\u001b[0m\n\u001b[1;32m    878\u001b[0m             \u001b[0mmaybe_callable\u001b[0m \u001b[0;34m=\u001b[0m \u001b[0mcom\u001b[0m\u001b[0;34m.\u001b[0m\u001b[0mapply_if_callable\u001b[0m\u001b[0;34m(\u001b[0m\u001b[0mkey\u001b[0m\u001b[0;34m,\u001b[0m \u001b[0mself\u001b[0m\u001b[0;34m.\u001b[0m\u001b[0mobj\u001b[0m\u001b[0;34m)\u001b[0m\u001b[0;34m\u001b[0m\u001b[0;34m\u001b[0m\u001b[0m\n\u001b[0;32m--> 879\u001b[0;31m             \u001b[0;32mreturn\u001b[0m \u001b[0mself\u001b[0m\u001b[0;34m.\u001b[0m\u001b[0m_getitem_axis\u001b[0m\u001b[0;34m(\u001b[0m\u001b[0mmaybe_callable\u001b[0m\u001b[0;34m,\u001b[0m \u001b[0maxis\u001b[0m\u001b[0;34m=\u001b[0m\u001b[0maxis\u001b[0m\u001b[0;34m)\u001b[0m\u001b[0;34m\u001b[0m\u001b[0;34m\u001b[0m\u001b[0m\n\u001b[0m\u001b[1;32m    880\u001b[0m \u001b[0;34m\u001b[0m\u001b[0m\n\u001b[1;32m    881\u001b[0m     \u001b[0;32mdef\u001b[0m \u001b[0m_is_scalar_access\u001b[0m\u001b[0;34m(\u001b[0m\u001b[0mself\u001b[0m\u001b[0;34m,\u001b[0m \u001b[0mkey\u001b[0m\u001b[0;34m:\u001b[0m \u001b[0mTuple\u001b[0m\u001b[0;34m)\u001b[0m\u001b[0;34m:\u001b[0m\u001b[0;34m\u001b[0m\u001b[0;34m\u001b[0m\u001b[0m\n",
      "\u001b[0;32m~/.local/lib/python3.6/site-packages/pandas/core/indexing.py\u001b[0m in \u001b[0;36m_getitem_axis\u001b[0;34m(self, key, axis)\u001b[0m\n\u001b[1;32m   1108\u001b[0m         \u001b[0;31m# fall thru to straight lookup\u001b[0m\u001b[0;34m\u001b[0m\u001b[0;34m\u001b[0m\u001b[0;34m\u001b[0m\u001b[0m\n\u001b[1;32m   1109\u001b[0m         \u001b[0mself\u001b[0m\u001b[0;34m.\u001b[0m\u001b[0m_validate_key\u001b[0m\u001b[0;34m(\u001b[0m\u001b[0mkey\u001b[0m\u001b[0;34m,\u001b[0m \u001b[0maxis\u001b[0m\u001b[0;34m)\u001b[0m\u001b[0;34m\u001b[0m\u001b[0;34m\u001b[0m\u001b[0m\n\u001b[0;32m-> 1110\u001b[0;31m         \u001b[0;32mreturn\u001b[0m \u001b[0mself\u001b[0m\u001b[0;34m.\u001b[0m\u001b[0m_get_label\u001b[0m\u001b[0;34m(\u001b[0m\u001b[0mkey\u001b[0m\u001b[0;34m,\u001b[0m \u001b[0maxis\u001b[0m\u001b[0;34m=\u001b[0m\u001b[0maxis\u001b[0m\u001b[0;34m)\u001b[0m\u001b[0;34m\u001b[0m\u001b[0;34m\u001b[0m\u001b[0m\n\u001b[0m\u001b[1;32m   1111\u001b[0m \u001b[0;34m\u001b[0m\u001b[0m\n\u001b[1;32m   1112\u001b[0m     \u001b[0;32mdef\u001b[0m \u001b[0m_get_slice_axis\u001b[0m\u001b[0;34m(\u001b[0m\u001b[0mself\u001b[0m\u001b[0;34m,\u001b[0m \u001b[0mslice_obj\u001b[0m\u001b[0;34m:\u001b[0m \u001b[0mslice\u001b[0m\u001b[0;34m,\u001b[0m \u001b[0maxis\u001b[0m\u001b[0;34m:\u001b[0m \u001b[0mint\u001b[0m\u001b[0;34m)\u001b[0m\u001b[0;34m:\u001b[0m\u001b[0;34m\u001b[0m\u001b[0;34m\u001b[0m\u001b[0m\n",
      "\u001b[0;32m~/.local/lib/python3.6/site-packages/pandas/core/indexing.py\u001b[0m in \u001b[0;36m_get_label\u001b[0;34m(self, label, axis)\u001b[0m\n\u001b[1;32m   1057\u001b[0m     \u001b[0;32mdef\u001b[0m \u001b[0m_get_label\u001b[0m\u001b[0;34m(\u001b[0m\u001b[0mself\u001b[0m\u001b[0;34m,\u001b[0m \u001b[0mlabel\u001b[0m\u001b[0;34m,\u001b[0m \u001b[0maxis\u001b[0m\u001b[0;34m:\u001b[0m \u001b[0mint\u001b[0m\u001b[0;34m)\u001b[0m\u001b[0;34m:\u001b[0m\u001b[0;34m\u001b[0m\u001b[0;34m\u001b[0m\u001b[0m\n\u001b[1;32m   1058\u001b[0m         \u001b[0;31m# GH#5667 this will fail if the label is not present in the axis.\u001b[0m\u001b[0;34m\u001b[0m\u001b[0;34m\u001b[0m\u001b[0;34m\u001b[0m\u001b[0m\n\u001b[0;32m-> 1059\u001b[0;31m         \u001b[0;32mreturn\u001b[0m \u001b[0mself\u001b[0m\u001b[0;34m.\u001b[0m\u001b[0mobj\u001b[0m\u001b[0;34m.\u001b[0m\u001b[0mxs\u001b[0m\u001b[0;34m(\u001b[0m\u001b[0mlabel\u001b[0m\u001b[0;34m,\u001b[0m \u001b[0maxis\u001b[0m\u001b[0;34m=\u001b[0m\u001b[0maxis\u001b[0m\u001b[0;34m)\u001b[0m\u001b[0;34m\u001b[0m\u001b[0;34m\u001b[0m\u001b[0m\n\u001b[0m\u001b[1;32m   1060\u001b[0m \u001b[0;34m\u001b[0m\u001b[0m\n\u001b[1;32m   1061\u001b[0m     \u001b[0;32mdef\u001b[0m \u001b[0m_handle_lowerdim_multi_index_axis0\u001b[0m\u001b[0;34m(\u001b[0m\u001b[0mself\u001b[0m\u001b[0;34m,\u001b[0m \u001b[0mtup\u001b[0m\u001b[0;34m:\u001b[0m \u001b[0mTuple\u001b[0m\u001b[0;34m)\u001b[0m\u001b[0;34m:\u001b[0m\u001b[0;34m\u001b[0m\u001b[0;34m\u001b[0m\u001b[0m\n",
      "\u001b[0;32m~/.local/lib/python3.6/site-packages/pandas/core/generic.py\u001b[0m in \u001b[0;36mxs\u001b[0;34m(self, key, axis, level, drop_level)\u001b[0m\n\u001b[1;32m   3491\u001b[0m             \u001b[0mloc\u001b[0m\u001b[0;34m,\u001b[0m \u001b[0mnew_index\u001b[0m \u001b[0;34m=\u001b[0m \u001b[0mself\u001b[0m\u001b[0;34m.\u001b[0m\u001b[0mindex\u001b[0m\u001b[0;34m.\u001b[0m\u001b[0mget_loc_level\u001b[0m\u001b[0;34m(\u001b[0m\u001b[0mkey\u001b[0m\u001b[0;34m,\u001b[0m \u001b[0mdrop_level\u001b[0m\u001b[0;34m=\u001b[0m\u001b[0mdrop_level\u001b[0m\u001b[0;34m)\u001b[0m\u001b[0;34m\u001b[0m\u001b[0;34m\u001b[0m\u001b[0m\n\u001b[1;32m   3492\u001b[0m         \u001b[0;32melse\u001b[0m\u001b[0;34m:\u001b[0m\u001b[0;34m\u001b[0m\u001b[0;34m\u001b[0m\u001b[0m\n\u001b[0;32m-> 3493\u001b[0;31m             \u001b[0mloc\u001b[0m \u001b[0;34m=\u001b[0m \u001b[0mself\u001b[0m\u001b[0;34m.\u001b[0m\u001b[0mindex\u001b[0m\u001b[0;34m.\u001b[0m\u001b[0mget_loc\u001b[0m\u001b[0;34m(\u001b[0m\u001b[0mkey\u001b[0m\u001b[0;34m)\u001b[0m\u001b[0;34m\u001b[0m\u001b[0;34m\u001b[0m\u001b[0m\n\u001b[0m\u001b[1;32m   3494\u001b[0m \u001b[0;34m\u001b[0m\u001b[0m\n\u001b[1;32m   3495\u001b[0m             \u001b[0;32mif\u001b[0m \u001b[0misinstance\u001b[0m\u001b[0;34m(\u001b[0m\u001b[0mloc\u001b[0m\u001b[0;34m,\u001b[0m \u001b[0mnp\u001b[0m\u001b[0;34m.\u001b[0m\u001b[0mndarray\u001b[0m\u001b[0;34m)\u001b[0m\u001b[0;34m:\u001b[0m\u001b[0;34m\u001b[0m\u001b[0;34m\u001b[0m\u001b[0m\n",
      "\u001b[0;32m~/.local/lib/python3.6/site-packages/pandas/core/indexes/numeric.py\u001b[0m in \u001b[0;36mget_loc\u001b[0;34m(self, key, method, tolerance)\u001b[0m\n\u001b[1;32m    422\u001b[0m             \u001b[0;32mreturn\u001b[0m \u001b[0mnan_idxs\u001b[0m\u001b[0;34m\u001b[0m\u001b[0;34m\u001b[0m\u001b[0m\n\u001b[1;32m    423\u001b[0m \u001b[0;34m\u001b[0m\u001b[0m\n\u001b[0;32m--> 424\u001b[0;31m         \u001b[0;32mreturn\u001b[0m \u001b[0msuper\u001b[0m\u001b[0;34m(\u001b[0m\u001b[0;34m)\u001b[0m\u001b[0;34m.\u001b[0m\u001b[0mget_loc\u001b[0m\u001b[0;34m(\u001b[0m\u001b[0mkey\u001b[0m\u001b[0;34m,\u001b[0m \u001b[0mmethod\u001b[0m\u001b[0;34m=\u001b[0m\u001b[0mmethod\u001b[0m\u001b[0;34m,\u001b[0m \u001b[0mtolerance\u001b[0m\u001b[0;34m=\u001b[0m\u001b[0mtolerance\u001b[0m\u001b[0;34m)\u001b[0m\u001b[0;34m\u001b[0m\u001b[0;34m\u001b[0m\u001b[0m\n\u001b[0m\u001b[1;32m    425\u001b[0m \u001b[0;34m\u001b[0m\u001b[0m\n\u001b[1;32m    426\u001b[0m     \u001b[0;34m@\u001b[0m\u001b[0mcache_readonly\u001b[0m\u001b[0;34m\u001b[0m\u001b[0;34m\u001b[0m\u001b[0m\n",
      "\u001b[0;32m~/.local/lib/python3.6/site-packages/pandas/core/indexes/base.py\u001b[0m in \u001b[0;36mget_loc\u001b[0;34m(self, key, method, tolerance)\u001b[0m\n\u001b[1;32m   2898\u001b[0m                 \u001b[0;32mreturn\u001b[0m \u001b[0mself\u001b[0m\u001b[0;34m.\u001b[0m\u001b[0m_engine\u001b[0m\u001b[0;34m.\u001b[0m\u001b[0mget_loc\u001b[0m\u001b[0;34m(\u001b[0m\u001b[0mcasted_key\u001b[0m\u001b[0;34m)\u001b[0m\u001b[0;34m\u001b[0m\u001b[0;34m\u001b[0m\u001b[0m\n\u001b[1;32m   2899\u001b[0m             \u001b[0;32mexcept\u001b[0m \u001b[0mKeyError\u001b[0m \u001b[0;32mas\u001b[0m \u001b[0merr\u001b[0m\u001b[0;34m:\u001b[0m\u001b[0;34m\u001b[0m\u001b[0;34m\u001b[0m\u001b[0m\n\u001b[0;32m-> 2900\u001b[0;31m                 \u001b[0;32mraise\u001b[0m \u001b[0mKeyError\u001b[0m\u001b[0;34m(\u001b[0m\u001b[0mkey\u001b[0m\u001b[0;34m)\u001b[0m \u001b[0;32mfrom\u001b[0m \u001b[0merr\u001b[0m\u001b[0;34m\u001b[0m\u001b[0;34m\u001b[0m\u001b[0m\n\u001b[0m\u001b[1;32m   2901\u001b[0m \u001b[0;34m\u001b[0m\u001b[0m\n\u001b[1;32m   2902\u001b[0m         \u001b[0;32mif\u001b[0m \u001b[0mtolerance\u001b[0m \u001b[0;32mis\u001b[0m \u001b[0;32mnot\u001b[0m \u001b[0;32mNone\u001b[0m\u001b[0;34m:\u001b[0m\u001b[0;34m\u001b[0m\u001b[0;34m\u001b[0m\u001b[0m\n",
      "\u001b[0;31mKeyError\u001b[0m: 0"
     ]
    }
   ],
   "source": [
    "u1s = u1_db(translator, 0, params=True)\n",
    "u1s[\"param_value\"] = -np.array(list(resolver.values()))\n",
    "resu_comp, resu_db = translator.translator_.give_circuit(u1s,unresolved=False)\n",
    "\n",
    "cc, cdb = translator.translator_.give_circuit(u_to_compile_db, unresolved=False)\n",
    "c = cc.unitary()\n",
    "r = resu_comp.unitary()\n",
    "\n",
    "## phase_shift if necessary\n",
    "if np.abs(np.mean(c/r) -1) > 1:\n",
    "    u1s.loc[0] = u1s.loc[0].replace(to_replace=u1s[\"param_value\"][0], value=u1s[\"param_value\"][0] + np.pi)\n",
    "\n",
    "for new_ind, typ, pval in zip(indices_to_compile[:3],[0,1,0], list(u1s[\"param_value\"])):\n",
    "    simplified_db.loc[new_ind+0.1] = gate_template(translator.number_of_cnots + q + typ*translator.n_qubits,\n",
    "                                                     param_value=pval, block_id=simplified_db.loc[new_ind][\"block_id\"], \n",
    "                                                     trainable=True)#, symbol=symbols[new_ind])\n",
    "for old_inds in indices_to_compile:\n",
    "    simplified_db = simplified_db.drop(labels=[old_inds],axis=0)#\n"
   ]
  },
  {
   "cell_type": "code",
   "execution_count": null,
   "id": "super-richmond",
   "metadata": {},
   "outputs": [],
   "source": []
  },
  {
   "cell_type": "code",
   "execution_count": null,
   "id": "certain-fighter",
   "metadata": {},
   "outputs": [],
   "source": []
  },
  {
   "cell_type": "code",
   "execution_count": 85,
   "id": "behavioral-controversy",
   "metadata": {},
   "outputs": [
    {
     "ename": "ValueError",
     "evalue": "Length of values (9) does not match length of index (3)",
     "output_type": "error",
     "traceback": [
      "\u001b[0;31m---------------------------------------------------------------------------\u001b[0m",
      "\u001b[0;31mValueError\u001b[0m                                Traceback (most recent call last)",
      "\u001b[0;32m<ipython-input-85-6efbf477645f>\u001b[0m in \u001b[0;36m<module>\u001b[0;34m\u001b[0m\n\u001b[1;32m      1\u001b[0m \u001b[0mu1s\u001b[0m \u001b[0;34m=\u001b[0m \u001b[0mu1_db\u001b[0m\u001b[0;34m(\u001b[0m\u001b[0mtranslator\u001b[0m\u001b[0;34m,\u001b[0m \u001b[0;36m0\u001b[0m\u001b[0;34m,\u001b[0m \u001b[0mparams\u001b[0m\u001b[0;34m=\u001b[0m\u001b[0;32mTrue\u001b[0m\u001b[0;34m)\u001b[0m\u001b[0;34m\u001b[0m\u001b[0;34m\u001b[0m\u001b[0m\n\u001b[0;32m----> 2\u001b[0;31m \u001b[0mu1s\u001b[0m\u001b[0;34m[\u001b[0m\u001b[0;34m\"param_value\"\u001b[0m\u001b[0;34m]\u001b[0m \u001b[0;34m=\u001b[0m \u001b[0;34m-\u001b[0m\u001b[0mnp\u001b[0m\u001b[0;34m.\u001b[0m\u001b[0marray\u001b[0m\u001b[0;34m(\u001b[0m\u001b[0mlist\u001b[0m\u001b[0;34m(\u001b[0m\u001b[0mresolver\u001b[0m\u001b[0;34m.\u001b[0m\u001b[0mvalues\u001b[0m\u001b[0;34m(\u001b[0m\u001b[0;34m)\u001b[0m\u001b[0;34m)\u001b[0m\u001b[0;34m)\u001b[0m\u001b[0;34m\u001b[0m\u001b[0;34m\u001b[0m\u001b[0m\n\u001b[0m\u001b[1;32m      3\u001b[0m \u001b[0mresu_comp\u001b[0m\u001b[0;34m,\u001b[0m \u001b[0mresu_db\u001b[0m \u001b[0;34m=\u001b[0m \u001b[0mtranslator\u001b[0m\u001b[0;34m.\u001b[0m\u001b[0mtranslator_\u001b[0m\u001b[0;34m.\u001b[0m\u001b[0mgive_circuit\u001b[0m\u001b[0;34m(\u001b[0m\u001b[0mu1s\u001b[0m\u001b[0;34m,\u001b[0m\u001b[0munresolved\u001b[0m\u001b[0;34m=\u001b[0m\u001b[0;32mFalse\u001b[0m\u001b[0;34m)\u001b[0m\u001b[0;34m\u001b[0m\u001b[0;34m\u001b[0m\u001b[0m\n",
      "\u001b[0;32m~/.local/lib/python3.6/site-packages/pandas/core/frame.py\u001b[0m in \u001b[0;36m__setitem__\u001b[0;34m(self, key, value)\u001b[0m\n\u001b[1;32m   3042\u001b[0m         \u001b[0;32melse\u001b[0m\u001b[0;34m:\u001b[0m\u001b[0;34m\u001b[0m\u001b[0;34m\u001b[0m\u001b[0m\n\u001b[1;32m   3043\u001b[0m             \u001b[0;31m# set column\u001b[0m\u001b[0;34m\u001b[0m\u001b[0;34m\u001b[0m\u001b[0;34m\u001b[0m\u001b[0m\n\u001b[0;32m-> 3044\u001b[0;31m             \u001b[0mself\u001b[0m\u001b[0;34m.\u001b[0m\u001b[0m_set_item\u001b[0m\u001b[0;34m(\u001b[0m\u001b[0mkey\u001b[0m\u001b[0;34m,\u001b[0m \u001b[0mvalue\u001b[0m\u001b[0;34m)\u001b[0m\u001b[0;34m\u001b[0m\u001b[0;34m\u001b[0m\u001b[0m\n\u001b[0m\u001b[1;32m   3045\u001b[0m \u001b[0;34m\u001b[0m\u001b[0m\n\u001b[1;32m   3046\u001b[0m     \u001b[0;32mdef\u001b[0m \u001b[0m_setitem_slice\u001b[0m\u001b[0;34m(\u001b[0m\u001b[0mself\u001b[0m\u001b[0;34m,\u001b[0m \u001b[0mkey\u001b[0m\u001b[0;34m:\u001b[0m \u001b[0mslice\u001b[0m\u001b[0;34m,\u001b[0m \u001b[0mvalue\u001b[0m\u001b[0;34m)\u001b[0m\u001b[0;34m:\u001b[0m\u001b[0;34m\u001b[0m\u001b[0;34m\u001b[0m\u001b[0m\n",
      "\u001b[0;32m~/.local/lib/python3.6/site-packages/pandas/core/frame.py\u001b[0m in \u001b[0;36m_set_item\u001b[0;34m(self, key, value)\u001b[0m\n\u001b[1;32m   3118\u001b[0m         \"\"\"\n\u001b[1;32m   3119\u001b[0m         \u001b[0mself\u001b[0m\u001b[0;34m.\u001b[0m\u001b[0m_ensure_valid_index\u001b[0m\u001b[0;34m(\u001b[0m\u001b[0mvalue\u001b[0m\u001b[0;34m)\u001b[0m\u001b[0;34m\u001b[0m\u001b[0;34m\u001b[0m\u001b[0m\n\u001b[0;32m-> 3120\u001b[0;31m         \u001b[0mvalue\u001b[0m \u001b[0;34m=\u001b[0m \u001b[0mself\u001b[0m\u001b[0;34m.\u001b[0m\u001b[0m_sanitize_column\u001b[0m\u001b[0;34m(\u001b[0m\u001b[0mkey\u001b[0m\u001b[0;34m,\u001b[0m \u001b[0mvalue\u001b[0m\u001b[0;34m)\u001b[0m\u001b[0;34m\u001b[0m\u001b[0;34m\u001b[0m\u001b[0m\n\u001b[0m\u001b[1;32m   3121\u001b[0m         \u001b[0mNDFrame\u001b[0m\u001b[0;34m.\u001b[0m\u001b[0m_set_item\u001b[0m\u001b[0;34m(\u001b[0m\u001b[0mself\u001b[0m\u001b[0;34m,\u001b[0m \u001b[0mkey\u001b[0m\u001b[0;34m,\u001b[0m \u001b[0mvalue\u001b[0m\u001b[0;34m)\u001b[0m\u001b[0;34m\u001b[0m\u001b[0;34m\u001b[0m\u001b[0m\n\u001b[1;32m   3122\u001b[0m \u001b[0;34m\u001b[0m\u001b[0m\n",
      "\u001b[0;32m~/.local/lib/python3.6/site-packages/pandas/core/frame.py\u001b[0m in \u001b[0;36m_sanitize_column\u001b[0;34m(self, key, value, broadcast)\u001b[0m\n\u001b[1;32m   3766\u001b[0m \u001b[0;34m\u001b[0m\u001b[0m\n\u001b[1;32m   3767\u001b[0m             \u001b[0;31m# turn me into an ndarray\u001b[0m\u001b[0;34m\u001b[0m\u001b[0;34m\u001b[0m\u001b[0;34m\u001b[0m\u001b[0m\n\u001b[0;32m-> 3768\u001b[0;31m             \u001b[0mvalue\u001b[0m \u001b[0;34m=\u001b[0m \u001b[0msanitize_index\u001b[0m\u001b[0;34m(\u001b[0m\u001b[0mvalue\u001b[0m\u001b[0;34m,\u001b[0m \u001b[0mself\u001b[0m\u001b[0;34m.\u001b[0m\u001b[0mindex\u001b[0m\u001b[0;34m)\u001b[0m\u001b[0;34m\u001b[0m\u001b[0;34m\u001b[0m\u001b[0m\n\u001b[0m\u001b[1;32m   3769\u001b[0m             \u001b[0;32mif\u001b[0m \u001b[0;32mnot\u001b[0m \u001b[0misinstance\u001b[0m\u001b[0;34m(\u001b[0m\u001b[0mvalue\u001b[0m\u001b[0;34m,\u001b[0m \u001b[0;34m(\u001b[0m\u001b[0mnp\u001b[0m\u001b[0;34m.\u001b[0m\u001b[0mndarray\u001b[0m\u001b[0;34m,\u001b[0m \u001b[0mIndex\u001b[0m\u001b[0;34m)\u001b[0m\u001b[0;34m)\u001b[0m\u001b[0;34m:\u001b[0m\u001b[0;34m\u001b[0m\u001b[0;34m\u001b[0m\u001b[0m\n\u001b[1;32m   3770\u001b[0m                 \u001b[0;32mif\u001b[0m \u001b[0misinstance\u001b[0m\u001b[0;34m(\u001b[0m\u001b[0mvalue\u001b[0m\u001b[0;34m,\u001b[0m \u001b[0mlist\u001b[0m\u001b[0;34m)\u001b[0m \u001b[0;32mand\u001b[0m \u001b[0mlen\u001b[0m\u001b[0;34m(\u001b[0m\u001b[0mvalue\u001b[0m\u001b[0;34m)\u001b[0m \u001b[0;34m>\u001b[0m \u001b[0;36m0\u001b[0m\u001b[0;34m:\u001b[0m\u001b[0;34m\u001b[0m\u001b[0;34m\u001b[0m\u001b[0m\n",
      "\u001b[0;32m~/.local/lib/python3.6/site-packages/pandas/core/internals/construction.py\u001b[0m in \u001b[0;36msanitize_index\u001b[0;34m(data, index)\u001b[0m\n\u001b[1;32m    746\u001b[0m     \u001b[0;32mif\u001b[0m \u001b[0mlen\u001b[0m\u001b[0;34m(\u001b[0m\u001b[0mdata\u001b[0m\u001b[0;34m)\u001b[0m \u001b[0;34m!=\u001b[0m \u001b[0mlen\u001b[0m\u001b[0;34m(\u001b[0m\u001b[0mindex\u001b[0m\u001b[0;34m)\u001b[0m\u001b[0;34m:\u001b[0m\u001b[0;34m\u001b[0m\u001b[0;34m\u001b[0m\u001b[0m\n\u001b[1;32m    747\u001b[0m         raise ValueError(\n\u001b[0;32m--> 748\u001b[0;31m             \u001b[0;34m\"Length of values \"\u001b[0m\u001b[0;34m\u001b[0m\u001b[0;34m\u001b[0m\u001b[0m\n\u001b[0m\u001b[1;32m    749\u001b[0m             \u001b[0;34mf\"({len(data)}) \"\u001b[0m\u001b[0;34m\u001b[0m\u001b[0;34m\u001b[0m\u001b[0m\n\u001b[1;32m    750\u001b[0m             \u001b[0;34m\"does not match length of index \"\u001b[0m\u001b[0;34m\u001b[0m\u001b[0;34m\u001b[0m\u001b[0m\n",
      "\u001b[0;31mValueError\u001b[0m: Length of values (9) does not match length of index (3)"
     ]
    }
   ],
   "source": [
    "u1s = u1_db(translator, 0, params=True)\n",
    "u1s[\"param_value\"] = -np.array(list(resolver.values()))\n",
    "resu_comp, resu_db = translator.translator_.give_circuit(u1s,unresolved=False)\n"
   ]
  },
  {
   "cell_type": "code",
   "execution_count": null,
   "id": "reserved-viking",
   "metadata": {},
   "outputs": [],
   "source": []
  },
  {
   "cell_type": "code",
   "execution_count": null,
   "id": "fatty-separation",
   "metadata": {},
   "outputs": [],
   "source": []
  },
  {
   "cell_type": "code",
   "execution_count": null,
   "id": "arctic-contest",
   "metadata": {},
   "outputs": [],
   "source": [
    "\n",
    "cc, cdb = translator.translator_.give_circuit(u_to_compile_db, unresolved=False)\n",
    "c = cc.unitary()\n",
    "r = resu_comp.unitary()\n",
    "\n",
    "## phase_shift if necessary\n",
    "if np.abs(np.mean(c/r) -1) > 1:\n",
    "    u1s.loc[0] = u1s.loc[0].replace(to_replace=u1s[\"param_value\"][0], value=u1s[\"param_value\"][0] + np.pi)\n",
    "\n",
    "for new_ind, typ, pval in zip(indices_to_compile[:3],[0,1,0], list(u1s[\"param_value\"])):\n",
    "    simplified_db.loc[new_ind+0.1] = gate_template(translator.number_of_cnots + q + typ*translator.n_qubits,\n",
    "                                                     param_value=pval, block_id=simplified_db.loc[new_ind][\"block_id\"], \n",
    "                                                     trainable=True)#, symbol=symbols[new_ind])\n",
    "for old_inds in indices_to_compile:\n",
    "    simplified_db = simplified_db.drop(labels=[old_inds],axis=0)#"
   ]
  },
  {
   "cell_type": "code",
   "execution_count": 60,
   "id": "optical-airfare",
   "metadata": {},
   "outputs": [],
   "source": [
    "\n",
    "cc, cdb = translator.translator_.give_circuit(u_to_compile_db, unresolved=False)\n",
    "c = cc.unitary()\n",
    "r = resu_comp.unitary()\n"
   ]
  },
  {
   "cell_type": "code",
   "execution_count": 64,
   "id": "fiscal-storage",
   "metadata": {},
   "outputs": [
    {
     "data": {
      "text/html": [
       "<pre style=\"overflow: auto; white-space: pre;\">(0, 0): ───@───X───@───@───X───@───\n",
       "           │   │   │   │   │   │\n",
       "(0, 1): ───X───@───X───X───@───X───</pre>"
      ],
      "text/plain": [
       "(0, 0): ───@───X───@───@───X───@───\n",
       "           │   │   │   │   │   │\n",
       "(0, 1): ───X───@───X───X───@───X───"
      ]
     },
     "execution_count": 64,
     "metadata": {},
     "output_type": "execute_result"
    }
   ],
   "source": []
  },
  {
   "cell_type": "code",
   "execution_count": 54,
   "id": "weekly-application",
   "metadata": {},
   "outputs": [
    {
     "data": {
      "text/plain": [
       "[0, 1, 2, 3, 4, 5]"
      ]
     },
     "execution_count": 54,
     "metadata": {},
     "output_type": "execute_result"
    }
   ],
   "source": [
    "\n",
    "\n",
    "## phase_shift if necessary\n",
    "if np.abs(np.mean(c/r) -1) > 1:\n",
    "    u1s.loc[0] = u1s.loc[0].replace(to_replace=u1s[\"param_value\"][0], value=u1s[\"param_value\"][0] + np.pi)\n",
    "\n",
    "for new_ind, typ, pval in zip(indices_to_compile[:3],[0,1,0], list(u1s[\"param_value\"])):\n",
    "    simplified_db.loc[new_ind+0.1] = gate_template(translator.number_of_cnots + q + typ*translator.n_qubits,\n",
    "                                                     param_value=pval, block_id=simplified_db.loc[new_ind][\"block_id\"], \n",
    "                                                     trainable=True)#, symbol=symbols[new_ind])\n",
    "for old_inds in indices_to_compile:\n",
    "    simplified_db = simplified_db.drop(labels=[old_inds],axis=0)#\n",
    "\n"
   ]
  },
  {
   "cell_type": "code",
   "execution_count": 61,
   "id": "bridal-singles",
   "metadata": {},
   "outputs": [
    {
     "data": {
      "text/plain": [
       "array([[1.+0.j, 0.+0.j, 0.+0.j, 0.+0.j],\n",
       "       [0.+0.j, 1.+0.j, 0.+0.j, 0.+0.j],\n",
       "       [0.+0.j, 0.+0.j, 1.+0.j, 0.+0.j],\n",
       "       [0.+0.j, 0.+0.j, 0.+0.j, 1.+0.j]])"
      ]
     },
     "execution_count": 61,
     "metadata": {},
     "output_type": "execute_result"
    }
   ],
   "source": [
    "c"
   ]
  },
  {
   "cell_type": "code",
   "execution_count": 62,
   "id": "fancy-courage",
   "metadata": {},
   "outputs": [
    {
     "data": {
      "text/plain": [
       "array([[1.+0.j, 0.+0.j, 0.+0.j, 0.+0.j],\n",
       "       [0.+0.j, 0.+0.j, 1.+0.j, 0.+0.j],\n",
       "       [0.+0.j, 1.+0.j, 0.+0.j, 0.+0.j],\n",
       "       [0.+0.j, 0.+0.j, 0.+0.j, 1.+0.j]])"
      ]
     },
     "execution_count": 62,
     "metadata": {},
     "output_type": "execute_result"
    }
   ],
   "source": [
    "r"
   ]
  },
  {
   "cell_type": "code",
   "execution_count": null,
   "id": "physical-steering",
   "metadata": {},
   "outputs": [],
   "source": []
  },
  {
   "cell_type": "code",
   "execution_count": null,
   "id": "cleared-webster",
   "metadata": {},
   "outputs": [],
   "source": [
    "if len(indices_to_compile)>3:\n",
    "    u_to_compile_db = simplified_db.loc[indices_to_compile]\n",
    "    u_to_compile_db[\"ind\"] = (u_to_compile_db[\"ind\"]-q) #target qubit in unitary compilation set to 0\n",
    "    u_to_compile_db[\"ind\"] = u_to_compile_db[\"ind\"] - translator.number_of_cnots\n",
    "    u_to_compile_db[\"symbol\"] = None ##just to be sure it makes no interference with the compiler...\n",
    "\n",
    "    translator.translator_ = CirqTranslater(n_qubits=2)\n",
    "\n",
    "    compile_circuit, compile_circuit_db = construct_compiling_circuit(translator.translator_, u_to_compile_db)\n",
    "    minimizer = Minimizer(translator.translator_, mode=\"compiling\", hamiltonian=\"Z\")\n",
    "\n",
    "    cost, resolver, history = minimizer.minimize([compile_circuit], symbols=translator.get_symbols(compile_circuit_db))"
   ]
  },
  {
   "cell_type": "code",
   "execution_count": 37,
   "id": "delayed-product",
   "metadata": {},
   "outputs": [
    {
     "data": {
      "text/plain": [
       "[0, 1, 2]"
      ]
     },
     "execution_count": 37,
     "metadata": {},
     "output_type": "execute_result"
    }
   ],
   "source": [
    "indices_to_compile"
   ]
  },
  {
   "cell_type": "code",
   "execution_count": null,
   "id": "cathedral-watershed",
   "metadata": {},
   "outputs": [],
   "source": []
  },
  {
   "cell_type": "code",
   "execution_count": null,
   "id": "acoustic-flower",
   "metadata": {},
   "outputs": [],
   "source": []
  },
  {
   "cell_type": "code",
   "execution_count": 27,
   "id": "equipped-automation",
   "metadata": {},
   "outputs": [
    {
     "data": {
      "text/plain": [
       "[0, 1, 2]"
      ]
     },
     "execution_count": 27,
     "metadata": {},
     "output_type": "execute_result"
    }
   ],
   "source": [
    "indices_to_compile"
   ]
  },
  {
   "cell_type": "code",
   "execution_count": null,
   "id": "distributed-endorsement",
   "metadata": {},
   "outputs": [],
   "source": []
  },
  {
   "cell_type": "code",
   "execution_count": null,
   "id": "foreign-graduation",
   "metadata": {},
   "outputs": [],
   "source": []
  },
  {
   "cell_type": "code",
   "execution_count": null,
   "id": "noticed-scoop",
   "metadata": {},
   "outputs": [],
   "source": []
  },
  {
   "cell_type": "code",
   "execution_count": 21,
   "id": "deluxe-diabetes",
   "metadata": {},
   "outputs": [],
   "source": [
    "simplified_db = simplified_db.sort_index().reset_index(drop=True)\n"
   ]
  },
  {
   "cell_type": "code",
   "execution_count": 22,
   "id": "lyric-training",
   "metadata": {},
   "outputs": [],
   "source": [
    "circuit, circuit_db  = translator.give_circuit(circuit_db, unresolved=False)\n",
    "scircuit, scircuit_db  = translator.give_circuit(simplified_db, unresolved=False)\n"
   ]
  },
  {
   "cell_type": "code",
   "execution_count": 23,
   "id": "colonial-titanium",
   "metadata": {},
   "outputs": [
    {
     "data": {
      "text/plain": [
       "array([[-0.84267317-0.36796345j,  0.31320255+0.23750575j],\n",
       "       [-0.31320255+0.23750575j, -0.84267317+0.36796345j]])"
      ]
     },
     "execution_count": 23,
     "metadata": {},
     "output_type": "execute_result"
    }
   ],
   "source": [
    "scircuit.unitary()"
   ]
  },
  {
   "cell_type": "code",
   "execution_count": 24,
   "id": "certain-algeria",
   "metadata": {},
   "outputs": [
    {
     "data": {
      "text/plain": [
       "array([[-0.84267317-0.36796345j,  0.31320255+0.23750575j],\n",
       "       [-0.31320255+0.23750575j, -0.84267317+0.36796345j]])"
      ]
     },
     "execution_count": 24,
     "metadata": {},
     "output_type": "execute_result"
    }
   ],
   "source": [
    "circuit.unitary()"
   ]
  },
  {
   "cell_type": "code",
   "execution_count": 26,
   "id": "neither-bonus",
   "metadata": {},
   "outputs": [
    {
     "data": {
      "text/plain": [
       "False"
      ]
     },
     "execution_count": 26,
     "metadata": {},
     "output_type": "execute_result"
    }
   ],
   "source": []
  },
  {
   "cell_type": "code",
   "execution_count": null,
   "id": "important-speaking",
   "metadata": {},
   "outputs": [],
   "source": []
  },
  {
   "cell_type": "code",
   "execution_count": 50,
   "id": "hidden-fields",
   "metadata": {},
   "outputs": [],
   "source": [
    "sss = simplified_db.sort_index().reset_index(drop=True)\n",
    "uuco, ns = translator.give_circuit(sss, unresolved=False)\n",
    "aato, os = translator.give_circuit(circuit_db,unresolved=False)"
   ]
  },
  {
   "cell_type": "code",
   "execution_count": 51,
   "id": "reserved-pennsylvania",
   "metadata": {},
   "outputs": [
    {
     "data": {
      "text/plain": [
       "array([[ 0.46061846+0.70739527j, -0.51837669-0.13677784j],\n",
       "       [ 0.51837669-0.13677784j,  0.46061846-0.70739527j]])"
      ]
     },
     "execution_count": 51,
     "metadata": {},
     "output_type": "execute_result"
    }
   ],
   "source": [
    "uuco.unitary()"
   ]
  },
  {
   "cell_type": "code",
   "execution_count": 52,
   "id": "active-parade",
   "metadata": {},
   "outputs": [
    {
     "data": {
      "text/plain": [
       "array([[ 0.6803843 -0.58407108j,  0.42800579+0.11291244j],\n",
       "       [-0.42800579+0.11291244j,  0.6803843 +0.58407108j]])"
      ]
     },
     "execution_count": 52,
     "metadata": {},
     "output_type": "execute_result"
    }
   ],
   "source": [
    "aato.unitary()"
   ]
  },
  {
   "cell_type": "code",
   "execution_count": 194,
   "id": "actual-magnet",
   "metadata": {},
   "outputs": [],
   "source": []
  },
  {
   "cell_type": "code",
   "execution_count": 195,
   "id": "statistical-price",
   "metadata": {},
   "outputs": [
    {
     "data": {
      "text/html": [
       "<pre style=\"overflow: auto; white-space: pre;\">(0, 0): ───Rz(-0.421π)───Rx(0)───Rz(-1.58π)───Rz(-1.81π)───Rx(0.297π)───Rz(0.817π)───</pre>"
      ],
      "text/plain": [
       "(0, 0): ───Rz(-0.421π)───Rx(0)───Rz(-1.58π)───Rz(-1.81π)───Rx(0.297π)───Rz(0.817π)───"
      ]
     },
     "execution_count": 195,
     "metadata": {},
     "output_type": "execute_result"
    }
   ],
   "source": [
    "uuco"
   ]
  },
  {
   "cell_type": "code",
   "execution_count": 196,
   "id": "divided-trigger",
   "metadata": {},
   "outputs": [],
   "source": [
    "indiis = np.sort(list(range(0,3*3*5,9)) + list(range(3,3*3*5,9)))"
   ]
  },
  {
   "cell_type": "code",
   "execution_count": 197,
   "id": "regulated-diploma",
   "metadata": {},
   "outputs": [],
   "source": [
    "ll = []\n",
    "for k in indiis[:-1]:\n",
    "    ll.append(ns[k:(k+1)])"
   ]
  },
  {
   "cell_type": "code",
   "execution_count": 198,
   "id": "binding-deviation",
   "metadata": {},
   "outputs": [
    {
     "data": {
      "text/plain": [
       "((0, 0): ───Rz(th_0)───Rz(th_12)───,\n",
       "    ind symbol  param_value  trainable  block_id\n",
       " 0    0   th_0   -13.888521       True         0\n",
       " 1    0  th_12    -5.695495       True         0)"
      ]
     },
     "execution_count": 198,
     "metadata": {},
     "output_type": "execute_result"
    }
   ],
   "source": [
    "translator.give_circuit(concatenate_dbs(ll))"
   ]
  },
  {
   "cell_type": "code",
   "execution_count": 201,
   "id": "informal-fraud",
   "metadata": {},
   "outputs": [
    {
     "data": {
      "text/plain": [
       "array([[-0.00512433-0.89309116j, -0.37580852-0.24724459j],\n",
       "       [ 0.37580852-0.24724459j, -0.00512433+0.89309116j]])"
      ]
     },
     "execution_count": 201,
     "metadata": {},
     "output_type": "execute_result"
    }
   ],
   "source": []
  },
  {
   "cell_type": "code",
   "execution_count": 202,
   "id": "alone-century",
   "metadata": {},
   "outputs": [
    {
     "data": {
      "text/plain": [
       "array([[ 0.0257012 +0.89280744j,  0.37568389+0.24717591j],\n",
       "       [-0.37568389+0.24717591j,  0.0257012 -0.89280744j]])"
      ]
     },
     "execution_count": 202,
     "metadata": {},
     "output_type": "execute_result"
    }
   ],
   "source": []
  },
  {
   "cell_type": "code",
   "execution_count": 203,
   "id": "awful-drinking",
   "metadata": {},
   "outputs": [
    {
     "data": {
      "text/plain": [
       "<tf.Tensor: shape=(), dtype=float32, numpy=1.1920929e-07>"
      ]
     },
     "execution_count": 203,
     "metadata": {},
     "output_type": "execute_result"
    }
   ],
   "source": [
    "cost"
   ]
  },
  {
   "cell_type": "code",
   "execution_count": null,
   "id": "express-orbit",
   "metadata": {},
   "outputs": [],
   "source": []
  }
 ],
 "metadata": {
  "kernelspec": {
   "display_name": "Python 3",
   "language": "python",
   "name": "python3"
  },
  "language_info": {
   "codemirror_mode": {
    "name": "ipython",
    "version": 3
   },
   "file_extension": ".py",
   "mimetype": "text/x-python",
   "name": "python",
   "nbconvert_exporter": "python",
   "pygments_lexer": "ipython3",
   "version": "3.6.9"
  }
 },
 "nbformat": 4,
 "nbformat_minor": 5
}
