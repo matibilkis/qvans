{
 "cells": [
  {
   "cell_type": "markdown",
   "id": "israeli-cathedral",
   "metadata": {},
   "source": [
    "In this notebook we give a proof of concept of unitary compiling using TFQ. "
   ]
  },
  {
   "cell_type": "code",
   "execution_count": 78,
   "id": "cleared-explorer",
   "metadata": {},
   "outputs": [
    {
     "name": "stdout",
     "output_type": "stream",
     "text": [
      "The autoreload extension is already loaded. To reload it, use:\n",
      "  %reload_ext autoreload\n"
     ]
    }
   ],
   "source": [
    "%load_ext autoreload\n",
    "%autoreload 2\n",
    "\n",
    "import sympy \n",
    "import numpy as np \n",
    "import pandas as pd \n",
    "import tensorflow as tf\n",
    "from utilities.circuit_database import CirqTranslater\n",
    "from utilities.templates import *\n",
    "from utilities.variational import Minimizer\n",
    "from utilities.misc import get_qubits_involved, reindex_symbol, shift_symbols_down\n",
    "import matplotlib.pyplot as plt \n",
    "import tensorflow_quantum as tfq\n",
    "import cirq\n",
    "from utilities.compiling import *\n",
    "from utilities.misc import *\n",
    "from utilities.simplifier import Simplifier\n",
    "from utilities.discrimination import *\n",
    "from utilities.idinserter import IdInserter\n",
    "from utilities.evaluator import Evaluator\n",
    "from utilities.gate_killer import GateKiller"
   ]
  },
  {
   "cell_type": "code",
   "execution_count": 95,
   "id": "coastal-dividend",
   "metadata": {},
   "outputs": [],
   "source": [
    "np.random.seed(0)\n",
    "translator = CirqTranslater(3, untouchable_blocks = [1])\n",
    "translator.env_qubits = [2]\n",
    "translator.encoder_id = 0\n",
    "translator.channel_id = 1\n",
    "translator.decoder_id = 2\n",
    "simplifier = Simplifier(translator)\n",
    "etas = [0.01, 1.]\n",
    "minimizer = Minimizer(translator, mode=\"discrimination\", params=etas)\n",
    "killer = GateKiller(translator, mode=\"discrimination\", params = etas)\n",
    "inserter = IdInserter(translator.n_qubits, untouchable_blocks=translator.channel_id)\n",
    "args_evaluator = {\"n_qubits\":translator.n_qubits, \"problem\":\"acd\",\"params\":etas}\n",
    "evaluator = Evaluator(args=args_evaluator, lower_bound_cost=minimizer.lower_bound_cost, nrun=0)"
   ]
  },
  {
   "cell_type": "code",
   "execution_count": 117,
   "id": "genuine-fighter",
   "metadata": {},
   "outputs": [],
   "source": [
    "block_0 = concatenate_dbs([z_layer_db(translator, block_id=0), x_layer_db(translator, block_id=0), z_layer_db(translator, block_id=0), x_layer_db(translator, block_id=0)])\n",
    "blo = 1\n",
    "block_1 = concatenate_dbs([z_layer_db(translator, block_id=blo), x_layer_db(translator, block_id=blo), z_layer_db(translator, block_id=blo), x_layer_db(translator, block_id=blo)])\n",
    "circuit_db = concatenate_dbs([block_0, block_1])"
   ]
  },
  {
   "cell_type": "code",
   "execution_count": 129,
   "id": "unusual-preservation",
   "metadata": {},
   "outputs": [],
   "source": [
    "circuit, circuit_db = translator.give_circuit(circuit_db)"
   ]
  },
  {
   "cell_type": "code",
   "execution_count": 130,
   "id": "rocky-party",
   "metadata": {},
   "outputs": [
    {
     "name": "stdout",
     "output_type": "stream",
     "text": [
      "<bound method Simplifier.rule_5 of <utilities.simplifier.Simplifier object at 0x7fe068233ef0>>\n",
      "<bound method Simplifier.rule_5 of <utilities.simplifier.Simplifier object at 0x7fe068233ef0>>\n",
      "<bound method Simplifier.rule_5 of <utilities.simplifier.Simplifier object at 0x7fe068233ef0>>\n",
      "<bound method Simplifier.rule_5 of <utilities.simplifier.Simplifier object at 0x7fe068233ef0>>\n",
      "<bound method Simplifier.rule_5 of <utilities.simplifier.Simplifier object at 0x7fe068233ef0>>\n",
      "<bound method Simplifier.rule_5 of <utilities.simplifier.Simplifier object at 0x7fe068233ef0>>\n"
     ]
    }
   ],
   "source": [
    "simplified_db, ns = simplifier.reduce_circuit(circuit_db)\n",
    "ss, simplified_db = translator.give_circuit(simplified_db)"
   ]
  },
  {
   "cell_type": "code",
   "execution_count": 131,
   "id": "major-supervisor",
   "metadata": {},
   "outputs": [
    {
     "data": {
      "text/plain": [
       "0.00014091352620704752"
      ]
     },
     "execution_count": 131,
     "metadata": {},
     "output_type": "execute_result"
    }
   ],
   "source": [
    "mdif = max_diff(translator , circuit_db, simplified_db)\n",
    "mdif"
   ]
  }
 ],
 "metadata": {
  "kernelspec": {
   "display_name": "Python 3",
   "language": "python",
   "name": "python3"
  },
  "language_info": {
   "codemirror_mode": {
    "name": "ipython",
    "version": 3
   },
   "file_extension": ".py",
   "mimetype": "text/x-python",
   "name": "python",
   "nbconvert_exporter": "python",
   "pygments_lexer": "ipython3",
   "version": "3.6.9"
  }
 },
 "nbformat": 4,
 "nbformat_minor": 5
}
