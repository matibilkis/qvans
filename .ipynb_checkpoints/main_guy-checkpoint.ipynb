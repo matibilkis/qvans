{
 "cells": [
  {
   "cell_type": "markdown",
   "id": "israeli-cathedral",
   "metadata": {},
   "source": [
    "In this notebook we give a proof of concept of unitary compiling using TFQ. "
   ]
  },
  {
   "cell_type": "code",
   "execution_count": 42,
   "id": "cleared-explorer",
   "metadata": {},
   "outputs": [
    {
     "name": "stdout",
     "output_type": "stream",
     "text": [
      "The autoreload extension is already loaded. To reload it, use:\n",
      "  %reload_ext autoreload\n"
     ]
    }
   ],
   "source": [
    "%load_ext autoreload\n",
    "%autoreload 2\n",
    "\n",
    "import sympy \n",
    "import numpy as np \n",
    "import pandas as pd \n",
    "import tensorflow as tf\n",
    "from utilities.circuit_database import CirqTranslater\n",
    "from utilities.templates import *\n",
    "from utilities.variational import Minimizer\n",
    "from utilities.misc import get_qubits_involved, reindex_symbol, shift_symbols_down\n",
    "import matplotlib.pyplot as plt \n",
    "import tensorflow_quantum as tfq\n",
    "import cirq\n",
    "from utilities.compiling import *\n",
    "from utilities.simplifier import Simplifier\n",
    "from utilities.discrimination import *"
   ]
  },
  {
   "cell_type": "code",
   "execution_count": 83,
   "id": "delayed-limitation",
   "metadata": {},
   "outputs": [],
   "source": [
    "translator = CirqTranslater(3, untouchable_blocks = [1])\n",
    "translator.env_qubits = [2]\n",
    "\n",
    "translator.encoder_id = 0\n",
    "translator.channel_id = 1\n",
    "translator.decoder_id = 2\n",
    "\n",
    "### state prep\n",
    "\n",
    "u2_layer_encoder = u2_db(translator, 0,1, block_id=translator.encoder_id)\n",
    "channel_db = amplitude_damping_db(translator, qubits_ind=[1,2], eta=1, block_id = translator.channel_id)\n",
    "u2_layer_decoder = u2_db(translator, 0,1, block_id=translator.decoder_id)\n",
    "\n",
    "circuit_db = concatenate_dbs([u2_layer_encoder, channel_db, u2_layer_decoder])\n",
    "\n",
    "circuit, circuit_db = translator.give_circuit(circuit_db)\n",
    "\n",
    "#circuit\n",
    "\n",
    "minimizer = Minimizer(translator, mode=\"discrimination\")\n",
    "etas = [0.01, 1.]\n",
    "\n",
    "\n",
    "\n",
    "batch_circuits, trainable_symbols, trainable_params_value = prepare_optimization_discrimination(translator, circuit_db, etas)\n",
    "cost, resolver, training_history = minimizer.minimize(batch_circuits, symbols = trainable_symbols, parameter_values = trainable_params_value )"
   ]
  },
  {
   "cell_type": "code",
   "execution_count": 84,
   "id": "animal-oxygen",
   "metadata": {},
   "outputs": [],
   "source": [
    "circuit_db = translator.update_circuit_db_param_values(circuit_db, resolver)\n",
    "simplifier = Simplifier(translator)\n",
    "simplified_db, nreds = simplifier.reduce_circuit(circuit_db)"
   ]
  },
  {
   "cell_type": "code",
   "execution_count": 85,
   "id": "accessible-project",
   "metadata": {},
   "outputs": [
    {
     "data": {
      "text/plain": [
       "<tf.Tensor: shape=(), dtype=float32, numpy=0.14601314>"
      ]
     },
     "execution_count": 85,
     "metadata": {},
     "output_type": "execute_result"
    }
   ],
   "source": [
    "simplified_batch_circuits, _ = channel_circuits(translator, simplified_db, etas )\n",
    "minimizer.give_cost(simplified_batch_circuits)"
   ]
  },
  {
   "cell_type": "code",
   "execution_count": null,
   "id": "multiple-agenda",
   "metadata": {},
   "outputs": [],
   "source": []
  },
  {
   "cell_type": "code",
   "execution_count": 89,
   "id": "surface-chest",
   "metadata": {},
   "outputs": [],
   "source": [
    "from utilities.idinserter import IdInserter"
   ]
  },
  {
   "cell_type": "code",
   "execution_count": 90,
   "id": "careful-seeker",
   "metadata": {},
   "outputs": [],
   "source": [
    "inserter = IdInserter(translator.n_qubits, untouchable_blocks=translator.channel_id)"
   ]
  },
  {
   "cell_type": "code",
   "execution_count": 93,
   "id": "electoral-basket",
   "metadata": {},
   "outputs": [],
   "source": [
    "mutated_circuit_db = inserter.insert_many_mutations(circuit_db )"
   ]
  },
  {
   "cell_type": "code",
   "execution_count": null,
   "id": "social-aside",
   "metadata": {},
   "outputs": [],
   "source": []
  },
  {
   "cell_type": "code",
   "execution_count": null,
   "id": "dying-martial",
   "metadata": {},
   "outputs": [],
   "source": []
  },
  {
   "cell_type": "code",
   "execution_count": null,
   "id": "musical-roller",
   "metadata": {},
   "outputs": [],
   "source": []
  },
  {
   "cell_type": "code",
   "execution_count": null,
   "id": "dying-shopper",
   "metadata": {},
   "outputs": [],
   "source": []
  },
  {
   "cell_type": "code",
   "execution_count": null,
   "id": "beneficial-suspect",
   "metadata": {},
   "outputs": [],
   "source": []
  },
  {
   "cell_type": "code",
   "execution_count": null,
   "id": "connected-complaint",
   "metadata": {},
   "outputs": [],
   "source": []
  },
  {
   "cell_type": "code",
   "execution_count": null,
   "id": "sufficient-wiring",
   "metadata": {},
   "outputs": [],
   "source": []
  },
  {
   "cell_type": "code",
   "execution_count": null,
   "id": "functioning-decrease",
   "metadata": {},
   "outputs": [],
   "source": []
  },
  {
   "cell_type": "code",
   "execution_count": 60,
   "id": "lesser-advertiser",
   "metadata": {},
   "outputs": [
    {
     "data": {
      "text/plain": [
       "<tf.Tensor: shape=(), dtype=float32, numpy=0.4793837>"
      ]
     },
     "execution_count": 60,
     "metadata": {},
     "output_type": "execute_result"
    }
   ],
   "source": [
    "minimizer.give_cost(channel_circuits(translator, circuit_db, etas )[0], resolver = translator.give_resolver(circuit_db),model = minimizer.model)"
   ]
  },
  {
   "cell_type": "code",
   "execution_count": 59,
   "id": "tutorial-julian",
   "metadata": {},
   "outputs": [
    {
     "data": {
      "text/plain": [
       "<tf.Tensor: shape=(), dtype=float32, numpy=0.4793837>"
      ]
     },
     "execution_count": 59,
     "metadata": {},
     "output_type": "execute_result"
    }
   ],
   "source": [
    "minimizer.give_cost(channel_circuits(translator, simplified_db, etas )[0], resolver = translator.give_resolver(circuit_db), model = minimizer.model)"
   ]
  },
  {
   "cell_type": "code",
   "execution_count": 58,
   "id": "written-platinum",
   "metadata": {},
   "outputs": [
    {
     "data": {
      "text/plain": [
       "<tf.Tensor: shape=(), dtype=float32, numpy=0.14601326>"
      ]
     },
     "execution_count": 58,
     "metadata": {},
     "output_type": "execute_result"
    }
   ],
   "source": [
    "minimizer.loss(*[minimizer.model(batch_circuits)]*2)"
   ]
  },
  {
   "cell_type": "code",
   "execution_count": 62,
   "id": "positive-honduras",
   "metadata": {},
   "outputs": [
    {
     "data": {
      "text/plain": [
       "<tf.Tensor: shape=(2, 3), dtype=float32, numpy=\n",
       "array([[ 0.99979985, -0.9999999 ,  0.99979985],\n",
       "       [-0.41614735, -0.9999999 , -0.41614735]], dtype=float32)>"
      ]
     },
     "execution_count": 62,
     "metadata": {},
     "output_type": "execute_result"
    }
   ],
   "source": [
    "minimizer.model(batch_circuits)"
   ]
  },
  {
   "cell_type": "code",
   "execution_count": 63,
   "id": "sought-terror",
   "metadata": {},
   "outputs": [],
   "source": [
    "sbatch_circuits, batch_circuits_db = channel_circuits(translator, simplified_db, etas )"
   ]
  },
  {
   "cell_type": "code",
   "execution_count": null,
   "id": "anonymous-constraint",
   "metadata": {},
   "outputs": [],
   "source": []
  }
 ],
 "metadata": {
  "kernelspec": {
   "display_name": "Python 3",
   "language": "python",
   "name": "python3"
  },
  "language_info": {
   "codemirror_mode": {
    "name": "ipython",
    "version": 3
   },
   "file_extension": ".py",
   "mimetype": "text/x-python",
   "name": "python",
   "nbconvert_exporter": "python",
   "pygments_lexer": "ipython3",
   "version": "3.6.9"
  }
 },
 "nbformat": 4,
 "nbformat_minor": 5
}
