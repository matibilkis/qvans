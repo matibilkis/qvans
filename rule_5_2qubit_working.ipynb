{
 "cells": [
  {
   "cell_type": "markdown",
   "id": "israeli-cathedral",
   "metadata": {},
   "source": [
    "In this notebook we give a proof of concept of unitary compiling using TFQ. "
   ]
  },
  {
   "cell_type": "code",
   "execution_count": 7,
   "id": "cleared-explorer",
   "metadata": {},
   "outputs": [
    {
     "name": "stdout",
     "output_type": "stream",
     "text": [
      "The autoreload extension is already loaded. To reload it, use:\n",
      "  %reload_ext autoreload\n"
     ]
    }
   ],
   "source": [
    "%load_ext autoreload\n",
    "%autoreload 2\n",
    "\n",
    "import sympy \n",
    "import numpy as np \n",
    "import pandas as pd \n",
    "import tensorflow as tf\n",
    "from utilities.circuit_database import CirqTranslater\n",
    "from utilities.templates import *\n",
    "from utilities.variational import Minimizer\n",
    "from utilities.misc import get_qubits_involved, reindex_symbol, shift_symbols_down\n",
    "import matplotlib.pyplot as plt \n",
    "import tensorflow_quantum as tfq\n",
    "import cirq\n",
    "from utilities.compiling import *"
   ]
  },
  {
   "cell_type": "code",
   "execution_count": 11,
   "id": "liable-gibson",
   "metadata": {},
   "outputs": [],
   "source": [
    "def get_positional_dbs(circuit, circuit_db):\n",
    "\n",
    "    qubits_involved = get_qubits_involved(circuit, circuit_db)\n",
    "    \n",
    "    gates_on_qubit = {q:[] for q in qubits_involved}\n",
    "    on_qubit_order = {q:[] for q in qubits_involved}\n",
    "\n",
    "    for order_gate, ind_gate in enumerate( circuit_db[\"ind\"]):\n",
    "        if ind_gate < translator.number_of_cnots:\n",
    "            control, target = translator.indexed_cnots[str(ind_gate)]\n",
    "            gates_on_qubit[control].append(ind_gate)\n",
    "            gates_on_qubit[target].append(ind_gate)\n",
    "            on_qubit_order[control].append(order_gate)                \n",
    "            on_qubit_order[target].append(order_gate)  \n",
    "        else:\n",
    "            gates_on_qubit[(ind_gate-translator.n_qubits)%translator.n_qubits].append(ind_gate)\n",
    "            on_qubit_order[(ind_gate-translator.n_qubits)%translator.n_qubits].append(order_gate)        \n",
    "    return gates_on_qubit, on_qubit_order"
   ]
  },
  {
   "cell_type": "code",
   "execution_count": 137,
   "id": "criminal-andorra",
   "metadata": {},
   "outputs": [],
   "source": [
    "translator = CirqTranslater(2)\n",
    "db1 = u1_layer(translator)\n",
    "circuit_db = concatenate_dbs([db1]*2)\n",
    "circuit, circuit_db  = translator.give_circuit(circuit_db)\n",
    "gates_on_qubit, on_qubit_order = get_positional_dbs(circuit, circuit_db)\n",
    "simplified_db = circuit_db.copy()\n"
   ]
  },
  {
   "cell_type": "code",
   "execution_count": 138,
   "id": "experimental-blogger",
   "metadata": {},
   "outputs": [
    {
     "name": "stdout",
     "output_type": "stream",
     "text": [
      "6\n",
      "7\n",
      "8\n",
      "6\n",
      "7\n",
      "8\n",
      "6\n",
      "7\n",
      "8\n"
     ]
    }
   ],
   "source": [
    "simplification = False\n",
    "\n",
    "type_get = lambda x, translator: (x-translator.number_of_cnots)//translator.n_qubits\n",
    "\n",
    "for q, qubit_gates_path in gates_on_qubit.items():\n",
    "    if simplification is True:\n",
    "        break\n",
    "    for order_gate_on_qubit, ind_gate in enumerate(qubit_gates_path[:-2]):\n",
    "        if simplification is True:\n",
    "            break\n",
    "        ind_gate_p1 = qubit_gates_path[order_gate_on_qubit+1]\n",
    "        ind_gate_p2 = qubit_gates_path[order_gate_on_qubit+2]\n",
    "        check_rot = lambda ind_gate: translator.number_of_cnots<= ind_gate <(3*translator.n_qubits + translator.number_of_cnots)\n",
    "\n",
    "        if (check_rot(ind_gate) == True) and (check_rot(ind_gate_p1) == True) and (check_rot(ind_gate_p2) == True):\n",
    "\n",
    "\n",
    "            type_0 = type_get(ind_gate,translator)\n",
    "            type_1 = type_get(ind_gate_p1,translator)\n",
    "            type_2 = type_get(ind_gate_p2,translator)\n",
    "\n",
    "\n",
    "            if type_0 == type_2:\n",
    "                types = [type_0, type_1, type_2]\n",
    "                for next_order_gate_on_qubit, ind_gate_next in enumerate(qubit_gates_path[order_gate_on_qubit+3:]):\n",
    "                    if (check_rot(ind_gate_next) == True):# and (next_order_gate_on_qubit < len(qubit_gates_path[order_gate_on_qubit+3:])):\n",
    "                        types.append(type_get(ind_gate_next, translator))\n",
    "                        simplification=True                        \n",
    "                    else:\n",
    "                        break\n",
    "                if simplification == True:\n",
    "                    indices_to_compile = [on_qubit_order[q][order_gate_on_qubit+k] for k in range(len(types))]\n",
    "                    translator.translator_ = CirqTranslater(n_qubits=2)\n",
    "                    u_to_compile_db = simplified_db.loc[indices_to_compile]\n",
    "                    u_to_compile_db[\"ind\"] = translator.translator_.n_qubits*type_get(u_to_compile_db[\"ind\"], translator) + translator.translator_.number_of_cnots#type_get(u_to_compile_db[\"ind\"], translator.translator_)#translator.translator_.n_qubits*(u_to_compile_db[\"ind\"] - translator.number_of_cnots)//translator.n_qubits + translator.translator_.number_of_cnots\n",
    "                    u_to_compile_db[\"symbol\"] = None ##just to be sure it makes no interference with the compiler...\n",
    "\n",
    "\n",
    "                    compile_circuit, compile_circuit_db = construct_compiling_circuit(translator.translator_, u_to_compile_db)\n",
    "                    minimizer = Minimizer(translator.translator_, mode=\"compiling\", hamiltonian=\"Z\")\n",
    "\n",
    "                    cost, resolver, history = minimizer.minimize([compile_circuit], symbols=translator.get_symbols(compile_circuit_db))\n",
    "\n",
    "                    OneQbit_translator = CirqTranslater(n_qubits=1)\n",
    "                    u1s = u1_db(OneQbit_translator, 0, params=True)\n",
    "                    u1s[\"param_value\"] = -np.array(list(resolver.values()))\n",
    "                    resu_comp, resu_db = OneQbit_translator.give_circuit(u1s,unresolved=False)\n",
    "\n",
    "\n",
    "                    u_to_compile_db_1q = u_to_compile_db.copy()\n",
    "                    u_to_compile_db_1q[\"ind\"] = u_to_compile_db[\"ind\"] = type_get(u_to_compile_db[\"ind\"], translator.translator_) ##type_get(u_to_compile_db[\"ind\"],OneQbit_translator)# - translator.translator_.number_of_cnots)//translator.translator_.n_qubits\n",
    "\n",
    "\n",
    "                    cc, cdb = OneQbit_translator.give_circuit(u_to_compile_db_1q, unresolved=False)\n",
    "                    c = cc.unitary()\n",
    "                    r = resu_comp.unitary()\n",
    "\n",
    "\n",
    "\n",
    "                    ## phase_shift if necessary\n",
    "                    if np.abs(np.mean(c/r) -1) > 1:\n",
    "                        u1s.loc[0] = u1s.loc[0].replace(to_replace=u1s[\"param_value\"][0], value=u1s[\"param_value\"][0] + 2*np.pi)# Rz(\\th) = e^{-ii \\theta \\sigma_z / 2}c0, cdb0 = translator.give_circuit(pd.DataFrame([gate_template(0, param_value=2*np.pi)]), unresolved=False)\n",
    "                    resu_comp, resu_db = translator.give_circuit(u1s,unresolved=False)\n",
    "\n",
    "                    \n",
    "                    \n",
    "                    first_symbols = simplified_db[\"symbol\"][indices_to_compile][:3]\n",
    "\n",
    "                    for new_ind, typ, pval in zip(indices_to_compile[:3],[0,1,0], list(u1s[\"param_value\"])):\n",
    "                        simplified_db.loc[new_ind+0.1] = gate_template(translator.number_of_cnots + q + typ*translator.n_qubits,\n",
    "                                                                         param_value=pval, block_id=simplified_db.loc[new_ind][\"block_id\"], \n",
    "                                                                         trainable=True, symbol=first_symbols[new_ind])\n",
    "\n",
    "                    for old_inds in indices_to_compile:\n",
    "                        simplified_db = simplified_db.drop(labels=[old_inds],axis=0)#\n",
    "\n",
    "                    simplified_db = simplified_db.sort_index().reset_index(drop=True)\n",
    "                    killed_indices = indices_to_compile[3:]\n",
    "                    db_follows = circuit_db[circuit_db.index>indices_to_compile[-1]]\n",
    "\n",
    "                    if len(db_follows)>0:\n",
    "                        gates_to_lower = list(db_follows.index)\n",
    "                        number_of_shifts = len(killed_indices)\n",
    "                        for k in range(number_of_shifts):\n",
    "                            simplified_db = shift_symbols_down(translator, gates_to_lower[0]-number_of_shifts, simplified_db)\n",
    "\n"
   ]
  },
  {
   "cell_type": "code",
   "execution_count": 141,
   "id": "electric-anthropology",
   "metadata": {},
   "outputs": [],
   "source": [
    "s, scdb = translator.give_circuit(simplified_db, unresolved=False)"
   ]
  },
  {
   "cell_type": "code",
   "execution_count": 142,
   "id": "bottom-input",
   "metadata": {},
   "outputs": [
    {
     "data": {
      "text/html": [
       "<pre style=\"overflow: auto; white-space: pre;\">(0, 0): ───Rz(1.03π)─────Rx(-0.043π)───Rz(0.967π)───────────────────────────────────────────\n",
       "\n",
       "(0, 1): ───Rz(-0.386π)───Rx(-1.34π)────Rz(-1.35π)───Rz(-0.386π)───Rx(-1.34π)───Rz(-1.35π)───</pre>"
      ],
      "text/plain": [
       "(0, 0): ───Rz(1.03π)─────Rx(-0.043π)───Rz(0.967π)───────────────────────────────────────────\n",
       "\n",
       "(0, 1): ───Rz(-0.386π)───Rx(-1.34π)────Rz(-1.35π)───Rz(-0.386π)───Rx(-1.34π)───Rz(-1.35π)───"
      ]
     },
     "execution_count": 142,
     "metadata": {},
     "output_type": "execute_result"
    }
   ],
   "source": [
    "s"
   ]
  },
  {
   "cell_type": "code",
   "execution_count": 145,
   "id": "wooden-vitamin",
   "metadata": {},
   "outputs": [
    {
     "data": {
      "text/html": [
       "<pre style=\"overflow: auto; white-space: pre;\">(0, 0): ───Rz(-0.559π)───Rx(-1.08π)───Rz(-0.607π)───Rz(-0.559π)───Rx(-1.08π)───Rz(-0.607π)───\n",
       "\n",
       "(0, 1): ───Rz(-0.386π)───Rx(-1.34π)───Rz(-1.35π)────Rz(-0.386π)───Rx(-1.34π)───Rz(-1.35π)────</pre>"
      ],
      "text/plain": [
       "(0, 0): ───Rz(-0.559π)───Rx(-1.08π)───Rz(-0.607π)───Rz(-0.559π)───Rx(-1.08π)───Rz(-0.607π)───\n",
       "\n",
       "(0, 1): ───Rz(-0.386π)───Rx(-1.34π)───Rz(-1.35π)────Rz(-0.386π)───Rx(-1.34π)───Rz(-1.35π)────"
      ]
     },
     "execution_count": 145,
     "metadata": {},
     "output_type": "execute_result"
    }
   ],
   "source": [
    "c, cc = translator.give_circuit(circuit_db, unresolved=False)\n",
    "c"
   ]
  },
  {
   "cell_type": "code",
   "execution_count": 146,
   "id": "ignored-cancellation",
   "metadata": {},
   "outputs": [
    {
     "data": {
      "text/plain": [
       "array([[ 0.55148605+0.19670999j,  0.8072302 -0.03219678j,\n",
       "         0.01633568-0.03587059j,  0.00243843-0.05432856j],\n",
       "       [-0.80654442-0.0462961j ,  0.55483885-0.18704419j,\n",
       "        -0.00769946+0.05383546j, -0.00938563-0.03828137j],\n",
       "       [ 0.00938563-0.03828137j, -0.00769946-0.05383546j,\n",
       "         0.55483885+0.18704419j,  0.80654442-0.0462961j ],\n",
       "       [ 0.00243843+0.05432856j, -0.01633568-0.03587059j,\n",
       "        -0.8072302 -0.03219678j,  0.55148605-0.19670999j]])"
      ]
     },
     "execution_count": 146,
     "metadata": {},
     "output_type": "execute_result"
    }
   ],
   "source": [
    "s.unitary()"
   ]
  },
  {
   "cell_type": "code",
   "execution_count": 150,
   "id": "studied-binding",
   "metadata": {},
   "outputs": [
    {
     "data": {
      "text/plain": [
       "0.0009719984141248654"
      ]
     },
     "execution_count": 150,
     "metadata": {},
     "output_type": "execute_result"
    }
   ],
   "source": [
    "np.max(np.abs(c.unitary() - s.unitary()))"
   ]
  },
  {
   "cell_type": "code",
   "execution_count": 158,
   "id": "talented-modification",
   "metadata": {},
   "outputs": [],
   "source": [
    "def rule_5(translator, simplified_db, on_qubit_order, gates_on_qubit):\n",
    "    \"\"\"\n",
    "    compile 1-qubit gates into euler rotations\n",
    "    \"\"\"\n",
    "    simplification = False\n",
    "\n",
    "    type_get = lambda x, translator: (x-translator.number_of_cnots)//translator.n_qubits\n",
    "\n",
    "    for q, qubit_gates_path in gates_on_qubit.items():\n",
    "        if simplification is True:\n",
    "            break\n",
    "        for order_gate_on_qubit, ind_gate in enumerate(qubit_gates_path[:-2]):\n",
    "            if simplification is True:\n",
    "                break\n",
    "            ind_gate_p1 = qubit_gates_path[order_gate_on_qubit+1]\n",
    "            ind_gate_p2 = qubit_gates_path[order_gate_on_qubit+2]\n",
    "            check_rot = lambda ind_gate: translator.number_of_cnots<= ind_gate <(3*translator.n_qubits + translator.number_of_cnots)\n",
    "\n",
    "            if (check_rot(ind_gate) == True) and (check_rot(ind_gate_p1) == True) and (check_rot(ind_gate_p2) == True):\n",
    "\n",
    "\n",
    "                type_0 = type_get(ind_gate,translator)\n",
    "                type_1 = type_get(ind_gate_p1,translator)\n",
    "                type_2 = type_get(ind_gate_p2,translator)\n",
    "\n",
    "\n",
    "                if type_0 == type_2:\n",
    "                    types = [type_0, type_1, type_2]\n",
    "                    for next_order_gate_on_qubit, ind_gate_next in enumerate(qubit_gates_path[order_gate_on_qubit+3:]):\n",
    "                        if (check_rot(ind_gate_next) == True):# and (next_order_gate_on_qubit < len(qubit_gates_path[order_gate_on_qubit+3:])):\n",
    "                            types.append(type_get(ind_gate_next, translator))\n",
    "                            simplification=True                        \n",
    "                        else:\n",
    "                            break\n",
    "                    if simplification == True:\n",
    "                        indices_to_compile = [on_qubit_order[q][order_gate_on_qubit+k] for k in range(len(types))]\n",
    "                        translator.translator_ = CirqTranslater(n_qubits=2)\n",
    "                        u_to_compile_db = simplified_db.loc[indices_to_compile]\n",
    "                        u_to_compile_db[\"ind\"] = translator.translator_.n_qubits*type_get(u_to_compile_db[\"ind\"], translator) + translator.translator_.number_of_cnots#type_get(u_to_compile_db[\"ind\"], translator.translator_)#translator.translator_.n_qubits*(u_to_compile_db[\"ind\"] - translator.number_of_cnots)//translator.n_qubits + translator.translator_.number_of_cnots\n",
    "                        u_to_compile_db[\"symbol\"] = None ##just to be sure it makes no interference with the compiler...\n",
    "\n",
    "\n",
    "                        compile_circuit, compile_circuit_db = construct_compiling_circuit(translator.translator_, u_to_compile_db)\n",
    "                        minimizer = Minimizer(translator.translator_, mode=\"compiling\", hamiltonian=\"Z\")\n",
    "\n",
    "                        cost, resolver, history = minimizer.minimize([compile_circuit], symbols=translator.get_symbols(compile_circuit_db))\n",
    "\n",
    "                        OneQbit_translator = CirqTranslater(n_qubits=1)\n",
    "                        u1s = u1_db(OneQbit_translator, 0, params=True)\n",
    "                        u1s[\"param_value\"] = -np.array(list(resolver.values()))\n",
    "                        resu_comp, resu_db = OneQbit_translator.give_circuit(u1s,unresolved=False)\n",
    "\n",
    "\n",
    "                        u_to_compile_db_1q = u_to_compile_db.copy()\n",
    "                        u_to_compile_db_1q[\"ind\"] = u_to_compile_db[\"ind\"] = type_get(u_to_compile_db[\"ind\"], translator.translator_) ##type_get(u_to_compile_db[\"ind\"],OneQbit_translator)# - translator.translator_.number_of_cnots)//translator.translator_.n_qubits\n",
    "\n",
    "\n",
    "                        cc, cdb = OneQbit_translator.give_circuit(u_to_compile_db_1q, unresolved=False)\n",
    "                        c = cc.unitary()\n",
    "                        r = resu_comp.unitary()\n",
    "\n",
    "\n",
    "\n",
    "                        ## phase_shift if necessary\n",
    "                        if np.abs(np.mean(c/r) -1) > 1:\n",
    "                            u1s.loc[0] = u1s.loc[0].replace(to_replace=u1s[\"param_value\"][0], value=u1s[\"param_value\"][0] + 2*np.pi)# Rz(\\th) = e^{-ii \\theta \\sigma_z / 2}c0, cdb0 = translator.give_circuit(pd.DataFrame([gate_template(0, param_value=2*np.pi)]), unresolved=False)\n",
    "                        resu_comp, resu_db = translator.give_circuit(u1s,unresolved=False)\n",
    "\n",
    "\n",
    "\n",
    "                        first_symbols = simplified_db[\"symbol\"][indices_to_compile][:3]\n",
    "\n",
    "                        for new_ind, typ, pval in zip(indices_to_compile[:3],[0,1,0], list(u1s[\"param_value\"])):\n",
    "                            simplified_db.loc[new_ind+0.1] = gate_template(translator.number_of_cnots + q + typ*translator.n_qubits,\n",
    "                                                                             param_value=pval, block_id=simplified_db.loc[new_ind][\"block_id\"], \n",
    "                                                                             trainable=True, symbol=first_symbols[new_ind])\n",
    "\n",
    "                        for old_inds in indices_to_compile:\n",
    "                            simplified_db = simplified_db.drop(labels=[old_inds],axis=0)#\n",
    "\n",
    "                        simplified_db = simplified_db.sort_index().reset_index(drop=True)\n",
    "                        killed_indices = indices_to_compile[3:]\n",
    "                        db_follows = circuit_db[circuit_db.index>indices_to_compile[-1]]\n",
    "\n",
    "                        if len(db_follows)>0:\n",
    "                            gates_to_lower = list(db_follows.index)\n",
    "                            number_of_shifts = len(killed_indices)\n",
    "                            for k in range(number_of_shifts):\n",
    "                                simplified_db = shift_symbols_down(translator, gates_to_lower[0]-number_of_shifts, simplified_db)\n",
    "\n",
    "\n",
    "\n",
    "        break                \n",
    "    return simplification, simplified_db\n",
    "\n",
    "\n",
    "def apply_rule(original_circuit_db, rule, **kwargs):\n",
    "    max_cnt = kwargs.get('max_cnt',10)\n",
    "    simplified, cnt = True, 0\n",
    "    original_circuit, original_circuit_db = translator.give_circuit(original_circuit_db)\n",
    "    gates_on_qubit, on_qubit_order = get_positional_dbs(original_circuit, original_circuit_db)\n",
    "    simplified_db = original_circuit_db.copy()\n",
    "    while simplified and cnt < max_cnt:\n",
    "        simplified, simplified_circuit_db = rule(translator, simplified_db, on_qubit_order, gates_on_qubit)\n",
    "        circuit, simplified_db = translator.give_circuit(simplified_circuit_db)\n",
    "        gates_on_qubit, on_qubit_order = get_positional_dbs(circuit, simplified_db)\n",
    "        cnt+=1\n",
    "    return cnt, simplified_db"
   ]
  },
  {
   "cell_type": "code",
   "execution_count": 152,
   "id": "dying-watson",
   "metadata": {},
   "outputs": [],
   "source": [
    "translator = CirqTranslater(2)\n",
    "db1 = u1_layer(translator)\n",
    "circuit_db = concatenate_dbs([db1]*2)\n",
    "circuit, circuit_db  = translator.give_circuit(circuit_db)\n",
    "gates_on_qubit, on_qubit_order = get_positional_dbs(circuit, circuit_db)\n",
    "simplified_db = circuit_db.copy()\n",
    "simplification, ssimplified_db = rule_5(translator, simplified_db, on_qubit_order, gates_on_qubit)"
   ]
  },
  {
   "cell_type": "code",
   "execution_count": 153,
   "id": "lyric-training",
   "metadata": {},
   "outputs": [],
   "source": [
    "circuit, circuit_db  = translator.give_circuit(circuit_db, unresolved=False)\n",
    "scircuit, scircuit_db  = translator.give_circuit(ssimplified_db, unresolved=False)"
   ]
  },
  {
   "cell_type": "code",
   "execution_count": 154,
   "id": "surrounded-piece",
   "metadata": {},
   "outputs": [
    {
     "data": {
      "text/plain": [
       "array([[ 0.71045872-0.51652071j, -0.04064287+0.08568959j,\n",
       "         0.15623585+0.43877286j, -0.03749268-0.03351489j],\n",
       "       [ 0.0891612 -0.03232383j,  0.58163915-0.65821056j,\n",
       "         0.00307766+0.0501944j ,  0.24761015+0.39448761j],\n",
       "       [-0.24761015+0.39448761j,  0.00307766-0.0501944j ,\n",
       "         0.58163915+0.65821056j, -0.0891612 -0.03232383j],\n",
       "       [-0.03749268+0.03351489j, -0.15623585+0.43877286j,\n",
       "         0.04064287+0.08568959j,  0.71045872+0.51652071j]])"
      ]
     },
     "execution_count": 154,
     "metadata": {},
     "output_type": "execute_result"
    }
   ],
   "source": [
    "scircuit.unitary()"
   ]
  },
  {
   "cell_type": "code",
   "execution_count": 155,
   "id": "cosmetic-strand",
   "metadata": {},
   "outputs": [
    {
     "data": {
      "text/plain": [
       "array([[ 0.71040036-0.51653149j, -0.04063678+0.0856876j ,\n",
       "         0.15608009+0.43891008j, -0.03748501-0.03353595j],\n",
       "       [ 0.08915547-0.0323267j ,  0.58157985-0.65820843j,\n",
       "         0.00305739+0.05020397j,  0.24748783+0.39465532j],\n",
       "       [-0.24748783+0.39465532j,  0.00305739-0.05020397j,\n",
       "         0.58157985+0.65820843j, -0.08915547-0.0323267j ],\n",
       "       [-0.03748501+0.03353595j, -0.15608009+0.43891008j,\n",
       "         0.04063678+0.0856876j ,  0.71040036+0.51653149j]])"
      ]
     },
     "execution_count": 155,
     "metadata": {},
     "output_type": "execute_result"
    }
   ],
   "source": [
    "circuit.unitary()"
   ]
  },
  {
   "cell_type": "code",
   "execution_count": 156,
   "id": "dangerous-segment",
   "metadata": {},
   "outputs": [
    {
     "data": {
      "text/html": [
       "<pre style=\"overflow: auto; white-space: pre;\">(0, 0): ───Rz(1.52π)────Rx(-1.62π)───Rz(1.81π)────Rz(1.52π)────Rx(-1.62π)───Rz(1.81π)────\n",
       "\n",
       "(0, 1): ───Rz(0.842π)───Rx(-1.5π)────Rz(-1.91π)───Rz(0.842π)───Rx(-1.5π)────Rz(-1.91π)───</pre>"
      ],
      "text/plain": [
       "(0, 0): ───Rz(1.52π)────Rx(-1.62π)───Rz(1.81π)────Rz(1.52π)────Rx(-1.62π)───Rz(1.81π)────\n",
       "\n",
       "(0, 1): ───Rz(0.842π)───Rx(-1.5π)────Rz(-1.91π)───Rz(0.842π)───Rx(-1.5π)────Rz(-1.91π)───"
      ]
     },
     "execution_count": 156,
     "metadata": {},
     "output_type": "execute_result"
    }
   ],
   "source": [
    "circuit"
   ]
  },
  {
   "cell_type": "code",
   "execution_count": 157,
   "id": "celtic-scheduling",
   "metadata": {},
   "outputs": [
    {
     "data": {
      "text/html": [
       "<pre style=\"overflow: auto; white-space: pre;\">(0, 0): ───Rz(-0.909π)───Rx(-1.69π)───Rz(1.38π)──────────────────────────────────────────\n",
       "\n",
       "(0, 1): ───Rz(0.842π)────Rx(-1.5π)────Rz(-1.91π)───Rz(0.842π)───Rx(-1.5π)───Rz(-1.91π)───</pre>"
      ],
      "text/plain": [
       "(0, 0): ───Rz(-0.909π)───Rx(-1.69π)───Rz(1.38π)──────────────────────────────────────────\n",
       "\n",
       "(0, 1): ───Rz(0.842π)────Rx(-1.5π)────Rz(-1.91π)───Rz(0.842π)───Rx(-1.5π)───Rz(-1.91π)───"
      ]
     },
     "execution_count": 157,
     "metadata": {},
     "output_type": "execute_result"
    }
   ],
   "source": [
    "scircuit"
   ]
  },
  {
   "cell_type": "code",
   "execution_count": null,
   "id": "disciplinary-times",
   "metadata": {},
   "outputs": [],
   "source": []
  },
  {
   "cell_type": "code",
   "execution_count": null,
   "id": "second-beads",
   "metadata": {},
   "outputs": [],
   "source": []
  },
  {
   "cell_type": "code",
   "execution_count": 168,
   "id": "solid-sullivan",
   "metadata": {},
   "outputs": [],
   "source": [
    "translator = CirqTranslater(2)\n",
    "db1 = u1_layer(translator)\n",
    "db2 = u2_layer(translator)\n",
    "circuit_db = concatenate_dbs([db1,db1,db2,db2])\n",
    "circuit, circuit_db  = translator.give_circuit(circuit_db)\n",
    "gates_on_qubit, on_qubit_order = get_positional_dbs(circuit, circuit_db)\n",
    "simplified_db = circuit_db.copy()\n",
    "simplification, ssimplified_db = rule_5(translator, simplified_db, on_qubit_order, gates_on_qubit)"
   ]
  },
  {
   "cell_type": "code",
   "execution_count": 169,
   "id": "cosmetic-sharp",
   "metadata": {},
   "outputs": [
    {
     "data": {
      "text/plain": [
       "0.00011662576940821021"
      ]
     },
     "execution_count": 169,
     "metadata": {},
     "output_type": "execute_result"
    }
   ],
   "source": [
    "circuit, circuit_db  = translator.give_circuit(circuit_db, unresolved=False)\n",
    "scircuit, scircuit_db  = translator.give_circuit(ssimplified_db, unresolved=False)\n",
    "\n",
    "np.max(np.abs(circuit.unitary() - scircuit.unitary()))"
   ]
  },
  {
   "cell_type": "code",
   "execution_count": 170,
   "id": "temporal-sellers",
   "metadata": {},
   "outputs": [
    {
     "data": {
      "text/plain": [
       "array([[ 4.47957068e-05+8.33739899e-05j, -2.24269189e-05+8.39146801e-06j,\n",
       "        -3.27533560e-05-1.84682919e-05j,  9.69874299e-05-3.76264632e-05j],\n",
       "       [ 9.10239306e-05+2.49819556e-05j,  3.66639517e-05-5.90326355e-05j,\n",
       "        -1.00604967e-06+4.52783057e-05j, -1.20188435e-05+7.63759925e-05j],\n",
       "       [ 5.27058440e-05+2.83923398e-05j, -5.10068951e-05+1.27153106e-05j,\n",
       "         6.31555666e-05-9.16520777e-05j, -5.43449698e-05+8.82696372e-06j],\n",
       "       [ 1.77769970e-05-2.21881278e-07j,  4.46477532e-05+1.07741117e-04j,\n",
       "         7.01994105e-05+3.13966556e-05j,  3.36612250e-05+2.83373811e-05j]])"
      ]
     },
     "execution_count": 170,
     "metadata": {},
     "output_type": "execute_result"
    }
   ],
   "source": [
    "circuit.unitary() - scircuit.unitary()"
   ]
  },
  {
   "cell_type": "code",
   "execution_count": null,
   "id": "sweet-valley",
   "metadata": {},
   "outputs": [],
   "source": []
  }
 ],
 "metadata": {
  "kernelspec": {
   "display_name": "Python 3",
   "language": "python",
   "name": "python3"
  },
  "language_info": {
   "codemirror_mode": {
    "name": "ipython",
    "version": 3
   },
   "file_extension": ".py",
   "mimetype": "text/x-python",
   "name": "python",
   "nbconvert_exporter": "python",
   "pygments_lexer": "ipython3",
   "version": "3.6.9"
  }
 },
 "nbformat": 4,
 "nbformat_minor": 5
}
