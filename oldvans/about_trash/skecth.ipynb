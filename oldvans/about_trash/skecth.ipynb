{
 "cells": [
  {
   "cell_type": "markdown",
   "id": "substantial-strain",
   "metadata": {},
   "source": [
    "## This is VANS algorithm applied to amplitude damping channel discrimination. Note that the gates that VANs appends to the circuit are either CNOTs or Rx or Rz rotations."
   ]
  },
  {
   "cell_type": "code",
   "execution_count": 93,
   "id": "surrounded-traffic",
   "metadata": {},
   "outputs": [
    {
     "name": "stdout",
     "output_type": "stream",
     "text": [
      "The autoreload extension is already loaded. To reload it, use:\n",
      "  %reload_ext autoreload\n",
      "\n",
      " Hola, I'm VANS, and current local time is 2021-10-12 18:57:58.249814 \n",
      "\n",
      "Iteration number 0\n",
      "Time from start 0:00:02.057763\n",
      "Lowest Perr found 0.1080000028014183\n",
      "\n",
      "\n"
     ]
    }
   ],
   "source": [
    "%load_ext autoreload\n",
    "%autoreload 2\n",
    "\n",
    "from datetime import datetime\n",
    "import numpy as np\n",
    "import pandas as pd\n",
    "import tensorflow as tf\n",
    "import cirq\n",
    "import tensorflow_quantum as tfq\n",
    "import matplotlib.pyplot as plt\n",
    "\n",
    "from utilities.circuit_basics import Basic\n",
    "from utilities.idinserter import IdInserter\n",
    "from utilities.qmodels import *\n",
    "from utilities.variational import Minimizer\n",
    "from utilities.simplifier import Simplifier\n",
    "from utilities.unitary_killer import UnitaryMurder\n",
    "from utilities.evaluator import Evaluator\n",
    "\n",
    "\n",
    "start = datetime.now()\n",
    "\n",
    "basic = Basic(n_qubits=3)\n",
    "inserter = IdInserter(n_qubits=3)\n",
    "minimizer = Minimizer(n_qubits=3, epochs=10**3)\n",
    "simplifier = Simplifier(n_qubits=basic.n_qubits)\n",
    "killer = UnitaryMurder(minimizer=minimizer)\n",
    "\n",
    "args={\"problem_name\":\"QADC\", \"params\":[.1,1.], \"n_qubits\":3}\n",
    "evaluator = Evaluator(args = args)  #evloader = Evaluator(args = args, loading=True)\n",
    "\n",
    "eta = 0.1\n",
    "\n",
    "### CREATE INITIAL CIRCUIT CONSISTING ON ENCODER CHANNEL DECODER ####\n",
    "circuit=[]\n",
    "circuit = [basic.give_gate_template(k, block_id=0, trainable=True) for k in basic.rotation_series(1)]\n",
    "circuit += [basic.give_gate_template(k, block_id=0, trainable=True) for k in basic.rotation_series(0)]\n",
    "circuit += basic.give_channel_circuit_db([1,2], eta=eta, block_id=1) \n",
    "circuit += [basic.give_gate_template(k, block_id=2, trainable=True) for k in basic.rotation_series(1)]\n",
    "circuit += [basic.give_gate_template(k, block_id=2, trainable=True) for k in basic.rotation_series(1)]\n",
    "circuit, symbols, circuit_db = basic.give_circuit(circuit)\n",
    "\n",
    "#### PREPARE BATCH OF CHANNELS ####\n",
    "batch = basic.prepare_channel_discrimination_circuits(circuit_db)\n",
    "\n",
    "##### TRAIN ONCE #####\n",
    "error_prob, symbol_to_value, training_evolution1 = minimizer.channel_discrimination(batch)\n",
    "## update database param_values\n",
    "circuit_db = basic.update_circuit_db_param_values(circuit_db, symbol_to_value)\n",
    "\n",
    "\n",
    "evaluator.add_step(circuit_db, error_prob, relevant=True)\n",
    "\n",
    "print(evaluator.displaying[\"information\"])\n",
    "\n",
    "\n",
    "for it_vans in range(1):\n",
    "    info = \"Iteration number {}\\nTime from start {}\\nLowest Perr found {}\\n\\n\".format(it_vans, str(datetime.now()-start), np.round(evaluator.lowest_energy.numpy(),3) )\n",
    "    print(info)\n",
    "    \n",
    "    evaluator.displaying[\"information\"] += info\n",
    "    ### ADD IDENTITIES ALL OVER THE CIRCUIT ###\n",
    "    mutated_circuit_db = inserter.place_identities(circuit_db)\n",
    "    \n",
    "    ### SIMPLIFY CIRCUIT ####\n",
    "    simplified_circuit_db = simplifier.simplify_blocks(mutated_circuit_db)\n",
    "    \n",
    "    ### TRAIN (MUTATED+SIMPLIFIED) CIRCUIT\n",
    "    batch_simplified = basic.prepare_channel_discrimination_circuits(simplified_circuit_db)\n",
    "    perr, symbol_to_value, training_evolution = minimizer.channel_discrimination(batch_simplified)\n",
    "    simplified_circuit_db = basic.update_circuit_db_param_values(simplified_circuit_db, symbol_to_value)\n",
    "\n",
    "    accept_mutation = evaluator.accept_energy(error_prob)\n",
    "    \n",
    "    if accept_mutation == True:\n",
    "        ## Kill unnecessary gates + simplification rules if mutation is accepted\n",
    "        lmax = len(circuit_db[\"trainable\"] == True)\n",
    "        reduced = True\n",
    "        cnt=0\n",
    "        while reduced and cnt<lmax:\n",
    "            # KILL single-qubit gates \n",
    "            killed_circuit_db, perr, reduced, unitaries_killed = killer.unitary_slaughter(simplified_circuit_db)\n",
    "            simplified_circuit_db = simplifier.simplify_blocks(killed_circuit_db)\n",
    "            cnt+=1\n",
    "            \n",
    "    ### save results of iteration ###\n",
    "    evaluator.add_step(simplified_circuit_db, perr, relevant=accept_mutation)\n"
   ]
  },
  {
   "cell_type": "code",
   "execution_count": 115,
   "id": "alternative-wealth",
   "metadata": {},
   "outputs": [
    {
     "data": {
      "text/html": [
       "<pre style=\"overflow: auto; white-space: pre;\">(0, 0): ───Rx(th_0)───Rz(th_3)───Rx(th_8)───Rx(th_11)─────────────────────────────────────────────────────────────────\n",
       "\n",
       "(0, 1): ───Rx(th_1)───Rz(th_4)───H──────────X────────────────────────X───H────────────────X───Rx(th_9)────Rx(th_12)───\n",
       "                                            │                        │                    │\n",
       "(0, 2): ───Rx(th_2)───Rz(th_5)───H──────────@───────────Ry(0.032π)───@───H───Ry(0.032π)───@───Rx(th_10)───Rx(th_13)───</pre>"
      ],
      "text/plain": [
       "(0, 0): ───Rx(th_0)───Rz(th_3)───Rx(th_8)───Rx(th_11)─────────────────────────────────────────────────────────────────\n",
       "\n",
       "(0, 1): ───Rx(th_1)───Rz(th_4)───H──────────X────────────────────────X───H────────────────X───Rx(th_9)────Rx(th_12)───\n",
       "                                            │                        │                    │\n",
       "(0, 2): ───Rx(th_2)───Rz(th_5)───H──────────@───────────Ry(0.032π)───@───H───Ry(0.032π)───@───Rx(th_10)───Rx(th_13)───"
      ]
     },
     "execution_count": 115,
     "metadata": {},
     "output_type": "execute_result"
    }
   ],
   "source": [
    "circuit"
   ]
  },
  {
   "cell_type": "code",
   "execution_count": 104,
   "id": "orange-chance",
   "metadata": {},
   "outputs": [],
   "source": [
    "def bound_EA(eta0, eta1):\n",
    "    gamma = np.cos(eta0) + np.cos(eta1)\n",
    "    y_star = np.max([0, (gamma-1)/(gamma-2)])\n",
    "    sec_term = lambda y: (1-y)*gamma + np.sqrt((1-y)*(4*y + (1-y)*(gamma**2)))\n",
    "    return (np.cos(eta1)-np.cos(eta0))*sec_term(y_star)"
   ]
  },
  {
   "cell_type": "code",
   "execution_count": 106,
   "id": "rotary-trance",
   "metadata": {},
   "outputs": [],
   "source": [
    "def pmancini(eta0, eta1):\n",
    "    #https://arxiv.org/pdf/2009.01000.pdf\n",
    "    gamma = np.cos(eta0)+np.cos(eta1)\n",
    "    if gamma<1/np.sqrt(2):\n",
    "        return (2 + (np.cos(eta1)-np.cos(eta0))/np.sqrt(1-gamma**2))/4\n",
    "    else:\n",
    "        return (np.sin(eta0)**2 + np.cos(eta1)**2)/2\n",
    "\n",
    "def pmancini_EA(eta0,eta1):\n",
    "    gamma = np.cos(eta0)+np.cos(eta1)\n",
    "    return (1+np.sin(eta0-eta1))/2"
   ]
  },
  {
   "cell_type": "code",
   "execution_count": 116,
   "id": "trying-wednesday",
   "metadata": {},
   "outputs": [
    {
     "data": {
      "text/plain": [
       "[<matplotlib.lines.Line2D at 0x7f6ed45b5c88>]"
      ]
     },
     "execution_count": 116,
     "metadata": {},
     "output_type": "execute_result"
    },
    {
     "data": {
      "image/png": "[encoded data removed]",
      "text/plain": [
       "<Figure size 432x288 with 1 Axes>"
      ]
     },
     "metadata": {
      "needs_background": "light"
     },
     "output_type": "display_data"
    }
   ],
   "source": [
    "histo = training_evolution1.history[\"loss\"]\n",
    "plt.plot(histo)\n",
    "plt.plot([1-pmancini(1.,0.1)]*len(histo))\n",
    "plt.plot([1-pmancini_EA(1.,0.1)]*len(histo), '--')"
   ]
  }
 ],
 "metadata": {
  "kernelspec": {
   "display_name": "Python 3",
   "language": "python",
   "name": "python3"
  },
  "language_info": {
   "codemirror_mode": {
    "name": "ipython",
    "version": 3
   },
   "file_extension": ".py",
   "mimetype": "text/x-python",
   "name": "python",
   "nbconvert_exporter": "python",
   "pygments_lexer": "ipython3",
   "version": "3.6.9"
  }
 },
 "nbformat": 4,
 "nbformat_minor": 5
}
