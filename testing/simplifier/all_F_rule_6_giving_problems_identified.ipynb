{
 "cells": [
  {
   "cell_type": "markdown",
   "id": "israeli-cathedral",
   "metadata": {},
   "source": [
    "In this notebook we give a proof of concept of unitary compiling using TFQ. "
   ]
  },
  {
   "cell_type": "code",
   "execution_count": 53,
   "id": "cleared-explorer",
   "metadata": {},
   "outputs": [
    {
     "name": "stdout",
     "output_type": "stream",
     "text": [
      "The autoreload extension is already loaded. To reload it, use:\n",
      "  %reload_ext autoreload\n"
     ]
    }
   ],
   "source": [
    "%load_ext autoreload\n",
    "%autoreload 2\n",
    "\n",
    "import sympy \n",
    "import numpy as np \n",
    "import pandas as pd \n",
    "import tensorflow as tf\n",
    "from utilities.circuit_database import CirqTranslater\n",
    "from utilities.templates import *\n",
    "from utilities.variational import Minimizer\n",
    "import matplotlib.pyplot as plt \n",
    "import tensorflow_quantum as tfq\n",
    "import cirq\n",
    "from utilities.compiling import *\n",
    "from utilities.misc import *\n",
    "from utilities.simplifier import Simplifier\n",
    "from utilities.discrimination import *\n",
    "from utilities.idinserter import IdInserter\n",
    "from utilities.evaluator import Evaluator\n",
    "from utilities.gate_killer import GateKiller\n",
    "from ast import literal_eval\n"
   ]
  },
  {
   "cell_type": "code",
   "execution_count": 54,
   "id": "coastal-dividend",
   "metadata": {},
   "outputs": [],
   "source": [
    "np.random.seed(0)\n",
    "translator = CirqTranslater(4, untouchable_blocks = [])\n",
    "\n",
    "translator.env_qubits = [2]\n",
    "\n",
    "simplifier = Simplifier(translator)\n",
    "etas = [0.01, 1.]\n",
    "minimizer = Minimizer(translator, mode=\"discrimination\", params=etas)"
   ]
  },
  {
   "cell_type": "code",
   "execution_count": 55,
   "id": "nominated-collectible",
   "metadata": {},
   "outputs": [],
   "source": [
    "q = 0\n",
    "other_qs = list(range(translator.n_qubits))\n",
    "other_qs.remove(q)\n",
    "indds = [translator.cnots_index[str([q,k])] for k in other_qs]\n",
    "cdb = pd.DataFrame([gate_template(i) for i in indds])\n",
    "\n",
    "circuit_db = concatenate_dbs([z_layer_db(translator), cdb])\n",
    "\n",
    "for q in range(1, translator.n_qubits):\n",
    "    other_qs = list(range(translator.n_qubits))\n",
    "    other_qs.remove(q)\n",
    "    indds = [translator.cnots_index[str([q,k])] for k in other_qs]\n",
    "    cdb = pd.DataFrame([gate_template(i) for i in indds])\n",
    "    circuit_db = concatenate_dbs([circuit_db ,cdb])\n",
    "\n",
    "c, circuit_db = translator.give_circuit(circuit_db)\n",
    "\n",
    "db1 = concatenate_dbs([x_layer_db(translator)])\n",
    "#db2 = concatenate_dbs([z_layer_db(translator)]*3)\n",
    "#db3 = concatenate_dbs([x_layer_db(translator)]*3)\n",
    "#db4 = concatenate_dbs([z_layer_db(translator)]*3)\n",
    "\n",
    "circuit_db = concatenate_dbs([circuit_db, db1])\n",
    "c, circuit_db = translator.give_circuit(circuit_db)\n",
    "\n",
    "cdb = []\n",
    "for ind, qubits in list(translator.indexed_cnots.items())[:3]:\n",
    "    cdb.append(gate_template(int(ind), block_id=0))\n",
    "    con, tar = qubits\n",
    "    cdb.append(gate_template(int(con + translator.number_of_cnots), param_value = np.random.random()))\n",
    "    cdb.append(gate_template(int(tar + translator.number_of_cnots + translator.n_qubits), param_value = np.random.random()))\n",
    "c6_db = pd.DataFrame(cdb)\n",
    "circuit_db = concatenate_dbs([c6_db, db1])\n",
    "\n",
    "c, circuit_db = translator.give_circuit(circuit_db)"
   ]
  },
  {
   "cell_type": "code",
   "execution_count": 56,
   "id": "starting-methodology",
   "metadata": {},
   "outputs": [
    {
     "data": {
      "text/html": [
       "<pre style=\"overflow: auto; white-space: pre;\">                          ┌─────────┐              ┌─────────┐\n",
       "(0, 0): ───@───Rz(th_0)────@────────────Rz(th_2)────@────────────Rz(th_4)───Rx(th_6)───\n",
       "           │               │                        │\n",
       "(0, 1): ───X───Rx(th_1)────┼Rx(th_7)────────────────┼──────────────────────────────────\n",
       "                           │                        │\n",
       "(0, 2): ───────────────────X────────────Rx(th_3)────┼Rx(th_8)──────────────────────────\n",
       "                                                    │\n",
       "(0, 3): ────────────────────────────────────────────X────────────Rx(th_5)───Rx(th_9)───\n",
       "                          └─────────┘              └─────────┘</pre>"
      ],
      "text/plain": [
       "                          ┌─────────┐              ┌─────────┐\n",
       "(0, 0): ───@───Rz(th_0)────@────────────Rz(th_2)────@────────────Rz(th_4)───Rx(th_6)───\n",
       "           │               │                        │\n",
       "(0, 1): ───X───Rx(th_1)────┼Rx(th_7)────────────────┼──────────────────────────────────\n",
       "                           │                        │\n",
       "(0, 2): ───────────────────X────────────Rx(th_3)────┼Rx(th_8)──────────────────────────\n",
       "                                                    │\n",
       "(0, 3): ────────────────────────────────────────────X────────────Rx(th_5)───Rx(th_9)───\n",
       "                          └─────────┘              └─────────┘"
      ]
     },
     "execution_count": 56,
     "metadata": {},
     "output_type": "execute_result"
    }
   ],
   "source": [
    "c"
   ]
  },
  {
   "cell_type": "code",
   "execution_count": 57,
   "id": "likely-vitamin",
   "metadata": {},
   "outputs": [
    {
     "name": "stdout",
     "output_type": "stream",
     "text": [
      "simplified using  <bound method Simplifier.rule_4 of <utilities.simplifier.Simplifier object at 0x7f2d77d6c080>>\n",
      "simplified using  <bound method Simplifier.rule_4 of <utilities.simplifier.Simplifier object at 0x7f2d77d6c080>>\n",
      "simplified using  <bound method Simplifier.rule_4 of <utilities.simplifier.Simplifier object at 0x7f2d77d6c080>>\n",
      "simplified using  <bound method Simplifier.rule_6 of <utilities.simplifier.Simplifier object at 0x7f2d77d6c080>>\n",
      "simplified using  <bound method Simplifier.rule_6 of <utilities.simplifier.Simplifier object at 0x7f2d77d6c080>>\n",
      "simplified using  <bound method Simplifier.rule_6 of <utilities.simplifier.Simplifier object at 0x7f2d77d6c080>>\n",
      "warning, repeated symbol while constructing the circuit, see circuut_\n",
      "  symbol_name th_0\n",
      " symbols ['th_0', 'th_1']\n",
      "circuit_db {0: {'ind': 16, 'symbol': 'th_0', 'param_value': 0.0, 'trainable': True, 'block_id': 0.0}, 1: {'ind': 17, 'symbol': 'th_1', 'param_value': 0.0, 'trainable': True, 'block_id': 0.0}, 2: {'ind': 1, 'symbol': None, 'param_value': nan, 'trainable': True, 'block_id': 0.0}, 3: {'ind': 2, 'symbol': None, 'param_value': nan, 'trainable': True, 'block_id': 0.0}, 4: {'ind': 12, 'symbol': 'th_0', 'param_value': 0.4236547993389047, 'trainable': True, 'block_id': 0.0}} \n",
      "\n",
      "\n",
      "\n",
      "warning, repeated symbol while constructing the circuit, see circuut_\n",
      "  symbol_name th_1\n",
      " symbols ['th_0', 'th_1', 'th_0']\n",
      "circuit_db {0: {'ind': 16, 'symbol': 'th_0', 'param_value': 0.0, 'trainable': True, 'block_id': 0.0}, 1: {'ind': 17, 'symbol': 'th_1', 'param_value': 0.0, 'trainable': True, 'block_id': 0.0}, 2: {'ind': 1, 'symbol': None, 'param_value': nan, 'trainable': True, 'block_id': 0.0}, 3: {'ind': 2, 'symbol': None, 'param_value': nan, 'trainable': True, 'block_id': 0.0}, 4: {'ind': 12, 'symbol': 'th_0', 'param_value': 0.4236547993389047, 'trainable': True, 'block_id': 0.0}, 5: {'ind': 12, 'symbol': 'th_1', 'param_value': 0.4375872112626925, 'trainable': True, 'block_id': 0.0}} \n",
      "\n",
      "\n",
      "\n",
      "simplified using  <bound method Simplifier.rule_1 of <utilities.simplifier.Simplifier object at 0x7f2d77d6c080>>\n"
     ]
    },
    {
     "ename": "AttributeError",
     "evalue": "ojo <bound method Simplifier.rule_1 of <utilities.simplifier.Simplifier object at 0x7f2d77d6c080>>",
     "output_type": "error",
     "traceback": [
      "\u001b[0;31m---------------------------------------------------------------------------\u001b[0m",
      "\u001b[0;31mAttributeError\u001b[0m                            Traceback (most recent call last)",
      "\u001b[0;32m<ipython-input-57-e61674285af4>\u001b[0m in \u001b[0;36m<module>\u001b[0;34m\u001b[0m\n\u001b[1;32m      2\u001b[0m \u001b[0msimplifier\u001b[0m\u001b[0;34m.\u001b[0m\u001b[0mabsolute_rules\u001b[0m \u001b[0;34m=\u001b[0m \u001b[0;34m[\u001b[0m\u001b[0msimplifier\u001b[0m\u001b[0;34m.\u001b[0m\u001b[0mrule_4\u001b[0m\u001b[0;34m,\u001b[0m\u001b[0msimplifier\u001b[0m\u001b[0;34m.\u001b[0m\u001b[0mrule_5\u001b[0m\u001b[0;34m,\u001b[0m \u001b[0msimplifier\u001b[0m\u001b[0;34m.\u001b[0m\u001b[0mrule_6\u001b[0m\u001b[0;34m]\u001b[0m\u001b[0;34m\u001b[0m\u001b[0;34m\u001b[0m\u001b[0m\n\u001b[1;32m      3\u001b[0m \u001b[0msimplifier\u001b[0m\u001b[0;34m.\u001b[0m\u001b[0mrelative_rules\u001b[0m \u001b[0;34m=\u001b[0m \u001b[0;34m[\u001b[0m\u001b[0msimplifier\u001b[0m\u001b[0;34m.\u001b[0m\u001b[0mrule_1\u001b[0m\u001b[0;34m,\u001b[0m \u001b[0msimplifier\u001b[0m\u001b[0;34m.\u001b[0m\u001b[0mrule_2\u001b[0m\u001b[0;34m]\u001b[0m\u001b[0;34m\u001b[0m\u001b[0;34m\u001b[0m\u001b[0m\n\u001b[0;32m----> 4\u001b[0;31m \u001b[0msimplified_db\u001b[0m\u001b[0;34m,\u001b[0m \u001b[0mns\u001b[0m \u001b[0;34m=\u001b[0m \u001b[0msimplifier\u001b[0m\u001b[0;34m.\u001b[0m\u001b[0mreduce_circuit\u001b[0m\u001b[0;34m(\u001b[0m\u001b[0mcircuit_db\u001b[0m\u001b[0;34m)\u001b[0m\u001b[0;34m\u001b[0m\u001b[0;34m\u001b[0m\u001b[0m\n\u001b[0m\u001b[1;32m      5\u001b[0m \u001b[0mss\u001b[0m\u001b[0;34m,\u001b[0m \u001b[0msimplified_db\u001b[0m \u001b[0;34m=\u001b[0m \u001b[0mtranslator\u001b[0m\u001b[0;34m.\u001b[0m\u001b[0mgive_circuit\u001b[0m\u001b[0;34m(\u001b[0m\u001b[0msimplified_db\u001b[0m\u001b[0;34m)\u001b[0m\u001b[0;34m\u001b[0m\u001b[0;34m\u001b[0m\u001b[0m\n",
      "\u001b[0;32m~/Desktop/qvans/utilities/simplifier.py\u001b[0m in \u001b[0;36mreduce_circuit\u001b[0;34m(self, circuit_db)\u001b[0m\n\u001b[1;32m     55\u001b[0m                     \u001b[0;32mif\u001b[0m \u001b[0;34m(\u001b[0m\u001b[0mblock\u001b[0m \u001b[0;34m==\u001b[0m \u001b[0;36m0\u001b[0m\u001b[0;34m)\u001b[0m \u001b[0;32mand\u001b[0m \u001b[0;34m(\u001b[0m\u001b[0mself\u001b[0m\u001b[0;34m.\u001b[0m\u001b[0mapply_relatives_to_first\u001b[0m \u001b[0;34m==\u001b[0m \u001b[0;32mTrue\u001b[0m\u001b[0;34m)\u001b[0m\u001b[0;34m:\u001b[0m\u001b[0;34m\u001b[0m\u001b[0;34m\u001b[0m\u001b[0m\n\u001b[1;32m     56\u001b[0m                         \u001b[0;32mfor\u001b[0m \u001b[0mrule\u001b[0m \u001b[0;32min\u001b[0m \u001b[0mself\u001b[0m\u001b[0;34m.\u001b[0m\u001b[0mrelative_rules\u001b[0m\u001b[0;34m:\u001b[0m\u001b[0;34m\u001b[0m\u001b[0;34m\u001b[0m\u001b[0m\n\u001b[0;32m---> 57\u001b[0;31m                             \u001b[0mcnt\u001b[0m\u001b[0;34m,\u001b[0m \u001b[0mblocked_circuit\u001b[0m\u001b[0;34m[\u001b[0m\u001b[0mblock\u001b[0m\u001b[0;34m]\u001b[0m  \u001b[0;34m=\u001b[0m \u001b[0mself\u001b[0m\u001b[0;34m.\u001b[0m\u001b[0mapply_rule\u001b[0m\u001b[0;34m(\u001b[0m\u001b[0mblocked_circuit\u001b[0m\u001b[0;34m[\u001b[0m\u001b[0mblock\u001b[0m\u001b[0;34m]\u001b[0m  \u001b[0;34m,\u001b[0m \u001b[0mrule\u001b[0m\u001b[0;34m)\u001b[0m\u001b[0;34m\u001b[0m\u001b[0;34m\u001b[0m\u001b[0m\n\u001b[0m\u001b[1;32m     58\u001b[0m                             \u001b[0mfinal_cnt\u001b[0m \u001b[0;34m+=\u001b[0m \u001b[0mcnt\u001b[0m\u001b[0;34m\u001b[0m\u001b[0;34m\u001b[0m\u001b[0m\n\u001b[1;32m     59\u001b[0m                     \u001b[0mnsimps\u001b[0m \u001b[0;34m+=\u001b[0m\u001b[0mfinal_cnt\u001b[0m\u001b[0;34m\u001b[0m\u001b[0;34m\u001b[0m\u001b[0m\n",
      "\u001b[0;32m~/Desktop/qvans/utilities/simplifier.py\u001b[0m in \u001b[0;36mapply_rule\u001b[0;34m(self, original_circuit_db, rule, **kwargs)\u001b[0m\n\u001b[1;32m     75\u001b[0m             \u001b[0;32mif\u001b[0m \u001b[0mcheck_symbols_ordered\u001b[0m\u001b[0;34m(\u001b[0m\u001b[0msimplified_circuit_db\u001b[0m\u001b[0;34m)\u001b[0m \u001b[0;32mis\u001b[0m \u001b[0;32mFalse\u001b[0m\u001b[0;34m:\u001b[0m\u001b[0;34m\u001b[0m\u001b[0;34m\u001b[0m\u001b[0m\n\u001b[1;32m     76\u001b[0m                 \u001b[0msimplified_db\u001b[0m\u001b[0;34m.\u001b[0m\u001b[0mto_csv\u001b[0m\u001b[0;34m(\u001b[0m\u001b[0;34m\"testing/data/dcl\"\u001b[0m\u001b[0;34m)\u001b[0m\u001b[0;34m\u001b[0m\u001b[0;34m\u001b[0m\u001b[0m\n\u001b[0;32m---> 77\u001b[0;31m                 \u001b[0;32mraise\u001b[0m \u001b[0mAttributeError\u001b[0m\u001b[0;34m(\u001b[0m\u001b[0;34m\"ojo {}\"\u001b[0m\u001b[0;34m.\u001b[0m\u001b[0mformat\u001b[0m\u001b[0;34m(\u001b[0m\u001b[0mrule\u001b[0m\u001b[0;34m)\u001b[0m\u001b[0;34m)\u001b[0m\u001b[0;34m\u001b[0m\u001b[0;34m\u001b[0m\u001b[0m\n\u001b[0m\u001b[1;32m     78\u001b[0m             \u001b[0mcircuit\u001b[0m\u001b[0;34m,\u001b[0m \u001b[0msimplified_db\u001b[0m \u001b[0;34m=\u001b[0m \u001b[0mself\u001b[0m\u001b[0;34m.\u001b[0m\u001b[0mtranslator\u001b[0m\u001b[0;34m.\u001b[0m\u001b[0mgive_circuit\u001b[0m\u001b[0;34m(\u001b[0m\u001b[0msimplified_circuit_db\u001b[0m\u001b[0;34m)\u001b[0m\u001b[0;34m\u001b[0m\u001b[0;34m\u001b[0m\u001b[0m\n\u001b[1;32m     79\u001b[0m             \u001b[0mgates_on_qubit\u001b[0m\u001b[0;34m,\u001b[0m \u001b[0mon_qubit_order\u001b[0m \u001b[0;34m=\u001b[0m \u001b[0mself\u001b[0m\u001b[0;34m.\u001b[0m\u001b[0mget_positional_dbs\u001b[0m\u001b[0;34m(\u001b[0m\u001b[0mcircuit\u001b[0m\u001b[0;34m,\u001b[0m \u001b[0msimplified_db\u001b[0m\u001b[0;34m)\u001b[0m\u001b[0;34m\u001b[0m\u001b[0;34m\u001b[0m\u001b[0m\n",
      "\u001b[0;31mAttributeError\u001b[0m: ojo <bound method Simplifier.rule_1 of <utilities.simplifier.Simplifier object at 0x7f2d77d6c080>>"
     ]
    }
   ],
   "source": [
    "simplifier = Simplifier(translator, apply_relatives_to_first = True)\n",
    "simplifier.absolute_rules = [simplifier.rule_4,simplifier.rule_5, simplifier.rule_6]\n",
    "simplifier.relative_rules = [simplifier.rule_1, simplifier.rule_2]\n",
    "simplified_db, ns = simplifier.reduce_circuit(circuit_db)\n",
    "ss, simplified_db = translator.give_circuit(simplified_db)"
   ]
  },
  {
   "cell_type": "code",
   "execution_count": 24,
   "id": "revised-nerve",
   "metadata": {},
   "outputs": [],
   "source": [
    "gates_on_qubit, on_qubit_order = simplifier.get_positional_dbs(c, circuit_db)\n",
    "simplified_db = circuit_db.copy()"
   ]
  },
  {
   "cell_type": "code",
   "execution_count": 29,
   "id": "thrown-eagle",
   "metadata": {},
   "outputs": [],
   "source": [
    "simplification = False\n",
    "for q, qubit_gates_path in gates_on_qubit.items():\n",
    "    if simplification is True:\n",
    "        break\n",
    "    for order_gate_on_qubit, ind_gate in enumerate(qubit_gates_path[:-1]):\n",
    "        if simplification is True:\n",
    "            break\n",
    "        ind_gate_p1 = qubit_gates_path[order_gate_on_qubit+1]\n",
    "        ## if i have a rotation and then a CNOT\n",
    "        if (check_rot(ind_gate, simplifier.translator) is True) and (check_cnot(ind_gate_p1, simplifier.translator) is True):\n",
    "            type_0 = type_get(ind_gate, simplifier.translator)\n",
    "            control, target = simplifier.translator.indexed_cnots[str(ind_gate_p1)]\n",
    "\n",
    "            this_qubit = q\n",
    "            other_qubits = [control, target]\n",
    "            other_qubits.remove(q)\n",
    "            other_qubit = other_qubits[0]\n",
    "\n",
    "            ### now it happens two interesting things: type0 == 0 AND q == control\n",
    "            ### or type_0 == 1 AND q == target  then swap orders\n",
    "            if ((type_0 == 0) and (q == control)) or ((type_0 == 1) and (q == target)):\n",
    "                if len(on_qubit_order[q]) <2:\n",
    "                    simplification=False\n",
    "                else:\n",
    "                    simplification = True\n",
    "                    my_info = q, order_gate_on_qubit\n",
    "                    ###now we swap the order in which we apply the rotation and the CNOT.\n",
    "                    index_rot = on_qubit_order[q][order_gate_on_qubit]\n",
    "                    info_rot = simplified_db.loc[index_rot].copy()\n",
    "                    break"
   ]
  },
  {
   "cell_type": "code",
   "execution_count": 39,
   "id": "typical-binding",
   "metadata": {},
   "outputs": [],
   "source": [
    "q, order_gate_on_qubit = my_info"
   ]
  },
  {
   "cell_type": "code",
   "execution_count": 32,
   "id": "overhead-vault",
   "metadata": {},
   "outputs": [
    {
     "data": {
      "text/plain": [
       "(0, 1)"
      ]
     },
     "execution_count": 32,
     "metadata": {},
     "output_type": "execute_result"
    }
   ],
   "source": [
    "my_info"
   ]
  },
  {
   "cell_type": "code",
   "execution_count": null,
   "id": "diverse-sharp",
   "metadata": {},
   "outputs": [],
   "source": [
    "simplified_db = simplified_db.drop(labels=[index_rot],axis=0)#\n",
    "\n",
    "simplified_db.loc[on_qubit_order[q][order_gate_on_qubit+1 ] + 0.1] = info_rot\n",
    "simplified_db = simplified_db.sort_index().reset_index(drop=True)\n",
    "simplified_db = order_symbol_labels(simplified_db)"
   ]
  },
  {
   "cell_type": "code",
   "execution_count": 36,
   "id": "important-oregon",
   "metadata": {},
   "outputs": [],
   "source": [
    "simplified_db = simplified_db.drop(labels=[index_rot],axis=0)#"
   ]
  },
  {
   "cell_type": "code",
   "execution_count": 40,
   "id": "devoted-helping",
   "metadata": {},
   "outputs": [],
   "source": [
    "simplified_db.loc[on_qubit_order[q][order_gate_on_qubit+1 ] + 0.1] = info_rot"
   ]
  },
  {
   "cell_type": "code",
   "execution_count": 45,
   "id": "through-astronomy",
   "metadata": {},
   "outputs": [],
   "source": [
    "simplified_db1 = simplified_db.sort_index().reset_index(drop=True)\n"
   ]
  },
  {
   "cell_type": "code",
   "execution_count": 48,
   "id": "sealed-anatomy",
   "metadata": {},
   "outputs": [],
   "source": [
    "ss = order_symbol_labels(simplified_db1)"
   ]
  },
  {
   "cell_type": "code",
   "execution_count": 49,
   "id": "institutional-creature",
   "metadata": {},
   "outputs": [
    {
     "data": {
      "text/html": [
       "<div>\n",
       "<style scoped>\n",
       "    .dataframe tbody tr th:only-of-type {\n",
       "        vertical-align: middle;\n",
       "    }\n",
       "\n",
       "    .dataframe tbody tr th {\n",
       "        vertical-align: top;\n",
       "    }\n",
       "\n",
       "    .dataframe thead th {\n",
       "        text-align: right;\n",
       "    }\n",
       "</style>\n",
       "<table border=\"1\" class=\"dataframe\">\n",
       "  <thead>\n",
       "    <tr style=\"text-align: right;\">\n",
       "      <th></th>\n",
       "      <th>ind</th>\n",
       "      <th>symbol</th>\n",
       "      <th>param_value</th>\n",
       "      <th>trainable</th>\n",
       "      <th>block_id</th>\n",
       "    </tr>\n",
       "  </thead>\n",
       "  <tbody>\n",
       "    <tr>\n",
       "      <th>0</th>\n",
       "      <td>0</td>\n",
       "      <td>None</td>\n",
       "      <td>NaN</td>\n",
       "      <td>True</td>\n",
       "      <td>0</td>\n",
       "    </tr>\n",
       "    <tr>\n",
       "      <th>1</th>\n",
       "      <td>17</td>\n",
       "      <td>th_0</td>\n",
       "      <td>0.183191</td>\n",
       "      <td>True</td>\n",
       "      <td>0</td>\n",
       "    </tr>\n",
       "    <tr>\n",
       "      <th>2</th>\n",
       "      <td>1</td>\n",
       "      <td>None</td>\n",
       "      <td>NaN</td>\n",
       "      <td>True</td>\n",
       "      <td>0</td>\n",
       "    </tr>\n",
       "    <tr>\n",
       "      <th>3</th>\n",
       "      <td>12</td>\n",
       "      <td>th_1</td>\n",
       "      <td>0.289406</td>\n",
       "      <td>True</td>\n",
       "      <td>0</td>\n",
       "    </tr>\n",
       "    <tr>\n",
       "      <th>4</th>\n",
       "      <td>12</td>\n",
       "      <td>th_2</td>\n",
       "      <td>0.586513</td>\n",
       "      <td>True</td>\n",
       "      <td>0</td>\n",
       "    </tr>\n",
       "    <tr>\n",
       "      <th>5</th>\n",
       "      <td>18</td>\n",
       "      <td>th_3</td>\n",
       "      <td>0.020108</td>\n",
       "      <td>True</td>\n",
       "      <td>0</td>\n",
       "    </tr>\n",
       "    <tr>\n",
       "      <th>6</th>\n",
       "      <td>2</td>\n",
       "      <td>None</td>\n",
       "      <td>NaN</td>\n",
       "      <td>True</td>\n",
       "      <td>0</td>\n",
       "    </tr>\n",
       "    <tr>\n",
       "      <th>7</th>\n",
       "      <td>12</td>\n",
       "      <td>th_4</td>\n",
       "      <td>0.828940</td>\n",
       "      <td>True</td>\n",
       "      <td>0</td>\n",
       "    </tr>\n",
       "    <tr>\n",
       "      <th>8</th>\n",
       "      <td>19</td>\n",
       "      <td>th_5</td>\n",
       "      <td>0.004695</td>\n",
       "      <td>True</td>\n",
       "      <td>0</td>\n",
       "    </tr>\n",
       "    <tr>\n",
       "      <th>9</th>\n",
       "      <td>16</td>\n",
       "      <td>th_6</td>\n",
       "      <td>0.000000</td>\n",
       "      <td>True</td>\n",
       "      <td>0</td>\n",
       "    </tr>\n",
       "    <tr>\n",
       "      <th>10</th>\n",
       "      <td>17</td>\n",
       "      <td>th_7</td>\n",
       "      <td>0.000000</td>\n",
       "      <td>True</td>\n",
       "      <td>0</td>\n",
       "    </tr>\n",
       "    <tr>\n",
       "      <th>11</th>\n",
       "      <td>18</td>\n",
       "      <td>th_8</td>\n",
       "      <td>0.000000</td>\n",
       "      <td>True</td>\n",
       "      <td>0</td>\n",
       "    </tr>\n",
       "    <tr>\n",
       "      <th>12</th>\n",
       "      <td>19</td>\n",
       "      <td>th_9</td>\n",
       "      <td>0.000000</td>\n",
       "      <td>True</td>\n",
       "      <td>0</td>\n",
       "    </tr>\n",
       "  </tbody>\n",
       "</table>\n",
       "</div>"
      ],
      "text/plain": [
       "    ind symbol  param_value  trainable  block_id\n",
       "0     0   None          NaN       True         0\n",
       "1    17   th_0     0.183191       True         0\n",
       "2     1   None          NaN       True         0\n",
       "3    12   th_1     0.289406       True         0\n",
       "4    12   th_2     0.586513       True         0\n",
       "5    18   th_3     0.020108       True         0\n",
       "6     2   None          NaN       True         0\n",
       "7    12   th_4     0.828940       True         0\n",
       "8    19   th_5     0.004695       True         0\n",
       "9    16   th_6     0.000000       True         0\n",
       "10   17   th_7     0.000000       True         0\n",
       "11   18   th_8     0.000000       True         0\n",
       "12   19   th_9     0.000000       True         0"
      ]
     },
     "execution_count": 49,
     "metadata": {},
     "output_type": "execute_result"
    }
   ],
   "source": [
    "ss"
   ]
  },
  {
   "cell_type": "code",
   "execution_count": 52,
   "id": "actual-catalyst",
   "metadata": {},
   "outputs": [
    {
     "data": {
      "text/plain": [
       "False"
      ]
     },
     "execution_count": 52,
     "metadata": {},
     "output_type": "execute_result"
    }
   ],
   "source": [
    "check_symbols_ordered(simplified_db)"
   ]
  },
  {
   "cell_type": "code",
   "execution_count": 51,
   "id": "painted-oracle",
   "metadata": {},
   "outputs": [
    {
     "data": {
      "text/html": [
       "<div>\n",
       "<style scoped>\n",
       "    .dataframe tbody tr th:only-of-type {\n",
       "        vertical-align: middle;\n",
       "    }\n",
       "\n",
       "    .dataframe tbody tr th {\n",
       "        vertical-align: top;\n",
       "    }\n",
       "\n",
       "    .dataframe thead th {\n",
       "        text-align: right;\n",
       "    }\n",
       "</style>\n",
       "<table border=\"1\" class=\"dataframe\">\n",
       "  <thead>\n",
       "    <tr style=\"text-align: right;\">\n",
       "      <th></th>\n",
       "      <th>ind</th>\n",
       "      <th>symbol</th>\n",
       "      <th>param_value</th>\n",
       "      <th>trainable</th>\n",
       "      <th>block_id</th>\n",
       "    </tr>\n",
       "  </thead>\n",
       "  <tbody>\n",
       "    <tr>\n",
       "      <th>0</th>\n",
       "      <td>0</td>\n",
       "      <td>None</td>\n",
       "      <td>NaN</td>\n",
       "      <td>True</td>\n",
       "      <td>0</td>\n",
       "    </tr>\n",
       "    <tr>\n",
       "      <th>1</th>\n",
       "      <td>12</td>\n",
       "      <td>th_0</td>\n",
       "      <td>0.289406</td>\n",
       "      <td>True</td>\n",
       "      <td>0</td>\n",
       "    </tr>\n",
       "    <tr>\n",
       "      <th>2</th>\n",
       "      <td>17</td>\n",
       "      <td>th_1</td>\n",
       "      <td>0.183191</td>\n",
       "      <td>True</td>\n",
       "      <td>0</td>\n",
       "    </tr>\n",
       "    <tr>\n",
       "      <th>3</th>\n",
       "      <td>1</td>\n",
       "      <td>None</td>\n",
       "      <td>NaN</td>\n",
       "      <td>True</td>\n",
       "      <td>0</td>\n",
       "    </tr>\n",
       "    <tr>\n",
       "      <th>4</th>\n",
       "      <td>12</td>\n",
       "      <td>th_2</td>\n",
       "      <td>0.586513</td>\n",
       "      <td>True</td>\n",
       "      <td>0</td>\n",
       "    </tr>\n",
       "    <tr>\n",
       "      <th>5</th>\n",
       "      <td>18</td>\n",
       "      <td>th_3</td>\n",
       "      <td>0.020108</td>\n",
       "      <td>True</td>\n",
       "      <td>0</td>\n",
       "    </tr>\n",
       "    <tr>\n",
       "      <th>6</th>\n",
       "      <td>2</td>\n",
       "      <td>None</td>\n",
       "      <td>NaN</td>\n",
       "      <td>True</td>\n",
       "      <td>0</td>\n",
       "    </tr>\n",
       "    <tr>\n",
       "      <th>7</th>\n",
       "      <td>12</td>\n",
       "      <td>th_4</td>\n",
       "      <td>0.828940</td>\n",
       "      <td>True</td>\n",
       "      <td>0</td>\n",
       "    </tr>\n",
       "    <tr>\n",
       "      <th>8</th>\n",
       "      <td>19</td>\n",
       "      <td>th_5</td>\n",
       "      <td>0.004695</td>\n",
       "      <td>True</td>\n",
       "      <td>0</td>\n",
       "    </tr>\n",
       "    <tr>\n",
       "      <th>9</th>\n",
       "      <td>16</td>\n",
       "      <td>th_6</td>\n",
       "      <td>0.000000</td>\n",
       "      <td>True</td>\n",
       "      <td>0</td>\n",
       "    </tr>\n",
       "    <tr>\n",
       "      <th>10</th>\n",
       "      <td>17</td>\n",
       "      <td>th_7</td>\n",
       "      <td>0.000000</td>\n",
       "      <td>True</td>\n",
       "      <td>0</td>\n",
       "    </tr>\n",
       "    <tr>\n",
       "      <th>11</th>\n",
       "      <td>18</td>\n",
       "      <td>th_8</td>\n",
       "      <td>0.000000</td>\n",
       "      <td>True</td>\n",
       "      <td>0</td>\n",
       "    </tr>\n",
       "    <tr>\n",
       "      <th>12</th>\n",
       "      <td>19</td>\n",
       "      <td>th_9</td>\n",
       "      <td>0.000000</td>\n",
       "      <td>True</td>\n",
       "      <td>0</td>\n",
       "    </tr>\n",
       "  </tbody>\n",
       "</table>\n",
       "</div>"
      ],
      "text/plain": [
       "    ind symbol  param_value  trainable  block_id\n",
       "0     0   None          NaN       True         0\n",
       "1    12   th_0     0.289406       True         0\n",
       "2    17   th_1     0.183191       True         0\n",
       "3     1   None          NaN       True         0\n",
       "4    12   th_2     0.586513       True         0\n",
       "5    18   th_3     0.020108       True         0\n",
       "6     2   None          NaN       True         0\n",
       "7    12   th_4     0.828940       True         0\n",
       "8    19   th_5     0.004695       True         0\n",
       "9    16   th_6     0.000000       True         0\n",
       "10   17   th_7     0.000000       True         0\n",
       "11   18   th_8     0.000000       True         0\n",
       "12   19   th_9     0.000000       True         0"
      ]
     },
     "execution_count": 51,
     "metadata": {},
     "output_type": "execute_result"
    }
   ],
   "source": [
    "circuit_db"
   ]
  },
  {
   "cell_type": "code",
   "execution_count": null,
   "id": "entitled-mobility",
   "metadata": {},
   "outputs": [],
   "source": []
  },
  {
   "cell_type": "code",
   "execution_count": 23,
   "id": "equivalent-fundamental",
   "metadata": {},
   "outputs": [
    {
     "name": "stdout",
     "output_type": "stream",
     "text": [
      "\n",
      "\n",
      "0.1922517703919343\n",
      "                          ┌─────────┐              ┌─────────┐\n",
      "(0, 0): ───@───Rz(th_0)────@────────────Rz(th_2)────@────────────Rz(th_4)───Rx(th_6)───\n",
      "           │               │                        │\n",
      "(0, 1): ───X───Rx(th_1)────┼Rx(th_7)────────────────┼──────────────────────────────────\n",
      "                           │                        │\n",
      "(0, 2): ───────────────────X────────────Rx(th_3)────┼Rx(th_8)──────────────────────────\n",
      "                                                    │\n",
      "(0, 3): ────────────────────────────────────────────X────────────Rx(th_5)───Rx(th_9)───\n",
      "                          └─────────┘              └─────────┘\n",
      "\n",
      "                          ┌─────────┐   ┌─────────┐\n",
      "(0, 0): ───Rx(th_0)───@────────────@─────────────@────Rz(th_6)───Rz(th_7)───Rz(th_8)───\n",
      "                      │            │             │\n",
      "(0, 1): ──────────────X────Rx(th_1)┼─────Rx(th_2)┼─────────────────────────────────────\n",
      "                                   │             │\n",
      "(0, 2): ───────────────────────────X─────Rx(th_3)┼────Rx(th_4)─────────────────────────\n",
      "                                                 │\n",
      "(0, 3): ─────────────────────────────────────────X────Rx(th_5)───Rx(th_9)──────────────\n",
      "                          └─────────┘   └─────────┘\n"
     ]
    }
   ],
   "source": [
    "mdif = max_diff(translator , circuit_db, simplified_db)\n",
    "print(\"\\n\")\n",
    "print(mdif)\n",
    "print(c)\n",
    "print()\n",
    "print(ss)"
   ]
  },
  {
   "cell_type": "markdown",
   "id": "willing-aluminum",
   "metadata": {},
   "source": [
    "THE PROBLEM IS RULE 6 !!! \n",
    "come on!"
   ]
  }
 ],
 "metadata": {
  "kernelspec": {
   "display_name": "Python 3",
   "language": "python",
   "name": "python3"
  },
  "language_info": {
   "codemirror_mode": {
    "name": "ipython",
    "version": 3
   },
   "file_extension": ".py",
   "mimetype": "text/x-python",
   "name": "python",
   "nbconvert_exporter": "python",
   "pygments_lexer": "ipython3",
   "version": "3.6.9"
  }
 },
 "nbformat": 4,
 "nbformat_minor": 5
}
