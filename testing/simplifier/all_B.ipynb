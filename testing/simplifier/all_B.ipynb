{
 "cells": [
  {
   "cell_type": "markdown",
   "id": "israeli-cathedral",
   "metadata": {},
   "source": [
    "In this notebook we give a proof of concept of unitary compiling using TFQ. "
   ]
  },
  {
   "cell_type": "code",
   "execution_count": 2,
   "id": "cleared-explorer",
   "metadata": {},
   "outputs": [
    {
     "name": "stdout",
     "output_type": "stream",
     "text": [
      "The autoreload extension is already loaded. To reload it, use:\n",
      "  %reload_ext autoreload\n"
     ]
    }
   ],
   "source": [
    "%load_ext autoreload\n",
    "%autoreload 2\n",
    "\n",
    "import sympy \n",
    "import numpy as np \n",
    "import pandas as pd \n",
    "import tensorflow as tf\n",
    "from utilities.circuit_database import CirqTranslater\n",
    "from utilities.templates import *\n",
    "from utilities.variational import Minimizer\n",
    "from utilities.misc import get_qubits_involved, reindex_symbol, shift_symbols_down\n",
    "import matplotlib.pyplot as plt \n",
    "import tensorflow_quantum as tfq\n",
    "import cirq\n",
    "from utilities.compiling import *\n",
    "from utilities.misc import *\n",
    "from utilities.simplifier import Simplifier\n",
    "from utilities.discrimination import *\n",
    "from utilities.idinserter import IdInserter\n",
    "from utilities.evaluator import Evaluator\n",
    "from utilities.gate_killer import GateKiller\n",
    "from ast import literal_eval\n"
   ]
  },
  {
   "cell_type": "code",
   "execution_count": 3,
   "id": "coastal-dividend",
   "metadata": {},
   "outputs": [],
   "source": [
    "np.random.seed(0)\n",
    "translator = CirqTranslater(4, untouchable_blocks = [])\n",
    "\n",
    "translator.env_qubits = [2]\n",
    "\n",
    "simplifier = Simplifier(translator)\n",
    "etas = [0.01, 1.]\n",
    "minimizer = Minimizer(translator, mode=\"discrimination\", params=etas)"
   ]
  },
  {
   "cell_type": "code",
   "execution_count": 5,
   "id": "administrative-aquatic",
   "metadata": {},
   "outputs": [],
   "source": [
    "circuit_db = concatenate_dbs([u2_layer(translator)]*4)"
   ]
  },
  {
   "cell_type": "code",
   "execution_count": 9,
   "id": "canadian-privilege",
   "metadata": {},
   "outputs": [],
   "source": [
    "circuit, circuit_db = translator.give_circuit(circuit_db)"
   ]
  },
  {
   "cell_type": "code",
   "execution_count": 10,
   "id": "great-voluntary",
   "metadata": {},
   "outputs": [
    {
     "name": "stdout",
     "output_type": "stream",
     "text": [
      "<bound method Simplifier.rule_4 of <utilities.simplifier.Simplifier object at 0x7fdc13be54e0>>\n",
      "<bound method Simplifier.rule_4 of <utilities.simplifier.Simplifier object at 0x7fdc13be54e0>>\n",
      "<bound method Simplifier.rule_4 of <utilities.simplifier.Simplifier object at 0x7fdc13be54e0>>\n",
      "<bound method Simplifier.rule_4 of <utilities.simplifier.Simplifier object at 0x7fdc13be54e0>>\n",
      "<bound method Simplifier.rule_4 of <utilities.simplifier.Simplifier object at 0x7fdc13be54e0>>\n",
      "<bound method Simplifier.rule_4 of <utilities.simplifier.Simplifier object at 0x7fdc13be54e0>>\n",
      "<bound method Simplifier.rule_4 of <utilities.simplifier.Simplifier object at 0x7fdc13be54e0>>\n",
      "<bound method Simplifier.rule_4 of <utilities.simplifier.Simplifier object at 0x7fdc13be54e0>>\n",
      "hey, i'm still simplifying, cnt8\n",
      "<bound method Simplifier.rule_4 of <utilities.simplifier.Simplifier object at 0x7fdc13be54e0>>\n",
      "hey, i'm still simplifying, cnt9\n",
      "<bound method Simplifier.rule_4 of <utilities.simplifier.Simplifier object at 0x7fdc13be54e0>>\n",
      "hey, i'm still simplifying, cnt10\n",
      "<bound method Simplifier.rule_4 of <utilities.simplifier.Simplifier object at 0x7fdc13be54e0>>\n",
      "hey, i'm still simplifying, cnt11\n",
      "<bound method Simplifier.rule_4 of <utilities.simplifier.Simplifier object at 0x7fdc13be54e0>>\n",
      "hey, i'm still simplifying, cnt12\n",
      "<bound method Simplifier.rule_4 of <utilities.simplifier.Simplifier object at 0x7fdc13be54e0>>\n",
      "hey, i'm still simplifying, cnt13\n",
      "<bound method Simplifier.rule_4 of <utilities.simplifier.Simplifier object at 0x7fdc13be54e0>>\n",
      "hey, i'm still simplifying, cnt14\n",
      "<bound method Simplifier.rule_4 of <utilities.simplifier.Simplifier object at 0x7fdc13be54e0>>\n",
      "hey, i'm still simplifying, cnt15\n",
      "<bound method Simplifier.rule_5 of <utilities.simplifier.Simplifier object at 0x7fdc13be54e0>>\n",
      "<bound method Simplifier.rule_5 of <utilities.simplifier.Simplifier object at 0x7fdc13be54e0>>\n",
      "<bound method Simplifier.rule_5 of <utilities.simplifier.Simplifier object at 0x7fdc13be54e0>>\n",
      "<bound method Simplifier.rule_5 of <utilities.simplifier.Simplifier object at 0x7fdc13be54e0>>\n",
      "<bound method Simplifier.rule_5 of <utilities.simplifier.Simplifier object at 0x7fdc13be54e0>>\n",
      "<bound method Simplifier.rule_5 of <utilities.simplifier.Simplifier object at 0x7fdc13be54e0>>\n",
      "<bound method Simplifier.rule_5 of <utilities.simplifier.Simplifier object at 0x7fdc13be54e0>>\n",
      "<bound method Simplifier.rule_5 of <utilities.simplifier.Simplifier object at 0x7fdc13be54e0>>\n",
      "hey, i'm still simplifying, cnt8\n",
      "<bound method Simplifier.rule_5 of <utilities.simplifier.Simplifier object at 0x7fdc13be54e0>>\n",
      "hey, i'm still simplifying, cnt9\n",
      "<bound method Simplifier.rule_5 of <utilities.simplifier.Simplifier object at 0x7fdc13be54e0>>\n",
      "hey, i'm still simplifying, cnt10\n",
      "<bound method Simplifier.rule_5 of <utilities.simplifier.Simplifier object at 0x7fdc13be54e0>>\n",
      "hey, i'm still simplifying, cnt11\n",
      "<bound method Simplifier.rule_5 of <utilities.simplifier.Simplifier object at 0x7fdc13be54e0>>\n",
      "hey, i'm still simplifying, cnt12\n",
      "<bound method Simplifier.rule_5 of <utilities.simplifier.Simplifier object at 0x7fdc13be54e0>>\n",
      "hey, i'm still simplifying, cnt13\n",
      "<bound method Simplifier.rule_5 of <utilities.simplifier.Simplifier object at 0x7fdc13be54e0>>\n",
      "hey, i'm still simplifying, cnt14\n",
      "<bound method Simplifier.rule_5 of <utilities.simplifier.Simplifier object at 0x7fdc13be54e0>>\n",
      "hey, i'm still simplifying, cnt15\n",
      "<bound method Simplifier.rule_6 of <utilities.simplifier.Simplifier object at 0x7fdc13be54e0>>\n",
      "<bound method Simplifier.rule_6 of <utilities.simplifier.Simplifier object at 0x7fdc13be54e0>>\n",
      "<bound method Simplifier.rule_6 of <utilities.simplifier.Simplifier object at 0x7fdc13be54e0>>\n",
      "<bound method Simplifier.rule_6 of <utilities.simplifier.Simplifier object at 0x7fdc13be54e0>>\n",
      "<bound method Simplifier.rule_6 of <utilities.simplifier.Simplifier object at 0x7fdc13be54e0>>\n",
      "<bound method Simplifier.rule_6 of <utilities.simplifier.Simplifier object at 0x7fdc13be54e0>>\n",
      "<bound method Simplifier.rule_6 of <utilities.simplifier.Simplifier object at 0x7fdc13be54e0>>\n",
      "<bound method Simplifier.rule_6 of <utilities.simplifier.Simplifier object at 0x7fdc13be54e0>>\n",
      "hey, i'm still simplifying, cnt8\n",
      "<bound method Simplifier.rule_6 of <utilities.simplifier.Simplifier object at 0x7fdc13be54e0>>\n",
      "hey, i'm still simplifying, cnt9\n",
      "<bound method Simplifier.rule_6 of <utilities.simplifier.Simplifier object at 0x7fdc13be54e0>>\n",
      "hey, i'm still simplifying, cnt10\n",
      "<bound method Simplifier.rule_6 of <utilities.simplifier.Simplifier object at 0x7fdc13be54e0>>\n",
      "hey, i'm still simplifying, cnt11\n",
      "<bound method Simplifier.rule_6 of <utilities.simplifier.Simplifier object at 0x7fdc13be54e0>>\n",
      "hey, i'm still simplifying, cnt12\n",
      "<bound method Simplifier.rule_6 of <utilities.simplifier.Simplifier object at 0x7fdc13be54e0>>\n",
      "hey, i'm still simplifying, cnt13\n",
      "<bound method Simplifier.rule_6 of <utilities.simplifier.Simplifier object at 0x7fdc13be54e0>>\n",
      "hey, i'm still simplifying, cnt14\n",
      "<bound method Simplifier.rule_6 of <utilities.simplifier.Simplifier object at 0x7fdc13be54e0>>\n",
      "hey, i'm still simplifying, cnt15\n",
      "\n",
      "\n",
      "0.0002300031485643216\n",
      "(0, 0): ───Rz(th_0)────Rx(th_1)────Rz(th_2)────@───Rz(th_6)───X──────────────@───Rz(th_9)────Rx(th_10)───Rz(th_11)───Rz(th_48)───Rx(th_49)───Rz(th_50)───────────────────────────────────────────────────────────────────────────────────────────────────────────────────────────────────────────────────────────────────────────────────────────────────────────────────────────X───Ry(th_52)───@───Ry(th_53)───X───Rz(th_57)───Rx(th_58)───Rz(th_59)───Rz(th_60)───Rx(th_61)───Rz(th_62)───@───Rz(th_66)───X───────────────@───Rz(th_69)───Rx(th_70)───Rz(th_71)───Rz(th_108)───Rx(th_109)───Rz(th_110)────────────────────────────────────────────────────────────────────────────────────────────────────────────────────────────────────────────────────────────────────────────────────────────────────────────────────────────────────X───Ry(th_112)───@───Ry(th_113)───X───Rz(th_117)───Rx(th_118)───Rz(th_119)───Rz(th_120)───Rx(th_121)───Rz(th_122)───@───Rz(th_126)───X────────────────@───Rz(th_129)───Rx(th_130)───Rz(th_131)───Rz(th_168)───Rx(th_169)───Rz(th_170)───────────────────────────────────────────────────────────────────────────────────────────────────────────────────────────────────────────────────────────────────────────────────────────────────────────────────────────────────────────X───Ry(th_172)───@───Ry(th_173)───X───Rz(th_177)───Rx(th_178)───Rz(th_179)───Rz(th_180)───Rx(th_181)───Rz(th_182)───@───Rz(th_186)───X────────────────@───Rz(th_189)───Rx(th_190)───Rz(th_191)───Rz(th_228)───Rx(th_229)───Rz(th_230)───────────────────────────────────────────────────────────────────────────────────────────────────────────────────────────────────────────────────────────────────────────────────────────────────────────────────────────────────────────X───Ry(th_232)───@───Ry(th_233)───X───Rz(th_237)───Rx(th_238)───Rz(th_239)───\n",
      "                                               │              │              │                                                                                                                                                                                                                                                                                                   │               │               │                                                                           │               │               │                                                                                                                                                                                                                                                                                                               │                │                │                                                                                 │                │                │                                                                                                                                                                                                                                                                                                                         │                │                │                                                                                 │                │                │                                                                                                                                                                                                                                                                                                                         │                │                │\n",
      "(0, 1): ───Rz(th_3)────Rx(th_4)────Rz(th_5)────X───Ry(th_7)───@───Ry(th_8)───X───Rz(th_12)───Rx(th_13)───Rz(th_14)───Rz(th_15)───Rx(th_16)───Rz(th_17)───@───Rz(th_21)───X───────────────@───Rz(th_24)───Rx(th_25)───Rz(th_26)───Rz(th_63)───Rx(th_64)───Rz(th_65)───────────────────────────────────────────────────────────────────────────────────────────────────────────────┼───────────────┼───────────────┼───────────────────────────────────────────────────────────────────────────X───Ry(th_67)───@───Ry(th_68)───X───Rz(th_72)───Rx(th_73)───Rz(th_74)───Rz(th_75)────Rx(th_76)────Rz(th_77)────@───Rz(th_81)───X───────────────@───Rz(th_84)───Rx(th_85)───Rz(th_86)───Rz(th_123)───Rx(th_124)───Rz(th_125)─────────────────────────────────────────────────────────────────────────────────────────────────────────────────────┼────────────────┼────────────────┼─────────────────────────────────────────────────────────────────────────────────X───Ry(th_127)───@───Ry(th_128)───X───Rz(th_132)───Rx(th_133)───Rz(th_134)───Rz(th_135)───Rx(th_136)───Rz(th_137)───@───Rz(th_141)───X────────────────@───Rz(th_144)───Rx(th_145)───Rz(th_146)───Rz(th_183)───Rx(th_184)───Rz(th_185)───────────────────────────────────────────────────────────────────────────────────────────────────────────────────────┼────────────────┼────────────────┼─────────────────────────────────────────────────────────────────────────────────X───Ry(th_187)───@───Ry(th_188)───X───Rz(th_192)───Rx(th_193)───Rz(th_194)───Rz(th_195)───Rx(th_196)───Rz(th_197)───@───Rz(th_201)───X────────────────@───Rz(th_204)───Rx(th_205)───Rz(th_206)──────────────────────────────────────────────────────────────────────────────────────────────────────────────────────────────────────────────────────────────┼────────────────┼────────────────┼──────────────────────────────────────────\n",
      "                                                                                                                                                         │               │               │                                                                                                                                                                                       │               │               │                                                                                                                                                                                          │               │               │                                                                                                                                                                                                │                │                │                                                                                                                                                                                                     │                │                │                                                                                                                                                                                                     │                │                │                                                                                                                                                                                                     │                │                │                                                                                                                                                                                                     │                │                │\n",
      "(0, 2): ───Rz(th_18)───Rx(th_19)───Rz(th_20)─────────────────────────────────────────────────────────────────────────────────────────────────────────────X───Ry(th_22)───@───Ry(th_23)───X───Rz(th_27)───Rx(th_28)───Rz(th_29)───Rz(th_30)───Rx(th_31)───Rz(th_32)───@───Rz(th_36)───X───────────────@───Rz(th_39)───Rx(th_40)───Rz(th_41)───Rz(th_78)───Rx(th_79)───Rz(th_80)───┼───────────────┼───────────────┼──────────────────────────────────────────────────────────────────────────────────────────────────────────────────────────────────────────────────────────────────────────────────────────X───Ry(th_82)───@───Ry(th_83)───X───Rz(th_87)───Rx(th_88)───Rz(th_89)───Rz(th_90)────Rx(th_91)────Rz(th_92)────@───Rz(th_96)───X───────────────@───Rz(th_99)────Rx(th_100)───Rz(th_101)───Rz(th_138)───Rx(th_139)───Rz(th_140)───┼────────────────┼────────────────┼─────────────────────────────────────────────────────────────────────────────────────────────────────────────────────────────────────────────────────────────────────────────────────────────────────X───Ry(th_142)───@───Ry(th_143)───X───Rz(th_147)───Rx(th_148)───Rz(th_149)───Rz(th_150)───Rx(th_151)───Rz(th_152)───@───Rz(th_156)───X────────────────@───Rz(th_159)───Rx(th_160)───Rz(th_161)───Rz(th_198)───Rx(th_199)───Rz(th_200)───┼────────────────┼────────────────┼─────────────────────────────────────────────────────────────────────────────────────────────────────────────────────────────────────────────────────────────────────────────────────────────────────X───Ry(th_202)───@───Ry(th_203)───X───Rz(th_207)───Rx(th_208)───Rz(th_209)───Rz(th_210)───Rx(th_211)───Rz(th_212)───@───Rz(th_216)───X────────────────@───Rz(th_219)───Rx(th_220)───Rz(th_221)──────────────────────────────────────────┼────────────────┼────────────────┼──────────────────────────────────────────\n",
      "                                                                                                                                                                                                                                                                     │               │               │                                                                           │               │               │                                                                                                                                                                                                                                                                                                         │               │               │                                                                                 │                │                │                                                                                                                                                                                                                                                                                                                         │                │                │                                                                                 │                │                │                                                                                                                                                                                                                                                                                                                         │                │                │                                                                                 │                │                │\n",
      "(0, 3): ───Rz(th_33)───Rx(th_34)───Rz(th_35)─────────────────────────────────────────────────────────────────────────────────────────────────────────────────────────────────────────────────────────────────────────────────────────────────────────────────────────X───Ry(th_37)───@───Ry(th_38)───X───Rz(th_42)───Rx(th_43)───Rz(th_44)───Rz(th_45)───Rx(th_46)───Rz(th_47)───@───Rz(th_51)───X───────────────@───Rz(th_54)───Rx(th_55)───Rz(th_56)───Rz(th_93)───Rx(th_94)───Rz(th_95)─────────────────────────────────────────────────────────────────────────────────────────────────────────────────────────────────────────────────────────────────────────────────────────────────────────────────────────────────X───Ry(th_97)───@───Ry(th_98)───X───Rz(th_102)───Rx(th_103)───Rz(th_104)───Rz(th_105)───Rx(th_106)───Rz(th_107)───@───Rz(th_111)───X────────────────@───Rz(th_114)───Rx(th_115)───Rz(th_116)───Rz(th_153)───Rx(th_154)───Rz(th_155)───────────────────────────────────────────────────────────────────────────────────────────────────────────────────────────────────────────────────────────────────────────────────────────────────────────────────────────────────────────X───Ry(th_157)───@───Ry(th_158)───X───Rz(th_162)───Rx(th_163)───Rz(th_164)───Rz(th_165)───Rx(th_166)───Rz(th_167)───@───Rz(th_171)───X────────────────@───Rz(th_174)───Rx(th_175)───Rz(th_176)───Rz(th_213)───Rx(th_214)───Rz(th_215)───────────────────────────────────────────────────────────────────────────────────────────────────────────────────────────────────────────────────────────────────────────────────────────────────────────────────────────────────────────X───Ry(th_217)───@───Ry(th_218)───X───Rz(th_222)───Rx(th_223)───Rz(th_224)───Rz(th_225)───Rx(th_226)───Rz(th_227)───@───Rz(th_231)───X────────────────@───Rz(th_234)───Rx(th_235)───Rz(th_236)───\n",
      "\n",
      "                                                                                                                                                                                                                                                                                                                        ┌──────────┐                                                                                                                                                                                                                                                                                                                                                                                                 ┌───────────┐                                                                                                                                                                                                                                                                                                                                                                                                                      ┌───────────┐\n",
      "(0, 0): ───Rz(th_0)────Rx(th_1)────────────────@───Rz(th_5)───Rz(th_6)───X──────────────@───Rz(th_9)────Rx(th_10)───Rz(th_39)────────────────────────────────────────────────────────────────────────────────────────────────────────────────────────────────────────────────────────────────────────────────────────────X─────────────Ry(th_42)───────────────@───Ry(th_43)───X───Rz(th_47)───Rx(th_48)───@───────────Rz(th_50)───Rz(th_51)───X───────────────────────@───Rz(th_54)───Rx(th_55)───Rz(th_87)──────────────────────────────────────────────────────────────────────────────────────────────────────────────────────────────────────────────────────────────────────────────────────────────────────────────────────────X──────────────Ry(th_90)───────────────@───Ry(th_91)───X───Rz(th_95)───Rx(th_96)───@───────────Rz(th_98)────Rz(th_99)────X─────────────────────────@───Rz(th_102)───Rx(th_103)───Rz(th_135)────────────────────────────────────────────────────────────────────────────────────────────────────────────────────────────────────────────────────────────────────────────────────────────────────────────────────────────────────────X──────────────Ry(th_138)────────────────@───Ry(th_139)───X───Rz(th_143)───Rx(th_144)───@────────────Rz(th_146)───Rz(th_147)───X─────────────────────────@───Rz(th_150)───Rx(th_151)───Rz(th_185)────────────────────────────────────────────────────────────────────────────────────────────────────────────────────────────────────────────────────────────────────────────────────────────────────────────────────────────────────────────────────X───Ry(th_187)───@───Ry(th_188)───X───Rz(th_192)───Rx(th_193)───Rz(th_194)───\n",
      "                                               │                         │              │                                                                                                                                                                                                                                │                                     │               │                           │                                   │                       │                                                                                                                                                                                                                                                              │                                      │               │                           │                                     │                         │                                                                                                                                                                                                                                                                               │                                        │                │                             │                                      │                         │                                                                                                                                                                                                                                                                                           │                │                │\n",
      "(0, 1): ───Rz(th_2)────Rx(th_3)────Rz(th_4)────X───Ry(th_7)──────────────@───Ry(th_8)───X───Rz(th_11)───Rx(th_12)───@───────────Rz(th_16)───Rz(th_17)───X───────────────@───Rz(th_20)───Rx(th_21)───Rz(th_49)────────────────────────────────────────────────────────────────────────────────────────────────────────────┼─────────────────────────────────────┼───────────────┼───────────────────────────X───────────Ry(th_52)───────────────@───────────Ry(th_53)───X───Rz(th_56)───Rx(th_57)───@───────────Rz(th_61)───Rz(th_62)───X───────────────@───Rz(th_65)───Rx(th_66)───Rz(th_97)──────────────────────────────────────────────────────────────────────────────────────────────────────────────────────────────────────────┼──────────────────────────────────────┼───────────────┼───────────────────────────X───────────Ry(th_100)────────────────@────────────Ry(th_101)───X───Rz(th_104)───Rx(th_105)───@────────────Rz(th_109)───Rz(th_110)───X────────────────@───Rz(th_113)───Rx(th_114)───Rz(th_145)──────────────────────────────────────────────────────────────────────────────────────────────────────────────────────────────────────────────────┼────────────────────────────────────────┼────────────────┼─────────────────────────────X────────────Ry(th_148)────────────────@────────────Ry(th_149)───X───Rz(th_152)───Rx(th_153)───@────────────Rz(th_157)───Rz(th_158)───X────────────────@───Rz(th_161)───Rx(th_162)───Rz(th_163)──────────────────────────────────────────────────────────────────────────────────────────────────────────────────────────────────────────────────────────────┼────────────────┼────────────────┼──────────────────────────────────────────\n",
      "                                                                                                                    │                                   │               │                                                                                                                                                │                                     │               │                                                                                                                   │                                   │               │                                                                                                                                                                              │                                      │               │                                                                                                                         │                                      │                │                                                                                                                                                                                         │                                        │                │                                                                                                                            │                                      │                │                                                                                                                                                                                                     │                │                │\n",
      "(0, 2): ───Rz(th_13)───Rx(th_14)───Rz(th_15)────────────────────────────────────────────────────────────────────────X───────────Ry(th_18)───────────────@───Ry(th_19)───X───Rz(th_22)───Rx(th_23)───@───────────Rz(th_27)───Rz(th_28)───X───────────────@───Rz(th_31)───Rx(th_32)───Rz(th_33)───Rz(th_58)───Rx(th_59)────┼Rz(th_60)────────────────────────────┼───────────────┼───────────────────────────────────────────────────────────────────────────────────────────────────────────────────X───────────Ry(th_63)───────────────@───Ry(th_64)───X───Rz(th_67)───Rx(th_68)───Rz(th_69)───Rz(th_70)───Rx(th_71)───@───Rz(th_75)───Rz(th_76)───X───────────────@───Rz(th_79)───Rx(th_80)───Rz(th_81)───Rz(th_106)───Rx(th_107)────┼Rz(th_108)────────────────────────────┼───────────────┼─────────────────────────────────────────────────────────────────────────────────────────────────────────────────────────X────────────Ry(th_111)────────────────@───Ry(th_112)───X───Rz(th_115)───Rx(th_116)───Rz(th_117)───Rz(th_118)───Rx(th_119)───@───Rz(th_123)───Rz(th_124)───X────────────────@───Rz(th_127)───Rx(th_128)───Rz(th_129)───Rz(th_154)───Rx(th_155)────┼Rz(th_156)──────────────────────────────┼────────────────┼────────────────────────────────────────────────────────────────────────────────────────────────────────────────────────────X────────────Ry(th_159)────────────────@───Ry(th_160)───X───Rz(th_164)───Rx(th_165)───Rz(th_166)───Rz(th_167)───Rx(th_168)───@───Rz(th_172)───Rz(th_173)───X────────────────@───Rz(th_176)───Rx(th_177)───Rz(th_178)──────────────────────────────────────────┼────────────────┼────────────────┼──────────────────────────────────────────\n",
      "                                                                                                                                                                                                    │                                   │               │                                                                │                                     │               │                                                                                                                                                                                                                                       │                           │               │                                                                  │                                      │               │                                                                                                                                                                                                                                                      │                             │                │                                                                     │                                        │                │                                                                                                                                                                                                                                                         │                             │                │                                                                                 │                │                │\n",
      "(0, 3): ───Rz(th_24)───Rx(th_25)───Rz(th_26)────────────────────────────────────────────────────────────────────────────────────────────────────────────────────────────────────────────────────────X───────────Ry(th_29)───────────────@───Ry(th_30)───X───Rz(th_34)───Rx(th_35)───Rz(th_36)───Rz(th_37)───Rx(th_38)────@─────────────Rz(th_40)───Rz(th_41)───X───────────────@───Rz(th_44)───Rx(th_45)───Rz(th_46)───Rz(th_72)───Rx(th_73)───Rz(th_74)───────────────────────────────────────────────────────────────────────────────────────────────────────────────────────────────────────────────────────────────X───Ry(th_77)───────────────@───Ry(th_78)───X───Rz(th_82)───Rx(th_83)───Rz(th_84)───Rz(th_85)────Rx(th_86)─────@──────────────Rz(th_88)───Rz(th_89)───X───────────────@───Rz(th_92)───Rx(th_93)───Rz(th_94)───Rz(th_120)───Rx(th_121)───Rz(th_122)───────────────────────────────────────────────────────────────────────────────────────────────────────────────────────────────────────────────────────────────────────────X───Ry(th_125)────────────────@───Ry(th_126)───X───Rz(th_130)───Rx(th_131)───Rz(th_132)───Rz(th_133)───Rx(th_134)────@──────────────Rz(th_136)───Rz(th_137)───X────────────────@───Rz(th_140)───Rx(th_141)───Rz(th_142)───Rz(th_169)───Rx(th_170)───Rz(th_171)───────────────────────────────────────────────────────────────────────────────────────────────────────────────────────────────────────────────────────────────────────────X───Ry(th_174)────────────────@───Ry(th_175)───X───Rz(th_179)───Rx(th_180)───Rz(th_181)───Rz(th_182)───Rx(th_183)───Rz(th_184)───@───Rz(th_186)───X────────────────@───Rz(th_189)───Rx(th_190)───Rz(th_191)───\n",
      "                                                                                                                                                                                                                                                                                                                        └──────────┘                                                                                                                                                                                                                                                                                                                                                                                                 └───────────┘                                                                                                                                                                                                                                                                                                                                                                                                                      └───────────┘\n"
     ]
    }
   ],
   "source": [
    "simplifier = Simplifier(translator)\n",
    "simplified_db, ns = simplifier.reduce_circuit(circuit_db)\n",
    "ss, simplified_db = translator.give_circuit(simplified_db)\n",
    "\n",
    "mdif = max_diff(translator , circuit_db, simplified_db)\n",
    "print(\"\\n\")\n",
    "print(mdif)\n",
    "print(circuit)\n",
    "print()\n",
    "print(ss)"
   ]
  },
  {
   "cell_type": "code",
   "execution_count": null,
   "id": "ancient-litigation",
   "metadata": {},
   "outputs": [],
   "source": []
  }
 ],
 "metadata": {
  "kernelspec": {
   "display_name": "Python 3",
   "language": "python",
   "name": "python3"
  },
  "language_info": {
   "codemirror_mode": {
    "name": "ipython",
    "version": 3
   },
   "file_extension": ".py",
   "mimetype": "text/x-python",
   "name": "python",
   "nbconvert_exporter": "python",
   "pygments_lexer": "ipython3",
   "version": "3.6.9"
  }
 },
 "nbformat": 4,
 "nbformat_minor": 5
}
