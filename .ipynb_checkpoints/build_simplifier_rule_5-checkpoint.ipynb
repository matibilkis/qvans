{
 "cells": [
  {
   "cell_type": "code",
   "execution_count": 91,
   "id": "cleared-explorer",
   "metadata": {},
   "outputs": [
    {
     "name": "stdout",
     "output_type": "stream",
     "text": [
      "The autoreload extension is already loaded. To reload it, use:\n",
      "  %reload_ext autoreload\n"
     ]
    }
   ],
   "source": [
    "%load_ext autoreload\n",
    "%autoreload 2\n",
    "\n",
    "import sympy \n",
    "import numpy as np \n",
    "import pandas as pd \n",
    "import tensorflow as tf\n",
    "from utilities.circuit_database import CirqTranslater\n",
    "from utilities.templates import *\n",
    "from utilities.variational import Minimizer\n",
    "from utilities.misc import get_qubits_involved, reindex_symbol, shift_symbols_down\n",
    "import matplotlib.pyplot as plt \n"
   ]
  },
  {
   "cell_type": "code",
   "execution_count": 92,
   "id": "private-flower",
   "metadata": {},
   "outputs": [],
   "source": [
    "import tensorflow_quantum as tfq\n",
    "import cirq"
   ]
  },
  {
   "cell_type": "code",
   "execution_count": 93,
   "id": "extensive-elizabeth",
   "metadata": {},
   "outputs": [],
   "source": [
    "translator = CirqTranslater(n_qubits = 2)"
   ]
  },
  {
   "cell_type": "code",
   "execution_count": 94,
   "id": "visible-latitude",
   "metadata": {},
   "outputs": [],
   "source": [
    "qubits = translator.qubits"
   ]
  },
  {
   "cell_type": "code",
   "execution_count": 95,
   "id": "ahead-worst",
   "metadata": {},
   "outputs": [],
   "source": [
    "circuit = cirq.Circuit([cirq.H.on(qubits[0]), cirq.CNOT(qubits[0], qubits[1])])"
   ]
  },
  {
   "cell_type": "code",
   "execution_count": 96,
   "id": "magnetic-ranch",
   "metadata": {},
   "outputs": [],
   "source": [
    "forward_bell = [translator.number_of_cnots + 3*translator.n_qubits + i for i in range(int(translator.n_qubits/2))]\n",
    "forward_bell += [translator.cnots_index[str([k, k+int(translator.n_qubits/2)])] for k in range(int(translator.n_qubits/2))]\n",
    "bell_db = pd.DataFrame([gate_template(k, trainable=False) for k in forward_bell])\n",
    "u1s = u1_db(translator, 0, params=True)\n",
    "backward_bell_db = bell_db[::-1]\n",
    "id_comp = concatenate_dbs([bell_db, u1s, backward_bell_db])"
   ]
  },
  {
   "cell_type": "code",
   "execution_count": 97,
   "id": "cutting-daniel",
   "metadata": {},
   "outputs": [],
   "source": [
    "observable = [cirq.Z.on(q) for q in qubits]"
   ]
  },
  {
   "cell_type": "code",
   "execution_count": 98,
   "id": "polar-folder",
   "metadata": {},
   "outputs": [],
   "source": [
    "class UnitaryCompiler(tf.keras.Model):\n",
    "    def __init__(self, symbols, observable):\n",
    "        super(UnitaryCompiler, self).__init__()\n",
    "        self.symbols = symbols\n",
    "        self.observable = observable\n",
    "        self.expe_layer = tfq.layers.Expectation()\n",
    "        \n",
    "    def call(self, inputs):\n",
    "        feat = inputs\n",
    "        f = self.expe_layer(feat, operators = self.observable, symbol_names = self.symbols)\n",
    "        return tf.math.reduce_sum(f,axis=-1)\n",
    "    \n",
    "class CompilingLoss(tf.keras.losses.Loss):\n",
    "    def __init__(self, mode_var=\"vqe\"):\n",
    "        super(CompilingLoss,self).__init__()\n",
    "        self.mode_var = mode_var\n",
    "    def call(self, y_true, y_pred):\n",
    "        return tf.math.reduce_sum(y_pred,axis=-1)\n"
   ]
  },
  {
   "cell_type": "code",
   "execution_count": 99,
   "id": "enclosed-appearance",
   "metadata": {},
   "outputs": [
    {
     "data": {
      "text/plain": [
       "<tf.Tensor: shape=(1,), dtype=float32, numpy=array([0.0185684], dtype=float32)>"
      ]
     },
     "execution_count": 99,
     "metadata": {},
     "output_type": "execute_result"
    }
   ],
   "source": [
    "model = UnitaryCompiler(symbols = translator.get_symbols(id_comp), observable = observable)\n",
    "\n",
    "model.compile(optimizer = tf.keras.optimizers.Adam(lr=0.01), loss=CompilingLoss())\n",
    "circuit, circuit_db = translator.give_circuit(id_comp)\n",
    "model(tfq.convert_to_tensor([circuit]))"
   ]
  },
  {
   "cell_type": "code",
   "execution_count": 100,
   "id": "extreme-recorder",
   "metadata": {},
   "outputs": [
    {
     "ename": "TypeError",
     "evalue": "super(type, obj): obj must be an instance or subtype of type",
     "output_type": "error",
     "traceback": [
      "\u001b[0;31m---------------------------------------------------------------------------\u001b[0m",
      "\u001b[0;31mTypeError\u001b[0m                                 Traceback (most recent call last)",
      "\u001b[0;32m<ipython-input-100-a63e3e65796c>\u001b[0m in \u001b[0;36m<module>\u001b[0;34m\u001b[0m\n\u001b[1;32m      1\u001b[0m \u001b[0;32mfrom\u001b[0m \u001b[0mutilities\u001b[0m\u001b[0;34m.\u001b[0m\u001b[0mvariational\u001b[0m \u001b[0;32mimport\u001b[0m \u001b[0mMinimizer\u001b[0m\u001b[0;34m\u001b[0m\u001b[0;34m\u001b[0m\u001b[0m\n\u001b[0;32m----> 2\u001b[0;31m \u001b[0mminimizer\u001b[0m \u001b[0;34m=\u001b[0m \u001b[0mMinimizer\u001b[0m\u001b[0;34m(\u001b[0m\u001b[0mtranslator\u001b[0m\u001b[0;34m,\u001b[0m \u001b[0mmode\u001b[0m\u001b[0;34m=\u001b[0m\u001b[0;34m\"vqe\"\u001b[0m\u001b[0;34m,\u001b[0m \u001b[0mhamiltonian\u001b[0m\u001b[0;34m=\u001b[0m\u001b[0;34m\"Z\"\u001b[0m\u001b[0;34m)\u001b[0m\u001b[0;34m\u001b[0m\u001b[0;34m\u001b[0m\u001b[0m\n\u001b[0m",
      "\u001b[0;32m~/Desktop/qvans/utilities/variational.py\u001b[0m in \u001b[0;36m__init__\u001b[0;34m(self, translator, mode, lr, optimizer, epochs, patience, max_time_continuous, parameter_noise, **kwargs)\u001b[0m\n\u001b[1;32m     29\u001b[0m                 \u001b[0mparams\u001b[0m \u001b[0;34m=\u001b[0m \u001b[0mkwargs\u001b[0m\u001b[0;34m.\u001b[0m\u001b[0mget\u001b[0m\u001b[0;34m(\u001b[0m\u001b[0;34m\"params\"\u001b[0m\u001b[0;34m)\u001b[0m\u001b[0;34m\u001b[0m\u001b[0;34m\u001b[0m\u001b[0m\n\u001b[1;32m     30\u001b[0m                 \u001b[0mself\u001b[0m\u001b[0;34m.\u001b[0m\u001b[0mobservable\u001b[0m \u001b[0;34m=\u001b[0m \u001b[0mgive_observable\u001b[0m\u001b[0;34m(\u001b[0m\u001b[0mtranslator\u001b[0m\u001b[0;34m,\u001b[0m\u001b[0mhamiltonian\u001b[0m\u001b[0;34m,\u001b[0m \u001b[0mparams\u001b[0m\u001b[0;34m)\u001b[0m\u001b[0;34m\u001b[0m\u001b[0;34m\u001b[0m\u001b[0m\n\u001b[0;32m---> 31\u001b[0;31m                 \u001b[0mself\u001b[0m\u001b[0;34m.\u001b[0m\u001b[0mloss\u001b[0m \u001b[0;34m=\u001b[0m \u001b[0mEnergyLoss\u001b[0m\u001b[0;34m(\u001b[0m\u001b[0;34m)\u001b[0m\u001b[0;34m\u001b[0m\u001b[0;34m\u001b[0m\u001b[0m\n\u001b[0m\u001b[1;32m     32\u001b[0m                 \u001b[0mself\u001b[0m\u001b[0;34m.\u001b[0m\u001b[0mmodel_class\u001b[0m \u001b[0;34m=\u001b[0m \u001b[0mQNN_VQE\u001b[0m\u001b[0;34m\u001b[0m\u001b[0;34m\u001b[0m\u001b[0m\n\u001b[1;32m     33\u001b[0m                 \u001b[0mself\u001b[0m\u001b[0;34m.\u001b[0m\u001b[0mlower_bound_cost\u001b[0m \u001b[0;34m=\u001b[0m \u001b[0mcompute_lower_bound_cost_vqe\u001b[0m\u001b[0;34m(\u001b[0m\u001b[0mself\u001b[0m\u001b[0;34m)\u001b[0m \u001b[0;31m## this will only work\u001b[0m\u001b[0;34m\u001b[0m\u001b[0;34m\u001b[0m\u001b[0m\n",
      "\u001b[0;32m~/Desktop/qvans/utilities/vqe.py\u001b[0m in \u001b[0;36m__init__\u001b[0;34m(self, mode_var)\u001b[0m\n\u001b[1;32m     75\u001b[0m \u001b[0;32mclass\u001b[0m \u001b[0mEnergyLoss\u001b[0m\u001b[0;34m(\u001b[0m\u001b[0mtf\u001b[0m\u001b[0;34m.\u001b[0m\u001b[0mkeras\u001b[0m\u001b[0;34m.\u001b[0m\u001b[0mlosses\u001b[0m\u001b[0;34m.\u001b[0m\u001b[0mLoss\u001b[0m\u001b[0;34m)\u001b[0m\u001b[0;34m:\u001b[0m\u001b[0;34m\u001b[0m\u001b[0;34m\u001b[0m\u001b[0m\n\u001b[1;32m     76\u001b[0m     \u001b[0;32mdef\u001b[0m \u001b[0m__init__\u001b[0m\u001b[0;34m(\u001b[0m\u001b[0mself\u001b[0m\u001b[0;34m,\u001b[0m \u001b[0mmode_var\u001b[0m\u001b[0;34m=\u001b[0m\u001b[0;34m\"vqe\"\u001b[0m\u001b[0;34m)\u001b[0m\u001b[0;34m:\u001b[0m\u001b[0;34m\u001b[0m\u001b[0;34m\u001b[0m\u001b[0m\n\u001b[0;32m---> 77\u001b[0;31m         \u001b[0msuper\u001b[0m\u001b[0;34m(\u001b[0m\u001b[0mEnergyLoss\u001b[0m\u001b[0;34m,\u001b[0m\u001b[0mself\u001b[0m\u001b[0;34m)\u001b[0m\u001b[0;34m.\u001b[0m\u001b[0m__init__\u001b[0m\u001b[0;34m(\u001b[0m\u001b[0;34m)\u001b[0m\u001b[0;34m\u001b[0m\u001b[0;34m\u001b[0m\u001b[0m\n\u001b[0m\u001b[1;32m     78\u001b[0m         \u001b[0mself\u001b[0m\u001b[0;34m.\u001b[0m\u001b[0mmode_var\u001b[0m \u001b[0;34m=\u001b[0m \u001b[0mmode_var\u001b[0m\u001b[0;34m\u001b[0m\u001b[0;34m\u001b[0m\u001b[0m\n\u001b[1;32m     79\u001b[0m     \u001b[0;32mdef\u001b[0m \u001b[0mcall\u001b[0m\u001b[0;34m(\u001b[0m\u001b[0mself\u001b[0m\u001b[0;34m,\u001b[0m \u001b[0my_true\u001b[0m\u001b[0;34m,\u001b[0m \u001b[0my_pred\u001b[0m\u001b[0;34m)\u001b[0m\u001b[0;34m:\u001b[0m\u001b[0;34m\u001b[0m\u001b[0;34m\u001b[0m\u001b[0m\n",
      "\u001b[0;31mTypeError\u001b[0m: super(type, obj): obj must be an instance or subtype of type"
     ]
    }
   ],
   "source": [
    "from utilities.variational import Minimizer\n",
    "minimizer = Minimizer(translator, mode=\"compiling\", hamiltonian=\"Z\")"
   ]
  },
  {
   "cell_type": "code",
   "execution_count": 90,
   "id": "herbal-envelope",
   "metadata": {},
   "outputs": [
    {
     "ename": "TypeError",
     "evalue": "super(type, obj): obj must be an instance or subtype of type",
     "output_type": "error",
     "traceback": [
      "\u001b[0;31m---------------------------------------------------------------------------\u001b[0m",
      "\u001b[0;31mTypeError\u001b[0m                                 Traceback (most recent call last)",
      "\u001b[0;32m<ipython-input-90-9285735a8fa4>\u001b[0m in \u001b[0;36m<module>\u001b[0;34m\u001b[0m\n\u001b[0;32m----> 1\u001b[0;31m \u001b[0mminimizer\u001b[0m \u001b[0;34m=\u001b[0m \u001b[0mMinimizer\u001b[0m\u001b[0;34m(\u001b[0m\u001b[0mtranslator\u001b[0m\u001b[0;34m,\u001b[0m \u001b[0mmode\u001b[0m\u001b[0;34m=\u001b[0m\u001b[0;34m\"vqe\"\u001b[0m\u001b[0;34m,\u001b[0m \u001b[0mhamiltonian\u001b[0m\u001b[0;34m=\u001b[0m\u001b[0;34m\"Z\"\u001b[0m\u001b[0;34m)\u001b[0m\u001b[0;34m\u001b[0m\u001b[0;34m\u001b[0m\u001b[0m\n\u001b[0m",
      "\u001b[0;32m~/Desktop/qvans/utilities/variational.py\u001b[0m in \u001b[0;36m__init__\u001b[0;34m(self, translator, mode, lr, optimizer, epochs, patience, max_time_continuous, parameter_noise, **kwargs)\u001b[0m\n\u001b[1;32m     29\u001b[0m                 \u001b[0mparams\u001b[0m \u001b[0;34m=\u001b[0m \u001b[0mkwargs\u001b[0m\u001b[0;34m.\u001b[0m\u001b[0mget\u001b[0m\u001b[0;34m(\u001b[0m\u001b[0;34m\"params\"\u001b[0m\u001b[0;34m)\u001b[0m\u001b[0;34m\u001b[0m\u001b[0;34m\u001b[0m\u001b[0m\n\u001b[1;32m     30\u001b[0m                 \u001b[0mself\u001b[0m\u001b[0;34m.\u001b[0m\u001b[0mobservable\u001b[0m \u001b[0;34m=\u001b[0m \u001b[0mgive_observable\u001b[0m\u001b[0;34m(\u001b[0m\u001b[0mtranslator\u001b[0m\u001b[0;34m,\u001b[0m\u001b[0mhamiltonian\u001b[0m\u001b[0;34m,\u001b[0m \u001b[0mparams\u001b[0m\u001b[0;34m)\u001b[0m\u001b[0;34m\u001b[0m\u001b[0;34m\u001b[0m\u001b[0m\n\u001b[0;32m---> 31\u001b[0;31m                 \u001b[0mself\u001b[0m\u001b[0;34m.\u001b[0m\u001b[0mloss\u001b[0m \u001b[0;34m=\u001b[0m \u001b[0mEnergyLoss\u001b[0m\u001b[0;34m(\u001b[0m\u001b[0;34m)\u001b[0m\u001b[0;34m\u001b[0m\u001b[0;34m\u001b[0m\u001b[0m\n\u001b[0m\u001b[1;32m     32\u001b[0m                 \u001b[0mself\u001b[0m\u001b[0;34m.\u001b[0m\u001b[0mmodel_class\u001b[0m \u001b[0;34m=\u001b[0m \u001b[0mQNN_VQE\u001b[0m\u001b[0;34m\u001b[0m\u001b[0;34m\u001b[0m\u001b[0m\n\u001b[1;32m     33\u001b[0m                 \u001b[0mself\u001b[0m\u001b[0;34m.\u001b[0m\u001b[0mlower_bound_cost\u001b[0m \u001b[0;34m=\u001b[0m \u001b[0mcompute_lower_bound_cost_vqe\u001b[0m\u001b[0;34m(\u001b[0m\u001b[0mself\u001b[0m\u001b[0;34m)\u001b[0m \u001b[0;31m## this will only work\u001b[0m\u001b[0;34m\u001b[0m\u001b[0;34m\u001b[0m\u001b[0m\n",
      "\u001b[0;32m~/Desktop/qvans/utilities/vqe.py\u001b[0m in \u001b[0;36m__init__\u001b[0;34m(self, mode_var)\u001b[0m\n\u001b[1;32m     75\u001b[0m \u001b[0;32mclass\u001b[0m \u001b[0mEnergyLoss\u001b[0m\u001b[0;34m(\u001b[0m\u001b[0mtf\u001b[0m\u001b[0;34m.\u001b[0m\u001b[0mkeras\u001b[0m\u001b[0;34m.\u001b[0m\u001b[0mlosses\u001b[0m\u001b[0;34m.\u001b[0m\u001b[0mLoss\u001b[0m\u001b[0;34m)\u001b[0m\u001b[0;34m:\u001b[0m\u001b[0;34m\u001b[0m\u001b[0;34m\u001b[0m\u001b[0m\n\u001b[1;32m     76\u001b[0m     \u001b[0;32mdef\u001b[0m \u001b[0m__init__\u001b[0m\u001b[0;34m(\u001b[0m\u001b[0mself\u001b[0m\u001b[0;34m,\u001b[0m \u001b[0mmode_var\u001b[0m\u001b[0;34m=\u001b[0m\u001b[0;34m\"vqe\"\u001b[0m\u001b[0;34m)\u001b[0m\u001b[0;34m:\u001b[0m\u001b[0;34m\u001b[0m\u001b[0;34m\u001b[0m\u001b[0m\n\u001b[0;32m---> 77\u001b[0;31m         \u001b[0msuper\u001b[0m\u001b[0;34m(\u001b[0m\u001b[0mEnergyLoss\u001b[0m\u001b[0;34m,\u001b[0m\u001b[0mself\u001b[0m\u001b[0;34m)\u001b[0m\u001b[0;34m.\u001b[0m\u001b[0m__init__\u001b[0m\u001b[0;34m(\u001b[0m\u001b[0;34m)\u001b[0m\u001b[0;34m\u001b[0m\u001b[0;34m\u001b[0m\u001b[0m\n\u001b[0m\u001b[1;32m     78\u001b[0m         \u001b[0mself\u001b[0m\u001b[0;34m.\u001b[0m\u001b[0mmode_var\u001b[0m \u001b[0;34m=\u001b[0m \u001b[0mmode_var\u001b[0m\u001b[0;34m\u001b[0m\u001b[0;34m\u001b[0m\u001b[0m\n\u001b[1;32m     79\u001b[0m     \u001b[0;32mdef\u001b[0m \u001b[0mcall\u001b[0m\u001b[0;34m(\u001b[0m\u001b[0mself\u001b[0m\u001b[0;34m,\u001b[0m \u001b[0my_true\u001b[0m\u001b[0;34m,\u001b[0m \u001b[0my_pred\u001b[0m\u001b[0;34m)\u001b[0m\u001b[0;34m:\u001b[0m\u001b[0;34m\u001b[0m\u001b[0;34m\u001b[0m\u001b[0m\n",
      "\u001b[0;31mTypeError\u001b[0m: super(type, obj): obj must be an instance or subtype of type"
     ]
    }
   ],
   "source": []
  },
  {
   "cell_type": "code",
   "execution_count": null,
   "id": "sorted-grounds",
   "metadata": {},
   "outputs": [],
   "source": []
  },
  {
   "cell_type": "code",
   "execution_count": 84,
   "id": "prepared-faculty",
   "metadata": {},
   "outputs": [
    {
     "ename": "ValueError",
     "evalue": "in user code:\n\n    /home/cooper-cooper/.local/lib/python3.6/site-packages/tensorflow/python/keras/engine/training.py:806 train_function  *\n        return step_function(self, iterator)\n    <ipython-input-56-9b94a9d17660>:10 call  *\n        f = self.expe_layer(feat, operators = self.observable, symbol_names = self.symbols)\n    /home/cooper-cooper/.local/lib/python3.6/site-packages/tensorflow_quantum/python/layers/circuit_executors/expectation.py:296 call  *\n        operators)\n    /home/cooper-cooper/.local/lib/python3.6/site-packages/tensorflow/python/ops/custom_gradient.py:264 __call__  **\n        return self._d(self._f, a, k)\n    /home/cooper-cooper/.local/lib/python3.6/site-packages/tensorflow/python/ops/custom_gradient.py:220 decorated\n        return _graph_mode_decorator(wrapped, args, kwargs)\n    /home/cooper-cooper/.local/lib/python3.6/site-packages/tensorflow/python/ops/custom_gradient.py:325 _graph_mode_decorator\n        result, grad_fn = f(*args)\n    /home/cooper-cooper/.local/lib/python3.6/site-packages/tensorflow_quantum/python/differentiators/differentiator.py:128 op_wrapper_analytic\n        symbol_values, pauli_sums)\n    /home/cooper-cooper/.local/lib/python3.6/site-packages/tensorflow_quantum/core/ops/circuit_execution_ops.py:132 <lambda>\n        op(programs, symbol_names, symbol_values, pauli_sums)\n    /home/cooper-cooper/.local/lib/python3.6/site-packages/tensorflow_quantum/core/ops/tfq_simulate_ops.py:45 tfq_simulate_expectation\n        programs, symbol_names, tf.cast(symbol_values, tf.float32), pauli_sums)\n    <string>:72 tfq_simulate_expectation\n        \n    /home/cooper-cooper/.local/lib/python3.6/site-packages/tensorflow/python/framework/op_def_library.py:744 _apply_op_helper\n        attrs=attr_protos, op_def=op_def)\n    /home/cooper-cooper/.local/lib/python3.6/site-packages/tensorflow/python/framework/func_graph.py:593 _create_op_internal\n        compute_device)\n    /home/cooper-cooper/.local/lib/python3.6/site-packages/tensorflow/python/framework/ops.py:3485 _create_op_internal\n        op_def=op_def)\n    /home/cooper-cooper/.local/lib/python3.6/site-packages/tensorflow/python/framework/ops.py:1975 __init__\n        control_input_ops, op_def)\n    /home/cooper-cooper/.local/lib/python3.6/site-packages/tensorflow/python/framework/ops.py:1815 _create_c_op\n        raise ValueError(str(e))\n\n    ValueError: Shape must be rank 1 but is rank 2 for '{{node unitary_compiler_8/expectation_7/TfqSimulateExpectation}} = TfqSimulateExpectation[](ExpandDims, unitary_compiler_8/expectation_7/Const, unitary_compiler_8/expectation_7/Tile_2, unitary_compiler_8/expectation_7/Tile_1)' with input shapes: [?,1], [0], [?,0], [?,2].\n",
     "output_type": "error",
     "traceback": [
      "\u001b[0;31m---------------------------------------------------------------------------\u001b[0m",
      "\u001b[0;31mValueError\u001b[0m                                Traceback (most recent call last)",
      "\u001b[0;32m<ipython-input-84-f188a140960e>\u001b[0m in \u001b[0;36m<module>\u001b[0;34m\u001b[0m\n\u001b[1;32m      1\u001b[0m \u001b[0mtfqci\u001b[0m \u001b[0;34m=\u001b[0m \u001b[0mtfq\u001b[0m\u001b[0;34m.\u001b[0m\u001b[0mconvert_to_tensor\u001b[0m\u001b[0;34m(\u001b[0m\u001b[0;34m[\u001b[0m\u001b[0mcircuit\u001b[0m\u001b[0;34m]\u001b[0m\u001b[0;34m)\u001b[0m\u001b[0;34m\u001b[0m\u001b[0;34m\u001b[0m\u001b[0m\n\u001b[0;32m----> 2\u001b[0;31m \u001b[0mee\u001b[0m \u001b[0;34m=\u001b[0m \u001b[0mmodel\u001b[0m\u001b[0;34m.\u001b[0m\u001b[0mfit\u001b[0m\u001b[0;34m(\u001b[0m\u001b[0mx\u001b[0m\u001b[0;34m=\u001b[0m\u001b[0mtfqci\u001b[0m\u001b[0;34m,\u001b[0m \u001b[0my\u001b[0m\u001b[0;34m=\u001b[0m\u001b[0mtf\u001b[0m\u001b[0;34m.\u001b[0m\u001b[0mzeros\u001b[0m\u001b[0;34m(\u001b[0m\u001b[0;36m1\u001b[0m\u001b[0;34m,\u001b[0m\u001b[0;34m)\u001b[0m\u001b[0;34m,\u001b[0m \u001b[0mverbose\u001b[0m\u001b[0;34m=\u001b[0m\u001b[0;36m0\u001b[0m\u001b[0;34m,\u001b[0m \u001b[0mepochs\u001b[0m\u001b[0;34m=\u001b[0m\u001b[0;36m100\u001b[0m\u001b[0;34m,\u001b[0m \u001b[0mbatch_size\u001b[0m\u001b[0;34m=\u001b[0m\u001b[0;36m1\u001b[0m\u001b[0;34m)\u001b[0m\u001b[0;34m\u001b[0m\u001b[0;34m\u001b[0m\u001b[0m\n\u001b[0m",
      "\u001b[0;32m~/.local/lib/python3.6/site-packages/tensorflow/python/keras/engine/training.py\u001b[0m in \u001b[0;36m_method_wrapper\u001b[0;34m(self, *args, **kwargs)\u001b[0m\n\u001b[1;32m    106\u001b[0m   \u001b[0;32mdef\u001b[0m \u001b[0m_method_wrapper\u001b[0m\u001b[0;34m(\u001b[0m\u001b[0mself\u001b[0m\u001b[0;34m,\u001b[0m \u001b[0;34m*\u001b[0m\u001b[0margs\u001b[0m\u001b[0;34m,\u001b[0m \u001b[0;34m**\u001b[0m\u001b[0mkwargs\u001b[0m\u001b[0;34m)\u001b[0m\u001b[0;34m:\u001b[0m\u001b[0;34m\u001b[0m\u001b[0;34m\u001b[0m\u001b[0m\n\u001b[1;32m    107\u001b[0m     \u001b[0;32mif\u001b[0m \u001b[0;32mnot\u001b[0m \u001b[0mself\u001b[0m\u001b[0;34m.\u001b[0m\u001b[0m_in_multi_worker_mode\u001b[0m\u001b[0;34m(\u001b[0m\u001b[0;34m)\u001b[0m\u001b[0;34m:\u001b[0m  \u001b[0;31m# pylint: disable=protected-access\u001b[0m\u001b[0;34m\u001b[0m\u001b[0;34m\u001b[0m\u001b[0m\n\u001b[0;32m--> 108\u001b[0;31m       \u001b[0;32mreturn\u001b[0m \u001b[0mmethod\u001b[0m\u001b[0;34m(\u001b[0m\u001b[0mself\u001b[0m\u001b[0;34m,\u001b[0m \u001b[0;34m*\u001b[0m\u001b[0margs\u001b[0m\u001b[0;34m,\u001b[0m \u001b[0;34m**\u001b[0m\u001b[0mkwargs\u001b[0m\u001b[0;34m)\u001b[0m\u001b[0;34m\u001b[0m\u001b[0;34m\u001b[0m\u001b[0m\n\u001b[0m\u001b[1;32m    109\u001b[0m \u001b[0;34m\u001b[0m\u001b[0m\n\u001b[1;32m    110\u001b[0m     \u001b[0;31m# Running inside `run_distribute_coordinator` already.\u001b[0m\u001b[0;34m\u001b[0m\u001b[0;34m\u001b[0m\u001b[0;34m\u001b[0m\u001b[0m\n",
      "\u001b[0;32m~/.local/lib/python3.6/site-packages/tensorflow/python/keras/engine/training.py\u001b[0m in \u001b[0;36mfit\u001b[0;34m(self, x, y, batch_size, epochs, verbose, callbacks, validation_split, validation_data, shuffle, class_weight, sample_weight, initial_epoch, steps_per_epoch, validation_steps, validation_batch_size, validation_freq, max_queue_size, workers, use_multiprocessing)\u001b[0m\n\u001b[1;32m   1096\u001b[0m                 batch_size=batch_size):\n\u001b[1;32m   1097\u001b[0m               \u001b[0mcallbacks\u001b[0m\u001b[0;34m.\u001b[0m\u001b[0mon_train_batch_begin\u001b[0m\u001b[0;34m(\u001b[0m\u001b[0mstep\u001b[0m\u001b[0;34m)\u001b[0m\u001b[0;34m\u001b[0m\u001b[0;34m\u001b[0m\u001b[0m\n\u001b[0;32m-> 1098\u001b[0;31m               \u001b[0mtmp_logs\u001b[0m \u001b[0;34m=\u001b[0m \u001b[0mtrain_function\u001b[0m\u001b[0;34m(\u001b[0m\u001b[0miterator\u001b[0m\u001b[0;34m)\u001b[0m\u001b[0;34m\u001b[0m\u001b[0;34m\u001b[0m\u001b[0m\n\u001b[0m\u001b[1;32m   1099\u001b[0m               \u001b[0;32mif\u001b[0m \u001b[0mdata_handler\u001b[0m\u001b[0;34m.\u001b[0m\u001b[0mshould_sync\u001b[0m\u001b[0;34m:\u001b[0m\u001b[0;34m\u001b[0m\u001b[0;34m\u001b[0m\u001b[0m\n\u001b[1;32m   1100\u001b[0m                 \u001b[0mcontext\u001b[0m\u001b[0;34m.\u001b[0m\u001b[0masync_wait\u001b[0m\u001b[0;34m(\u001b[0m\u001b[0;34m)\u001b[0m\u001b[0;34m\u001b[0m\u001b[0;34m\u001b[0m\u001b[0m\n",
      "\u001b[0;32m~/.local/lib/python3.6/site-packages/tensorflow/python/eager/def_function.py\u001b[0m in \u001b[0;36m__call__\u001b[0;34m(self, *args, **kwds)\u001b[0m\n\u001b[1;32m    778\u001b[0m       \u001b[0;32melse\u001b[0m\u001b[0;34m:\u001b[0m\u001b[0;34m\u001b[0m\u001b[0;34m\u001b[0m\u001b[0m\n\u001b[1;32m    779\u001b[0m         \u001b[0mcompiler\u001b[0m \u001b[0;34m=\u001b[0m \u001b[0;34m\"nonXla\"\u001b[0m\u001b[0;34m\u001b[0m\u001b[0;34m\u001b[0m\u001b[0m\n\u001b[0;32m--> 780\u001b[0;31m         \u001b[0mresult\u001b[0m \u001b[0;34m=\u001b[0m \u001b[0mself\u001b[0m\u001b[0;34m.\u001b[0m\u001b[0m_call\u001b[0m\u001b[0;34m(\u001b[0m\u001b[0;34m*\u001b[0m\u001b[0margs\u001b[0m\u001b[0;34m,\u001b[0m \u001b[0;34m**\u001b[0m\u001b[0mkwds\u001b[0m\u001b[0;34m)\u001b[0m\u001b[0;34m\u001b[0m\u001b[0;34m\u001b[0m\u001b[0m\n\u001b[0m\u001b[1;32m    781\u001b[0m \u001b[0;34m\u001b[0m\u001b[0m\n\u001b[1;32m    782\u001b[0m       \u001b[0mnew_tracing_count\u001b[0m \u001b[0;34m=\u001b[0m \u001b[0mself\u001b[0m\u001b[0;34m.\u001b[0m\u001b[0m_get_tracing_count\u001b[0m\u001b[0;34m(\u001b[0m\u001b[0;34m)\u001b[0m\u001b[0;34m\u001b[0m\u001b[0;34m\u001b[0m\u001b[0m\n",
      "\u001b[0;32m~/.local/lib/python3.6/site-packages/tensorflow/python/eager/def_function.py\u001b[0m in \u001b[0;36m_call\u001b[0;34m(self, *args, **kwds)\u001b[0m\n\u001b[1;32m    812\u001b[0m       \u001b[0;31m# In this case we have not created variables on the first call. So we can\u001b[0m\u001b[0;34m\u001b[0m\u001b[0;34m\u001b[0m\u001b[0;34m\u001b[0m\u001b[0m\n\u001b[1;32m    813\u001b[0m       \u001b[0;31m# run the first trace but we should fail if variables are created.\u001b[0m\u001b[0;34m\u001b[0m\u001b[0;34m\u001b[0m\u001b[0;34m\u001b[0m\u001b[0m\n\u001b[0;32m--> 814\u001b[0;31m       \u001b[0mresults\u001b[0m \u001b[0;34m=\u001b[0m \u001b[0mself\u001b[0m\u001b[0;34m.\u001b[0m\u001b[0m_stateful_fn\u001b[0m\u001b[0;34m(\u001b[0m\u001b[0;34m*\u001b[0m\u001b[0margs\u001b[0m\u001b[0;34m,\u001b[0m \u001b[0;34m**\u001b[0m\u001b[0mkwds\u001b[0m\u001b[0;34m)\u001b[0m\u001b[0;34m\u001b[0m\u001b[0;34m\u001b[0m\u001b[0m\n\u001b[0m\u001b[1;32m    815\u001b[0m       \u001b[0;32mif\u001b[0m \u001b[0mself\u001b[0m\u001b[0;34m.\u001b[0m\u001b[0m_created_variables\u001b[0m\u001b[0;34m:\u001b[0m\u001b[0;34m\u001b[0m\u001b[0;34m\u001b[0m\u001b[0m\n\u001b[1;32m    816\u001b[0m         raise ValueError(\"Creating variables on a non-first call to a function\"\n",
      "\u001b[0;32m~/.local/lib/python3.6/site-packages/tensorflow/python/eager/function.py\u001b[0m in \u001b[0;36m__call__\u001b[0;34m(self, *args, **kwargs)\u001b[0m\n\u001b[1;32m   2826\u001b[0m     \u001b[0;34m\"\"\"Calls a graph function specialized to the inputs.\"\"\"\u001b[0m\u001b[0;34m\u001b[0m\u001b[0;34m\u001b[0m\u001b[0m\n\u001b[1;32m   2827\u001b[0m     \u001b[0;32mwith\u001b[0m \u001b[0mself\u001b[0m\u001b[0;34m.\u001b[0m\u001b[0m_lock\u001b[0m\u001b[0;34m:\u001b[0m\u001b[0;34m\u001b[0m\u001b[0;34m\u001b[0m\u001b[0m\n\u001b[0;32m-> 2828\u001b[0;31m       \u001b[0mgraph_function\u001b[0m\u001b[0;34m,\u001b[0m \u001b[0margs\u001b[0m\u001b[0;34m,\u001b[0m \u001b[0mkwargs\u001b[0m \u001b[0;34m=\u001b[0m \u001b[0mself\u001b[0m\u001b[0;34m.\u001b[0m\u001b[0m_maybe_define_function\u001b[0m\u001b[0;34m(\u001b[0m\u001b[0margs\u001b[0m\u001b[0;34m,\u001b[0m \u001b[0mkwargs\u001b[0m\u001b[0;34m)\u001b[0m\u001b[0;34m\u001b[0m\u001b[0;34m\u001b[0m\u001b[0m\n\u001b[0m\u001b[1;32m   2829\u001b[0m     \u001b[0;32mreturn\u001b[0m \u001b[0mgraph_function\u001b[0m\u001b[0;34m.\u001b[0m\u001b[0m_filtered_call\u001b[0m\u001b[0;34m(\u001b[0m\u001b[0margs\u001b[0m\u001b[0;34m,\u001b[0m \u001b[0mkwargs\u001b[0m\u001b[0;34m)\u001b[0m  \u001b[0;31m# pylint: disable=protected-access\u001b[0m\u001b[0;34m\u001b[0m\u001b[0;34m\u001b[0m\u001b[0m\n\u001b[1;32m   2830\u001b[0m \u001b[0;34m\u001b[0m\u001b[0m\n",
      "\u001b[0;32m~/.local/lib/python3.6/site-packages/tensorflow/python/eager/function.py\u001b[0m in \u001b[0;36m_maybe_define_function\u001b[0;34m(self, args, kwargs)\u001b[0m\n\u001b[1;32m   3208\u001b[0m           \u001b[0;32mand\u001b[0m \u001b[0mself\u001b[0m\u001b[0;34m.\u001b[0m\u001b[0minput_signature\u001b[0m \u001b[0;32mis\u001b[0m \u001b[0;32mNone\u001b[0m\u001b[0;34m\u001b[0m\u001b[0;34m\u001b[0m\u001b[0m\n\u001b[1;32m   3209\u001b[0m           and call_context_key in self._function_cache.missed):\n\u001b[0;32m-> 3210\u001b[0;31m         \u001b[0;32mreturn\u001b[0m \u001b[0mself\u001b[0m\u001b[0;34m.\u001b[0m\u001b[0m_define_function_with_shape_relaxation\u001b[0m\u001b[0;34m(\u001b[0m\u001b[0margs\u001b[0m\u001b[0;34m,\u001b[0m \u001b[0mkwargs\u001b[0m\u001b[0;34m)\u001b[0m\u001b[0;34m\u001b[0m\u001b[0;34m\u001b[0m\u001b[0m\n\u001b[0m\u001b[1;32m   3211\u001b[0m \u001b[0;34m\u001b[0m\u001b[0m\n\u001b[1;32m   3212\u001b[0m       \u001b[0mself\u001b[0m\u001b[0;34m.\u001b[0m\u001b[0m_function_cache\u001b[0m\u001b[0;34m.\u001b[0m\u001b[0mmissed\u001b[0m\u001b[0;34m.\u001b[0m\u001b[0madd\u001b[0m\u001b[0;34m(\u001b[0m\u001b[0mcall_context_key\u001b[0m\u001b[0;34m)\u001b[0m\u001b[0;34m\u001b[0m\u001b[0;34m\u001b[0m\u001b[0m\n",
      "\u001b[0;32m~/.local/lib/python3.6/site-packages/tensorflow/python/eager/function.py\u001b[0m in \u001b[0;36m_define_function_with_shape_relaxation\u001b[0;34m(self, args, kwargs)\u001b[0m\n\u001b[1;32m   3140\u001b[0m \u001b[0;34m\u001b[0m\u001b[0m\n\u001b[1;32m   3141\u001b[0m     graph_function = self._create_graph_function(\n\u001b[0;32m-> 3142\u001b[0;31m         args, kwargs, override_flat_arg_shapes=relaxed_arg_shapes)\n\u001b[0m\u001b[1;32m   3143\u001b[0m     \u001b[0mself\u001b[0m\u001b[0;34m.\u001b[0m\u001b[0m_function_cache\u001b[0m\u001b[0;34m.\u001b[0m\u001b[0marg_relaxed\u001b[0m\u001b[0;34m[\u001b[0m\u001b[0mrank_only_cache_key\u001b[0m\u001b[0;34m]\u001b[0m \u001b[0;34m=\u001b[0m \u001b[0mgraph_function\u001b[0m\u001b[0;34m\u001b[0m\u001b[0;34m\u001b[0m\u001b[0m\n\u001b[1;32m   3144\u001b[0m \u001b[0;34m\u001b[0m\u001b[0m\n",
      "\u001b[0;32m~/.local/lib/python3.6/site-packages/tensorflow/python/eager/function.py\u001b[0m in \u001b[0;36m_create_graph_function\u001b[0;34m(self, args, kwargs, override_flat_arg_shapes)\u001b[0m\n\u001b[1;32m   3073\u001b[0m             \u001b[0marg_names\u001b[0m\u001b[0;34m=\u001b[0m\u001b[0marg_names\u001b[0m\u001b[0;34m,\u001b[0m\u001b[0;34m\u001b[0m\u001b[0;34m\u001b[0m\u001b[0m\n\u001b[1;32m   3074\u001b[0m             \u001b[0moverride_flat_arg_shapes\u001b[0m\u001b[0;34m=\u001b[0m\u001b[0moverride_flat_arg_shapes\u001b[0m\u001b[0;34m,\u001b[0m\u001b[0;34m\u001b[0m\u001b[0;34m\u001b[0m\u001b[0m\n\u001b[0;32m-> 3075\u001b[0;31m             capture_by_value=self._capture_by_value),\n\u001b[0m\u001b[1;32m   3076\u001b[0m         \u001b[0mself\u001b[0m\u001b[0;34m.\u001b[0m\u001b[0m_function_attributes\u001b[0m\u001b[0;34m,\u001b[0m\u001b[0;34m\u001b[0m\u001b[0;34m\u001b[0m\u001b[0m\n\u001b[1;32m   3077\u001b[0m         \u001b[0mfunction_spec\u001b[0m\u001b[0;34m=\u001b[0m\u001b[0mself\u001b[0m\u001b[0;34m.\u001b[0m\u001b[0mfunction_spec\u001b[0m\u001b[0;34m,\u001b[0m\u001b[0;34m\u001b[0m\u001b[0;34m\u001b[0m\u001b[0m\n",
      "\u001b[0;32m~/.local/lib/python3.6/site-packages/tensorflow/python/framework/func_graph.py\u001b[0m in \u001b[0;36mfunc_graph_from_py_func\u001b[0;34m(name, python_func, args, kwargs, signature, func_graph, autograph, autograph_options, add_control_dependencies, arg_names, op_return_value, collections, capture_by_value, override_flat_arg_shapes)\u001b[0m\n\u001b[1;32m    984\u001b[0m         \u001b[0m_\u001b[0m\u001b[0;34m,\u001b[0m \u001b[0moriginal_func\u001b[0m \u001b[0;34m=\u001b[0m \u001b[0mtf_decorator\u001b[0m\u001b[0;34m.\u001b[0m\u001b[0munwrap\u001b[0m\u001b[0;34m(\u001b[0m\u001b[0mpython_func\u001b[0m\u001b[0;34m)\u001b[0m\u001b[0;34m\u001b[0m\u001b[0;34m\u001b[0m\u001b[0m\n\u001b[1;32m    985\u001b[0m \u001b[0;34m\u001b[0m\u001b[0m\n\u001b[0;32m--> 986\u001b[0;31m       \u001b[0mfunc_outputs\u001b[0m \u001b[0;34m=\u001b[0m \u001b[0mpython_func\u001b[0m\u001b[0;34m(\u001b[0m\u001b[0;34m*\u001b[0m\u001b[0mfunc_args\u001b[0m\u001b[0;34m,\u001b[0m \u001b[0;34m**\u001b[0m\u001b[0mfunc_kwargs\u001b[0m\u001b[0;34m)\u001b[0m\u001b[0;34m\u001b[0m\u001b[0;34m\u001b[0m\u001b[0m\n\u001b[0m\u001b[1;32m    987\u001b[0m \u001b[0;34m\u001b[0m\u001b[0m\n\u001b[1;32m    988\u001b[0m       \u001b[0;31m# invariant: `func_outputs` contains only Tensors, CompositeTensors,\u001b[0m\u001b[0;34m\u001b[0m\u001b[0;34m\u001b[0m\u001b[0;34m\u001b[0m\u001b[0m\n",
      "\u001b[0;32m~/.local/lib/python3.6/site-packages/tensorflow/python/eager/def_function.py\u001b[0m in \u001b[0;36mwrapped_fn\u001b[0;34m(*args, **kwds)\u001b[0m\n\u001b[1;32m    598\u001b[0m         \u001b[0;31m# __wrapped__ allows AutoGraph to swap in a converted function. We give\u001b[0m\u001b[0;34m\u001b[0m\u001b[0;34m\u001b[0m\u001b[0;34m\u001b[0m\u001b[0m\n\u001b[1;32m    599\u001b[0m         \u001b[0;31m# the function a weak reference to itself to avoid a reference cycle.\u001b[0m\u001b[0;34m\u001b[0m\u001b[0;34m\u001b[0m\u001b[0;34m\u001b[0m\u001b[0m\n\u001b[0;32m--> 600\u001b[0;31m         \u001b[0;32mreturn\u001b[0m \u001b[0mweak_wrapped_fn\u001b[0m\u001b[0;34m(\u001b[0m\u001b[0;34m)\u001b[0m\u001b[0;34m.\u001b[0m\u001b[0m__wrapped__\u001b[0m\u001b[0;34m(\u001b[0m\u001b[0;34m*\u001b[0m\u001b[0margs\u001b[0m\u001b[0;34m,\u001b[0m \u001b[0;34m**\u001b[0m\u001b[0mkwds\u001b[0m\u001b[0;34m)\u001b[0m\u001b[0;34m\u001b[0m\u001b[0;34m\u001b[0m\u001b[0m\n\u001b[0m\u001b[1;32m    601\u001b[0m     \u001b[0mweak_wrapped_fn\u001b[0m \u001b[0;34m=\u001b[0m \u001b[0mweakref\u001b[0m\u001b[0;34m.\u001b[0m\u001b[0mref\u001b[0m\u001b[0;34m(\u001b[0m\u001b[0mwrapped_fn\u001b[0m\u001b[0;34m)\u001b[0m\u001b[0;34m\u001b[0m\u001b[0;34m\u001b[0m\u001b[0m\n\u001b[1;32m    602\u001b[0m \u001b[0;34m\u001b[0m\u001b[0m\n",
      "\u001b[0;32m~/.local/lib/python3.6/site-packages/tensorflow/python/framework/func_graph.py\u001b[0m in \u001b[0;36mwrapper\u001b[0;34m(*args, **kwargs)\u001b[0m\n\u001b[1;32m    971\u001b[0m           \u001b[0;32mexcept\u001b[0m \u001b[0mException\u001b[0m \u001b[0;32mas\u001b[0m \u001b[0me\u001b[0m\u001b[0;34m:\u001b[0m  \u001b[0;31m# pylint:disable=broad-except\u001b[0m\u001b[0;34m\u001b[0m\u001b[0;34m\u001b[0m\u001b[0m\n\u001b[1;32m    972\u001b[0m             \u001b[0;32mif\u001b[0m \u001b[0mhasattr\u001b[0m\u001b[0;34m(\u001b[0m\u001b[0me\u001b[0m\u001b[0;34m,\u001b[0m \u001b[0;34m\"ag_error_metadata\"\u001b[0m\u001b[0;34m)\u001b[0m\u001b[0;34m:\u001b[0m\u001b[0;34m\u001b[0m\u001b[0;34m\u001b[0m\u001b[0m\n\u001b[0;32m--> 973\u001b[0;31m               \u001b[0;32mraise\u001b[0m \u001b[0me\u001b[0m\u001b[0;34m.\u001b[0m\u001b[0mag_error_metadata\u001b[0m\u001b[0;34m.\u001b[0m\u001b[0mto_exception\u001b[0m\u001b[0;34m(\u001b[0m\u001b[0me\u001b[0m\u001b[0;34m)\u001b[0m\u001b[0;34m\u001b[0m\u001b[0;34m\u001b[0m\u001b[0m\n\u001b[0m\u001b[1;32m    974\u001b[0m             \u001b[0;32melse\u001b[0m\u001b[0;34m:\u001b[0m\u001b[0;34m\u001b[0m\u001b[0;34m\u001b[0m\u001b[0m\n\u001b[1;32m    975\u001b[0m               \u001b[0;32mraise\u001b[0m\u001b[0;34m\u001b[0m\u001b[0;34m\u001b[0m\u001b[0m\n",
      "\u001b[0;31mValueError\u001b[0m: in user code:\n\n    /home/cooper-cooper/.local/lib/python3.6/site-packages/tensorflow/python/keras/engine/training.py:806 train_function  *\n        return step_function(self, iterator)\n    <ipython-input-56-9b94a9d17660>:10 call  *\n        f = self.expe_layer(feat, operators = self.observable, symbol_names = self.symbols)\n    /home/cooper-cooper/.local/lib/python3.6/site-packages/tensorflow_quantum/python/layers/circuit_executors/expectation.py:296 call  *\n        operators)\n    /home/cooper-cooper/.local/lib/python3.6/site-packages/tensorflow/python/ops/custom_gradient.py:264 __call__  **\n        return self._d(self._f, a, k)\n    /home/cooper-cooper/.local/lib/python3.6/site-packages/tensorflow/python/ops/custom_gradient.py:220 decorated\n        return _graph_mode_decorator(wrapped, args, kwargs)\n    /home/cooper-cooper/.local/lib/python3.6/site-packages/tensorflow/python/ops/custom_gradient.py:325 _graph_mode_decorator\n        result, grad_fn = f(*args)\n    /home/cooper-cooper/.local/lib/python3.6/site-packages/tensorflow_quantum/python/differentiators/differentiator.py:128 op_wrapper_analytic\n        symbol_values, pauli_sums)\n    /home/cooper-cooper/.local/lib/python3.6/site-packages/tensorflow_quantum/core/ops/circuit_execution_ops.py:132 <lambda>\n        op(programs, symbol_names, symbol_values, pauli_sums)\n    /home/cooper-cooper/.local/lib/python3.6/site-packages/tensorflow_quantum/core/ops/tfq_simulate_ops.py:45 tfq_simulate_expectation\n        programs, symbol_names, tf.cast(symbol_values, tf.float32), pauli_sums)\n    <string>:72 tfq_simulate_expectation\n        \n    /home/cooper-cooper/.local/lib/python3.6/site-packages/tensorflow/python/framework/op_def_library.py:744 _apply_op_helper\n        attrs=attr_protos, op_def=op_def)\n    /home/cooper-cooper/.local/lib/python3.6/site-packages/tensorflow/python/framework/func_graph.py:593 _create_op_internal\n        compute_device)\n    /home/cooper-cooper/.local/lib/python3.6/site-packages/tensorflow/python/framework/ops.py:3485 _create_op_internal\n        op_def=op_def)\n    /home/cooper-cooper/.local/lib/python3.6/site-packages/tensorflow/python/framework/ops.py:1975 __init__\n        control_input_ops, op_def)\n    /home/cooper-cooper/.local/lib/python3.6/site-packages/tensorflow/python/framework/ops.py:1815 _create_c_op\n        raise ValueError(str(e))\n\n    ValueError: Shape must be rank 1 but is rank 2 for '{{node unitary_compiler_8/expectation_7/TfqSimulateExpectation}} = TfqSimulateExpectation[](ExpandDims, unitary_compiler_8/expectation_7/Const, unitary_compiler_8/expectation_7/Tile_2, unitary_compiler_8/expectation_7/Tile_1)' with input shapes: [?,1], [0], [?,0], [?,2].\n"
     ]
    }
   ],
   "source": [
    "tfqci = tfq.convert_to_tensor([circuit])\n",
    "ee = model.fit(x=tfqci, y=tf.zeros(1,), verbose=0, epochs=100, batch_size=1)"
   ]
  },
  {
   "cell_type": "code",
   "execution_count": 55,
   "id": "charitable-ranking",
   "metadata": {},
   "outputs": [
    {
     "data": {
      "text/plain": [
       "<tf.Tensor: shape=(1,), dtype=float32, numpy=array([0.5682691], dtype=float32)>"
      ]
     },
     "execution_count": 55,
     "metadata": {},
     "output_type": "execute_result"
    }
   ],
   "source": []
  },
  {
   "cell_type": "code",
   "execution_count": null,
   "id": "beneficial-digest",
   "metadata": {},
   "outputs": [],
   "source": []
  },
  {
   "cell_type": "code",
   "execution_count": null,
   "id": "tired-interval",
   "metadata": {},
   "outputs": [],
   "source": []
  },
  {
   "cell_type": "code",
   "execution_count": 24,
   "id": "quiet-graphics",
   "metadata": {},
   "outputs": [
    {
     "data": {
      "text/plain": [
       "[{'ind': 2,\n",
       "  'symbol': None,\n",
       "  'param_value': 0.1,\n",
       "  'trainable': True,\n",
       "  'block_id': 0},\n",
       " {'ind': 4,\n",
       "  'symbol': None,\n",
       "  'param_value': 0.1,\n",
       "  'trainable': True,\n",
       "  'block_id': 0},\n",
       " {'ind': 2,\n",
       "  'symbol': None,\n",
       "  'param_value': 0.1,\n",
       "  'trainable': True,\n",
       "  'block_id': 0}]"
      ]
     },
     "execution_count": 24,
     "metadata": {},
     "output_type": "execute_result"
    }
   ],
   "source": [
    "u1_dbb = pd.DataFrame([gate_template(k, trainable=True, param_value = 0.1) for k in u1(translator, 0)])"
   ]
  },
  {
   "cell_type": "code",
   "execution_count": null,
   "id": "baking-uganda",
   "metadata": {},
   "outputs": [],
   "source": []
  },
  {
   "cell_type": "code",
   "execution_count": null,
   "id": "expected-naples",
   "metadata": {},
   "outputs": [],
   "source": []
  },
  {
   "cell_type": "code",
   "execution_count": null,
   "id": "pursuant-repair",
   "metadata": {},
   "outputs": [],
   "source": []
  },
  {
   "cell_type": "code",
   "execution_count": null,
   "id": "higher-utilization",
   "metadata": {},
   "outputs": [],
   "source": []
  },
  {
   "cell_type": "code",
   "execution_count": 2,
   "id": "liable-gibson",
   "metadata": {},
   "outputs": [],
   "source": [
    "def get_positional_dbs(circuit, circuit_db):\n",
    "\n",
    "    qubits_involved = get_qubits_involved(circuit, circuit_db)\n",
    "    \n",
    "    gates_on_qubit = {q:[] for q in qubits_involved}\n",
    "    on_qubit_order = {q:[] for q in qubits_involved}\n",
    "\n",
    "    for order_gate, ind_gate in enumerate( circuit_db[\"ind\"]):\n",
    "        if ind_gate < translator.number_of_cnots:\n",
    "            control, target = translator.indexed_cnots[str(ind_gate)]\n",
    "            gates_on_qubit[control].append(ind_gate)\n",
    "            gates_on_qubit[target].append(ind_gate)\n",
    "            on_qubit_order[control].append(order_gate)                \n",
    "            on_qubit_order[target].append(order_gate)  \n",
    "        else:\n",
    "            gates_on_qubit[(ind_gate-translator.n_qubits)%translator.n_qubits].append(ind_gate)\n",
    "            on_qubit_order[(ind_gate-translator.n_qubits)%translator.n_qubits].append(order_gate)        \n",
    "    return gates_on_qubit, on_qubit_order"
   ]
  },
  {
   "cell_type": "code",
   "execution_count": 62,
   "id": "talented-modification",
   "metadata": {},
   "outputs": [],
   "source": [
    "def rule_1(translator, simplified_db, on_qubit_order, gates_on_qubit):\n",
    "    simplification = False\n",
    "    \n",
    "    for q, qubit_gates_path in gates_on_qubit.items():\n",
    "        if simplification is True:\n",
    "            break\n",
    "        for order_gate_on_qubit, ind_gate in enumerate(qubit_gates_path):\n",
    "            if ind_gate < translator.number_of_cnots:\n",
    "                control, target = translator.indexed_cnots[str(ind_gate)]\n",
    "                if (q == control) and (order_gate_on_qubit == 0):\n",
    "                    pos_gate_to_drop = on_qubit_order[q][order_gate_on_qubit]\n",
    "                    \n",
    "                    block_id = circuit_db.iloc[pos_gate_to_drop][\"block_id\"]\n",
    "                    simplified_db.loc[int(pos_gate_to_drop)+0.1] = gate_template(translator.number_of_cnots + translator.n_qubits + control, param_value=0.0, block_id=circuit_db.iloc[0][\"block_id\"])\n",
    "                    simplified_db.loc[int(pos_gate_to_drop)+0.11] = gate_template(translator.number_of_cnots + translator.n_qubits + target, param_value=0.0, block_id=circuit_db.iloc[0][\"block_id\"])\n",
    "                    \n",
    "                    simplified_db = simplified_db.drop(labels=[pos_gate_to_drop],axis=0)\n",
    "                    \n",
    "                    simplification = True\n",
    "                    break\n",
    "    simplified_db = simplified_db.sort_index().reset_index(drop=True)\n",
    "    return simplification, simplified_db\n",
    "\n",
    "\n",
    "def rule_2(translator, simplified_db, on_qubit_order, gates_on_qubit):\n",
    "    simplification = False\n",
    "    \n",
    "    for q, qubit_gates_path in gates_on_qubit.items():\n",
    "        if simplification is True:\n",
    "            break\n",
    "        for order_gate_on_qubit, ind_gate in enumerate(qubit_gates_path[:-1]):\n",
    "            \n",
    "            next_ind_gate = qubit_gates_path[order_gate_on_qubit+1]\n",
    "            if (ind_gate < translator.number_of_cnots) and (ind_gate == next_ind_gate):\n",
    "                control, target = translator.indexed_cnots[str(ind_gate)]\n",
    "                not_gates_in_between = False\n",
    "                this_qubit = q\n",
    "                other_qubits = [control, target]\n",
    "                other_qubits.remove(q)\n",
    "                other_qubit = other_qubits[0]\n",
    "                \n",
    "                ## now we need to check what happens in the other_qubit\n",
    "                for qord_other, ind_gate_other in enumerate(gates_on_qubit[other_qubit][:-1]):\n",
    "                    if (ind_gate_other == ind_gate) and (gates_on_qubit[other_qubit][qord_other +1] == ind_gate):\n",
    "                        ## if we append the CNOT for q and other_q on the same call, and also for the consecutive\n",
    "                        ## note that in between there can be other calls for other qubits\n",
    "                        order_call_q = on_qubit_order[q][order_gate_on_qubit]\n",
    "                        order_call_other_q = on_qubit_order[other_qubit][qord_other]\n",
    "                        \n",
    "                        order_call_qP1 = on_qubit_order[q][order_gate_on_qubit+1]\n",
    "                        order_call_other_qP1 = on_qubit_order[other_qubit][qord_other+1]\n",
    "                        \n",
    "                        ## then it's kosher to say they are consecutively applied (if only looking at the two qubits)\n",
    "                        if (order_call_q == order_call_other_q) and (order_call_qP1 == order_call_other_qP1):\n",
    "                            \n",
    "                            pos_gate_to_drop = on_qubit_order[q][order_gate_on_qubit]\n",
    "                            simplified_db = simplified_db.drop(labels=[pos_gate_to_drop],axis=0)\n",
    "                            pos_gate_to_drop = on_qubit_order[q][order_gate_on_qubit+1]\n",
    "                            simplified_db = simplified_db.drop(labels=[pos_gate_to_drop],axis=0)\n",
    "\n",
    "                            simplification = True\n",
    "                            break\n",
    "                if simplification is True:\n",
    "                    break\n",
    "    simplified_db = simplified_db.reset_index(drop=True)\n",
    "    return simplification, simplified_db\n",
    "\n",
    "\n",
    "\n",
    "def rule_3(translator, simplified_db, on_qubit_order, gates_on_qubit):\n",
    "    simplification = False\n",
    "    for q, qubit_gates_path in gates_on_qubit.items():\n",
    "        if simplification is True:\n",
    "            break\n",
    "        for order_gate_on_qubit, ind_gate in enumerate(qubit_gates_path[:-1]):\n",
    "            if order_gate_on_qubit == 0 and (translator.number_of_cnots <= ind_gate< translator.number_of_cnots+ translator.n_qubits ):\n",
    "                pos_gate_to_drop = on_qubit_order[q][order_gate_on_qubit]\n",
    "                simplified_db = simplified_db.drop(labels=[pos_gate_to_drop],axis=0)\n",
    "                simplified_db = simplified_db.reset_index(drop=True)\n",
    "                simplified_db = shift_symbols_down(translator, pos_gate_to_drop, simplified_db)\n",
    "                simplification = True\n",
    "                break\n",
    "    return simplification, simplified_db\n",
    "\n",
    "\n",
    "\n",
    "def rule_4(translator, simplified_db, on_qubit_order, gates_on_qubit):\n",
    "    \"\"\"\n",
    "    Repeated rotations: add the values\n",
    "    \"\"\"\n",
    "    simplification = False\n",
    "    for q, qubit_gates_path in gates_on_qubit.items():\n",
    "        if simplification is True:\n",
    "            break\n",
    "        for order_gate_on_qubit, ind_gate in enumerate(qubit_gates_path[:-1]):\n",
    "            if ind_gate>=translator.number_of_cnots:\n",
    "                next_ind_gate = qubit_gates_path[order_gate_on_qubit+1]\n",
    "                if next_ind_gate == ind_gate:\n",
    "                    pos_gate_to_drop = on_qubit_order[q][order_gate_on_qubit]\n",
    "                    pos_gate_to_add = on_qubit_order[q][order_gate_on_qubit+1]\n",
    "                    \n",
    "                    value_1 = simplified_db.loc[pos_gate_to_drop][\"param_value\"]\n",
    "                    value_2 = simplified_db.loc[pos_gate_to_add][\"param_value\"]\n",
    "                    \n",
    "                    simplified_db.loc[pos_gate_to_add] = simplified_db.loc[pos_gate_to_add].replace(to_replace=value_2, value=value_1 + value_2)\n",
    "                    simplified_db = simplified_db.drop(labels=[pos_gate_to_drop],axis=0)\n",
    "                    simplified_db = simplified_db.reset_index(drop=True)\n",
    "\n",
    "                    simplified_db = shift_symbols_down(translator, pos_gate_to_drop, simplified_db)\n",
    "                    simplification = True\n",
    "                    break\n",
    "    return simplification, simplified_db\n",
    "\n",
    "def apply_rule(original_circuit_db, rule, **kwargs):\n",
    "    max_cnt = kwargs.get('max_cnt',10)\n",
    "    simplified, cnt = True, 0\n",
    "    original_circuit, original_circuit_db = translator.give_circuit(original_circuit_db)\n",
    "    gates_on_qubit, on_qubit_order = get_positional_dbs(original_circuit, original_circuit_db)\n",
    "    simplified_db = original_circuit_db.copy()\n",
    "    while simplified and cnt < max_cnt:\n",
    "        simplified, simplified_circuit_db = rule(translator, simplified_db, on_qubit_order, gates_on_qubit)\n",
    "        circuit, simplified_db = translator.give_circuit(simplified_circuit_db)\n",
    "        gates_on_qubit, on_qubit_order = get_positional_dbs(circuit, simplified_db)\n",
    "        cnt+=1\n",
    "    return cnt, simplified_db"
   ]
  },
  {
   "cell_type": "code",
   "execution_count": 63,
   "id": "grand-nicholas",
   "metadata": {},
   "outputs": [],
   "source": [
    "translator = CirqTranslater(3)\n",
    "db1 = u1_layer(translator)\n",
    "db2 = cnot_layer(translator, block_id = 2)\n",
    "circuit_db = concatenate_dbs([db1, db1])\n",
    "circuit, circuit_db  = translator.give_circuit(circuit_db)\n",
    "gates_on_qubit, on_qubit_order = get_positional_dbs(circuit, circuit_db)"
   ]
  },
  {
   "cell_type": "code",
   "execution_count": 64,
   "id": "broad-rates",
   "metadata": {},
   "outputs": [],
   "source": [
    "cnt, simplified_db = apply_rule(circuit_db, rule_4)"
   ]
  },
  {
   "cell_type": "code",
   "execution_count": 65,
   "id": "growing-luxury",
   "metadata": {},
   "outputs": [
    {
     "data": {
      "text/html": [
       "<pre style=\"overflow: auto; white-space: pre;\">(0, 0): ───Rz(-0.655π)───Rx(-0.49π)────Rz(1.21π)────Rx(-0.49π)────Rz(1.86π)────\n",
       "\n",
       "(0, 1): ───Rz(0.175π)────Rx(-0.817π)───Rz(-1.45π)───Rx(-0.817π)───Rz(-1.62π)───\n",
       "\n",
       "(0, 2): ───Rz(1.82π)─────Rx(-1.82π)────Rz(1.25π)────Rx(-1.82π)────Rz(-0.57π)───</pre>"
      ],
      "text/plain": [
       "(0, 0): ───Rz(-0.655π)───Rx(-0.49π)────Rz(1.21π)────Rx(-0.49π)────Rz(1.86π)────\n",
       "\n",
       "(0, 1): ───Rz(0.175π)────Rx(-0.817π)───Rz(-1.45π)───Rx(-0.817π)───Rz(-1.62π)───\n",
       "\n",
       "(0, 2): ───Rz(1.82π)─────Rx(-1.82π)────Rz(1.25π)────Rx(-1.82π)────Rz(-0.57π)───"
      ]
     },
     "execution_count": 65,
     "metadata": {},
     "output_type": "execute_result"
    }
   ],
   "source": [
    "translator.give_circuit(simplified_db)[0]"
   ]
  },
  {
   "cell_type": "code",
   "execution_count": null,
   "id": "motivated-biology",
   "metadata": {},
   "outputs": [],
   "source": []
  }
 ],
 "metadata": {
  "kernelspec": {
   "display_name": "Python 3",
   "language": "python",
   "name": "python3"
  },
  "language_info": {
   "codemirror_mode": {
    "name": "ipython",
    "version": 3
   },
   "file_extension": ".py",
   "mimetype": "text/x-python",
   "name": "python",
   "nbconvert_exporter": "python",
   "pygments_lexer": "ipython3",
   "version": "3.6.9"
  }
 },
 "nbformat": 4,
 "nbformat_minor": 5
}
