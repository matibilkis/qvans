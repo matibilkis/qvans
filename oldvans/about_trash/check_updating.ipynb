{
 "cells": [
  {
   "cell_type": "markdown",
   "id": "israeli-cathedral",
   "metadata": {},
   "source": [
    "In this notebook we give a proof of concept of unitary compiling using TFQ. "
   ]
  },
  {
   "cell_type": "code",
   "execution_count": 282,
   "id": "cleared-explorer",
   "metadata": {},
   "outputs": [
    {
     "name": "stdout",
     "output_type": "stream",
     "text": [
      "The autoreload extension is already loaded. To reload it, use:\n",
      "  %reload_ext autoreload\n"
     ]
    }
   ],
   "source": [
    "%load_ext autoreload\n",
    "%autoreload 2\n",
    "\n",
    "import sympy \n",
    "import numpy as np \n",
    "import pandas as pd \n",
    "import tensorflow as tf\n",
    "from utilities.circuit_database import CirqTranslater\n",
    "from utilities.templates import *\n",
    "from utilities.variational import Minimizer\n",
    "from utilities.misc import get_qubits_involved, reindex_symbol, shift_symbols_down\n",
    "import matplotlib.pyplot as plt \n",
    "import tensorflow_quantum as tfq\n",
    "import cirq\n",
    "from utilities.compiling import *\n",
    "from utilities.simplifier import Simplifier\n",
    "from utilities.discrimination import *\n",
    "from utilities.idinserter import IdInserter\n",
    "from tqdm import tqdm"
   ]
  },
  {
   "cell_type": "code",
   "execution_count": 283,
   "id": "delayed-limitation",
   "metadata": {},
   "outputs": [],
   "source": [
    "translator = CirqTranslater(3, untouchable_blocks = [1])\n",
    "translator.env_qubits = [2]\n",
    "\n",
    "translator.encoder_id = 0\n",
    "translator.channel_id = 1\n",
    "translator.decoder_id = 2\n",
    "\n",
    "### state prep\n",
    "\n",
    "u2_layer_encoder = u2_db(translator, 0,1, block_id=translator.encoder_id)\n",
    "channel_db = amplitude_damping_db(translator, qubits_ind=[1,2], eta=1, block_id = translator.channel_id)\n",
    "u2_layer_decoder = u2_db(translator, 0,1, block_id=translator.decoder_id)\n",
    "\n",
    "circuit_db = concatenate_dbs([u2_layer_encoder, channel_db, u2_layer_decoder])\n",
    "\n",
    "circuit, circuit_db = translator.give_circuit(circuit_db)\n",
    "\n",
    "#circuit\n",
    "\n",
    "minimizer = Minimizer(translator, mode=\"discrimination\")\n",
    "etas = [0.01, 1.]\n",
    "\n",
    "\n",
    "batch_circuits, trainable_symbols, trainable_params_value = prepare_optimization_discrimination(translator, circuit_db, etas)\n",
    "cost, resolver, training_history = minimizer.minimize(batch_circuits, symbols = trainable_symbols, parameter_values = trainable_params_value )\n",
    "circuit_db = translator.update_circuit_db_param_values(circuit_db, resolver)"
   ]
  },
  {
   "cell_type": "code",
   "execution_count": 316,
   "id": "parental-hurricane",
   "metadata": {},
   "outputs": [],
   "source": [
    "trianables = circuit_db[circuit_db[\"trainable\"] == True]\n",
    "trainable_symbols = trianables[~trianables[\"symbol\"].isna()]\n",
    "updated = trainable_symbols[\"param_value\"]"
   ]
  },
  {
   "cell_type": "code",
   "execution_count": 317,
   "id": "through-romantic",
   "metadata": {},
   "outputs": [
    {
     "data": {
      "text/plain": [
       "array([0., 0., 0., 0., 0., 0., 0., 0., 0., 0., 0., 0., 0., 0., 0., 0., 0.,\n",
       "       0., 0., 0., 0., 0., 0., 0., 0., 0., 0., 0., 0., 0.])"
      ]
     },
     "execution_count": 317,
     "metadata": {},
     "output_type": "execute_result"
    }
   ],
   "source": [
    "np.array(updated) - np.array(list(resolver.values()))"
   ]
  },
  {
   "cell_type": "code",
   "execution_count": 300,
   "id": "still-relations",
   "metadata": {},
   "outputs": [],
   "source": []
  },
  {
   "cell_type": "code",
   "execution_count": null,
   "id": "superb-terminology",
   "metadata": {},
   "outputs": [],
   "source": []
  },
  {
   "cell_type": "code",
   "execution_count": null,
   "id": "limited-appliance",
   "metadata": {},
   "outputs": [],
   "source": []
  },
  {
   "cell_type": "code",
   "execution_count": null,
   "id": "exempt-petersburg",
   "metadata": {},
   "outputs": [],
   "source": []
  },
  {
   "cell_type": "code",
   "execution_count": null,
   "id": "cleared-patrol",
   "metadata": {},
   "outputs": [],
   "source": []
  },
  {
   "cell_type": "code",
   "execution_count": 284,
   "id": "literary-herald",
   "metadata": {},
   "outputs": [],
   "source": [
    "circuit, modi_db = translator.give_circuit(concatenate_dbs([circuit_db, z_layer_db(translator, block_id=3)]))"
   ]
  },
  {
   "cell_type": "code",
   "execution_count": 285,
   "id": "existing-beach",
   "metadata": {},
   "outputs": [],
   "source": [
    "blocks = list(set(circuit_db[\"block_id\"]))\n",
    "for b in translator.untouchable_blocks:\n",
    "    blocks.remove(b)\n",
    "\n",
    "candidates = []\n",
    "for b in blocks:\n",
    "\n",
    "    block_db = circuit_db[circuit_db[\"block_id\"] == b]\n",
    "    block_db_trainable = block_db[block_db[\"trainable\"] == True]\n",
    "    block_db_trainable = block_db_trainable[~block_db_trainable[\"symbol\"].isna()]\n",
    "    block_db_trainable = block_db_trainable[~block_db_trainable[\"symbol\"].isna()]\n",
    "    \n",
    "    \n",
    "    candidates += list(block_db_trainable.index)"
   ]
  },
  {
   "cell_type": "code",
   "execution_count": null,
   "id": "retained-watch",
   "metadata": {},
   "outputs": [],
   "source": []
  },
  {
   "cell_type": "code",
   "execution_count": null,
   "id": "patent-ballot",
   "metadata": {},
   "outputs": [],
   "source": []
  },
  {
   "cell_type": "code",
   "execution_count": null,
   "id": "angry-discussion",
   "metadata": {},
   "outputs": [],
   "source": []
  },
  {
   "cell_type": "code",
   "execution_count": 286,
   "id": "ongoing-geology",
   "metadata": {},
   "outputs": [
    {
     "ename": "SyntaxError",
     "evalue": "invalid syntax (<ipython-input-286-eabd37ede972>, line 5)",
     "output_type": "error",
     "traceback": [
      "\u001b[0;36m  File \u001b[0;32m\"<ipython-input-286-eabd37ede972>\"\u001b[0;36m, line \u001b[0;32m5\u001b[0m\n\u001b[0;31m    killed_circuit_db = killed_circuit_db.drop(labels=[index_candidate])\u001b[0m\n\u001b[0m                    ^\u001b[0m\n\u001b[0;31mSyntaxError\u001b[0m\u001b[0;31m:\u001b[0m invalid syntax\n"
     ]
    }
   ],
   "source": [
    "killed_costs = []\n",
    "\n",
    "for index_candidate in tqdm(candidates):\n",
    "    killed_circuit_db = cpoy.deepcopy(circuit_db()\n",
    "    killed_circuit_db = killed_circuit_db.drop(labels=[index_candidate])\n",
    "    killed_circuit_db = shift_symbols_down(translator, index_candidate+1, killed_circuit_db)\n",
    "    \n",
    "    killed_batch_circuits, survival_symbols, survival_params_value = prepare_optimization_discrimination(translator, killed_circuit_db, etas)\n",
    "    \n",
    "    unitary_killer_model = minimizer.model_class(survival_symbols, minimizer.observable)\n",
    "    unitary_killer_model(killed_batch_circuits)\n",
    "    unitary_killer_model.trainable_variables[0].assign(tf.convert_to_tensor(survival_params_value.astype(np.float32)))\n",
    "    \n",
    "    killed_costs.append(minimizer.give_cost_external_model(killed_batch_circuits, model=unitary_killer_model).numpy())"
   ]
  },
  {
   "cell_type": "code",
   "execution_count": 236,
   "id": "adequate-discovery",
   "metadata": {},
   "outputs": [
    {
     "data": {
      "text/plain": [
       "<tf.Tensor: shape=(), dtype=float32, numpy=0.48534584>"
      ]
     },
     "execution_count": 236,
     "metadata": {},
     "output_type": "execute_result"
    }
   ],
   "source": [
    "killed_circuit_db = circuit_db.copy()\n",
    "#killed_circuit_db = killed_circuit_db.drop(labels=[index_candidate])\n",
    "#killed_circuit_db = shift_symbols_down(translator, index_candidate+1, killed_circuit_db)\n",
    "\n",
    "killed_batch_circuits, survival_symbols, survival_params_value = prepare_optimization_discrimination(translator, killed_circuit_db, etas)\n",
    "unitary_killer_model = minimizer.model_class(survival_symbols, minimizer.observable)\n",
    "unitary_killer_model(killed_batch_circuits)\n",
    "unitary_killer_model.trainable_variables[0].assign(tf.convert_to_tensor(survival_params_value.astype(np.float32)))\n",
    "minimizer.loss(*[unitary_killer_model(killed_batch_circuits)]*2)"
   ]
  },
  {
   "cell_type": "code",
   "execution_count": 232,
   "id": "saved-cigarette",
   "metadata": {},
   "outputs": [
    {
     "data": {
      "text/plain": [
       "<tf.Variable 'qnn_discrimination_399/expectation_399/circuit_learnable_parameters:0' shape=(30,) dtype=float32, numpy=\n",
       "array([ 8.36090386e-01, -1.06676159e+01,  2.89929062e-01, -3.62957287e+00,\n",
       "        1.14555063e+01, -7.28127897e-01,  1.49224913e+00,  4.81028414e+00,\n",
       "       -1.14851599e+01,  7.26566935e+00,  1.93201399e+00,  1.01527748e+01,\n",
       "       -3.94298625e+00, -1.03085196e+00,  1.69945729e+00, -7.94850349e+00,\n",
       "       -3.17290950e+00, -7.42523193e+00,  1.12714252e+01, -9.14079857e+00,\n",
       "        5.36332703e+00,  1.25663652e+01, -5.60503912e+00,  3.23685884e-01,\n",
       "        1.11008537e+00, -9.66129494e+00,  3.25405313e-06,  1.21191635e+01,\n",
       "       -3.06671143e+00,  1.18062057e+01], dtype=float32)>"
      ]
     },
     "execution_count": 232,
     "metadata": {},
     "output_type": "execute_result"
    }
   ],
   "source": [
    "unitary_killer_model.trainable_variables[0]"
   ]
  },
  {
   "cell_type": "code",
   "execution_count": 233,
   "id": "billion-distance",
   "metadata": {},
   "outputs": [
    {
     "data": {
      "text/plain": [
       "<tf.Variable 'qnn_discrimination_368/expectation_368/circuit_learnable_parameters:0' shape=(30,) dtype=float32, numpy=\n",
       "array([ 8.36090386e-01, -1.06676159e+01,  2.89929062e-01, -3.62957287e+00,\n",
       "        1.14555063e+01, -7.28127897e-01,  1.49224913e+00,  4.81028414e+00,\n",
       "       -1.14851599e+01,  7.26566935e+00,  1.93201399e+00,  1.01527748e+01,\n",
       "       -3.94298625e+00, -1.03085196e+00,  1.69945729e+00, -7.63282108e+00,\n",
       "        2.57905394e-01, -7.94850349e+00, -3.17290950e+00, -7.42523193e+00,\n",
       "        1.12714252e+01, -9.14079857e+00,  5.36332703e+00,  1.25663652e+01,\n",
       "       -5.60503912e+00,  3.23685884e-01,  1.11008537e+00, -9.66129494e+00,\n",
       "        3.25405313e-06,  1.21191635e+01], dtype=float32)>"
      ]
     },
     "execution_count": 233,
     "metadata": {},
     "output_type": "execute_result"
    }
   ],
   "source": [
    "minimizer.model.trainable_variables[0]"
   ]
  },
  {
   "cell_type": "code",
   "execution_count": null,
   "id": "helpful-regard",
   "metadata": {},
   "outputs": [],
   "source": []
  },
  {
   "cell_type": "code",
   "execution_count": 242,
   "id": "casual-swift",
   "metadata": {},
   "outputs": [],
   "source": []
  },
  {
   "cell_type": "code",
   "execution_count": 243,
   "id": "desperate-pakistan",
   "metadata": {},
   "outputs": [],
   "source": [
    "batch_circuits, trainable_symbols, trainable_params_value = prepare_optimization_discrimination(translator, killed_circuit_db, etas)"
   ]
  },
  {
   "cell_type": "code",
   "execution_count": 244,
   "id": "circular-combat",
   "metadata": {},
   "outputs": [
    {
     "data": {
      "text/plain": [
       "<tf.Tensor: shape=(), dtype=float32, numpy=0.14601332>"
      ]
     },
     "execution_count": 244,
     "metadata": {},
     "output_type": "execute_result"
    }
   ],
   "source": [
    "minimizer.loss(*[minimizer.model(batch_circuits)]*2)"
   ]
  },
  {
   "cell_type": "code",
   "execution_count": 245,
   "id": "parental-australian",
   "metadata": {},
   "outputs": [
    {
     "data": {
      "text/plain": [
       "<tf.Tensor: shape=(), dtype=float32, numpy=0.48534584>"
      ]
     },
     "execution_count": 245,
     "metadata": {},
     "output_type": "execute_result"
    }
   ],
   "source": [
    "killed_circuit_db = circuit_db.copy()\n",
    "killed_batch_circuits, survival_symbols, survival_params_value = prepare_optimization_discrimination(translator, killed_circuit_db, etas)\n",
    "umode = minimizer.model_class(survival_symbols, minimizer.observable)\n",
    "umode(killed_batch_circuits)\n",
    "umode.trainable_variables[0].assign(tf.convert_to_tensor(survival_params_value.astype(np.float32)))\n",
    "minimizer.loss(*[umode(batch_circuits)]*2)"
   ]
  },
  {
   "cell_type": "code",
   "execution_count": 277,
   "id": "comparable-banking",
   "metadata": {},
   "outputs": [],
   "source": [
    "pa1 = survival_params_value.values"
   ]
  },
  {
   "cell_type": "code",
   "execution_count": 278,
   "id": "desirable-consistency",
   "metadata": {},
   "outputs": [],
   "source": [
    "pa2 = translator.get_trainable_params_value(circuit_db).values"
   ]
  },
  {
   "cell_type": "code",
   "execution_count": 279,
   "id": "valid-advertiser",
   "metadata": {},
   "outputs": [
    {
     "data": {
      "text/plain": [
       "array([ True,  True,  True,  True,  True,  True,  True,  True,  True,\n",
       "        True,  True,  True,  True,  True,  True,  True,  True,  True,\n",
       "        True,  True,  True,  True,  True,  True,  True,  True,  True,\n",
       "        True,  True,  True])"
      ]
     },
     "execution_count": 279,
     "metadata": {},
     "output_type": "execute_result"
    }
   ],
   "source": [
    "pa1 == pa2"
   ]
  },
  {
   "cell_type": "code",
   "execution_count": 281,
   "id": "fixed-muscle",
   "metadata": {},
   "outputs": [
    {
     "data": {
      "text/plain": [
       "array([ True,  True,  True,  True,  True,  True,  True,  True,  True,\n",
       "        True,  True,  True,  True,  True,  True, False, False, False,\n",
       "       False, False, False, False, False, False, False, False, False,\n",
       "       False, False, False])"
      ]
     },
     "execution_count": 281,
     "metadata": {},
     "output_type": "execute_result"
    }
   ],
   "source": [
    "pa2 == minimizer.model.trainable_variables[0].numpy()"
   ]
  },
  {
   "cell_type": "code",
   "execution_count": null,
   "id": "first-hours",
   "metadata": {},
   "outputs": [],
   "source": []
  },
  {
   "cell_type": "code",
   "execution_count": null,
   "id": "naval-greece",
   "metadata": {},
   "outputs": [],
   "source": []
  },
  {
   "cell_type": "code",
   "execution_count": 272,
   "id": "industrial-collapse",
   "metadata": {},
   "outputs": [
    {
     "data": {
      "text/plain": [
       "array([ -8.52346992,  12.56640911,  11.19355392,  -2.13488984,\n",
       "        11.62775612, -16.24269104,  -5.84163523,   6.51778507,\n",
       "        15.70796013,  -5.70069122,  11.80292511,  13.13291454,\n",
       "         4.0658617 ,  18.84955406,  -9.80992985, -12.6176939 ,\n",
       "         1.39786851,  19.56537437,   4.60682917,   6.40339613,\n",
       "         4.71239185,   4.71239328,  -1.57080185,   1.57079387,\n",
       "        -8.76318169,   7.95953417, -27.55848694,  11.78474617,\n",
       "        -6.39982654,  -0.04943787])"
      ]
     },
     "execution_count": 272,
     "metadata": {},
     "output_type": "execute_result"
    }
   ],
   "source": [
    "survival_params_value.values"
   ]
  },
  {
   "cell_type": "code",
   "execution_count": 273,
   "id": "elect-writer",
   "metadata": {},
   "outputs": [
    {
     "data": {
      "text/plain": [
       "array([ -8.52347  ,  12.566409 ,  11.193554 ,  -2.1348898,  11.627756 ,\n",
       "       -16.242691 ,  -5.841635 ,   6.517785 ,  15.70796  ,  -5.700691 ,\n",
       "        11.802925 ,  13.132915 ,   4.0658617,  18.849554 ,  -9.80993  ,\n",
       "         4.0493765,  -2.9015286, -12.617694 ,   1.3978685,  19.565374 ,\n",
       "         4.606829 ,   6.403396 ,   4.712392 ,   4.7123933,  -1.5708019,\n",
       "         1.5707939,  -8.763182 ,   7.959534 , -27.558487 ,  11.784746 ],\n",
       "      dtype=float32)"
      ]
     },
     "execution_count": 273,
     "metadata": {},
     "output_type": "execute_result"
    }
   ],
   "source": [
    "minimizer.model.trainable_variables[0].numpy()"
   ]
  },
  {
   "cell_type": "code",
   "execution_count": 276,
   "id": "accurate-hospital",
   "metadata": {},
   "outputs": [
    {
     "data": {
      "text/plain": [
       "array([ True,  True,  True,  True,  True,  True,  True,  True,  True,\n",
       "        True,  True,  True,  True,  True,  True, False, False, False,\n",
       "       False, False, False, False, False, False, False, False, False,\n",
       "       False, False, False])"
      ]
     },
     "execution_count": 276,
     "metadata": {},
     "output_type": "execute_result"
    }
   ],
   "source": [
    "minimizer.model.trainable_variables[0].numpy() == translator.get_trainable_params_value(circuit_db).values"
   ]
  },
  {
   "cell_type": "code",
   "execution_count": null,
   "id": "undefined-manitoba",
   "metadata": {},
   "outputs": [],
   "source": []
  },
  {
   "cell_type": "code",
   "execution_count": null,
   "id": "found-guidance",
   "metadata": {},
   "outputs": [],
   "source": []
  },
  {
   "cell_type": "code",
   "execution_count": null,
   "id": "sound-advisory",
   "metadata": {},
   "outputs": [],
   "source": [
    "minimizer.model"
   ]
  },
  {
   "cell_type": "code",
   "execution_count": 189,
   "id": "addressed-germany",
   "metadata": {},
   "outputs": [],
   "source": [
    "index_candidate = candidates[-1]"
   ]
  },
  {
   "cell_type": "code",
   "execution_count": 192,
   "id": "awful-substance",
   "metadata": {},
   "outputs": [],
   "source": [
    "killed_circuit_db = circuit_db.copy()\n",
    "killed_circuit_db = killed_circuit_db.drop(labels=[index_candidate])\n",
    "killed_circuit_db = shift_symbols_down(translator, index_candidate+1, killed_circuit_db)"
   ]
  },
  {
   "cell_type": "code",
   "execution_count": 201,
   "id": "loving-sodium",
   "metadata": {},
   "outputs": [
    {
     "data": {
      "text/plain": [
       "<tf.Variable 'UnreadVariable' shape=(35,) dtype=float32, numpy=\n",
       "array([ -7.5639486 , -12.323514  ,   2.9956543 ,  -1.225029  ,\n",
       "         8.83897   ,  -2.6570396 ,  -1.217109  ,  -0.3291594 ,\n",
       "        -5.773893  ,  -0.02537766,   3.0512245 ,   1.1152626 ,\n",
       "         8.866069  , -11.183607  ,   5.2946687 ,  -6.36054   ,\n",
       "         4.4531636 ,   1.408257  ,   3.1050994 ,  -0.19842157,\n",
       "        -1.0505066 ,  -4.690259  ,   3.9435654 ,   3.6655378 ,\n",
       "         6.1507707 ,   5.8971634 ,   4.68604   ,  -2.7838554 ,\n",
       "         5.2277045 ,  -4.000388  ,   0.        ,   0.        ,\n",
       "         0.        ,   0.        ,   0.        ], dtype=float32)>"
      ]
     },
     "execution_count": 201,
     "metadata": {},
     "output_type": "execute_result"
    }
   ],
   "source": []
  },
  {
   "cell_type": "code",
   "execution_count": null,
   "id": "liked-payroll",
   "metadata": {},
   "outputs": [],
   "source": []
  },
  {
   "cell_type": "code",
   "execution_count": 180,
   "id": "nasty-subscriber",
   "metadata": {},
   "outputs": [
    {
     "data": {
      "text/plain": [
       "34"
      ]
     },
     "execution_count": 180,
     "metadata": {},
     "output_type": "execute_result"
    }
   ],
   "source": [
    "candidates[np.argmin(killed_costs)]"
   ]
  },
  {
   "cell_type": "code",
   "execution_count": 185,
   "id": "champion-restoration",
   "metadata": {},
   "outputs": [
    {
     "data": {
      "text/plain": [
       "[<tf.Variable 'qnn_discrimination_313/expectation_313/circuit_learnable_parameters:0' shape=(35,) dtype=float32, numpy=\n",
       " array([4.424291  , 5.3947606 , 0.10849769, 3.1368148 , 2.508582  ,\n",
       "        3.534945  , 2.3475435 , 4.621016  , 4.433874  , 1.3207507 ,\n",
       "        4.974452  , 6.041713  , 0.6684681 , 5.2830706 , 6.129201  ,\n",
       "        3.4747632 , 4.4645143 , 0.04447346, 4.8290772 , 5.949737  ,\n",
       "        4.7985797 , 3.6839223 , 2.929514  , 4.004794  , 5.5625668 ,\n",
       "        1.3053555 , 1.0178577 , 4.1340265 , 2.5310347 , 0.09509258,\n",
       "        5.5062547 , 5.2100086 , 3.4384637 , 1.3360531 , 5.9721985 ],\n",
       "       dtype=float32)>]"
      ]
     },
     "execution_count": 185,
     "metadata": {},
     "output_type": "execute_result"
    }
   ],
   "source": [
    "unitary_killer_model.trainable_variables"
   ]
  },
  {
   "cell_type": "code",
   "execution_count": 186,
   "id": "regular-baseline",
   "metadata": {},
   "outputs": [
    {
     "data": {
      "text/plain": [
       "ListWrapper(['th_0', 'th_1', 'th_2', 'th_3', 'th_4', 'th_5', 'th_6', 'th_7', 'th_8', 'th_9', 'th_10', 'th_11', 'th_12', 'th_13', 'th_14', 'th_17', 'th_18', 'th_19', 'th_20', 'th_21', 'th_22', 'th_23', 'th_24', 'th_25', 'th_26', 'th_27', 'th_28', 'th_29', 'th_30', 'th_31', 'th_32', 'th_33', 'th_34', 'th_35', 'th_36'])"
      ]
     },
     "execution_count": 186,
     "metadata": {},
     "output_type": "execute_result"
    }
   ],
   "source": [
    "unitary_killer_model.symbols"
   ]
  },
  {
   "cell_type": "code",
   "execution_count": 187,
   "id": "infectious-record",
   "metadata": {},
   "outputs": [
    {
     "data": {
      "text/plain": [
       "['th_0',\n",
       " 'th_1',\n",
       " 'th_2',\n",
       " 'th_3',\n",
       " 'th_4',\n",
       " 'th_5',\n",
       " 'th_6',\n",
       " 'th_7',\n",
       " 'th_8',\n",
       " 'th_9',\n",
       " 'th_10',\n",
       " 'th_11',\n",
       " 'th_12',\n",
       " 'th_13',\n",
       " 'th_14',\n",
       " 'th_17',\n",
       " 'th_18',\n",
       " 'th_19',\n",
       " 'th_20',\n",
       " 'th_21',\n",
       " 'th_22',\n",
       " 'th_23',\n",
       " 'th_24',\n",
       " 'th_25',\n",
       " 'th_26',\n",
       " 'th_27',\n",
       " 'th_28',\n",
       " 'th_29',\n",
       " 'th_30',\n",
       " 'th_31',\n",
       " 'th_32',\n",
       " 'th_33',\n",
       " 'th_34',\n",
       " 'th_35',\n",
       " 'th_36']"
      ]
     },
     "execution_count": 187,
     "metadata": {},
     "output_type": "execute_result"
    }
   ],
   "source": []
  },
  {
   "cell_type": "code",
   "execution_count": null,
   "id": "ideal-photographer",
   "metadata": {},
   "outputs": [],
   "source": []
  },
  {
   "cell_type": "code",
   "execution_count": null,
   "id": "antique-writing",
   "metadata": {},
   "outputs": [],
   "source": []
  },
  {
   "cell_type": "code",
   "execution_count": 169,
   "id": "medical-announcement",
   "metadata": {},
   "outputs": [
    {
     "data": {
      "text/plain": [
       "[0.49602294,\n",
       " 0.48492002,\n",
       " 0.49629903,\n",
       " 0.4787805,\n",
       " 0.42816806,\n",
       " 0.4300202,\n",
       " 0.4858299,\n",
       " 0.49633598,\n",
       " 0.42846417,\n",
       " 0.4621197,\n",
       " 0.48185438,\n",
       " 0.49001896,\n",
       " 0.41385275,\n",
       " 0.49745893,\n",
       " 0.46259862,\n",
       " 0.37102747,\n",
       " 0.44911987,\n",
       " 0.42798483,\n",
       " 0.41466385,\n",
       " 0.47493106,\n",
       " 0.48041236,\n",
       " 0.42378008,\n",
       " 0.46490633,\n",
       " 0.4588933,\n",
       " 0.47561616,\n",
       " 0.4120258,\n",
       " 0.48969746,\n",
       " 0.49343884,\n",
       " 0.4527728,\n",
       " 0.47416246,\n",
       " 0.38131726,\n",
       " 0.494689,\n",
       " 0.4334966]"
      ]
     },
     "execution_count": 169,
     "metadata": {},
     "output_type": "execute_result"
    }
   ],
   "source": [
    "killed_costs"
   ]
  },
  {
   "cell_type": "code",
   "execution_count": null,
   "id": "comparative-geography",
   "metadata": {},
   "outputs": [],
   "source": []
  },
  {
   "cell_type": "code",
   "execution_count": null,
   "id": "isolated-marathon",
   "metadata": {},
   "outputs": [],
   "source": []
  },
  {
   "cell_type": "code",
   "execution_count": 105,
   "id": "failing-helping",
   "metadata": {},
   "outputs": [],
   "source": [
    "killed_circuit_db = copy.deepcopy(circuit_db)\n",
    "killed_circuit_db = killed_circuit_db.drop(labels=[34])\n",
    "killed_circuit_db = shift_symbols_down(translator, index_candidate+1, killed_circuit_db)\n"
   ]
  },
  {
   "cell_type": "code",
   "execution_count": 106,
   "id": "according-egypt",
   "metadata": {},
   "outputs": [],
   "source": [
    "killed_batch_circuits, survival_symbols, survival_params_value = prepare_optimization_discrimination(translator, killed_circuit_db, etas)\n",
    "unitary_killer_model = minimizer.model_class(survival_symbols, minimizer.observable)"
   ]
  },
  {
   "cell_type": "code",
   "execution_count": 107,
   "id": "measured-involvement",
   "metadata": {},
   "outputs": [
    {
     "ename": "InvalidArgumentError",
     "evalue": "Could not find symbol in parameter map: th_23 [Op:TfqSimulateExpectation]",
     "output_type": "error",
     "traceback": [
      "\u001b[0;31m---------------------------------------------------------------------------\u001b[0m",
      "\u001b[0;31mInvalidArgumentError\u001b[0m                      Traceback (most recent call last)",
      "\u001b[0;32m<ipython-input-107-12b714f5dca8>\u001b[0m in \u001b[0;36m<module>\u001b[0;34m\u001b[0m\n\u001b[0;32m----> 1\u001b[0;31m \u001b[0mminimizer\u001b[0m\u001b[0;34m.\u001b[0m\u001b[0mgive_cost_external_model\u001b[0m\u001b[0;34m(\u001b[0m\u001b[0mbatch_circuits\u001b[0m\u001b[0;34m,\u001b[0m \u001b[0mmodel\u001b[0m\u001b[0;34m=\u001b[0m\u001b[0munitary_killer_model\u001b[0m\u001b[0;34m)\u001b[0m\u001b[0;34m.\u001b[0m\u001b[0mnumpy\u001b[0m\u001b[0;34m(\u001b[0m\u001b[0;34m)\u001b[0m\u001b[0;34m\u001b[0m\u001b[0;34m\u001b[0m\u001b[0m\n\u001b[0m",
      "\u001b[0;32m~/Desktop/qvans/utilities/variational.py\u001b[0m in \u001b[0;36mgive_cost_external_model\u001b[0;34m(self, batched_circuit, model)\u001b[0m\n\u001b[1;32m     55\u001b[0m \u001b[0;34m\u001b[0m\u001b[0m\n\u001b[1;32m     56\u001b[0m     \u001b[0;32mdef\u001b[0m \u001b[0mgive_cost_external_model\u001b[0m\u001b[0;34m(\u001b[0m\u001b[0mself\u001b[0m\u001b[0;34m,\u001b[0m \u001b[0mbatched_circuit\u001b[0m\u001b[0;34m,\u001b[0m \u001b[0mmodel\u001b[0m\u001b[0;34m)\u001b[0m\u001b[0;34m:\u001b[0m\u001b[0;34m\u001b[0m\u001b[0;34m\u001b[0m\u001b[0m\n\u001b[0;32m---> 57\u001b[0;31m         \u001b[0;32mreturn\u001b[0m \u001b[0mself\u001b[0m\u001b[0;34m.\u001b[0m\u001b[0mloss\u001b[0m\u001b[0;34m(\u001b[0m\u001b[0;34m*\u001b[0m\u001b[0;34m[\u001b[0m\u001b[0mmodel\u001b[0m\u001b[0;34m(\u001b[0m\u001b[0mbatched_circuit\u001b[0m\u001b[0;34m)\u001b[0m\u001b[0;34m]\u001b[0m\u001b[0;34m*\u001b[0m\u001b[0;36m2\u001b[0m\u001b[0;34m)\u001b[0m \u001b[0;31m###useful for unitary killer\u001b[0m\u001b[0;34m\u001b[0m\u001b[0;34m\u001b[0m\u001b[0m\n\u001b[0m\u001b[1;32m     58\u001b[0m \u001b[0;34m\u001b[0m\u001b[0m\n\u001b[1;32m     59\u001b[0m \u001b[0;34m\u001b[0m\u001b[0m\n",
      "\u001b[0;32m~/.local/lib/python3.6/site-packages/tensorflow/python/keras/engine/base_layer.py\u001b[0m in \u001b[0;36m__call__\u001b[0;34m(self, *args, **kwargs)\u001b[0m\n\u001b[1;32m    983\u001b[0m \u001b[0;34m\u001b[0m\u001b[0m\n\u001b[1;32m    984\u001b[0m         \u001b[0;32mwith\u001b[0m \u001b[0mops\u001b[0m\u001b[0;34m.\u001b[0m\u001b[0menable_auto_cast_variables\u001b[0m\u001b[0;34m(\u001b[0m\u001b[0mself\u001b[0m\u001b[0;34m.\u001b[0m\u001b[0m_compute_dtype_object\u001b[0m\u001b[0;34m)\u001b[0m\u001b[0;34m:\u001b[0m\u001b[0;34m\u001b[0m\u001b[0;34m\u001b[0m\u001b[0m\n\u001b[0;32m--> 985\u001b[0;31m           \u001b[0moutputs\u001b[0m \u001b[0;34m=\u001b[0m \u001b[0mcall_fn\u001b[0m\u001b[0;34m(\u001b[0m\u001b[0minputs\u001b[0m\u001b[0;34m,\u001b[0m \u001b[0;34m*\u001b[0m\u001b[0margs\u001b[0m\u001b[0;34m,\u001b[0m \u001b[0;34m**\u001b[0m\u001b[0mkwargs\u001b[0m\u001b[0;34m)\u001b[0m\u001b[0;34m\u001b[0m\u001b[0;34m\u001b[0m\u001b[0m\n\u001b[0m\u001b[1;32m    986\u001b[0m \u001b[0;34m\u001b[0m\u001b[0m\n\u001b[1;32m    987\u001b[0m         \u001b[0;32mif\u001b[0m \u001b[0mself\u001b[0m\u001b[0;34m.\u001b[0m\u001b[0m_activity_regularizer\u001b[0m\u001b[0;34m:\u001b[0m\u001b[0;34m\u001b[0m\u001b[0;34m\u001b[0m\u001b[0m\n",
      "\u001b[0;32m~/Desktop/qvans/utilities/discrimination.py\u001b[0m in \u001b[0;36mcall\u001b[0;34m(self, inputs)\u001b[0m\n\u001b[1;32m     59\u001b[0m         \"\"\"\n\u001b[1;32m     60\u001b[0m         \u001b[0mfeat\u001b[0m \u001b[0;34m=\u001b[0m \u001b[0minputs\u001b[0m\u001b[0;34m\u001b[0m\u001b[0;34m\u001b[0m\u001b[0m\n\u001b[0;32m---> 61\u001b[0;31m         \u001b[0mf\u001b[0m \u001b[0;34m=\u001b[0m \u001b[0mself\u001b[0m\u001b[0;34m.\u001b[0m\u001b[0mexpectation_layer\u001b[0m\u001b[0;34m(\u001b[0m\u001b[0mfeat\u001b[0m\u001b[0;34m,\u001b[0m \u001b[0moperators\u001b[0m\u001b[0;34m=\u001b[0m\u001b[0mself\u001b[0m\u001b[0;34m.\u001b[0m\u001b[0mobservable\u001b[0m\u001b[0;34m,\u001b[0m \u001b[0msymbol_names\u001b[0m\u001b[0;34m=\u001b[0m\u001b[0mself\u001b[0m\u001b[0;34m.\u001b[0m\u001b[0msymbols\u001b[0m\u001b[0;34m)\u001b[0m\u001b[0;34m\u001b[0m\u001b[0;34m\u001b[0m\u001b[0m\n\u001b[0m\u001b[1;32m     62\u001b[0m         \u001b[0;31m#f = tf.math.reduce_sum(f,axis=-1)\u001b[0m\u001b[0;34m\u001b[0m\u001b[0;34m\u001b[0m\u001b[0;34m\u001b[0m\u001b[0m\n\u001b[1;32m     63\u001b[0m         \u001b[0;32mreturn\u001b[0m \u001b[0mf\u001b[0m\u001b[0;34m\u001b[0m\u001b[0;34m\u001b[0m\u001b[0m\n",
      "\u001b[0;32m~/.local/lib/python3.6/site-packages/tensorflow/python/keras/engine/base_layer.py\u001b[0m in \u001b[0;36m__call__\u001b[0;34m(self, *args, **kwargs)\u001b[0m\n\u001b[1;32m    983\u001b[0m \u001b[0;34m\u001b[0m\u001b[0m\n\u001b[1;32m    984\u001b[0m         \u001b[0;32mwith\u001b[0m \u001b[0mops\u001b[0m\u001b[0;34m.\u001b[0m\u001b[0menable_auto_cast_variables\u001b[0m\u001b[0;34m(\u001b[0m\u001b[0mself\u001b[0m\u001b[0;34m.\u001b[0m\u001b[0m_compute_dtype_object\u001b[0m\u001b[0;34m)\u001b[0m\u001b[0;34m:\u001b[0m\u001b[0;34m\u001b[0m\u001b[0;34m\u001b[0m\u001b[0m\n\u001b[0;32m--> 985\u001b[0;31m           \u001b[0moutputs\u001b[0m \u001b[0;34m=\u001b[0m \u001b[0mcall_fn\u001b[0m\u001b[0;34m(\u001b[0m\u001b[0minputs\u001b[0m\u001b[0;34m,\u001b[0m \u001b[0;34m*\u001b[0m\u001b[0margs\u001b[0m\u001b[0;34m,\u001b[0m \u001b[0;34m**\u001b[0m\u001b[0mkwargs\u001b[0m\u001b[0;34m)\u001b[0m\u001b[0;34m\u001b[0m\u001b[0;34m\u001b[0m\u001b[0m\n\u001b[0m\u001b[1;32m    986\u001b[0m \u001b[0;34m\u001b[0m\u001b[0m\n\u001b[1;32m    987\u001b[0m         \u001b[0;32mif\u001b[0m \u001b[0mself\u001b[0m\u001b[0;34m.\u001b[0m\u001b[0m_activity_regularizer\u001b[0m\u001b[0;34m:\u001b[0m\u001b[0;34m\u001b[0m\u001b[0;34m\u001b[0m\u001b[0m\n",
      "\u001b[0;32m~/.local/lib/python3.6/site-packages/tensorflow_quantum/python/layers/circuit_executors/expectation.py\u001b[0m in \u001b[0;36mcall\u001b[0;34m(self, inputs, symbol_names, symbol_values, operators, initializer)\u001b[0m\n\u001b[1;32m    294\u001b[0m \u001b[0;34m\u001b[0m\u001b[0m\n\u001b[1;32m    295\u001b[0m         return self._expectation_op(inputs, symbol_names, symbol_values,\n\u001b[0;32m--> 296\u001b[0;31m                                     operators)\n\u001b[0m",
      "\u001b[0;32m~/.local/lib/python3.6/site-packages/tensorflow/python/ops/custom_gradient.py\u001b[0m in \u001b[0;36m__call__\u001b[0;34m(self, *a, **k)\u001b[0m\n\u001b[1;32m    262\u001b[0m \u001b[0;34m\u001b[0m\u001b[0m\n\u001b[1;32m    263\u001b[0m   \u001b[0;32mdef\u001b[0m \u001b[0m__call__\u001b[0m\u001b[0;34m(\u001b[0m\u001b[0mself\u001b[0m\u001b[0;34m,\u001b[0m \u001b[0;34m*\u001b[0m\u001b[0ma\u001b[0m\u001b[0;34m,\u001b[0m \u001b[0;34m**\u001b[0m\u001b[0mk\u001b[0m\u001b[0;34m)\u001b[0m\u001b[0;34m:\u001b[0m\u001b[0;34m\u001b[0m\u001b[0;34m\u001b[0m\u001b[0m\n\u001b[0;32m--> 264\u001b[0;31m     \u001b[0;32mreturn\u001b[0m \u001b[0mself\u001b[0m\u001b[0;34m.\u001b[0m\u001b[0m_d\u001b[0m\u001b[0;34m(\u001b[0m\u001b[0mself\u001b[0m\u001b[0;34m.\u001b[0m\u001b[0m_f\u001b[0m\u001b[0;34m,\u001b[0m \u001b[0ma\u001b[0m\u001b[0;34m,\u001b[0m \u001b[0mk\u001b[0m\u001b[0;34m)\u001b[0m\u001b[0;34m\u001b[0m\u001b[0;34m\u001b[0m\u001b[0m\n\u001b[0m\u001b[1;32m    265\u001b[0m \u001b[0;34m\u001b[0m\u001b[0m\n\u001b[1;32m    266\u001b[0m \u001b[0;34m\u001b[0m\u001b[0m\n",
      "\u001b[0;32m~/.local/lib/python3.6/site-packages/tensorflow/python/ops/custom_gradient.py\u001b[0m in \u001b[0;36mdecorated\u001b[0;34m(wrapped, args, kwargs)\u001b[0m\n\u001b[1;32m    216\u001b[0m \u001b[0;34m\u001b[0m\u001b[0m\n\u001b[1;32m    217\u001b[0m     \u001b[0;32mif\u001b[0m \u001b[0mcontext\u001b[0m\u001b[0;34m.\u001b[0m\u001b[0mexecuting_eagerly\u001b[0m\u001b[0;34m(\u001b[0m\u001b[0;34m)\u001b[0m\u001b[0;34m:\u001b[0m\u001b[0;34m\u001b[0m\u001b[0;34m\u001b[0m\u001b[0m\n\u001b[0;32m--> 218\u001b[0;31m       \u001b[0;32mreturn\u001b[0m \u001b[0m_eager_mode_decorator\u001b[0m\u001b[0;34m(\u001b[0m\u001b[0mwrapped\u001b[0m\u001b[0;34m,\u001b[0m \u001b[0margs\u001b[0m\u001b[0;34m,\u001b[0m \u001b[0mkwargs\u001b[0m\u001b[0;34m)\u001b[0m\u001b[0;34m\u001b[0m\u001b[0;34m\u001b[0m\u001b[0m\n\u001b[0m\u001b[1;32m    219\u001b[0m     \u001b[0;32melse\u001b[0m\u001b[0;34m:\u001b[0m\u001b[0;34m\u001b[0m\u001b[0;34m\u001b[0m\u001b[0m\n\u001b[1;32m    220\u001b[0m       \u001b[0;32mreturn\u001b[0m \u001b[0m_graph_mode_decorator\u001b[0m\u001b[0;34m(\u001b[0m\u001b[0mwrapped\u001b[0m\u001b[0;34m,\u001b[0m \u001b[0margs\u001b[0m\u001b[0;34m,\u001b[0m \u001b[0mkwargs\u001b[0m\u001b[0;34m)\u001b[0m\u001b[0;34m\u001b[0m\u001b[0;34m\u001b[0m\u001b[0m\n",
      "\u001b[0;32m~/.local/lib/python3.6/site-packages/tensorflow/python/ops/custom_gradient.py\u001b[0m in \u001b[0;36m_eager_mode_decorator\u001b[0;34m(f, args, kwargs)\u001b[0m\n\u001b[1;32m    410\u001b[0m   \u001b[0;34m\"\"\"Implement custom gradient decorator for eager mode.\"\"\"\u001b[0m\u001b[0;34m\u001b[0m\u001b[0;34m\u001b[0m\u001b[0m\n\u001b[1;32m    411\u001b[0m   \u001b[0;32mwith\u001b[0m \u001b[0mtape_lib\u001b[0m\u001b[0;34m.\u001b[0m\u001b[0mVariableWatcher\u001b[0m\u001b[0;34m(\u001b[0m\u001b[0;34m)\u001b[0m \u001b[0;32mas\u001b[0m \u001b[0mvariable_watcher\u001b[0m\u001b[0;34m:\u001b[0m\u001b[0;34m\u001b[0m\u001b[0;34m\u001b[0m\u001b[0m\n\u001b[0;32m--> 412\u001b[0;31m     \u001b[0mresult\u001b[0m\u001b[0;34m,\u001b[0m \u001b[0mgrad_fn\u001b[0m \u001b[0;34m=\u001b[0m \u001b[0mf\u001b[0m\u001b[0;34m(\u001b[0m\u001b[0;34m*\u001b[0m\u001b[0margs\u001b[0m\u001b[0;34m,\u001b[0m \u001b[0;34m**\u001b[0m\u001b[0mkwargs\u001b[0m\u001b[0;34m)\u001b[0m\u001b[0;34m\u001b[0m\u001b[0;34m\u001b[0m\u001b[0m\n\u001b[0m\u001b[1;32m    413\u001b[0m   \u001b[0margs\u001b[0m \u001b[0;34m=\u001b[0m \u001b[0mnest\u001b[0m\u001b[0;34m.\u001b[0m\u001b[0mflatten\u001b[0m\u001b[0;34m(\u001b[0m\u001b[0margs\u001b[0m\u001b[0;34m)\u001b[0m\u001b[0;34m\u001b[0m\u001b[0;34m\u001b[0m\u001b[0m\n\u001b[1;32m    414\u001b[0m   \u001b[0mall_inputs\u001b[0m \u001b[0;34m=\u001b[0m \u001b[0mlist\u001b[0m\u001b[0;34m(\u001b[0m\u001b[0margs\u001b[0m\u001b[0;34m)\u001b[0m \u001b[0;34m+\u001b[0m \u001b[0mlist\u001b[0m\u001b[0;34m(\u001b[0m\u001b[0mkwargs\u001b[0m\u001b[0;34m.\u001b[0m\u001b[0mvalues\u001b[0m\u001b[0;34m(\u001b[0m\u001b[0;34m)\u001b[0m\u001b[0;34m)\u001b[0m\u001b[0;34m\u001b[0m\u001b[0;34m\u001b[0m\u001b[0m\n",
      "\u001b[0;32m~/.local/lib/python3.6/site-packages/tensorflow_quantum/python/differentiators/differentiator.py\u001b[0m in \u001b[0;36mop_wrapper_analytic\u001b[0;34m(programs, symbol_names, symbol_values, pauli_sums)\u001b[0m\n\u001b[1;32m    126\u001b[0m                                 pauli_sums):\n\u001b[1;32m    127\u001b[0m             forward_pass_vals = analytic_op(programs, symbol_names,\n\u001b[0;32m--> 128\u001b[0;31m                                             symbol_values, pauli_sums)\n\u001b[0m\u001b[1;32m    129\u001b[0m \u001b[0;34m\u001b[0m\u001b[0m\n\u001b[1;32m    130\u001b[0m             \u001b[0;32mdef\u001b[0m \u001b[0mgradient\u001b[0m\u001b[0;34m(\u001b[0m\u001b[0mgrad\u001b[0m\u001b[0;34m)\u001b[0m\u001b[0;34m:\u001b[0m\u001b[0;34m\u001b[0m\u001b[0;34m\u001b[0m\u001b[0m\n",
      "\u001b[0;32m~/.local/lib/python3.6/site-packages/tensorflow_quantum/core/ops/circuit_execution_ops.py\u001b[0m in \u001b[0;36m<lambda>\u001b[0;34m(programs, symbol_names, symbol_values, pauli_sums)\u001b[0m\n\u001b[1;32m    130\u001b[0m             \u001b[0;31m# Return an op that does not block graph level parallelism.\u001b[0m\u001b[0;34m\u001b[0m\u001b[0;34m\u001b[0m\u001b[0;34m\u001b[0m\u001b[0m\n\u001b[1;32m    131\u001b[0m             \u001b[0;32mreturn\u001b[0m \u001b[0;32mlambda\u001b[0m \u001b[0mprograms\u001b[0m\u001b[0;34m,\u001b[0m \u001b[0msymbol_names\u001b[0m\u001b[0;34m,\u001b[0m \u001b[0msymbol_values\u001b[0m\u001b[0;34m,\u001b[0m \u001b[0mpauli_sums\u001b[0m\u001b[0;34m:\u001b[0m\u001b[0;31m \u001b[0m\u001b[0;31m\\\u001b[0m\u001b[0;34m\u001b[0m\u001b[0;34m\u001b[0m\u001b[0m\n\u001b[0;32m--> 132\u001b[0;31m                 \u001b[0mop\u001b[0m\u001b[0;34m(\u001b[0m\u001b[0mprograms\u001b[0m\u001b[0;34m,\u001b[0m \u001b[0msymbol_names\u001b[0m\u001b[0;34m,\u001b[0m \u001b[0msymbol_values\u001b[0m\u001b[0;34m,\u001b[0m \u001b[0mpauli_sums\u001b[0m\u001b[0;34m)\u001b[0m\u001b[0;34m\u001b[0m\u001b[0;34m\u001b[0m\u001b[0m\n\u001b[0m\u001b[1;32m    133\u001b[0m \u001b[0;34m\u001b[0m\u001b[0m\n\u001b[1;32m    134\u001b[0m         \u001b[0;31m# Return an op that does block graph level parallelism.\u001b[0m\u001b[0;34m\u001b[0m\u001b[0;34m\u001b[0m\u001b[0;34m\u001b[0m\u001b[0m\n",
      "\u001b[0;32m~/.local/lib/python3.6/site-packages/tensorflow_quantum/core/ops/tfq_simulate_ops.py\u001b[0m in \u001b[0;36mtfq_simulate_expectation\u001b[0;34m(programs, symbol_names, symbol_values, pauli_sums)\u001b[0m\n\u001b[1;32m     43\u001b[0m     \"\"\"\n\u001b[1;32m     44\u001b[0m     return SIM_OP_MODULE.tfq_simulate_expectation(\n\u001b[0;32m---> 45\u001b[0;31m         programs, symbol_names, tf.cast(symbol_values, tf.float32), pauli_sums)\n\u001b[0m\u001b[1;32m     46\u001b[0m \u001b[0;34m\u001b[0m\u001b[0m\n\u001b[1;32m     47\u001b[0m \u001b[0;34m\u001b[0m\u001b[0m\n",
      "\u001b[0;32m<string>\u001b[0m in \u001b[0;36mtfq_simulate_expectation\u001b[0;34m(programs, symbol_names, symbol_values, pauli_sums, name)\u001b[0m\n",
      "\u001b[0;32m~/.local/lib/python3.6/site-packages/tensorflow/python/framework/ops.py\u001b[0m in \u001b[0;36mraise_from_not_ok_status\u001b[0;34m(e, name)\u001b[0m\n\u001b[1;32m   6841\u001b[0m   \u001b[0mmessage\u001b[0m \u001b[0;34m=\u001b[0m \u001b[0me\u001b[0m\u001b[0;34m.\u001b[0m\u001b[0mmessage\u001b[0m \u001b[0;34m+\u001b[0m \u001b[0;34m(\u001b[0m\u001b[0;34m\" name: \"\u001b[0m \u001b[0;34m+\u001b[0m \u001b[0mname\u001b[0m \u001b[0;32mif\u001b[0m \u001b[0mname\u001b[0m \u001b[0;32mis\u001b[0m \u001b[0;32mnot\u001b[0m \u001b[0;32mNone\u001b[0m \u001b[0;32melse\u001b[0m \u001b[0;34m\"\"\u001b[0m\u001b[0;34m)\u001b[0m\u001b[0;34m\u001b[0m\u001b[0;34m\u001b[0m\u001b[0m\n\u001b[1;32m   6842\u001b[0m   \u001b[0;31m# pylint: disable=protected-access\u001b[0m\u001b[0;34m\u001b[0m\u001b[0;34m\u001b[0m\u001b[0;34m\u001b[0m\u001b[0m\n\u001b[0;32m-> 6843\u001b[0;31m   \u001b[0msix\u001b[0m\u001b[0;34m.\u001b[0m\u001b[0mraise_from\u001b[0m\u001b[0;34m(\u001b[0m\u001b[0mcore\u001b[0m\u001b[0;34m.\u001b[0m\u001b[0m_status_to_exception\u001b[0m\u001b[0;34m(\u001b[0m\u001b[0me\u001b[0m\u001b[0;34m.\u001b[0m\u001b[0mcode\u001b[0m\u001b[0;34m,\u001b[0m \u001b[0mmessage\u001b[0m\u001b[0;34m)\u001b[0m\u001b[0;34m,\u001b[0m \u001b[0;32mNone\u001b[0m\u001b[0;34m)\u001b[0m\u001b[0;34m\u001b[0m\u001b[0;34m\u001b[0m\u001b[0m\n\u001b[0m\u001b[1;32m   6844\u001b[0m   \u001b[0;31m# pylint: enable=protected-access\u001b[0m\u001b[0;34m\u001b[0m\u001b[0;34m\u001b[0m\u001b[0;34m\u001b[0m\u001b[0m\n\u001b[1;32m   6845\u001b[0m \u001b[0;34m\u001b[0m\u001b[0m\n",
      "\u001b[0;32m~/.local/lib/python3.6/site-packages/six.py\u001b[0m in \u001b[0;36mraise_from\u001b[0;34m(value, from_value)\u001b[0m\n",
      "\u001b[0;31mInvalidArgumentError\u001b[0m: Could not find symbol in parameter map: th_23 [Op:TfqSimulateExpectation]"
     ]
    }
   ],
   "source": [
    "minimizer.give_cost_external_model(batch_circuits, model=unitary_killer_model).numpy()"
   ]
  },
  {
   "cell_type": "code",
   "execution_count": null,
   "id": "natural-auction",
   "metadata": {},
   "outputs": [],
   "source": [
    "\n",
    "killed_batch_circuits, survival_symbols, survival_params_value = prepare_optimization_discrimination(translator, killed_circuit_db, etas)\n",
    "\n",
    "unitary_killer_model = minimizer.model_class(survival_symbols, minimizer.observable)\n",
    "killed_costs.append(minimizer.give_cost_external_model(batch_circuits, model=unitary_killer_model).numpy())"
   ]
  },
  {
   "cell_type": "code",
   "execution_count": null,
   "id": "assisted-highland",
   "metadata": {},
   "outputs": [],
   "source": []
  },
  {
   "cell_type": "code",
   "execution_count": 88,
   "id": "racial-minimum",
   "metadata": {},
   "outputs": [],
   "source": [
    "batch_circuits, survival_symbols, survival_params_value = prepare_optimization_discrimination(translator, circuit_db, etas)"
   ]
  },
  {
   "cell_type": "code",
   "execution_count": 89,
   "id": "scenic-explosion",
   "metadata": {},
   "outputs": [
    {
     "data": {
      "text/plain": [
       "<tf.Tensor: shape=(), dtype=float32, numpy=0.14601344>"
      ]
     },
     "execution_count": 89,
     "metadata": {},
     "output_type": "execute_result"
    }
   ],
   "source": [
    "minimizer.give_cost(batch_circuits)"
   ]
  },
  {
   "cell_type": "code",
   "execution_count": 93,
   "id": "spectacular-medication",
   "metadata": {},
   "outputs": [
    {
     "data": {
      "text/plain": [
       "0.3521489"
      ]
     },
     "execution_count": 93,
     "metadata": {},
     "output_type": "execute_result"
    }
   ],
   "source": [
    "np.min(killed_costs)"
   ]
  },
  {
   "cell_type": "code",
   "execution_count": 99,
   "id": "mounted-thompson",
   "metadata": {},
   "outputs": [
    {
     "data": {
      "text/html": [
       "<pre style=\"overflow: auto; white-space: pre;\">(0, 0): ───Rz(th_0)───Rx(th_1)───Rz(th_2)───@───Rz(th_6)───X──────────────@───Rz(th_9)────Rx(th_10)───Rz(th_11)───Rz(th_17)───Rx(th_18)───Rz(th_19)──────────────────────────────────────────────────────────────────@───Rz(th_23)───X───────────────@───Rz(th_26)───Rx(th_27)───Rz(th_28)───\n",
       "                                            │              │              │                                                                                                                                          │               │               │\n",
       "(0, 1): ───Rz(th_3)───Rx(th_4)───Rz(th_5)───X───Ry(th_7)───@───Ry(th_8)───X───Rz(th_12)───Rx(th_13)───Rz(th_14)───H───────────X────────────────────────X───H─────────────────X───Rz(th_20)───Rx(th_21)───Rz(th_22)───X───Ry(th_24)───@───Ry(th_25)───X───Rz(th_29)───Rx(th_30)───Rz(th_31)───\n",
       "                                                                                                                              │                        │                     │\n",
       "(0, 2): ───H──────────────────────────────────────────────────────────────────────────────────────────────────────────────────@───────────Ry(0.002π)───@───H───Ry(-0.411π)───@───────────────────────────────────────────────────────────────────────────────────────────────────────────────</pre>"
      ],
      "text/plain": [
       "(0, 0): ───Rz(th_0)───Rx(th_1)───Rz(th_2)───@───Rz(th_6)───X──────────────@───Rz(th_9)────Rx(th_10)───Rz(th_11)───Rz(th_17)───Rx(th_18)───Rz(th_19)──────────────────────────────────────────────────────────────────@───Rz(th_23)───X───────────────@───Rz(th_26)───Rx(th_27)───Rz(th_28)───\n",
       "                                            │              │              │                                                                                                                                          │               │               │\n",
       "(0, 1): ───Rz(th_3)───Rx(th_4)───Rz(th_5)───X───Ry(th_7)───@───Ry(th_8)───X───Rz(th_12)───Rx(th_13)───Rz(th_14)───H───────────X────────────────────────X───H─────────────────X───Rz(th_20)───Rx(th_21)───Rz(th_22)───X───Ry(th_24)───@───Ry(th_25)───X───Rz(th_29)───Rx(th_30)───Rz(th_31)───\n",
       "                                                                                                                              │                        │                     │\n",
       "(0, 2): ───H──────────────────────────────────────────────────────────────────────────────────────────────────────────────────@───────────Ry(0.002π)───@───H───Ry(-0.411π)───@───────────────────────────────────────────────────────────────────────────────────────────────────────────────"
      ]
     },
     "execution_count": 99,
     "metadata": {},
     "output_type": "execute_result"
    }
   ],
   "source": [
    "translator.give_circuit(circuit_db, unresolved=True)[0]"
   ]
  },
  {
   "cell_type": "code",
   "execution_count": null,
   "id": "express-implementation",
   "metadata": {},
   "outputs": [],
   "source": []
  },
  {
   "cell_type": "code",
   "execution_count": null,
   "id": "common-divide",
   "metadata": {},
   "outputs": [],
   "source": []
  },
  {
   "cell_type": "code",
   "execution_count": null,
   "id": "supported-priest",
   "metadata": {},
   "outputs": [],
   "source": []
  },
  {
   "cell_type": "code",
   "execution_count": null,
   "id": "split-worcester",
   "metadata": {},
   "outputs": [],
   "source": []
  },
  {
   "cell_type": "code",
   "execution_count": 3,
   "id": "medieval-reward",
   "metadata": {},
   "outputs": [],
   "source": [
    "simplifier = Simplifier(translator)\n",
    "simplified_db, nreds = simplifier.reduce_circuit(circuit_db)"
   ]
  },
  {
   "cell_type": "code",
   "execution_count": 4,
   "id": "aware-status",
   "metadata": {},
   "outputs": [
    {
     "data": {
      "text/plain": [
       "<tf.Tensor: shape=(), dtype=float32, numpy=0.14601386>"
      ]
     },
     "execution_count": 4,
     "metadata": {},
     "output_type": "execute_result"
    }
   ],
   "source": [
    "simplified_batch_circuits, _ = channel_circuits(translator, simplified_db, etas )\n",
    "minimizer.give_cost(simplified_batch_circuits)"
   ]
  },
  {
   "cell_type": "code",
   "execution_count": 6,
   "id": "intimate-filter",
   "metadata": {},
   "outputs": [],
   "source": [
    "inserter = IdInserter(translator.n_qubits, untouchable_blocks=translator.channel_id)"
   ]
  },
  {
   "cell_type": "code",
   "execution_count": 7,
   "id": "pressed-reform",
   "metadata": {},
   "outputs": [],
   "source": [
    "mutated_circuit_db = inserter.insert_many_mutations(circuit_db )"
   ]
  },
  {
   "cell_type": "code",
   "execution_count": 9,
   "id": "acoustic-defeat",
   "metadata": {},
   "outputs": [],
   "source": [
    "batch_circuits, trainable_symbols, trainable_params_value = prepare_optimization_discrimination(translator, mutated_circuit_db, etas)\n",
    "cost, resolver, training_history = minimizer.minimize(batch_circuits, symbols = trainable_symbols, parameter_values = trainable_params_value )"
   ]
  },
  {
   "cell_type": "code",
   "execution_count": null,
   "id": "compressed-purple",
   "metadata": {},
   "outputs": [],
   "source": []
  },
  {
   "cell_type": "code",
   "execution_count": null,
   "id": "electric-morning",
   "metadata": {},
   "outputs": [],
   "source": []
  },
  {
   "cell_type": "code",
   "execution_count": null,
   "id": "rocky-guatemala",
   "metadata": {},
   "outputs": [],
   "source": []
  },
  {
   "cell_type": "code",
   "execution_count": null,
   "id": "adverse-wound",
   "metadata": {},
   "outputs": [],
   "source": []
  },
  {
   "cell_type": "code",
   "execution_count": null,
   "id": "analyzed-bacteria",
   "metadata": {},
   "outputs": [],
   "source": []
  },
  {
   "cell_type": "code",
   "execution_count": null,
   "id": "aware-nursery",
   "metadata": {},
   "outputs": [],
   "source": []
  },
  {
   "cell_type": "code",
   "execution_count": null,
   "id": "conditional-chorus",
   "metadata": {},
   "outputs": [],
   "source": []
  },
  {
   "cell_type": "code",
   "execution_count": null,
   "id": "wanted-fashion",
   "metadata": {},
   "outputs": [],
   "source": []
  },
  {
   "cell_type": "code",
   "execution_count": null,
   "id": "initial-spain",
   "metadata": {},
   "outputs": [],
   "source": []
  },
  {
   "cell_type": "code",
   "execution_count": 60,
   "id": "patent-insured",
   "metadata": {},
   "outputs": [
    {
     "data": {
      "text/plain": [
       "<tf.Tensor: shape=(), dtype=float32, numpy=0.4793837>"
      ]
     },
     "execution_count": 60,
     "metadata": {},
     "output_type": "execute_result"
    }
   ],
   "source": [
    "minimizer.give_cost(channel_circuits(translator, circuit_db, etas )[0], resolver = translator.give_resolver(circuit_db),model = minimizer.model)"
   ]
  },
  {
   "cell_type": "code",
   "execution_count": 59,
   "id": "executed-canvas",
   "metadata": {},
   "outputs": [
    {
     "data": {
      "text/plain": [
       "<tf.Tensor: shape=(), dtype=float32, numpy=0.4793837>"
      ]
     },
     "execution_count": 59,
     "metadata": {},
     "output_type": "execute_result"
    }
   ],
   "source": [
    "minimizer.give_cost(channel_circuits(translator, simplified_db, etas )[0], resolver = translator.give_resolver(circuit_db), model = minimizer.model)"
   ]
  },
  {
   "cell_type": "code",
   "execution_count": 58,
   "id": "weighted-sierra",
   "metadata": {},
   "outputs": [
    {
     "data": {
      "text/plain": [
       "<tf.Tensor: shape=(), dtype=float32, numpy=0.14601326>"
      ]
     },
     "execution_count": 58,
     "metadata": {},
     "output_type": "execute_result"
    }
   ],
   "source": [
    "minimizer.loss(*[minimizer.model(batch_circuits)]*2)"
   ]
  },
  {
   "cell_type": "code",
   "execution_count": 62,
   "id": "sharing-rwanda",
   "metadata": {},
   "outputs": [
    {
     "data": {
      "text/plain": [
       "<tf.Tensor: shape=(2, 3), dtype=float32, numpy=\n",
       "array([[ 0.99979985, -0.9999999 ,  0.99979985],\n",
       "       [-0.41614735, -0.9999999 , -0.41614735]], dtype=float32)>"
      ]
     },
     "execution_count": 62,
     "metadata": {},
     "output_type": "execute_result"
    }
   ],
   "source": [
    "minimizer.model(batch_circuits)"
   ]
  },
  {
   "cell_type": "code",
   "execution_count": 63,
   "id": "breathing-yugoslavia",
   "metadata": {},
   "outputs": [],
   "source": [
    "sbatch_circuits, batch_circuits_db = channel_circuits(translator, simplified_db, etas )"
   ]
  },
  {
   "cell_type": "code",
   "execution_count": null,
   "id": "falling-packing",
   "metadata": {},
   "outputs": [],
   "source": []
  }
 ],
 "metadata": {
  "kernelspec": {
   "display_name": "Python 3",
   "language": "python",
   "name": "python3"
  },
  "language_info": {
   "codemirror_mode": {
    "name": "ipython",
    "version": 3
   },
   "file_extension": ".py",
   "mimetype": "text/x-python",
   "name": "python",
   "nbconvert_exporter": "python",
   "pygments_lexer": "ipython3",
   "version": "3.6.9"
  }
 },
 "nbformat": 4,
 "nbformat_minor": 5
}
