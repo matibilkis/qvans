{
 "cells": [
  {
   "cell_type": "code",
   "execution_count": 1,
   "id": "damaged-perry",
   "metadata": {},
   "outputs": [],
   "source": [
    "%load_ext autoreload\n",
    "%autoreload 2\n",
    "import sympy \n",
    "import numpy as np \n",
    "import pandas as pd "
   ]
  },
  {
   "cell_type": "code",
   "execution_count": 2,
   "id": "descending-subcommittee",
   "metadata": {},
   "outputs": [],
   "source": [
    "from utilities.circuit_database import CirqTranslater\n",
    "from utilities.templates import *\n",
    "from utilities.variational import Minimizer\n"
   ]
  },
  {
   "cell_type": "code",
   "execution_count": 3,
   "id": "published-investment",
   "metadata": {},
   "outputs": [],
   "source": [
    "translator = CirqTranslater(3)"
   ]
  },
  {
   "cell_type": "code",
   "execution_count": 4,
   "id": "dominican-pendant",
   "metadata": {},
   "outputs": [
    {
     "ename": "NameError",
     "evalue": "name 'u2_ansatz' is not defined",
     "output_type": "error",
     "traceback": [
      "\u001b[0;31m---------------------------------------------------------------------------\u001b[0m",
      "\u001b[0;31mNameError\u001b[0m                                 Traceback (most recent call last)",
      "\u001b[0;32m<ipython-input-4-8f24ca5ecf27>\u001b[0m in \u001b[0;36m<module>\u001b[0;34m\u001b[0m\n\u001b[0;32m----> 1\u001b[0;31m \u001b[0mcircuit_db\u001b[0m \u001b[0;34m=\u001b[0m \u001b[0mu2_ansatz\u001b[0m\u001b[0;34m(\u001b[0m\u001b[0mtranslator\u001b[0m\u001b[0;34m)\u001b[0m\u001b[0;34m\u001b[0m\u001b[0;34m\u001b[0m\u001b[0m\n\u001b[0m\u001b[1;32m      2\u001b[0m \u001b[0mcircuit\u001b[0m\u001b[0;34m,\u001b[0m \u001b[0mcircuit_db\u001b[0m \u001b[0;34m=\u001b[0m \u001b[0mtranslator\u001b[0m\u001b[0;34m.\u001b[0m\u001b[0mgive_circuit\u001b[0m\u001b[0;34m(\u001b[0m\u001b[0mcircuit_db\u001b[0m\u001b[0;34m)\u001b[0m\u001b[0;34m\u001b[0m\u001b[0;34m\u001b[0m\u001b[0m\n",
      "\u001b[0;31mNameError\u001b[0m: name 'u2_ansatz' is not defined"
     ]
    }
   ],
   "source": [
    "circuit_db = u2_ansatz(translator)\n",
    "circuit, circuit_db = translator.give_circuit(circuit_db)"
   ]
  },
  {
   "cell_type": "code",
   "execution_count": 112,
   "id": "likely-premium",
   "metadata": {},
   "outputs": [],
   "source": [
    "minimizer = Minimizer(translator, mode=\"VQE\", hamiltonian=\"XXZ\",params=[.01,1])"
   ]
  },
  {
   "cell_type": "code",
   "execution_count": 123,
   "id": "split-decision",
   "metadata": {},
   "outputs": [],
   "source": [
    "symbols = translator.get_symbols(circuit_db)"
   ]
  },
  {
   "cell_type": "code",
   "execution_count": 129,
   "id": "unavailable-cartridge",
   "metadata": {},
   "outputs": [],
   "source": [
    "cost, resolver, training_history = minimizer.minimize([circuit], symbols)"
   ]
  },
  {
   "cell_type": "code",
   "execution_count": null,
   "id": "further-metabolism",
   "metadata": {},
   "outputs": [],
   "source": []
  }
 ],
 "metadata": {
  "kernelspec": {
   "display_name": "Python 3",
   "language": "python",
   "name": "python3"
  },
  "language_info": {
   "codemirror_mode": {
    "name": "ipython",
    "version": 3
   },
   "file_extension": ".py",
   "mimetype": "text/x-python",
   "name": "python",
   "nbconvert_exporter": "python",
   "pygments_lexer": "ipython3",
   "version": "3.6.9"
  }
 },
 "nbformat": 4,
 "nbformat_minor": 5
}
