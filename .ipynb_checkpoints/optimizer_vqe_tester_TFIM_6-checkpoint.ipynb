{
 "cells": [
  {
   "cell_type": "code",
   "execution_count": 23,
   "id": "descending-subcommittee",
   "metadata": {},
   "outputs": [
    {
     "name": "stdout",
     "output_type": "stream",
     "text": [
      "The autoreload extension is already loaded. To reload it, use:\n",
      "  %reload_ext autoreload\n"
     ]
    }
   ],
   "source": [
    "%load_ext autoreload\n",
    "%autoreload 2\n",
    "\n",
    "import sympy \n",
    "import numpy as np \n",
    "import pandas as pd \n",
    "\n",
    "from utilities.circuit_database import CirqTranslater\n",
    "from utilities.templates import *\n",
    "from utilities.variational import Minimizer\n",
    "import matplotlib.pyplot as plt \n"
   ]
  },
  {
   "cell_type": "code",
   "execution_count": 24,
   "id": "published-investment",
   "metadata": {},
   "outputs": [],
   "source": [
    "translator = CirqTranslater(6)\n",
    "circuit_db = u2_layer(translator)\n",
    "circuit, circuit_db = translator.give_circuit(circuit_db)"
   ]
  },
  {
   "cell_type": "code",
   "execution_count": 35,
   "id": "likely-premium",
   "metadata": {},
   "outputs": [
    {
     "name": "stdout",
     "output_type": "stream",
     "text": [
      "computing ground state energy...\n"
     ]
    }
   ],
   "source": [
    "minimizer = Minimizer(translator, mode=\"VQE\", hamiltonian=\"XXZ\",params=[.01,1])"
   ]
  },
  {
   "cell_type": "code",
   "execution_count": 36,
   "id": "split-decision",
   "metadata": {},
   "outputs": [],
   "source": [
    "symbols = translator.get_symbols(circuit_db)"
   ]
  },
  {
   "cell_type": "code",
   "execution_count": 37,
   "id": "unavailable-cartridge",
   "metadata": {},
   "outputs": [],
   "source": [
    "cost, resolver, training_history = minimizer.minimize([circuit], symbols)"
   ]
  },
  {
   "cell_type": "code",
   "execution_count": 28,
   "id": "animal-discussion",
   "metadata": {},
   "outputs": [
    {
     "data": {
      "text/plain": [
       "-11.211102550927961"
      ]
     },
     "execution_count": 28,
     "metadata": {},
     "output_type": "execute_result"
    }
   ],
   "source": [
    "minimizer.lower_bound_cost"
   ]
  },
  {
   "cell_type": "code",
   "execution_count": 41,
   "id": "further-metabolism",
   "metadata": {},
   "outputs": [
    {
     "data": {
      "text/plain": [
       "<matplotlib.lines.Line2D at 0x7f6d8c985b38>"
      ]
     },
     "execution_count": 41,
     "metadata": {},
     "output_type": "execute_result"
    },
    {
     "data": {
      "image/png": "[encoded data removed]",
      "text/plain": [
       "<Figure size 432x288 with 1 Axes>"
      ]
     },
     "metadata": {
      "needs_background": "light"
     },
     "output_type": "display_data"
    }
   ],
   "source": [
    "ax=plt.subplot(111)\n",
    "ax.plot(training_history.history[\"cost\"])\n",
    "ax.axhline(minimizer.lower_bound_cost)"
   ]
  },
  {
   "cell_type": "code",
   "execution_count": 39,
   "id": "convenient-registrar",
   "metadata": {},
   "outputs": [],
   "source": [
    "optimizer_circuit_db = translator.update_circuit_db_param_values(circuit_db,resolver)"
   ]
  },
  {
   "cell_type": "code",
   "execution_count": 40,
   "id": "norwegian-complex",
   "metadata": {},
   "outputs": [
    {
     "data": {
      "text/plain": [
       "<tf.Tensor: shape=(), dtype=float32, numpy=-9.980015>"
      ]
     },
     "execution_count": 40,
     "metadata": {},
     "output_type": "execute_result"
    }
   ],
   "source": [
    "minimizer.give_cost([circuit],resolver)"
   ]
  },
  {
   "cell_type": "code",
   "execution_count": 52,
   "id": "incident-thunder",
   "metadata": {},
   "outputs": [
    {
     "data": {
      "text/html": [
       "<div>\n",
       "<style scoped>\n",
       "    .dataframe tbody tr th:only-of-type {\n",
       "        vertical-align: middle;\n",
       "    }\n",
       "\n",
       "    .dataframe tbody tr th {\n",
       "        vertical-align: top;\n",
       "    }\n",
       "\n",
       "    .dataframe thead th {\n",
       "        text-align: right;\n",
       "    }\n",
       "</style>\n",
       "<table border=\"1\" class=\"dataframe\">\n",
       "  <thead>\n",
       "    <tr style=\"text-align: right;\">\n",
       "      <th></th>\n",
       "      <th>ind</th>\n",
       "      <th>symbol</th>\n",
       "      <th>param_value</th>\n",
       "      <th>trainable</th>\n",
       "      <th>block_id</th>\n",
       "    </tr>\n",
       "  </thead>\n",
       "  <tbody>\n",
       "    <tr>\n",
       "      <th>0</th>\n",
       "      <td>30</td>\n",
       "      <td>th_0</td>\n",
       "      <td>31.9993</td>\n",
       "      <td>True</td>\n",
       "      <td>0</td>\n",
       "    </tr>\n",
       "    <tr>\n",
       "      <th>1</th>\n",
       "      <td>35</td>\n",
       "      <td>th_1</td>\n",
       "      <td>-35.2478</td>\n",
       "      <td>True</td>\n",
       "      <td>0</td>\n",
       "    </tr>\n",
       "    <tr>\n",
       "      <th>2</th>\n",
       "      <td>41</td>\n",
       "      <td>th_2</td>\n",
       "      <td>28.6943</td>\n",
       "      <td>True</td>\n",
       "      <td>0</td>\n",
       "    </tr>\n",
       "    <tr>\n",
       "      <th>3</th>\n",
       "      <td>34</td>\n",
       "      <td>th_3</td>\n",
       "      <td>-8.98618</td>\n",
       "      <td>True</td>\n",
       "      <td>0</td>\n",
       "    </tr>\n",
       "    <tr>\n",
       "      <th>4</th>\n",
       "      <td>40</td>\n",
       "      <td>th_4</td>\n",
       "      <td>23.4668</td>\n",
       "      <td>True</td>\n",
       "      <td>0</td>\n",
       "    </tr>\n",
       "    <tr>\n",
       "      <th>...</th>\n",
       "      <td>...</td>\n",
       "      <td>...</td>\n",
       "      <td>...</td>\n",
       "      <td>...</td>\n",
       "      <td>...</td>\n",
       "    </tr>\n",
       "    <tr>\n",
       "      <th>103</th>\n",
       "      <td>31</td>\n",
       "      <td>th_85</td>\n",
       "      <td>45.4263</td>\n",
       "      <td>True</td>\n",
       "      <td>0</td>\n",
       "    </tr>\n",
       "    <tr>\n",
       "      <th>104</th>\n",
       "      <td>38</td>\n",
       "      <td>th_86</td>\n",
       "      <td>-58.3628</td>\n",
       "      <td>True</td>\n",
       "      <td>0</td>\n",
       "    </tr>\n",
       "    <tr>\n",
       "      <th>105</th>\n",
       "      <td>37</td>\n",
       "      <td>th_87</td>\n",
       "      <td>-6.82343</td>\n",
       "      <td>True</td>\n",
       "      <td>0</td>\n",
       "    </tr>\n",
       "    <tr>\n",
       "      <th>106</th>\n",
       "      <td>31</td>\n",
       "      <td>th_88</td>\n",
       "      <td>69.5976</td>\n",
       "      <td>True</td>\n",
       "      <td>0</td>\n",
       "    </tr>\n",
       "    <tr>\n",
       "      <th>107</th>\n",
       "      <td>32</td>\n",
       "      <td>th_89</td>\n",
       "      <td>5.65012</td>\n",
       "      <td>True</td>\n",
       "      <td>0</td>\n",
       "    </tr>\n",
       "  </tbody>\n",
       "</table>\n",
       "<p>108 rows × 5 columns</p>\n",
       "</div>"
      ],
      "text/plain": [
       "     ind symbol param_value  trainable  block_id\n",
       "0     30   th_0     31.9993       True         0\n",
       "1     35   th_1    -35.2478       True         0\n",
       "2     41   th_2     28.6943       True         0\n",
       "3     34   th_3    -8.98618       True         0\n",
       "4     40   th_4     23.4668       True         0\n",
       "..   ...    ...         ...        ...       ...\n",
       "103   31  th_85     45.4263       True         0\n",
       "104   38  th_86    -58.3628       True         0\n",
       "105   37  th_87    -6.82343       True         0\n",
       "106   31  th_88     69.5976       True         0\n",
       "107   32  th_89     5.65012       True         0\n",
       "\n",
       "[108 rows x 5 columns]"
      ]
     },
     "execution_count": 52,
     "metadata": {},
     "output_type": "execute_result"
    }
   ],
   "source": [
    "circuit_db"
   ]
  },
  {
   "cell_type": "code",
   "execution_count": null,
   "id": "affected-power",
   "metadata": {},
   "outputs": [],
   "source": [
    "def qubit_index(gate):\n",
    "    if ind_gate<translator.number_of_cnots:\n",
    "        return translator.indexed_cnots[str(gate)][9]"
   ]
  },
  {
   "cell_type": "code",
   "execution_count": null,
   "id": "dynamic-uzbekistan",
   "metadata": {},
   "outputs": [],
   "source": []
  },
  {
   "cell_type": "code",
   "execution_count": null,
   "id": "owned-sender",
   "metadata": {},
   "outputs": [],
   "source": []
  },
  {
   "cell_type": "code",
   "execution_count": null,
   "id": "scenic-agreement",
   "metadata": {},
   "outputs": [],
   "source": []
  },
  {
   "cell_type": "code",
   "execution_count": null,
   "id": "powerful-papua",
   "metadata": {},
   "outputs": [],
   "source": []
  },
  {
   "cell_type": "code",
   "execution_count": null,
   "id": "average-initial",
   "metadata": {},
   "outputs": [],
   "source": []
  }
 ],
 "metadata": {
  "kernelspec": {
   "display_name": "Python 3",
   "language": "python",
   "name": "python3"
  },
  "language_info": {
   "codemirror_mode": {
    "name": "ipython",
    "version": 3
   },
   "file_extension": ".py",
   "mimetype": "text/x-python",
   "name": "python",
   "nbconvert_exporter": "python",
   "pygments_lexer": "ipython3",
   "version": "3.6.9"
  }
 },
 "nbformat": 4,
 "nbformat_minor": 5
}
