{
 "cells": [
  {
   "cell_type": "markdown",
   "id": "israeli-cathedral",
   "metadata": {},
   "source": [
    "In this notebook we give a proof of concept of unitary compiling using TFQ. "
   ]
  },
  {
   "cell_type": "code",
   "execution_count": 33,
   "id": "cleared-explorer",
   "metadata": {},
   "outputs": [
    {
     "name": "stdout",
     "output_type": "stream",
     "text": [
      "The autoreload extension is already loaded. To reload it, use:\n",
      "  %reload_ext autoreload\n"
     ]
    }
   ],
   "source": [
    "%load_ext autoreload\n",
    "%autoreload 2\n",
    "\n",
    "import sympy \n",
    "import numpy as np \n",
    "import pandas as pd \n",
    "import tensorflow as tf\n",
    "from utilities.circuit_database import CirqTranslater\n",
    "from utilities.templates import *\n",
    "from utilities.variational import Minimizer\n",
    "from utilities.misc import get_qubits_involved, reindex_symbol, shift_symbols_down\n",
    "import matplotlib.pyplot as plt \n",
    "import tensorflow_quantum as tfq\n",
    "import cirq\n",
    "from utilities.compiling import *\n",
    "from utilities.misc import *\n",
    "from utilities.simplifier import Simplifier\n",
    "from utilities.discrimination import *\n",
    "from utilities.idinserter import IdInserter\n",
    "from utilities.evaluator import Evaluator\n",
    "from utilities.gate_killer import GateKiller\n",
    "from ast import literal_eval\n"
   ]
  },
  {
   "cell_type": "code",
   "execution_count": 34,
   "id": "coastal-dividend",
   "metadata": {},
   "outputs": [],
   "source": [
    "np.random.seed(0)\n",
    "translator = CirqTranslater(4, untouchable_blocks = [])\n",
    "\n",
    "translator.env_qubits = [2]\n",
    "\n",
    "simplifier = Simplifier(translator)\n",
    "etas = [0.01, 1.]\n",
    "minimizer = Minimizer(translator, mode=\"discrimination\", params=etas)\n",
    "\n"
   ]
  },
  {
   "cell_type": "code",
   "execution_count": 35,
   "id": "hydraulic-struggle",
   "metadata": {},
   "outputs": [],
   "source": [
    "\n",
    "ddb =concatenate_dbs([x_layer_db(translator)]*2 +[z_layer_db(translator)]*2 + [x_layer_db(translator)]*1 + [x_layer_db(translator)]*2 +  [z_layer_db(translator)]*2 )\n"
   ]
  },
  {
   "cell_type": "code",
   "execution_count": 36,
   "id": "static-knight",
   "metadata": {},
   "outputs": [],
   "source": [
    "\n",
    "cnots = list(np.squeeze(np.array([[k,k] for k in range(translator.number_of_cnots)]).reshape([-1,1])))\n",
    "ddbc = pd.DataFrame([gate_template(k) for k in cnots])\n",
    "\n",
    "cdb = concatenate_dbs([ddbc, ddb])\n",
    "circuit, circuit_db = translator.give_circuit(cdb)"
   ]
  },
  {
   "cell_type": "code",
   "execution_count": 37,
   "id": "great-voluntary",
   "metadata": {},
   "outputs": [
    {
     "name": "stdout",
     "output_type": "stream",
     "text": [
      "simplified using  <bound method Simplifier.rule_2 of <utilities.simplifier.Simplifier object at 0x7f880a773a58>>\n",
      "simplified using  <bound method Simplifier.rule_2 of <utilities.simplifier.Simplifier object at 0x7f880a773a58>>\n",
      "simplified using  <bound method Simplifier.rule_2 of <utilities.simplifier.Simplifier object at 0x7f880a773a58>>\n",
      "simplified using  <bound method Simplifier.rule_2 of <utilities.simplifier.Simplifier object at 0x7f880a773a58>>\n",
      "simplified using  <bound method Simplifier.rule_2 of <utilities.simplifier.Simplifier object at 0x7f880a773a58>>\n",
      "simplified using  <bound method Simplifier.rule_2 of <utilities.simplifier.Simplifier object at 0x7f880a773a58>>\n",
      "simplified using  <bound method Simplifier.rule_2 of <utilities.simplifier.Simplifier object at 0x7f880a773a58>>\n",
      "simplified using  <bound method Simplifier.rule_2 of <utilities.simplifier.Simplifier object at 0x7f880a773a58>>\n",
      "simplified using  <bound method Simplifier.rule_2 of <utilities.simplifier.Simplifier object at 0x7f880a773a58>>\n",
      "simplified using  <bound method Simplifier.rule_2 of <utilities.simplifier.Simplifier object at 0x7f880a773a58>>\n",
      "simplified using  <bound method Simplifier.rule_2 of <utilities.simplifier.Simplifier object at 0x7f880a773a58>>\n",
      "simplified using  <bound method Simplifier.rule_2 of <utilities.simplifier.Simplifier object at 0x7f880a773a58>>\n",
      "simplified using  <bound method Simplifier.rule_4 of <utilities.simplifier.Simplifier object at 0x7f880a773a58>>\n",
      "simplified using  <bound method Simplifier.rule_4 of <utilities.simplifier.Simplifier object at 0x7f880a773a58>>\n",
      "simplified using  <bound method Simplifier.rule_4 of <utilities.simplifier.Simplifier object at 0x7f880a773a58>>\n",
      "simplified using  <bound method Simplifier.rule_4 of <utilities.simplifier.Simplifier object at 0x7f880a773a58>>\n",
      "simplified using  <bound method Simplifier.rule_4 of <utilities.simplifier.Simplifier object at 0x7f880a773a58>>\n",
      "simplified using  <bound method Simplifier.rule_4 of <utilities.simplifier.Simplifier object at 0x7f880a773a58>>\n",
      "simplified using  <bound method Simplifier.rule_4 of <utilities.simplifier.Simplifier object at 0x7f880a773a58>>\n",
      "simplified using  <bound method Simplifier.rule_4 of <utilities.simplifier.Simplifier object at 0x7f880a773a58>>\n",
      "simplified using  <bound method Simplifier.rule_4 of <utilities.simplifier.Simplifier object at 0x7f880a773a58>>\n",
      "simplified using  <bound method Simplifier.rule_4 of <utilities.simplifier.Simplifier object at 0x7f880a773a58>>\n",
      "simplified using  <bound method Simplifier.rule_4 of <utilities.simplifier.Simplifier object at 0x7f880a773a58>>\n",
      "simplified using  <bound method Simplifier.rule_4 of <utilities.simplifier.Simplifier object at 0x7f880a773a58>>\n",
      "simplified using  <bound method Simplifier.rule_4 of <utilities.simplifier.Simplifier object at 0x7f880a773a58>>\n",
      "simplified using  <bound method Simplifier.rule_4 of <utilities.simplifier.Simplifier object at 0x7f880a773a58>>\n",
      "simplified using  <bound method Simplifier.rule_4 of <utilities.simplifier.Simplifier object at 0x7f880a773a58>>\n",
      "simplified using  <bound method Simplifier.rule_4 of <utilities.simplifier.Simplifier object at 0x7f880a773a58>>\n",
      "simplified using  <bound method Simplifier.rule_4 of <utilities.simplifier.Simplifier object at 0x7f880a773a58>>\n",
      "simplified using  <bound method Simplifier.rule_4 of <utilities.simplifier.Simplifier object at 0x7f880a773a58>>\n",
      "simplified using  <bound method Simplifier.rule_4 of <utilities.simplifier.Simplifier object at 0x7f880a773a58>>\n",
      "simplified using  <bound method Simplifier.rule_4 of <utilities.simplifier.Simplifier object at 0x7f880a773a58>>\n",
      "simplified using  <bound method Simplifier.rule_5 of <utilities.simplifier.Simplifier object at 0x7f880a773a58>>\n",
      "simplified using  <bound method Simplifier.rule_5 of <utilities.simplifier.Simplifier object at 0x7f880a773a58>>\n",
      "simplified using  <bound method Simplifier.rule_5 of <utilities.simplifier.Simplifier object at 0x7f880a773a58>>\n",
      "simplified using  <bound method Simplifier.rule_5 of <utilities.simplifier.Simplifier object at 0x7f880a773a58>>\n",
      "\n",
      "\n",
      "0.0003018533354660049\n",
      "                                                   ┌──┐   ┌──┐\n",
      "(0, 0): ───@───@───@───@───@───@───X───X─────────────X──────X────────────────────X───X───Rx(th_0)───Rx(th_4)───Rz(th_8)───Rz(th_12)───Rx(th_16)───Rx(th_20)───Rx(th_24)───Rz(th_28)───Rz(th_32)───────────────────────────────────────────────────\n",
      "           │   │   │   │   │   │   │   │             │      │                    │   │\n",
      "(0, 1): ───X───X───┼───┼───┼───┼───@───@───@───@────@┼─────@┼────X───X───────────┼───┼───X──────────X──────────Rx(th_1)───Rx(th_5)────Rz(th_9)────Rz(th_13)───Rx(th_17)───Rx(th_21)───Rx(th_25)───Rz(th_29)───Rz(th_33)───────────────────────────\n",
      "                   │   │   │   │           │   │    ││     ││    │   │           │   │   │          │\n",
      "(0, 2): ───────────X───X───┼───┼───────────X───X────┼@─────┼@────@───@───@───@───┼───┼───┼──────────┼──────────X──────────X───────────Rx(th_2)────Rx(th_6)────Rz(th_10)───Rz(th_14)───Rx(th_18)───Rx(th_22)───Rx(th_26)───Rz(th_30)───Rz(th_34)───\n",
      "                           │   │                    │      │             │   │   │   │   │          │          │          │\n",
      "(0, 3): ───────────────────X───X────────────────────X──────X─────────────X───X───@───@───@──────────@──────────@──────────@───────────Rx(th_3)────Rx(th_7)────Rz(th_11)───Rz(th_15)───Rx(th_19)───Rx(th_23)───Rx(th_27)───Rz(th_31)───Rz(th_35)───\n",
      "                                                   └──┘   └──┘\n",
      "\n",
      "(0, 0): ───Rz(th_0)───Rx(th_4)───Rz(th_8)────\n",
      "\n",
      "(0, 1): ───Rz(th_1)───Rx(th_5)───Rz(th_9)────\n",
      "\n",
      "(0, 2): ───Rz(th_2)───Rx(th_6)───Rz(th_10)───\n",
      "\n",
      "(0, 3): ───Rz(th_3)───Rx(th_7)───Rz(th_11)───\n"
     ]
    }
   ],
   "source": [
    "simplifier = Simplifier(translator)\n",
    "simplifier.relative_rules = [simplifier.rule_1, simplifier.rule_2]\n",
    "\n",
    "simplified_db, ns = simplifier.reduce_circuit(circuit_db)\n",
    "ss, simplified_db = translator.give_circuit(simplified_db)\n",
    "\n",
    "mdif = max_diff(translator , circuit_db, simplified_db)\n",
    "print(\"\\n\")\n",
    "print(mdif)\n",
    "print(circuit)\n",
    "print()\n",
    "print(ss)"
   ]
  },
  {
   "cell_type": "code",
   "execution_count": null,
   "id": "ancient-litigation",
   "metadata": {},
   "outputs": [],
   "source": []
  }
 ],
 "metadata": {
  "kernelspec": {
   "display_name": "Python 3",
   "language": "python",
   "name": "python3"
  },
  "language_info": {
   "codemirror_mode": {
    "name": "ipython",
    "version": 3
   },
   "file_extension": ".py",
   "mimetype": "text/x-python",
   "name": "python",
   "nbconvert_exporter": "python",
   "pygments_lexer": "ipython3",
   "version": "3.6.9"
  }
 },
 "nbformat": 4,
 "nbformat_minor": 5
}
