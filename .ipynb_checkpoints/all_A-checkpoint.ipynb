{
 "cells": [
  {
   "cell_type": "markdown",
   "id": "israeli-cathedral",
   "metadata": {},
   "source": [
    "In this notebook we give a proof of concept of unitary compiling using TFQ. "
   ]
  },
  {
   "cell_type": "code",
   "execution_count": 1,
   "id": "cleared-explorer",
   "metadata": {},
   "outputs": [],
   "source": [
    "%load_ext autoreload\n",
    "%autoreload 2\n",
    "\n",
    "import sympy \n",
    "import numpy as np \n",
    "import pandas as pd \n",
    "import tensorflow as tf\n",
    "from utilities.circuit_database import CirqTranslater\n",
    "from utilities.templates import *\n",
    "from utilities.variational import Minimizer\n",
    "from utilities.misc import get_qubits_involved, reindex_symbol, shift_symbols_down\n",
    "import matplotlib.pyplot as plt \n",
    "import tensorflow_quantum as tfq\n",
    "import cirq\n",
    "from utilities.compiling import *\n",
    "from utilities.misc import *\n",
    "from utilities.simplifier import Simplifier\n",
    "from utilities.discrimination import *\n",
    "from utilities.idinserter import IdInserter\n",
    "from utilities.evaluator import Evaluator\n",
    "from utilities.gate_killer import GateKiller\n",
    "from ast import literal_eval\n"
   ]
  },
  {
   "cell_type": "code",
   "execution_count": 2,
   "id": "coastal-dividend",
   "metadata": {},
   "outputs": [],
   "source": [
    "np.random.seed(0)\n",
    "translator = CirqTranslater(4, untouchable_blocks = [])\n",
    "\n",
    "translator.env_qubits = [2]\n",
    "\n",
    "simplifier = Simplifier(translator)\n",
    "etas = [0.01, 1.]\n",
    "minimizer = Minimizer(translator, mode=\"discrimination\", params=etas)"
   ]
  },
  {
   "cell_type": "code",
   "execution_count": 8,
   "id": "administrative-aquatic",
   "metadata": {},
   "outputs": [],
   "source": [
    "cdb = []\n",
    "for ind, qubits in list(translator.indexed_cnots.items()):\n",
    "    cdb.append(gate_template(int(ind), block_id=0))\n",
    "    con, tar = qubits\n",
    "    cdb.append(gate_template(int(con + translator.number_of_cnots), param_value = np.random.random()))\n",
    "    cdb.append(gate_template(int(tar + translator.number_of_cnots + translator.n_qubits), param_value = np.random.random()))\n",
    "circuit_db = pd.DataFrame(cdb)\n",
    "c0, cdb0 = translator.give_circuit(x_layer_db(translator))"
   ]
  },
  {
   "cell_type": "code",
   "execution_count": 9,
   "id": "great-voluntary",
   "metadata": {},
   "outputs": [],
   "source": [
    "circuit_db = concatenate_dbs([circuit_db, cdb0])\n",
    "circuit_db[\"symbol\"] = None\n",
    "circuit, circuit_db  = translator.give_circuit(circuit_db)\n"
   ]
  },
  {
   "cell_type": "code",
   "execution_count": 14,
   "id": "encouraging-bunny",
   "metadata": {},
   "outputs": [
    {
     "name": "stdout",
     "output_type": "stream",
     "text": [
      "<bound method Simplifier.rule_6 of <utilities.simplifier.Simplifier object at 0x7f869962a940>>\n",
      "<bound method Simplifier.rule_6 of <utilities.simplifier.Simplifier object at 0x7f869962a940>>\n",
      "<bound method Simplifier.rule_6 of <utilities.simplifier.Simplifier object at 0x7f869962a940>>\n",
      "<bound method Simplifier.rule_6 of <utilities.simplifier.Simplifier object at 0x7f869962a940>>\n",
      "<bound method Simplifier.rule_6 of <utilities.simplifier.Simplifier object at 0x7f869962a940>>\n",
      "<bound method Simplifier.rule_6 of <utilities.simplifier.Simplifier object at 0x7f869962a940>>\n",
      "<bound method Simplifier.rule_6 of <utilities.simplifier.Simplifier object at 0x7f869962a940>>\n",
      "<bound method Simplifier.rule_6 of <utilities.simplifier.Simplifier object at 0x7f869962a940>>\n",
      "hey, i'm still simplifying, cnt8\n",
      "<bound method Simplifier.rule_6 of <utilities.simplifier.Simplifier object at 0x7f869962a940>>\n",
      "hey, i'm still simplifying, cnt9\n",
      "<bound method Simplifier.rule_6 of <utilities.simplifier.Simplifier object at 0x7f869962a940>>\n",
      "hey, i'm still simplifying, cnt10\n",
      "<bound method Simplifier.rule_6 of <utilities.simplifier.Simplifier object at 0x7f869962a940>>\n",
      "hey, i'm still simplifying, cnt11\n",
      "<bound method Simplifier.rule_6 of <utilities.simplifier.Simplifier object at 0x7f869962a940>>\n",
      "hey, i'm still simplifying, cnt12\n",
      "<bound method Simplifier.rule_6 of <utilities.simplifier.Simplifier object at 0x7f869962a940>>\n",
      "hey, i'm still simplifying, cnt13\n",
      "<bound method Simplifier.rule_6 of <utilities.simplifier.Simplifier object at 0x7f869962a940>>\n",
      "hey, i'm still simplifying, cnt14\n",
      "<bound method Simplifier.rule_6 of <utilities.simplifier.Simplifier object at 0x7f869962a940>>\n",
      "hey, i'm still simplifying, cnt15\n",
      "\n",
      "\n",
      "5.117875266520903e-16\n",
      "                                                                                      ┌──┐\n",
      "(0, 0): ───@───Rz(th_0)───@───Rz(th_2)───@───Rz(th_4)───X───Rx(th_7)────────────────────X────Rx(th_13)───────────────────────────────────X───Rx(th_19)───Rx(th_24)───────────────────────────────────────────────────\n",
      "           │              │              │              │                               │                                                │\n",
      "(0, 1): ───X───Rx(th_1)───┼──────────────┼──────────────@───Rz(th_6)───@───Rz(th_8)────@┼────Rz(th_10)───X───Rx(th_15)───────────────────┼───────────────X───────────Rx(th_21)───Rx(th_25)───────────────────────────\n",
      "                          │              │                             │               ││                │                               │               │\n",
      "(0, 2): ──────────────────X───Rx(th_3)───┼─────────────────────────────X───Rx(th_9)────┼@────Rz(th_12)───@───Rz(th_14)───@───Rz(th_16)───┼───────────────┼───────────────────────X───────────Rx(th_23)───Rx(th_26)───\n",
      "                                         │                                             │                                 │               │               │                       │\n",
      "(0, 3): ─────────────────────────────────X───Rx(th_5)──────────────────────────────────X─────Rx(th_11)───────────────────X───Rx(th_17)───@───Rz(th_18)───@───────────Rz(th_20)───@───────────Rz(th_22)───Rx(th_27)───\n",
      "                                                                                      └──┘\n",
      "\n",
      "               ┌─────────┐                                                ┌─────────┐              ┌──────────┐                                  ┌──────────┐\n",
      "(0, 0): ───@────────────@────@───Rz(th_1)───Rz(th_2)───Rz(th_3)───X──────────────────────────────────────────X─────────────────────────────────────────────X────Rx(th_15)───Rx(th_16)───Rx(th_18)───Rx(th_24)───────────────────────────\n",
      "           │            │    │                                    │                                          │                                             │\n",
      "(0, 1): ───X────Rx(th_0)┼────┼────────────────────────────────────@───@────────────@────Rz(th_7)────Rz(th_8)─┼────Rz(th_9)───X─────────────────────────────┼────────────────X───────────Rx(th_19)───Rx(th_21)───Rx(th_25)───────────────\n",
      "                        │    │                                        │            │                         │               │                             │                │\n",
      "(0, 2): ────────────────X────┼────────────────────────────────────────X────Rx(th_4)┼────Rx(th_5)─────────────@───────────────@───@───Rz(th_11)────Rz(th_12)┼────Rz(th_13)───┼───────────────────────X───────────Rx(th_23)───Rx(th_26)───\n",
      "                             │                                                     │                                             │                         │                │                       │\n",
      "(0, 3): ─────────────────────X─────────────────────────────────────────────────────X────Rx(th_6)────Rx(th_10)────────────────────X───Rx(th_14)─────────────@────Rz(th_17)───@───────────Rz(th_20)───@───────────Rz(th_22)───Rx(th_27)───\n",
      "               └─────────┘                                                └─────────┘              └──────────┘                                  └──────────┘\n"
     ]
    }
   ],
   "source": [
    "simplifier = Simplifier(translator)\n",
    "simplifier.relative_rules = [simplifier.rule_6]\n",
    "simplifier.absolute_rules = [simplifier.rule_6]\n",
    "simplified_db, ns = simplifier.reduce_circuit(circuit_db)\n",
    "ss, simplified_db = translator.give_circuit(simplified_db)\n",
    "\n",
    "mdif = max_diff(translator , circuit_db, simplified_db)\n",
    "print(\"\\n\")\n",
    "print(mdif)\n",
    "print(circuit)\n",
    "print()\n",
    "print(ss)"
   ]
  },
  {
   "cell_type": "code",
   "execution_count": null,
   "id": "offensive-assurance",
   "metadata": {},
   "outputs": [],
   "source": []
  }
 ],
 "metadata": {
  "kernelspec": {
   "display_name": "Python 3",
   "language": "python",
   "name": "python3"
  },
  "language_info": {
   "codemirror_mode": {
    "name": "ipython",
    "version": 3
   },
   "file_extension": ".py",
   "mimetype": "text/x-python",
   "name": "python",
   "nbconvert_exporter": "python",
   "pygments_lexer": "ipython3",
   "version": "3.6.9"
  }
 },
 "nbformat": 4,
 "nbformat_minor": 5
}
