{
 "cells": [
  {
   "cell_type": "markdown",
   "id": "israeli-cathedral",
   "metadata": {},
   "source": [
    "In this notebook we give a proof of concept of unitary compiling using TFQ. "
   ]
  },
  {
   "cell_type": "code",
   "execution_count": 78,
   "id": "cleared-explorer",
   "metadata": {},
   "outputs": [
    {
     "name": "stdout",
     "output_type": "stream",
     "text": [
      "The autoreload extension is already loaded. To reload it, use:\n",
      "  %reload_ext autoreload\n"
     ]
    }
   ],
   "source": [
    "%load_ext autoreload\n",
    "%autoreload 2\n",
    "\n",
    "import sympy \n",
    "import numpy as np \n",
    "import pandas as pd \n",
    "import tensorflow as tf\n",
    "from utilities.circuit_database import CirqTranslater\n",
    "from utilities.templates import *\n",
    "from utilities.variational import Minimizer\n",
    "import matplotlib.pyplot as plt \n",
    "import tensorflow_quantum as tfq\n",
    "import cirq\n",
    "from utilities.compiling import *\n",
    "from utilities.misc import *\n",
    "from utilities.simplifier import Simplifier\n",
    "from utilities.discrimination import *\n",
    "from utilities.idinserter import IdInserter\n",
    "from utilities.evaluator import Evaluator\n",
    "from utilities.gate_killer import GateKiller\n",
    "from ast import literal_eval\n"
   ]
  },
  {
   "cell_type": "code",
   "execution_count": 24,
   "id": "coastal-dividend",
   "metadata": {},
   "outputs": [],
   "source": [
    "np.random.seed(0)\n",
    "translator = CirqTranslater(4, untouchable_blocks = [])\n",
    "\n",
    "translator.env_qubits = [2]\n",
    "\n",
    "simplifier = Simplifier(translator)\n",
    "etas = [0.01, 1.]\n",
    "minimizer = Minimizer(translator, mode=\"discrimination\", params=etas)"
   ]
  },
  {
   "cell_type": "code",
   "execution_count": 47,
   "id": "nominated-collectible",
   "metadata": {},
   "outputs": [],
   "source": [
    "q = 0\n",
    "other_qs = list(range(translator.n_qubits))\n",
    "other_qs.remove(q)\n",
    "indds = [translator.cnots_index[str([q,k])] for k in other_qs]\n",
    "cdb = pd.DataFrame([gate_template(i) for i in indds])\n",
    "\n",
    "circuit_db = concatenate_dbs([z_layer_db(translator), cdb])\n",
    "\n",
    "for q in range(1, translator.n_qubits):\n",
    "    other_qs = list(range(translator.n_qubits))\n",
    "    other_qs.remove(q)\n",
    "    indds = [translator.cnots_index[str([q,k])] for k in other_qs]\n",
    "    cdb = pd.DataFrame([gate_template(i) for i in indds])\n",
    "    circuit_db = concatenate_dbs([circuit_db ,cdb])\n",
    "\n",
    "c, circuit_db = translator.give_circuit(circuit_db)"
   ]
  },
  {
   "cell_type": "code",
   "execution_count": 48,
   "id": "mysterious-intervention",
   "metadata": {},
   "outputs": [],
   "source": [
    "db1 = concatenate_dbs([x_layer_db(translator)]*3)\n",
    "db2 = concatenate_dbs([z_layer_db(translator)]*3)\n",
    "db3 = concatenate_dbs([x_layer_db(translator)]*3)\n",
    "db4 = concatenate_dbs([z_layer_db(translator)]*3)"
   ]
  },
  {
   "cell_type": "code",
   "execution_count": 49,
   "id": "painted-advance",
   "metadata": {},
   "outputs": [],
   "source": [
    "circuit_db = concatenate_dbs([circuit_db, db1, db2,db3,db4])\n",
    "c, circuit_db = translator.give_circuit(circuit_db)"
   ]
  },
  {
   "cell_type": "code",
   "execution_count": 51,
   "id": "american-civilization",
   "metadata": {},
   "outputs": [],
   "source": [
    "cdb = []\n",
    "for ind, qubits in list(translator.indexed_cnots.items()):\n",
    "    cdb.append(gate_template(int(ind), block_id=0))\n",
    "    con, tar = qubits\n",
    "    cdb.append(gate_template(int(con + translator.number_of_cnots), param_value = np.random.random()))\n",
    "    cdb.append(gate_template(int(tar + translator.number_of_cnots + translator.n_qubits), param_value = np.random.random()))\n",
    "c6_db = pd.DataFrame(cdb)\n",
    "circuit_db = concatenate_dbs([circuit_db, c6_db])"
   ]
  },
  {
   "cell_type": "code",
   "execution_count": 74,
   "id": "likely-vitamin",
   "metadata": {},
   "outputs": [
    {
     "name": "stdout",
     "output_type": "stream",
     "text": [
      "<bound method Simplifier.rule_3 of <utilities.simplifier.Simplifier object at 0x7f0f77055588>>\n",
      "<bound method Simplifier.rule_3 of <utilities.simplifier.Simplifier object at 0x7f0f77055588>>\n",
      "<bound method Simplifier.rule_3 of <utilities.simplifier.Simplifier object at 0x7f0f77055588>>\n",
      "<bound method Simplifier.rule_3 of <utilities.simplifier.Simplifier object at 0x7f0f77055588>>\n"
     ]
    }
   ],
   "source": [
    "simplifier = Simplifier(translator, apply_relatives_to_first = False)\n",
    "simplifier.apply_relatives_to_first = False\n",
    "simplifier.absolute_rules =[ simplifier.rule_3]\n",
    "simplified_db, ns = simplifier.reduce_circuit(circuit_db)\n",
    "ss, simplified_db = translator.give_circuit(simplified_db)"
   ]
  },
  {
   "cell_type": "code",
   "execution_count": 75,
   "id": "working-trailer",
   "metadata": {},
   "outputs": [
    {
     "data": {
      "text/plain": [
       "True"
      ]
     },
     "execution_count": 75,
     "metadata": {},
     "output_type": "execute_result"
    }
   ],
   "source": [
    "check_symbols_ordered(simplified_db)"
   ]
  },
  {
   "cell_type": "code",
   "execution_count": 91,
   "id": "spoken-fourth",
   "metadata": {},
   "outputs": [],
   "source": [
    "mdif, [u1,u2] = max_diff(translator , circuit_db, simplified_db, matrix=True)"
   ]
  },
  {
   "cell_type": "code",
   "execution_count": 95,
   "id": "compliant-latex",
   "metadata": {},
   "outputs": [],
   "source": [
    "import matplotlib.pyplot as plt "
   ]
  },
  {
   "cell_type": "code",
   "execution_count": 97,
   "id": "naked-oxygen",
   "metadata": {},
   "outputs": [
    {
     "data": {
      "text/plain": [
       "<matplotlib.image.AxesImage at 0x7f0e1fbcddd8>"
      ]
     },
     "execution_count": 97,
     "metadata": {},
     "output_type": "execute_result"
    },
    {
     "data": {
      "image/png": "[encoded data removed]",
      "text/plain": [
       "<Figure size 432x288 with 1 Axes>"
      ]
     },
     "metadata": {
      "needs_background": "light"
     },
     "output_type": "display_data"
    }
   ],
   "source": [
    "plt.imshow(np.real(a_bt(u1,u2)) )"
   ]
  },
  {
   "cell_type": "code",
   "execution_count": 102,
   "id": "lined-marathon",
   "metadata": {},
   "outputs": [
    {
     "data": {
      "text/plain": [
       "array([1., 1., 1., 1., 1., 1., 1., 1., 1., 1., 1., 1., 1., 1., 1., 1.])"
      ]
     },
     "execution_count": 102,
     "metadata": {},
     "output_type": "execute_result"
    }
   ],
   "source": [
    "np.abs(np.diag(np.real(a_bt(u1,u2)) + np.imag(a_bt(u1,u2))*1j))"
   ]
  },
  {
   "cell_type": "code",
   "execution_count": 104,
   "id": "canadian-timing",
   "metadata": {},
   "outputs": [
    {
     "data": {
      "text/plain": [
       "True"
      ]
     },
     "execution_count": 104,
     "metadata": {},
     "output_type": "execute_result"
    }
   ],
   "source": [
    "check_symbols_ordered(simplified_db)"
   ]
  }
 ],
 "metadata": {
  "kernelspec": {
   "display_name": "Python 3",
   "language": "python",
   "name": "python3"
  },
  "language_info": {
   "codemirror_mode": {
    "name": "ipython",
    "version": 3
   },
   "file_extension": ".py",
   "mimetype": "text/x-python",
   "name": "python",
   "nbconvert_exporter": "python",
   "pygments_lexer": "ipython3",
   "version": "3.6.9"
  }
 },
 "nbformat": 4,
 "nbformat_minor": 5
}
