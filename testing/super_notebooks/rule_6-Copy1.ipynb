{
 "cells": [
  {
   "cell_type": "markdown",
   "id": "israeli-cathedral",
   "metadata": {},
   "source": [
    "In this notebook we give a proof of concept of unitary compiling using TFQ. "
   ]
  },
  {
   "cell_type": "code",
   "execution_count": 118,
   "id": "cleared-explorer",
   "metadata": {},
   "outputs": [
    {
     "name": "stdout",
     "output_type": "stream",
     "text": [
      "The autoreload extension is already loaded. To reload it, use:\n",
      "  %reload_ext autoreload\n"
     ]
    }
   ],
   "source": [
    "%load_ext autoreload\n",
    "%autoreload 2\n",
    "\n",
    "import sympy \n",
    "import numpy as np \n",
    "import pandas as pd \n",
    "import tensorflow as tf\n",
    "from utilities.circuit_database import CirqTranslater\n",
    "from utilities.templates import *\n",
    "from utilities.variational import Minimizer\n",
    "from utilities.misc import get_qubits_involved, reindex_symbol, shift_symbols_down\n",
    "import matplotlib.pyplot as plt \n",
    "import tensorflow_quantum as tfq\n",
    "import cirq\n",
    "from utilities.compiling import *\n",
    "from utilities.misc import *\n",
    "from utilities.simplifier import Simplifier\n",
    "from utilities.discrimination import *\n",
    "from utilities.idinserter import IdInserter\n",
    "from utilities.evaluator import Evaluator\n",
    "from utilities.gate_killer import GateKiller\n",
    "from ast import literal_eval\n"
   ]
  },
  {
   "cell_type": "code",
   "execution_count": 119,
   "id": "coastal-dividend",
   "metadata": {},
   "outputs": [],
   "source": [
    "np.random.seed(0)\n",
    "translator = CirqTranslater(3, untouchable_blocks = [1])\n",
    "translator.env_qubits = [2]\n",
    "translator.encoder_id = 0\n",
    "translator.channel_id = 1\n",
    "translator.decoder_id = 2\n",
    "simplifier = Simplifier(translator)\n",
    "etas = [0.01, 1.]\n",
    "minimizer = Minimizer(translator, mode=\"discrimination\", params=etas)\n",
    "killer = GateKiller(translator, mode=\"discrimination\", params = etas)\n",
    "inserter = IdInserter(translator.n_qubits, untouchable_blocks=translator.channel_id)\n",
    "args_evaluator = {\"n_qubits\":translator.n_qubits, \"problem\":\"acd\",\"params\":etas}\n",
    "evaluator = Evaluator(args=args_evaluator, lower_bound_cost=minimizer.lower_bound_cost, nrun=0)"
   ]
  },
  {
   "cell_type": "code",
   "execution_count": 120,
   "id": "decimal-cisco",
   "metadata": {},
   "outputs": [],
   "source": [
    "cdb = []\n",
    "for ind, qubits in list(translator.indexed_cnots.items()):\n",
    "    cdb.append(gate_template(int(ind), block_id=0))\n",
    "    con, tar = qubits\n",
    "    cdb.append(gate_template(int(con + translator.number_of_cnots), param_value = np.random.random()))\n",
    "    cdb.append(gate_template(int(tar + translator.number_of_cnots + translator.n_qubits), param_value = np.random.random()))\n",
    "circuit_db = pd.DataFrame(cdb)\n"
   ]
  },
  {
   "cell_type": "code",
   "execution_count": 121,
   "id": "racial-internship",
   "metadata": {},
   "outputs": [],
   "source": [
    "circuit, circuit_db = translator.give_circuit(circuit_db)"
   ]
  },
  {
   "cell_type": "code",
   "execution_count": 122,
   "id": "monthly-overview",
   "metadata": {},
   "outputs": [
    {
     "data": {
      "text/html": [
       "<pre style=\"overflow: auto; white-space: pre;\">(0, 0): ───@───Rz(th_0)───@───Rz(th_2)───X───Rx(th_5)──────────────────X───Rx(th_9)───────────────────\n",
       "           │              │              │                             │\n",
       "(0, 1): ───X───Rx(th_1)───┼──────────────@───Rz(th_4)───@───Rz(th_6)───┼──────────────X───Rx(th_11)───\n",
       "                          │                             │              │              │\n",
       "(0, 2): ──────────────────X───Rx(th_3)──────────────────X───Rx(th_7)───@───Rz(th_8)───@───Rz(th_10)───</pre>"
      ],
      "text/plain": [
       "(0, 0): ───@───Rz(th_0)───@───Rz(th_2)───X───Rx(th_5)──────────────────X───Rx(th_9)───────────────────\n",
       "           │              │              │                             │\n",
       "(0, 1): ───X───Rx(th_1)───┼──────────────@───Rz(th_4)───@───Rz(th_6)───┼──────────────X───Rx(th_11)───\n",
       "                          │                             │              │              │\n",
       "(0, 2): ──────────────────X───Rx(th_3)──────────────────X───Rx(th_7)───@───Rz(th_8)───@───Rz(th_10)───"
      ]
     },
     "execution_count": 122,
     "metadata": {},
     "output_type": "execute_result"
    }
   ],
   "source": [
    "circuit"
   ]
  },
  {
   "cell_type": "code",
   "execution_count": 123,
   "id": "actual-danger",
   "metadata": {},
   "outputs": [
    {
     "name": "stdout",
     "output_type": "stream",
     "text": [
      "<bound method Simplifier.rule_6 of <utilities.simplifier.Simplifier object at 0x7f593d4dfac8>>\n",
      "<bound method Simplifier.rule_6 of <utilities.simplifier.Simplifier object at 0x7f593d4dfac8>>\n",
      "<bound method Simplifier.rule_6 of <utilities.simplifier.Simplifier object at 0x7f593d4dfac8>>\n",
      "<bound method Simplifier.rule_6 of <utilities.simplifier.Simplifier object at 0x7f593d4dfac8>>\n",
      "<bound method Simplifier.rule_6 of <utilities.simplifier.Simplifier object at 0x7f593d4dfac8>>\n"
     ]
    }
   ],
   "source": [
    "simplified_db, ns = simplifier.reduce_circuit(circuit_db)\n",
    "ss, simplified_db = translator.give_circuit(simplified_db)"
   ]
  },
  {
   "cell_type": "code",
   "execution_count": 124,
   "id": "pointed-merit",
   "metadata": {},
   "outputs": [],
   "source": [
    "gates_on_qubit, on_qubit_order = simplifier.get_positional_dbs(circuit, circuit_db)\n",
    "simplified_db = circuit_db.copy()"
   ]
  },
  {
   "cell_type": "code",
   "execution_count": 125,
   "id": "disabled-uganda",
   "metadata": {},
   "outputs": [
    {
     "data": {
      "text/plain": [
       "0.0"
      ]
     },
     "execution_count": 125,
     "metadata": {},
     "output_type": "execute_result"
    }
   ],
   "source": [
    "mdif = max_diff(translator , circuit_db, simplified_db)\n",
    "mdif"
   ]
  },
  {
   "cell_type": "code",
   "execution_count": null,
   "id": "corresponding-lawsuit",
   "metadata": {},
   "outputs": [],
   "source": []
  }
 ],
 "metadata": {
  "kernelspec": {
   "display_name": "Python 3",
   "language": "python",
   "name": "python3"
  },
  "language_info": {
   "codemirror_mode": {
    "name": "ipython",
    "version": 3
   },
   "file_extension": ".py",
   "mimetype": "text/x-python",
   "name": "python",
   "nbconvert_exporter": "python",
   "pygments_lexer": "ipython3",
   "version": "3.6.9"
  }
 },
 "nbformat": 4,
 "nbformat_minor": 5
}
