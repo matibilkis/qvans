{
 "cells": [
  {
   "cell_type": "markdown",
   "id": "israeli-cathedral",
   "metadata": {},
   "source": [
    "In this notebook we give a proof of concept of unitary compiling using TFQ. "
   ]
  },
  {
   "cell_type": "code",
   "execution_count": 1,
   "id": "cleared-explorer",
   "metadata": {},
   "outputs": [],
   "source": [
    "%load_ext autoreload\n",
    "%autoreload 2\n",
    "\n",
    "import sympy \n",
    "import numpy as np \n",
    "import pandas as pd \n",
    "import tensorflow as tf\n",
    "from utilities.circuit_database import CirqTranslater\n",
    "from utilities.templates import *\n",
    "from utilities.variational import Minimizer\n",
    "import matplotlib.pyplot as plt \n",
    "import tensorflow_quantum as tfq\n",
    "import cirq\n",
    "from utilities.compiling import *\n",
    "from utilities.misc import *\n",
    "from utilities.simplifier import Simplifier\n",
    "from utilities.discrimination import *\n",
    "from utilities.idinserter import IdInserter\n",
    "from utilities.evaluator import Evaluator\n",
    "from utilities.gate_killer import GateKiller\n",
    "from ast import literal_eval\n"
   ]
  },
  {
   "cell_type": "code",
   "execution_count": 2,
   "id": "coastal-dividend",
   "metadata": {},
   "outputs": [],
   "source": [
    "np.random.seed(0)\n",
    "translator = CirqTranslater(4, untouchable_blocks = [])\n",
    "\n",
    "translator.env_qubits = [2]\n",
    "\n",
    "simplifier = Simplifier(translator)\n",
    "etas = [0.01, 1.]\n",
    "minimizer = Minimizer(translator, mode=\"discrimination\", params=etas)"
   ]
  },
  {
   "cell_type": "code",
   "execution_count": 48,
   "id": "nominated-collectible",
   "metadata": {},
   "outputs": [],
   "source": [
    "q = 0\n",
    "other_qs = list(range(translator.n_qubits))\n",
    "other_qs.remove(q)\n",
    "indds = [translator.cnots_index[str([q,k])] for k in other_qs]\n",
    "cdb = pd.DataFrame([gate_template(i) for i in indds])\n",
    "\n",
    "circuit_db = concatenate_dbs([z_layer_db(translator), cdb])\n",
    "\n",
    "for q in range(1, translator.n_qubits):\n",
    "    other_qs = list(range(translator.n_qubits))\n",
    "    other_qs.remove(q)\n",
    "    indds = [translator.cnots_index[str([q,k])] for k in other_qs]\n",
    "    cdb = pd.DataFrame([gate_template(i) for i in indds])\n",
    "    circuit_db = concatenate_dbs([circuit_db ,cdb])\n",
    "\n",
    "c, circuit_db = translator.give_circuit(circuit_db)"
   ]
  },
  {
   "cell_type": "code",
   "execution_count": 49,
   "id": "mysterious-intervention",
   "metadata": {},
   "outputs": [],
   "source": [
    "db1 = concatenate_dbs([x_layer_db(translator)]*3)\n",
    "#db2 = concatenate_dbs([z_layer_db(translator)]*3)\n",
    "#db3 = concatenate_dbs([x_layer_db(translator)]*3)\n",
    "#db4 = concatenate_dbs([z_layer_db(translator)]*3)"
   ]
  },
  {
   "cell_type": "code",
   "execution_count": 50,
   "id": "painted-advance",
   "metadata": {},
   "outputs": [],
   "source": [
    "circuit_db = concatenate_dbs([circuit_db, db1])\n",
    "c, circuit_db = translator.give_circuit(circuit_db)"
   ]
  },
  {
   "cell_type": "code",
   "execution_count": 51,
   "id": "american-civilization",
   "metadata": {},
   "outputs": [],
   "source": [
    "cdb = []\n",
    "for ind, qubits in list(translator.indexed_cnots.items()):\n",
    "    cdb.append(gate_template(int(ind), block_id=0))\n",
    "    con, tar = qubits\n",
    "    cdb.append(gate_template(int(con + translator.number_of_cnots), param_value = np.random.random()))\n",
    "    cdb.append(gate_template(int(tar + translator.number_of_cnots + translator.n_qubits), param_value = np.random.random()))\n",
    "c6_db = pd.DataFrame(cdb)\n",
    "circuit_db = concatenate_dbs([circuit_db, c6_db])"
   ]
  },
  {
   "cell_type": "code",
   "execution_count": 52,
   "id": "worth-damage",
   "metadata": {},
   "outputs": [],
   "source": [
    "c, circuit_db = translator.give_circuit(circuit_db)"
   ]
  },
  {
   "cell_type": "code",
   "execution_count": 53,
   "id": "likely-vitamin",
   "metadata": {},
   "outputs": [
    {
     "name": "stdout",
     "output_type": "stream",
     "text": [
      "<bound method Simplifier.rule_4 of <utilities.simplifier.Simplifier object at 0x7f90ed02c400>>\n",
      "<bound method Simplifier.rule_4 of <utilities.simplifier.Simplifier object at 0x7f90ed02c400>>\n",
      "<bound method Simplifier.rule_4 of <utilities.simplifier.Simplifier object at 0x7f90ed02c400>>\n",
      "<bound method Simplifier.rule_4 of <utilities.simplifier.Simplifier object at 0x7f90ed02c400>>\n",
      "<bound method Simplifier.rule_4 of <utilities.simplifier.Simplifier object at 0x7f90ed02c400>>\n",
      "<bound method Simplifier.rule_4 of <utilities.simplifier.Simplifier object at 0x7f90ed02c400>>\n",
      "<bound method Simplifier.rule_4 of <utilities.simplifier.Simplifier object at 0x7f90ed02c400>>\n",
      "<bound method Simplifier.rule_4 of <utilities.simplifier.Simplifier object at 0x7f90ed02c400>>\n",
      "<bound method Simplifier.rule_6 of <utilities.simplifier.Simplifier object at 0x7f90ed02c400>>\n",
      "<bound method Simplifier.rule_6 of <utilities.simplifier.Simplifier object at 0x7f90ed02c400>>\n",
      "<bound method Simplifier.rule_6 of <utilities.simplifier.Simplifier object at 0x7f90ed02c400>>\n",
      "<bound method Simplifier.rule_6 of <utilities.simplifier.Simplifier object at 0x7f90ed02c400>>\n",
      "<bound method Simplifier.rule_6 of <utilities.simplifier.Simplifier object at 0x7f90ed02c400>>\n",
      "<bound method Simplifier.rule_6 of <utilities.simplifier.Simplifier object at 0x7f90ed02c400>>\n",
      "<bound method Simplifier.rule_6 of <utilities.simplifier.Simplifier object at 0x7f90ed02c400>>\n",
      "<bound method Simplifier.rule_6 of <utilities.simplifier.Simplifier object at 0x7f90ed02c400>>\n",
      "<bound method Simplifier.rule_6 of <utilities.simplifier.Simplifier object at 0x7f90ed02c400>>\n",
      "<bound method Simplifier.rule_6 of <utilities.simplifier.Simplifier object at 0x7f90ed02c400>>\n",
      "<bound method Simplifier.rule_6 of <utilities.simplifier.Simplifier object at 0x7f90ed02c400>>\n",
      "<bound method Simplifier.rule_6 of <utilities.simplifier.Simplifier object at 0x7f90ed02c400>>\n",
      "<bound method Simplifier.rule_6 of <utilities.simplifier.Simplifier object at 0x7f90ed02c400>>\n",
      "<bound method Simplifier.rule_6 of <utilities.simplifier.Simplifier object at 0x7f90ed02c400>>\n",
      "<bound method Simplifier.rule_6 of <utilities.simplifier.Simplifier object at 0x7f90ed02c400>>\n",
      "<bound method Simplifier.rule_6 of <utilities.simplifier.Simplifier object at 0x7f90ed02c400>>\n",
      "<bound method Simplifier.rule_6 of <utilities.simplifier.Simplifier object at 0x7f90ed02c400>>\n",
      "<bound method Simplifier.rule_6 of <utilities.simplifier.Simplifier object at 0x7f90ed02c400>>\n",
      "<bound method Simplifier.rule_6 of <utilities.simplifier.Simplifier object at 0x7f90ed02c400>>\n",
      "<bound method Simplifier.rule_6 of <utilities.simplifier.Simplifier object at 0x7f90ed02c400>>\n",
      "<bound method Simplifier.rule_6 of <utilities.simplifier.Simplifier object at 0x7f90ed02c400>>\n",
      "<bound method Simplifier.rule_6 of <utilities.simplifier.Simplifier object at 0x7f90ed02c400>>\n",
      "<bound method Simplifier.rule_6 of <utilities.simplifier.Simplifier object at 0x7f90ed02c400>>\n",
      "<bound method Simplifier.rule_6 of <utilities.simplifier.Simplifier object at 0x7f90ed02c400>>\n",
      "<bound method Simplifier.rule_6 of <utilities.simplifier.Simplifier object at 0x7f90ed02c400>>\n",
      "<bound method Simplifier.rule_6 of <utilities.simplifier.Simplifier object at 0x7f90ed02c400>>\n",
      "<bound method Simplifier.rule_6 of <utilities.simplifier.Simplifier object at 0x7f90ed02c400>>\n",
      "<bound method Simplifier.rule_6 of <utilities.simplifier.Simplifier object at 0x7f90ed02c400>>\n",
      "<bound method Simplifier.rule_6 of <utilities.simplifier.Simplifier object at 0x7f90ed02c400>>\n"
     ]
    }
   ],
   "source": [
    "simplifier = Simplifier(translator, apply_relatives_to_first = True)\n",
    "simplifier.apply_relatives_to_first = False\n",
    "simplified_db, ns = simplifier.reduce_circuit(circuit_db)\n",
    "ss, simplified_db = translator.give_circuit(simplified_db)"
   ]
  },
  {
   "cell_type": "code",
   "execution_count": null,
   "id": "deadly-fighter",
   "metadata": {},
   "outputs": [],
   "source": []
  },
  {
   "cell_type": "code",
   "execution_count": 56,
   "id": "equivalent-fundamental",
   "metadata": {},
   "outputs": [
    {
     "name": "stdout",
     "output_type": "stream",
     "text": [
      "\n",
      "\n",
      "3.1401849173675503e-16\n",
      "                                          ┌──┐                                                                                                                                                     ┌──┐\n",
      "(0, 0): ───Rz(th_0)───@───@───@───X─────────X────────────X───Rx(th_4)───Rx(th_8)───Rx(th_12)───────────────@───────────Rz(th_16)───@───Rz(th_18)───@───Rz(th_20)───X───Rx(th_23)─────────────────────X────Rx(th_29)───────────────────────────────────X───Rx(th_35)───────────────────────────────────\n",
      "                      │   │   │   │         │            │                                                 │                       │               │               │                                 │                                                │\n",
      "(0, 1): ───Rz(th_1)───X───┼───┼───@───@────@┼────X───────┼───X──────────Rx(th_5)───Rx(th_9)────Rx(th_13)───X───────────Rx(th_17)───┼───────────────┼───────────────@───Rz(th_22)───@───Rz(th_24)────@┼────Rz(th_26)───X───Rx(th_31)───────────────────┼───────────────X───Rx(th_37)───────────────────\n",
      "                          │   │       │    ││    │       │   │                                                                     │               │                               │                ││                │                               │               │\n",
      "(0, 2): ───Rz(th_2)───────X───┼───────X────┼@────@───@───┼───┼──────────X──────────Rx(th_6)────Rx(th_10)───Rx(th_14)───────────────X───Rx(th_19)───┼───────────────────────────────X───Rx(th_25)────┼@────Rz(th_28)───@───Rz(th_30)───@───Rz(th_32)───┼───────────────┼───────────────X───Rx(th_39)───\n",
      "                              │            │         │   │   │          │                                                                          │                                                │                                 │               │               │               │\n",
      "(0, 3): ───Rz(th_3)───────────X────────────X─────────X───@───@──────────@──────────Rx(th_7)────Rx(th_11)───Rx(th_15)───────────────────────────────X───Rx(th_21)────────────────────────────────────X─────Rx(th_27)───────────────────X───Rx(th_33)───@───Rz(th_34)───@───Rz(th_36)───@───Rz(th_38)───\n",
      "                                          └──┘                                                                                                                                                     └──┘\n",
      "\n",
      "                                                     ┌──┐                              ┌─────────┐   ┌─────────┐                                            ┌──────────┐                           ┌──────────┐\n",
      "(0, 0): ──────────────@───@───@───Rz(th_3)───X─────────X────────────X───Rx(th_4)───@────────────@─────────────@────Rz(th_7)───Rz(th_8)───Rz(th_9)───X────────────────────────────────────────────────────────X────────────────────────────────────────────────────────────X───Rx(th_23)───Rx(th_24)───Rx(th_25)───────────────────────────\n",
      "                      │   │   │              │         │            │              │            │             │                                     │                                                        │                                                            │\n",
      "(0, 1): ───Rz(th_0)───X───┼───┼──────────────@───@────@┼────X───────┼───X──────────X────Rx(th_5)┼─────Rx(th_6)┼─────────────────────────────────────@───@─────────────@────Rz(th_13)───Rz(th_14)────Rz(th_15)┼────X───────────────────────────────────────────────────────┼───X───────────Rx(th_26)───Rx(th_27)───────────────────────────\n",
      "                          │   │                  │    ││    │       │   │                       │             │                                         │             │                                      │    │                                                       │   │\n",
      "(0, 2): ───Rz(th_1)───────X───┼──────────────────X────┼@────@───@───┼───┼──────────X────────────X─────────────┼─────────────────────────────────────────X────Rx(th_10)┼────Rx(th_11)───Rx(th_12)─────────────@────@───@───Rz(th_19)───Rz(th_20)───Rz(th_21)───────────────┼───┼───────────X───────────Rx(th_31)───────────────────────────\n",
      "                              │                       │         │   │   │          │                          │                                                       │                                               │                                                   │   │           │\n",
      "(0, 3): ───Rz(th_2)───────────X───────────────────────X─────────X───@───@──────────@──────────────────────────X───────────────────────────────────────────────────────X───────────────────────────────────────────────X───Rx(th_16)───Rx(th_17)───Rx(th_18)───Rx(th_22)───@───@───────────@───────────Rz(th_28)───Rz(th_29)───Rz(th_30)───\n",
      "                                                     └──┘                              └─────────┘   └─────────┘                                            └──────────┘                           └──────────┘\n"
     ]
    }
   ],
   "source": [
    "mdif = max_diff(translator , circuit_db, simplified_db)\n",
    "print(\"\\n\")\n",
    "print(mdif)\n",
    "print(c)\n",
    "print()\n",
    "print(ss)"
   ]
  },
  {
   "cell_type": "code",
   "execution_count": null,
   "id": "advisory-legislation",
   "metadata": {},
   "outputs": [],
   "source": []
  },
  {
   "cell_type": "code",
   "execution_count": null,
   "id": "right-internship",
   "metadata": {},
   "outputs": [],
   "source": []
  },
  {
   "cell_type": "code",
   "execution_count": 45,
   "id": "sunrise-condition",
   "metadata": {},
   "outputs": [],
   "source": [
    "cc = pd.read_csv(\"testing/data/dcl\")\n",
    "cc = cc.drop(labels=[\"Unnamed: 0\"],axis=1)"
   ]
  },
  {
   "cell_type": "code",
   "execution_count": 46,
   "id": "working-trailer",
   "metadata": {},
   "outputs": [
    {
     "data": {
      "text/html": [
       "<div>\n",
       "<style scoped>\n",
       "    .dataframe tbody tr th:only-of-type {\n",
       "        vertical-align: middle;\n",
       "    }\n",
       "\n",
       "    .dataframe tbody tr th {\n",
       "        vertical-align: top;\n",
       "    }\n",
       "\n",
       "    .dataframe thead th {\n",
       "        text-align: right;\n",
       "    }\n",
       "</style>\n",
       "<table border=\"1\" class=\"dataframe\">\n",
       "  <thead>\n",
       "    <tr style=\"text-align: right;\">\n",
       "      <th></th>\n",
       "      <th>ind</th>\n",
       "      <th>symbol</th>\n",
       "      <th>param_value</th>\n",
       "      <th>trainable</th>\n",
       "      <th>block_id</th>\n",
       "    </tr>\n",
       "  </thead>\n",
       "  <tbody>\n",
       "    <tr>\n",
       "      <th>0</th>\n",
       "      <td>13</td>\n",
       "      <td>th_0</td>\n",
       "      <td>1.856282</td>\n",
       "      <td>True</td>\n",
       "      <td>0</td>\n",
       "    </tr>\n",
       "    <tr>\n",
       "      <th>1</th>\n",
       "      <td>14</td>\n",
       "      <td>th_1</td>\n",
       "      <td>1.804296</td>\n",
       "      <td>True</td>\n",
       "      <td>0</td>\n",
       "    </tr>\n",
       "    <tr>\n",
       "      <th>2</th>\n",
       "      <td>15</td>\n",
       "      <td>th_2</td>\n",
       "      <td>2.052091</td>\n",
       "      <td>True</td>\n",
       "      <td>0</td>\n",
       "    </tr>\n",
       "    <tr>\n",
       "      <th>3</th>\n",
       "      <td>16</td>\n",
       "      <td>th_3</td>\n",
       "      <td>0.000000</td>\n",
       "      <td>True</td>\n",
       "      <td>0</td>\n",
       "    </tr>\n",
       "    <tr>\n",
       "      <th>4</th>\n",
       "      <td>17</td>\n",
       "      <td>th_4</td>\n",
       "      <td>0.000000</td>\n",
       "      <td>True</td>\n",
       "      <td>0</td>\n",
       "    </tr>\n",
       "    <tr>\n",
       "      <th>5</th>\n",
       "      <td>1</td>\n",
       "      <td>NaN</td>\n",
       "      <td>NaN</td>\n",
       "      <td>True</td>\n",
       "      <td>0</td>\n",
       "    </tr>\n",
       "    <tr>\n",
       "      <th>6</th>\n",
       "      <td>2</td>\n",
       "      <td>NaN</td>\n",
       "      <td>NaN</td>\n",
       "      <td>True</td>\n",
       "      <td>0</td>\n",
       "    </tr>\n",
       "    <tr>\n",
       "      <th>7</th>\n",
       "      <td>12</td>\n",
       "      <td>th_3</td>\n",
       "      <td>1.790598</td>\n",
       "      <td>True</td>\n",
       "      <td>0</td>\n",
       "    </tr>\n",
       "    <tr>\n",
       "      <th>8</th>\n",
       "      <td>3</td>\n",
       "      <td>NaN</td>\n",
       "      <td>NaN</td>\n",
       "      <td>True</td>\n",
       "      <td>0</td>\n",
       "    </tr>\n",
       "    <tr>\n",
       "      <th>9</th>\n",
       "      <td>4</td>\n",
       "      <td>NaN</td>\n",
       "      <td>NaN</td>\n",
       "      <td>True</td>\n",
       "      <td>0</td>\n",
       "    </tr>\n",
       "    <tr>\n",
       "      <th>10</th>\n",
       "      <td>5</td>\n",
       "      <td>NaN</td>\n",
       "      <td>NaN</td>\n",
       "      <td>True</td>\n",
       "      <td>0</td>\n",
       "    </tr>\n",
       "    <tr>\n",
       "      <th>11</th>\n",
       "      <td>6</td>\n",
       "      <td>NaN</td>\n",
       "      <td>NaN</td>\n",
       "      <td>True</td>\n",
       "      <td>0</td>\n",
       "    </tr>\n",
       "    <tr>\n",
       "      <th>12</th>\n",
       "      <td>7</td>\n",
       "      <td>NaN</td>\n",
       "      <td>NaN</td>\n",
       "      <td>True</td>\n",
       "      <td>0</td>\n",
       "    </tr>\n",
       "    <tr>\n",
       "      <th>13</th>\n",
       "      <td>8</td>\n",
       "      <td>NaN</td>\n",
       "      <td>NaN</td>\n",
       "      <td>True</td>\n",
       "      <td>0</td>\n",
       "    </tr>\n",
       "    <tr>\n",
       "      <th>14</th>\n",
       "      <td>9</td>\n",
       "      <td>NaN</td>\n",
       "      <td>NaN</td>\n",
       "      <td>True</td>\n",
       "      <td>0</td>\n",
       "    </tr>\n",
       "    <tr>\n",
       "      <th>15</th>\n",
       "      <td>10</td>\n",
       "      <td>NaN</td>\n",
       "      <td>NaN</td>\n",
       "      <td>True</td>\n",
       "      <td>0</td>\n",
       "    </tr>\n",
       "    <tr>\n",
       "      <th>16</th>\n",
       "      <td>11</td>\n",
       "      <td>NaN</td>\n",
       "      <td>NaN</td>\n",
       "      <td>True</td>\n",
       "      <td>0</td>\n",
       "    </tr>\n",
       "    <tr>\n",
       "      <th>17</th>\n",
       "      <td>16</td>\n",
       "      <td>th_4</td>\n",
       "      <td>0.000000</td>\n",
       "      <td>True</td>\n",
       "      <td>0</td>\n",
       "    </tr>\n",
       "    <tr>\n",
       "      <th>18</th>\n",
       "      <td>17</td>\n",
       "      <td>th_5</td>\n",
       "      <td>0.000000</td>\n",
       "      <td>True</td>\n",
       "      <td>0</td>\n",
       "    </tr>\n",
       "    <tr>\n",
       "      <th>19</th>\n",
       "      <td>18</td>\n",
       "      <td>th_6</td>\n",
       "      <td>0.000000</td>\n",
       "      <td>True</td>\n",
       "      <td>0</td>\n",
       "    </tr>\n",
       "    <tr>\n",
       "      <th>20</th>\n",
       "      <td>19</td>\n",
       "      <td>th_7</td>\n",
       "      <td>0.000000</td>\n",
       "      <td>True</td>\n",
       "      <td>0</td>\n",
       "    </tr>\n",
       "  </tbody>\n",
       "</table>\n",
       "</div>"
      ],
      "text/plain": [
       "    ind symbol  param_value  trainable  block_id\n",
       "0    13   th_0     1.856282       True         0\n",
       "1    14   th_1     1.804296       True         0\n",
       "2    15   th_2     2.052091       True         0\n",
       "3    16   th_3     0.000000       True         0\n",
       "4    17   th_4     0.000000       True         0\n",
       "5     1    NaN          NaN       True         0\n",
       "6     2    NaN          NaN       True         0\n",
       "7    12   th_3     1.790598       True         0\n",
       "8     3    NaN          NaN       True         0\n",
       "9     4    NaN          NaN       True         0\n",
       "10    5    NaN          NaN       True         0\n",
       "11    6    NaN          NaN       True         0\n",
       "12    7    NaN          NaN       True         0\n",
       "13    8    NaN          NaN       True         0\n",
       "14    9    NaN          NaN       True         0\n",
       "15   10    NaN          NaN       True         0\n",
       "16   11    NaN          NaN       True         0\n",
       "17   16   th_4     0.000000       True         0\n",
       "18   17   th_5     0.000000       True         0\n",
       "19   18   th_6     0.000000       True         0\n",
       "20   19   th_7     0.000000       True         0"
      ]
     },
     "execution_count": 46,
     "metadata": {},
     "output_type": "execute_result"
    }
   ],
   "source": [
    "cc"
   ]
  },
  {
   "cell_type": "code",
   "execution_count": 91,
   "id": "spoken-fourth",
   "metadata": {},
   "outputs": [],
   "source": [
    "mdif, [u1,u2] = max_diff(translator , circuit_db, simplified_db, matrix=True)"
   ]
  },
  {
   "cell_type": "code",
   "execution_count": 95,
   "id": "compliant-latex",
   "metadata": {},
   "outputs": [],
   "source": [
    "import matplotlib.pyplot as plt "
   ]
  },
  {
   "cell_type": "code",
   "execution_count": 97,
   "id": "naked-oxygen",
   "metadata": {},
   "outputs": [
    {
     "data": {
      "text/plain": [
       "<matplotlib.image.AxesImage at 0x7f0e1fbcddd8>"
      ]
     },
     "execution_count": 97,
     "metadata": {},
     "output_type": "execute_result"
    },
    {
     "data": {
      "image/png": "[encoded data removed]",
      "text/plain": [
       "<Figure size 432x288 with 1 Axes>"
      ]
     },
     "metadata": {
      "needs_background": "light"
     },
     "output_type": "display_data"
    }
   ],
   "source": [
    "plt.imshow(np.real(a_bt(u1,u2)) )"
   ]
  },
  {
   "cell_type": "code",
   "execution_count": 102,
   "id": "lined-marathon",
   "metadata": {},
   "outputs": [
    {
     "data": {
      "text/plain": [
       "array([1., 1., 1., 1., 1., 1., 1., 1., 1., 1., 1., 1., 1., 1., 1., 1.])"
      ]
     },
     "execution_count": 102,
     "metadata": {},
     "output_type": "execute_result"
    }
   ],
   "source": [
    "np.abs(np.diag(np.real(a_bt(u1,u2)) + np.imag(a_bt(u1,u2))*1j))"
   ]
  },
  {
   "cell_type": "code",
   "execution_count": 104,
   "id": "canadian-timing",
   "metadata": {},
   "outputs": [
    {
     "data": {
      "text/plain": [
       "True"
      ]
     },
     "execution_count": 104,
     "metadata": {},
     "output_type": "execute_result"
    }
   ],
   "source": [
    "check_symbols_ordered(simplified_db)"
   ]
  }
 ],
 "metadata": {
  "kernelspec": {
   "display_name": "Python 3",
   "language": "python",
   "name": "python3"
  },
  "language_info": {
   "codemirror_mode": {
    "name": "ipython",
    "version": 3
   },
   "file_extension": ".py",
   "mimetype": "text/x-python",
   "name": "python",
   "nbconvert_exporter": "python",
   "pygments_lexer": "ipython3",
   "version": "3.6.9"
  }
 },
 "nbformat": 4,
 "nbformat_minor": 5
}
