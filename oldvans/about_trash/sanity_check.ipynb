{
 "cells": [
  {
   "cell_type": "code",
   "execution_count": 1,
   "id": "alien-yeast",
   "metadata": {},
   "outputs": [],
   "source": [
    "%load_ext autoreload\n",
    "%autoreload 2\n",
    "\n",
    "import numpy as np\n",
    "import pandas as pd\n",
    "import tensorflow as tf\n",
    "import cirq\n",
    "import tensorflow_quantum as tfq\n",
    "from utilities.circuit_basics import Basic\n",
    "from utilities.evaluator import Evaluator\n",
    "from utilities.variational import Minimizer\n",
    "from utilities.discrimination import sdp_channel_disc\n",
    "import matplotlib.pyplot as plt\n",
    "from tqdm import tqdm"
   ]
  },
  {
   "cell_type": "code",
   "execution_count": 8,
   "id": "polar-millennium",
   "metadata": {},
   "outputs": [
    {
     "name": "stderr",
     "output_type": "stream",
     "text": [
      "100%|██████████| 5/5 [00:16<00:00,  3.25s/it]\n"
     ]
    }
   ],
   "source": [
    "lower_bounds = []\n",
    "pss = []\n",
    "\n",
    "for eta0 in tqdm(np.arange(0,np.pi/2,np.pi/10)):\n",
    "\n",
    "    eta1 = np.pi/2\n",
    "    lower_bound = sdp_channel_disc([eta0, eta1])\n",
    "\n",
    "    basic = Basic(n_qubits=3) #this is the module where basic functions are defined (and the rest of the modules inherits this classs)\n",
    "    arguments={\"problem\":\"QADC\", \"params\":[eta0,eta1], \"n_qubits\":basic.n_qubits}\n",
    "    evaluator = Evaluator(args = arguments, lower_bound_cost=lower_bound)\n",
    "    optimizer = Minimizer(n_qubits=2, problem_config={\"problem\":\"discrimination\"}, lower_bound = lower_bound, lr=0.001, epochs=10**5, patience=1000)\n",
    "\n",
    "\n",
    "    circuit=[]\n",
    "    circuit = [basic.give_gate_template(k, block_id=0, trainable=True) for k in basic.u2(0,2)] ## begin from z rotation (nothing)\n",
    "    circuit += basic.give_channel_circuit_db([0,1], eta=eta0, block_id=1)  \n",
    "    circuit += [basic.give_gate_template(k, block_id=2, trainable=True) for k in basic.u2(0,2)]\n",
    "\n",
    "    circuit, symbols, circuit_db = basic.give_circuit(circuit)\n",
    "    batch = basic.prepare_channel_discrimination_circuits(circuit_db, eta1)\n",
    "\n",
    "    cost_value, resolver, training_history = optimizer.channel_discrimination(batch)\n",
    "    circuit_db = optimizer.update_circuit_db_param_values(circuit_db,resolver)\n",
    "    evaluator.add_step(circuit_db, cost_value)\n",
    "\n",
    "    pss.append(cost_value)\n",
    "    lower_bounds.append(lower_bound)"
   ]
  },
  {
   "cell_type": "code",
   "execution_count": 9,
   "id": "favorite-destination",
   "metadata": {},
   "outputs": [
    {
     "data": {
      "text/plain": [
       "<matplotlib.legend.Legend at 0x7f3a18e837f0>"
      ]
     },
     "execution_count": 9,
     "metadata": {},
     "output_type": "execute_result"
    },
    {
     "data": {
      "image/png": "[encoded data removed]",
      "text/plain": [
       "<Figure size 432x288 with 1 Axes>"
      ]
     },
     "metadata": {
      "needs_background": "light"
     },
     "output_type": "display_data"
    }
   ],
   "source": [
    "plt.plot(lower_bounds,'.' ,label=\"lower_boud\")\n",
    "plt.plot(pss)\n",
    "plt.legend()"
   ]
  }
 ],
 "metadata": {
  "kernelspec": {
   "display_name": "Python 3",
   "language": "python",
   "name": "python3"
  },
  "language_info": {
   "codemirror_mode": {
    "name": "ipython",
    "version": 3
   },
   "file_extension": ".py",
   "mimetype": "text/x-python",
   "name": "python",
   "nbconvert_exporter": "python",
   "pygments_lexer": "ipython3",
   "version": "3.6.9"
  }
 },
 "nbformat": 4,
 "nbformat_minor": 5
}
