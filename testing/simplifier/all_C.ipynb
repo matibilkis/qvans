{
 "cells": [
  {
   "cell_type": "markdown",
   "id": "israeli-cathedral",
   "metadata": {},
   "source": [
    "In this notebook we give a proof of concept of unitary compiling using TFQ. "
   ]
  },
  {
   "cell_type": "code",
   "execution_count": 1,
   "id": "cleared-explorer",
   "metadata": {},
   "outputs": [],
   "source": [
    "%load_ext autoreload\n",
    "%autoreload 2\n",
    "\n",
    "import sympy \n",
    "import numpy as np \n",
    "import pandas as pd \n",
    "import tensorflow as tf\n",
    "from utilities.circuit_database import CirqTranslater\n",
    "from utilities.templates import *\n",
    "from utilities.variational import Minimizer\n",
    "from utilities.misc import get_qubits_involved, reindex_symbol, shift_symbols_down\n",
    "import matplotlib.pyplot as plt \n",
    "import tensorflow_quantum as tfq\n",
    "import cirq\n",
    "from utilities.compiling import *\n",
    "from utilities.misc import *\n",
    "from utilities.simplifier import Simplifier\n",
    "from utilities.discrimination import *\n",
    "from utilities.idinserter import IdInserter\n",
    "from utilities.evaluator import Evaluator\n",
    "from utilities.gate_killer import GateKiller\n",
    "from ast import literal_eval\n"
   ]
  },
  {
   "cell_type": "code",
   "execution_count": 2,
   "id": "coastal-dividend",
   "metadata": {},
   "outputs": [],
   "source": [
    "np.random.seed(0)\n",
    "translator = CirqTranslater(4, untouchable_blocks = [])\n",
    "\n",
    "translator.env_qubits = [2]\n",
    "\n",
    "simplifier = Simplifier(translator)\n",
    "etas = [0.01, 1.]\n",
    "minimizer = Minimizer(translator, mode=\"discrimination\", params=etas)"
   ]
  },
  {
   "cell_type": "code",
   "execution_count": 7,
   "id": "administrative-aquatic",
   "metadata": {},
   "outputs": [],
   "source": [
    "circuit_db = concatenate_dbs([u2_layer(translator)]*2)\n",
    "\n",
    "cdb = []\n",
    "for ind, qubits in list(translator.indexed_cnots.items()):\n",
    "    cdb.append(gate_template(int(ind), block_id=0))\n",
    "    con, tar = qubits\n",
    "    cdb.append(gate_template(int(con + translator.number_of_cnots), param_value = np.random.random()))\n",
    "    cdb.append(gate_template(int(tar + translator.number_of_cnots + translator.n_qubits), param_value = np.random.random()))\n",
    "cdb = pd.DataFrame(cdb)\n"
   ]
  },
  {
   "cell_type": "code",
   "execution_count": 8,
   "id": "attempted-celtic",
   "metadata": {},
   "outputs": [],
   "source": [
    "circuit_db = concatenate_dbs([cdb, circuit_db])\n",
    "circuit, circuit_db = translator.give_circuit(circuit_db)"
   ]
  },
  {
   "cell_type": "code",
   "execution_count": 9,
   "id": "great-voluntary",
   "metadata": {},
   "outputs": [
    {
     "name": "stdout",
     "output_type": "stream",
     "text": [
      "<bound method Simplifier.rule_4 of <utilities.simplifier.Simplifier object at 0x7f89b6ed9978>>\n",
      "<bound method Simplifier.rule_4 of <utilities.simplifier.Simplifier object at 0x7f89b6ed9978>>\n",
      "<bound method Simplifier.rule_4 of <utilities.simplifier.Simplifier object at 0x7f89b6ed9978>>\n",
      "<bound method Simplifier.rule_4 of <utilities.simplifier.Simplifier object at 0x7f89b6ed9978>>\n",
      "<bound method Simplifier.rule_4 of <utilities.simplifier.Simplifier object at 0x7f89b6ed9978>>\n",
      "<bound method Simplifier.rule_4 of <utilities.simplifier.Simplifier object at 0x7f89b6ed9978>>\n",
      "<bound method Simplifier.rule_4 of <utilities.simplifier.Simplifier object at 0x7f89b6ed9978>>\n",
      "<bound method Simplifier.rule_4 of <utilities.simplifier.Simplifier object at 0x7f89b6ed9978>>\n",
      "<bound method Simplifier.rule_4 of <utilities.simplifier.Simplifier object at 0x7f89b6ed9978>>\n",
      "<bound method Simplifier.rule_4 of <utilities.simplifier.Simplifier object at 0x7f89b6ed9978>>\n",
      "<bound method Simplifier.rule_4 of <utilities.simplifier.Simplifier object at 0x7f89b6ed9978>>\n",
      "<bound method Simplifier.rule_4 of <utilities.simplifier.Simplifier object at 0x7f89b6ed9978>>\n",
      "<bound method Simplifier.rule_4 of <utilities.simplifier.Simplifier object at 0x7f89b6ed9978>>\n",
      "<bound method Simplifier.rule_5 of <utilities.simplifier.Simplifier object at 0x7f89b6ed9978>>\n",
      "<bound method Simplifier.rule_5 of <utilities.simplifier.Simplifier object at 0x7f89b6ed9978>>\n",
      "<bound method Simplifier.rule_5 of <utilities.simplifier.Simplifier object at 0x7f89b6ed9978>>\n",
      "<bound method Simplifier.rule_5 of <utilities.simplifier.Simplifier object at 0x7f89b6ed9978>>\n",
      "<bound method Simplifier.rule_5 of <utilities.simplifier.Simplifier object at 0x7f89b6ed9978>>\n",
      "<bound method Simplifier.rule_5 of <utilities.simplifier.Simplifier object at 0x7f89b6ed9978>>\n",
      "<bound method Simplifier.rule_5 of <utilities.simplifier.Simplifier object at 0x7f89b6ed9978>>\n",
      "<bound method Simplifier.rule_5 of <utilities.simplifier.Simplifier object at 0x7f89b6ed9978>>\n",
      "<bound method Simplifier.rule_5 of <utilities.simplifier.Simplifier object at 0x7f89b6ed9978>>\n",
      "<bound method Simplifier.rule_5 of <utilities.simplifier.Simplifier object at 0x7f89b6ed9978>>\n",
      "<bound method Simplifier.rule_5 of <utilities.simplifier.Simplifier object at 0x7f89b6ed9978>>\n",
      "<bound method Simplifier.rule_5 of <utilities.simplifier.Simplifier object at 0x7f89b6ed9978>>\n",
      "<bound method Simplifier.rule_5 of <utilities.simplifier.Simplifier object at 0x7f89b6ed9978>>\n",
      "<bound method Simplifier.rule_5 of <utilities.simplifier.Simplifier object at 0x7f89b6ed9978>>\n",
      "<bound method Simplifier.rule_5 of <utilities.simplifier.Simplifier object at 0x7f89b6ed9978>>\n",
      "<bound method Simplifier.rule_6 of <utilities.simplifier.Simplifier object at 0x7f89b6ed9978>>\n",
      "<bound method Simplifier.rule_6 of <utilities.simplifier.Simplifier object at 0x7f89b6ed9978>>\n",
      "<bound method Simplifier.rule_6 of <utilities.simplifier.Simplifier object at 0x7f89b6ed9978>>\n",
      "<bound method Simplifier.rule_6 of <utilities.simplifier.Simplifier object at 0x7f89b6ed9978>>\n",
      "<bound method Simplifier.rule_6 of <utilities.simplifier.Simplifier object at 0x7f89b6ed9978>>\n",
      "<bound method Simplifier.rule_6 of <utilities.simplifier.Simplifier object at 0x7f89b6ed9978>>\n",
      "<bound method Simplifier.rule_6 of <utilities.simplifier.Simplifier object at 0x7f89b6ed9978>>\n",
      "<bound method Simplifier.rule_6 of <utilities.simplifier.Simplifier object at 0x7f89b6ed9978>>\n",
      "<bound method Simplifier.rule_6 of <utilities.simplifier.Simplifier object at 0x7f89b6ed9978>>\n",
      "<bound method Simplifier.rule_6 of <utilities.simplifier.Simplifier object at 0x7f89b6ed9978>>\n",
      "<bound method Simplifier.rule_6 of <utilities.simplifier.Simplifier object at 0x7f89b6ed9978>>\n",
      "<bound method Simplifier.rule_6 of <utilities.simplifier.Simplifier object at 0x7f89b6ed9978>>\n",
      "<bound method Simplifier.rule_6 of <utilities.simplifier.Simplifier object at 0x7f89b6ed9978>>\n",
      "<bound method Simplifier.rule_6 of <utilities.simplifier.Simplifier object at 0x7f89b6ed9978>>\n",
      "<bound method Simplifier.rule_6 of <utilities.simplifier.Simplifier object at 0x7f89b6ed9978>>\n",
      "<bound method Simplifier.rule_6 of <utilities.simplifier.Simplifier object at 0x7f89b6ed9978>>\n",
      "<bound method Simplifier.rule_6 of <utilities.simplifier.Simplifier object at 0x7f89b6ed9978>>\n",
      "<bound method Simplifier.rule_6 of <utilities.simplifier.Simplifier object at 0x7f89b6ed9978>>\n",
      "<bound method Simplifier.rule_6 of <utilities.simplifier.Simplifier object at 0x7f89b6ed9978>>\n",
      "<bound method Simplifier.rule_6 of <utilities.simplifier.Simplifier object at 0x7f89b6ed9978>>\n",
      "<bound method Simplifier.rule_6 of <utilities.simplifier.Simplifier object at 0x7f89b6ed9978>>\n",
      "<bound method Simplifier.rule_6 of <utilities.simplifier.Simplifier object at 0x7f89b6ed9978>>\n",
      "<bound method Simplifier.rule_6 of <utilities.simplifier.Simplifier object at 0x7f89b6ed9978>>\n",
      "<bound method Simplifier.rule_6 of <utilities.simplifier.Simplifier object at 0x7f89b6ed9978>>\n",
      "<bound method Simplifier.rule_6 of <utilities.simplifier.Simplifier object at 0x7f89b6ed9978>>\n",
      "<bound method Simplifier.rule_6 of <utilities.simplifier.Simplifier object at 0x7f89b6ed9978>>\n",
      "<bound method Simplifier.rule_6 of <utilities.simplifier.Simplifier object at 0x7f89b6ed9978>>\n",
      "<bound method Simplifier.rule_6 of <utilities.simplifier.Simplifier object at 0x7f89b6ed9978>>\n",
      "\n",
      "\n",
      "0.06443317154629528\n",
      "                                                                                      ┌──┐\n",
      "(0, 0): ───@───Rz(th_0)───@───Rz(th_2)───@───Rz(th_4)───X───Rx(th_7)────────────────────X────Rx(th_13)───────────────────────────────────X───Rx(th_19)───Rz(th_24)───Rx(th_25)───Rz(th_26)───────────────────────────@───────────Rz(th_30)───X───────────────@───Rz(th_33)───Rx(th_34)───Rz(th_35)───Rz(th_72)───Rx(th_73)───Rz(th_74)──────────────────────────────────────────────────────────────────────────────────────────────────────────────────────────────────────────────────────────────────────────────────────────────────────────────────────────────X───Ry(th_76)───@───Ry(th_77)───X───Rz(th_81)───Rx(th_82)───Rz(th_83)───Rz(th_84)────Rx(th_85)────Rz(th_86)────@───Rz(th_90)───X───────────────@───Rz(th_93)───Rx(th_94)───Rz(th_95)───Rz(th_132)───Rx(th_133)───Rz(th_134)───────────────────────────────────────────────────────────────────────────────────────────────────────────────────────────────────────────────────────────────────────────────────────────────────────────────────────────────────────────X───Ry(th_136)───@───Ry(th_137)───X───Rz(th_141)───Rx(th_142)───Rz(th_143)───\n",
      "           │              │              │              │                               │                                                │                                                                           │                       │               │                                                                                                                                                                                                                                                                                                      │               │               │                                                                              │               │               │                                                                                                                                                                                                                                                                                                                      │                │                │\n",
      "(0, 1): ───X───Rx(th_1)───┼──────────────┼──────────────@───Rz(th_6)───@───Rz(th_8)────@┼────Rz(th_10)───X───Rx(th_15)───────────────────┼───────────────X───────────Rx(th_21)───Rz(th_27)───Rx(th_28)───Rz(th_29)───X───────────Ry(th_31)───@───Ry(th_32)───X───Rz(th_36)───Rx(th_37)───Rz(th_38)───Rz(th_39)───Rx(th_40)───Rz(th_41)───@───Rz(th_45)───X───────────────@───Rz(th_48)───Rx(th_49)───Rz(th_50)───Rz(th_87)───Rx(th_88)───Rz(th_89)──────────────────────────────────────────────────────────────────────────────────────────────────────────────────┼───────────────┼───────────────┼──────────────────────────────────────────────────────────────────────────────X───Ry(th_91)───@───Ry(th_92)───X───Rz(th_96)───Rx(th_97)───Rz(th_98)───Rz(th_99)────Rx(th_100)───Rz(th_101)───@───Rz(th_105)───X────────────────@───Rz(th_108)───Rx(th_109)───Rz(th_110)──────────────────────────────────────────────────────────────────────────────────────────────────────────────────────────────────────────────────────────────┼────────────────┼────────────────┼──────────────────────────────────────────\n",
      "                          │              │                             │               ││                │                               │               │                                                                                                                                                                               │               │               │                                                                                                                                                                                          │               │               │                                                                                                                                                                                             │                │                │                                                                                                                                                                                                     │                │                │\n",
      "(0, 2): ──────────────────X───Rx(th_3)───┼─────────────────────────────X───Rx(th_9)────┼@────Rz(th_12)───@───Rz(th_14)───@───Rz(th_16)───┼───────────────┼───────────────────────X───────────Rx(th_23)───Rz(th_42)───Rx(th_43)───Rz(th_44)───────────────────────────────────────────────────────────────────────────────────────────────X───Ry(th_46)───@───Ry(th_47)───X───Rz(th_51)───Rx(th_52)───Rz(th_53)───Rz(th_54)───Rx(th_55)───Rz(th_56)───@───Rz(th_60)───X───────────────@───Rz(th_63)───Rx(th_64)───Rz(th_65)───Rz(th_102)───Rx(th_103)───Rz(th_104)───┼───────────────┼───────────────┼─────────────────────────────────────────────────────────────────────────────────────────────────────────────────────────────────────────────────────────────────────────────────────────────X───Ry(th_106)───@───Ry(th_107)───X───Rz(th_111)───Rx(th_112)───Rz(th_113)───Rz(th_114)───Rx(th_115)───Rz(th_116)───@───Rz(th_120)───X────────────────@───Rz(th_123)───Rx(th_124)───Rz(th_125)──────────────────────────────────────────┼────────────────┼────────────────┼──────────────────────────────────────────\n",
      "                                         │                                             │                                 │               │               │                       │                                                                                                                                                                                                                                                                   │               │               │                                                                              │               │               │                                                                                                                                                                                                                                                                                                                 │                │                │                                                                                 │                │                │\n",
      "(0, 3): ─────────────────────────────────X───Rx(th_5)──────────────────────────────────X─────Rx(th_11)───────────────────X───Rx(th_17)───@───Rz(th_18)───@───────────Rz(th_20)───@───────────Rz(th_22)───Rz(th_57)───Rx(th_58)───Rz(th_59)───────────────────────────────────────────────────────────────────────────────────────────────────────────────────────────────────────────────────────────────────────────────────────────────────────────X───Ry(th_61)───@───Ry(th_62)───X───Rz(th_66)───Rx(th_67)───Rz(th_68)───Rz(th_69)────Rx(th_70)────Rz(th_71)────@───Rz(th_75)───X───────────────@───Rz(th_78)───Rx(th_79)───Rz(th_80)───Rz(th_117)───Rx(th_118)───Rz(th_119)──────────────────────────────────────────────────────────────────────────────────────────────────────────────────────────────────────────────────────────────────────────────────────────────────────────────────────────────────────X───Ry(th_121)───@───Ry(th_122)───X───Rz(th_126)───Rx(th_127)───Rz(th_128)───Rz(th_129)───Rx(th_130)───Rz(th_131)───@───Rz(th_135)───X────────────────@───Rz(th_138)───Rx(th_139)───Rz(th_140)───\n",
      "                                                                                      └──┘\n",
      "\n",
      "               ┌─────────┐                                                ┌─────────┐              ┌─────────┐                                                                                                                                                                                                                                                                                                                                                                          ┌──────────┐                                                                                                                                                                                                                                                                                                                       ┌──────────┐\n",
      "(0, 0): ───@────────────@────@───Rz(th_1)───Rz(th_2)───Rz(th_3)───X─────────────────────────────────────────X───────────────────────────────────────────────────────────X───Rx(th_15)───Rx(th_16)───Rz(th_17)───Rx(th_23)───────────────@───────────Rz(th_26)───Rz(th_27)───X───────────────@───Rz(th_30)───Rx(th_31)───Rz(th_55)────────────────────────────────────────────────────────────────────────────────────────────────────────────────────────────────────────────────────────X─────────────Ry(th_58)───────────────@───Ry(th_59)───X───Rz(th_62)───Rx(th_63)───@───────────Rz(th_65)───Rz(th_66)───X───────────────@───Rz(th_69)───Rx(th_70)───Rz(th_93)─────────────────────────────────────────────────────────────────────────────────────────────────────────────────────────────────────────────────────────────────X────Ry(th_96)───────────────@───Ry(th_97)───X───Rz(th_101)───Rx(th_102)───Rz(th_103)───\n",
      "           │            │    │                                    │                                         │                                                           │                                                               │                                   │               │                                                                                                                                                                                            │                                     │               │                           │                                   │               │                                                                                                                                                                                                     │                            │               │\n",
      "(0, 1): ───X────Rx(th_0)┼────┼────────────────────────────────────@───@────────────@────Rz(th_6)────Rz(th_7)┼────Rz(th_8)───X───────────────────────────────────────────┼───X───────────Rx(th_18)───Rz(th_19)───Rx(th_24)───Rz(th_25)───X───────────Ry(th_28)───────────────@───Ry(th_29)───X───Rz(th_32)───Rx(th_33)───@───────────Rz(th_36)───Rz(th_37)───X───────────────@───Rz(th_40)───Rx(th_41)───Rz(th_64)────────────────────────────────────────────────────────────────────────┼─────────────────────────────────────┼───────────────┼───────────────────────────X───────────Ry(th_67)───────────────@───Ry(th_68)───X───Rz(th_71)───Rx(th_72)───@───────────Rz(th_74)───Rz(th_75)───X───────────────@───Rz(th_78)───Rx(th_79)───Rz(th_80)─────────────────────────────────────────────────────────────────────────────────┼────────────────────────────┼───────────────┼──────────────────────────────────────────\n",
      "                        │    │                                        │            │                        │               │                                           │   │                                                                                                                                           │                                   │               │                                                                                                            │                                     │               │                                                                                                           │                                   │               │                                                                                                                     │                            │               │\n",
      "(0, 2): ────────────────X────┼────────────────────────────────────────X────Rx(th_4)┼────Rx(th_5)────────────@───────────────@───@───Rz(th_11)───Rz(th_12)───Rz(th_13)───┼───┼───────────X───────────Rz(th_22)───Rx(th_34)───Rz(th_35)───────────────────────────────────────────────────────────────────────────────────X───────────Ry(th_38)───────────────@───Ry(th_39)───X───Rz(th_42)───Rx(th_43)───@───────────Rz(th_47)───Rz(th_48)───X───────────────@───Rz(th_51)───Rx(th_52)────┼Rz(th_73)────────────────────────────┼───────────────┼───────────────────────────────────────────────────────────────────────────────────────────────────────────X───────────Ry(th_76)───────────────@───Ry(th_77)───X───Rz(th_81)───Rx(th_82)───@───────────Rz(th_84)───Rz(th_85)───X───────────────@───Rz(th_88)───Rx(th_89)────Rz(th_90)┼────────────────────────────┼───────────────┼──────────────────────────────────────────\n",
      "                             │                                                     │                                            │                                       │   │           │                                                                                                                                                                                                               │                                   │               │                            │                                     │               │                                                                                                                                                                                           │                                   │               │                                     │                            │               │\n",
      "(0, 3): ─────────────────────X─────────────────────────────────────────────────────X────────────────────────────────────────────X───Rx(th_9)────Rx(th_10)───Rx(th_14)───@───@───────────@───────────Rz(th_20)───Rz(th_21)───Rz(th_44)───Rx(th_45)───Rz(th_46)───────────────────────────────────────────────────────────────────────────────────────────────────────────────────────────────────────────X───────────Ry(th_49)───────────────@───Ry(th_50)───X───Rz(th_53)───Rx(th_54)────@─────────────Rz(th_56)───Rz(th_57)───X───────────────@───Rz(th_60)───Rx(th_61)───Rz(th_83)───────────────────────────────────────────────────────────────────────────────────────────────────────────────────────────────────────────────────────X───────────Ry(th_86)───────────────@───Ry(th_87)───X───Rz(th_91)───Rx(th_92)─────────────@────Rz(th_94)───Rz(th_95)───X───────────────@───Rz(th_98)────Rx(th_99)────Rz(th_100)───\n",
      "               └─────────┘                                                └─────────┘              └─────────┘                                                                                                                                                                                                                                                                                                                                                                          └──────────┘                                                                                                                                                                                                                                                                                                                       └──────────┘\n"
     ]
    }
   ],
   "source": [
    "simplifier = Simplifier(translator)\n",
    "simplified_db, ns = simplifier.reduce_circuit(circuit_db)\n",
    "ss, simplified_db = translator.give_circuit(simplified_db)\n",
    "\n",
    "mdif = max_diff(translator , circuit_db, simplified_db)\n",
    "print(\"\\n\")\n",
    "print(mdif)\n",
    "print(circuit)\n",
    "print()\n",
    "print(ss)"
   ]
  },
  {
   "cell_type": "code",
   "execution_count": null,
   "id": "anonymous-contrast",
   "metadata": {},
   "outputs": [],
   "source": []
  }
 ],
 "metadata": {
  "kernelspec": {
   "display_name": "Python 3",
   "language": "python",
   "name": "python3"
  },
  "language_info": {
   "codemirror_mode": {
    "name": "ipython",
    "version": 3
   },
   "file_extension": ".py",
   "mimetype": "text/x-python",
   "name": "python",
   "nbconvert_exporter": "python",
   "pygments_lexer": "ipython3",
   "version": "3.6.9"
  }
 },
 "nbformat": 4,
 "nbformat_minor": 5
}
